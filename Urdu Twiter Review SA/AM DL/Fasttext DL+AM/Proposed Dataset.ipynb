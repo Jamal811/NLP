{
 "cells": [
  {
   "cell_type": "markdown",
   "metadata": {
    "id": "8cbab85f"
   },
   "source": [
    "# Importing Libraries"
   ]
  },
  {
   "cell_type": "code",
   "execution_count": null,
   "metadata": {
    "colab": {
     "base_uri": "https://localhost:8080/"
    },
    "id": "mjhFcUV2AAw6",
    "outputId": "1aa5e9fb-a342-448c-b97b-00cded5a96a5"
   },
   "outputs": [],
   "source": [
    "!pip uninstall numpy gensim"
   ]
  },
  {
   "cell_type": "code",
   "execution_count": null,
   "metadata": {
    "colab": {
     "base_uri": "https://localhost:8080/"
    },
    "id": "qMW1RCVvB59w",
    "outputId": "39b67610-cba4-42ad-ee30-a2afd305e004"
   },
   "outputs": [],
   "source": [
    "!pip install numpy gensim"
   ]
  },
  {
   "cell_type": "code",
   "execution_count": null,
   "metadata": {
    "execution": {
     "iopub.execute_input": "2025-03-19T11:08:53.258165Z",
     "iopub.status.busy": "2025-03-19T11:08:53.257877Z",
     "iopub.status.idle": "2025-03-19T11:09:23.784155Z",
     "shell.execute_reply": "2025-03-19T11:09:23.783216Z",
     "shell.execute_reply.started": "2025-03-19T11:08:53.258141Z"
    },
    "id": "1bb3c3ce",
    "trusted": true
   },
   "outputs": [],
   "source": [
    "# Import Libraries\n",
    "import pandas as pd\n",
    "import numpy as np\n",
    "import os\n",
    "import seaborn as sns\n",
    "import matplotlib.pyplot as plt\n",
    "from sklearn.model_selection import train_test_split\n",
    "from sklearn.metrics import accuracy_score, precision_score, recall_score, f1_score, confusion_matrix, classification_report\n",
    "from tensorflow.keras.models import Sequential\n",
    "from tensorflow.keras.preprocessing.text import Tokenizer\n",
    "from tensorflow.keras.preprocessing.sequence import pad_sequences\n",
    "from gensim.models import Word2Vec, FastText\n",
    "from tensorflow.keras.callbacks import EarlyStopping\n",
    "from keras import backend as K\n",
    "import tensorflow as tf\n",
    "from tensorflow.keras.layers import Embedding, Conv1D, MaxPooling1D, Flatten, Dense, SimpleRNN, Bidirectional, LSTM, GRU, Layer\n"
   ]
  },
  {
   "cell_type": "code",
   "execution_count": null,
   "metadata": {
    "colab": {
     "base_uri": "https://localhost:8080/",
     "height": 206
    },
    "execution": {
     "iopub.execute_input": "2025-03-19T11:09:23.786020Z",
     "iopub.status.busy": "2025-03-19T11:09:23.785338Z",
     "iopub.status.idle": "2025-03-19T11:09:32.189431Z",
     "shell.execute_reply": "2025-03-19T11:09:32.188546Z",
     "shell.execute_reply.started": "2025-03-19T11:09:23.785989Z"
    },
    "id": "4f31e24d",
    "outputId": "8401b570-d52c-4e97-c39f-03c99bd9f7b6",
    "trusted": true
   },
   "outputs": [],
   "source": [
    "# Load and Preprocess Data\n",
    "data = pd.read_excel('/kaggle/input/urdu-dataset1/Proposed Dataset.xlsx')\n",
    "data.dropna(inplace=True)\n",
    "data.head()"
   ]
  },
  {
   "cell_type": "code",
   "execution_count": null,
   "metadata": {
    "execution": {
     "iopub.execute_input": "2025-03-19T11:09:38.574642Z",
     "iopub.status.busy": "2025-03-19T11:09:38.574019Z",
     "iopub.status.idle": "2025-03-19T11:09:42.344566Z",
     "shell.execute_reply": "2025-03-19T11:09:42.343907Z",
     "shell.execute_reply.started": "2025-03-19T11:09:38.574611Z"
    },
    "id": "1a76e3c0",
    "trusted": true
   },
   "outputs": [],
   "source": [
    "# Tokenization\n",
    "tokenizer = Tokenizer()\n",
    "#data['sents'] = data['no stop'].apply(lambda x: str(x).split())\n",
    "tokenizer.fit_on_texts(data['sents'])\n",
    "sequences = tokenizer.texts_to_sequences(data['sents'])"
   ]
  },
  {
   "cell_type": "code",
   "execution_count": null,
   "metadata": {
    "execution": {
     "iopub.execute_input": "2025-03-19T11:09:44.255104Z",
     "iopub.status.busy": "2025-03-19T11:09:44.254820Z",
     "iopub.status.idle": "2025-03-19T11:09:45.010823Z",
     "shell.execute_reply": "2025-03-19T11:09:45.010129Z",
     "shell.execute_reply.started": "2025-03-19T11:09:44.255082Z"
    },
    "id": "3bd7e9b4",
    "trusted": true
   },
   "outputs": [],
   "source": [
    "# Pad Sequences\n",
    "vocab_size = len(tokenizer.word_index) + 1\n",
    "maxlen = max(data['sents'].apply(len))\n",
    "padded_sequences = pad_sequences(sequences, maxlen=maxlen, padding='post')"
   ]
  },
  {
   "cell_type": "code",
   "execution_count": null,
   "metadata": {
    "colab": {
     "base_uri": "https://localhost:8080/"
    },
    "execution": {
     "iopub.execute_input": "2025-03-19T11:09:47.427520Z",
     "iopub.status.busy": "2025-03-19T11:09:47.427239Z",
     "iopub.status.idle": "2025-03-19T11:13:24.770519Z",
     "shell.execute_reply": "2025-03-19T11:13:24.767549Z",
     "shell.execute_reply.started": "2025-03-19T11:09:47.427499Z"
    },
    "id": "jsDkkQDq8eMP",
    "outputId": "172a6e02-a66e-4aae-8904-a6fe20a5d836",
    "trusted": true
   },
   "outputs": [],
   "source": [
    "fastext = FastText(data['sents'], vector_size=100, window=3, min_count=1, workers=4, epochs=100)"
   ]
  },
  {
   "cell_type": "code",
   "execution_count": null,
   "metadata": {
    "execution": {
     "iopub.execute_input": "2025-03-19T11:13:24.772727Z",
     "iopub.status.busy": "2025-03-19T11:13:24.772346Z",
     "iopub.status.idle": "2025-03-19T11:13:25.736988Z",
     "shell.execute_reply": "2025-03-19T11:13:25.736126Z",
     "shell.execute_reply.started": "2025-03-19T11:13:24.772694Z"
    },
    "id": "GDSW74c0OpNC",
    "trusted": true
   },
   "outputs": [],
   "source": [
    "fastext_embedding_matrix = np.zeros((vocab_size, 100))\n",
    "\n",
    "for word, i in tokenizer.word_index.items():\n",
    "    fastext_embedding_matrix[i] = fastext.wv[word] if word in fastext.wv else np.zeros(100)"
   ]
  },
  {
   "cell_type": "code",
   "execution_count": null,
   "metadata": {
    "colab": {
     "base_uri": "https://localhost:8080/",
     "height": 206
    },
    "execution": {
     "iopub.execute_input": "2025-03-19T11:13:25.738279Z",
     "iopub.status.busy": "2025-03-19T11:13:25.738074Z",
     "iopub.status.idle": "2025-03-19T11:13:25.770743Z",
     "shell.execute_reply": "2025-03-19T11:13:25.769798Z",
     "shell.execute_reply.started": "2025-03-19T11:13:25.738260Z"
    },
    "id": "SpmkFcfn_jHZ",
    "outputId": "c1af210f-49ff-48ab-fd45-3c2957e2fa54",
    "trusted": true
   },
   "outputs": [],
   "source": [
    "test_data=pd.read_csv('/kaggle/input/urdu-dataset1/train.csv')\n",
    "test_data.dropna(inplace=True)\n",
    "test_data.head()"
   ]
  },
  {
   "cell_type": "code",
   "execution_count": null,
   "metadata": {
    "execution": {
     "iopub.execute_input": "2025-03-19T11:13:25.772434Z",
     "iopub.status.busy": "2025-03-19T11:13:25.772081Z",
     "iopub.status.idle": "2025-03-19T11:13:25.785477Z",
     "shell.execute_reply": "2025-03-19T11:13:25.784608Z",
     "shell.execute_reply.started": "2025-03-19T11:13:25.772410Z"
    },
    "id": "yos2WZJU_jHa",
    "trusted": true
   },
   "outputs": [],
   "source": [
    "stopwords = ['آئی', 'آئے', 'آج', 'آخر', 'آخرکبر', 'آدهی', 'آًب', 'آٹھ', 'آیب', 'اة', 'اخبزت', 'اختتبم',  'ادھر', 'ارد', 'اردگرد', 'ارکبى', 'اش', 'اضتعوبل', 'اضتعوبلات', 'اضطرذ', 'اضکب', 'اضکی',  'اضکے', 'اطراف', 'اغیب', 'افراد', 'الگ', 'اور', 'اوًچب', 'اوًچبئی', 'اوًچی', 'اوًچے', 'اى',  'اً', 'اًذر', 'اًہیں', 'اٹھبًب', 'اپٌب', 'اپٌے', 'اچھب', 'اچھی', 'اچھے', 'اکثر', 'اکٹھب',  'اکٹھی', 'اکٹھے', 'اکیلا', 'اکیلی', 'اکیلے', 'اگرچہ', 'اہن', 'ایطے', 'ایک', 'ب', 'ت', 'تبزٍ',  'تت', 'تر', 'ترتیت', 'تریي', 'تعذاد', 'تن', 'تو', 'توبم', 'توہی', 'توہیں', 'تٌہب', 'تک',  'تھب', 'تھوڑا', 'تھوڑی', 'تھوڑے', 'تھی', 'تھے', 'تیي', 'ثب', 'ثبئیں', 'ثبترتیت', 'ثبری', 'ثبرے',  'ثبعث', 'ثبلا', 'ثبلترتیت', 'ثبہر', 'ثدبئے', 'ثرآں', 'ثراں', 'ثرش', 'ثعذ', 'ثغیر', 'ثلٌذ',  'ثلٌذوثبلا', 'ثلکہ', 'ثي', 'ثٌب', 'ثٌبرہب', 'ثٌبرہی', 'ثٌبرہے', 'ثٌبًب', 'ثٌذ', 'ثٌذکرو',  'ثٌذکرًب', 'ثٌذی', 'ثڑا', 'ثڑوں', 'ثڑی', 'ثڑے', 'ثھر', 'ثھرا', 'ثھراہوا', 'ثھرپور', 'ثھی',  'ثہت', 'ثہتر', 'ثہتری', 'ثہتریي', 'ثیچ', 'ج', 'خب', 'خبرہب', 'خبرہی', 'خبرہے', 'خبهوظ',  'خبًب', 'خبًتب', 'خبًتی', 'خبًتے', 'خبًٌب', 'خت', 'ختن', 'خجکہ', 'خص', 'خططرذ', 'خلذی',  'خو', 'خواى', 'خوًہی', 'خوکہ', 'خٌبة', 'خگہ', 'خگہوں', 'خگہیں', 'خیطب', 'خیطبکہ', 'در',  'درخبت', 'درخہ', 'درخے', 'درزقیقت', 'درضت', 'دش', 'دفعہ', 'دلچطپ', 'دلچطپی', 'دلچطپیبں',  'دو', 'دور', 'دوراى', 'دوضرا', 'دوضروں', 'دوضری', 'دوضرے', 'دوًوں', 'دکھبئیں', 'دکھبتب',  'دکھبتی', 'دکھبتے', 'دکھبو', 'دکھبًب', 'دکھبیب', 'دی', 'دیب', 'دیتب', 'دیتی', 'دیتے', 'دیر',  'دیٌب', 'دیکھو', 'دیکھٌب', 'دیکھی', 'دیکھیں', 'دے', 'ر', 'راضتوں', 'راضتہ', 'راضتے', 'رریعہ',  'رریعے', 'رکي', 'رکھ', 'رکھب', 'رکھتب', 'رکھتبہوں', 'رکھتی', 'رکھتے', 'رکھی', 'رکھے', 'رہب',  'رہی', 'رہے', 'ز', 'زبصل', 'زبضر', 'زبل', 'زبلات', 'زبلیہ', 'زصوں', 'زصہ', 'زصے', 'زقبئق',  'زقیتیں', 'زقیقت', 'زکن', 'زکویہ', 'زیبدٍ', 'صبف', 'صسیر', 'صفر', 'صورت', 'صورتسبل', 'صورتوں',  'صورتیں', 'ض', 'ضبت', 'ضبتھ', 'ضبدٍ', 'ضبرا', 'ضبرے', 'ضبل', 'ضبلوں', 'ضت', 'ضرور', 'ضرورت',  'ضروری', 'ضلطلہ', 'ضوچ', 'ضوچب', 'ضوچتب', 'ضوچتی', 'ضوچتے', 'ضوچو', 'ضوچٌب', 'ضوچی', 'ضوچیں',  'ضکب', 'ضکتب', 'ضکتی', 'ضکتے', 'ضکٌب', 'ضکی', 'ضکے', 'ضیذھب', 'ضیذھی', 'ضیذھے', 'ضیکٌڈ', 'ضے',  'طرف', 'طریق', 'طریقوں', 'طریقہ', 'طریقے', 'طور', 'طورپر', 'ظبہر', 'ع', 'عذد', 'عظین', 'علاقوں',  'علاقہ', 'علاقے', 'علاوٍ', 'عووهی', 'غبیذ', 'غخص', 'غذ', 'غروع', 'غروعبت', 'غے', 'فرد', 'فی', 'ق',  'قجل', 'قجیلہ', 'قطن', 'لئے', 'لا', 'لازهی', 'لو', 'لوجب', 'لوجی', 'لوجے', 'لوسبت', 'لوسہ',  'لوگ', 'لوگوں', 'لڑکپي', 'لگتب', 'لگتی', 'لگتے', 'لگٌب', 'لگی', 'لگیں', 'لگے', 'لی', 'لیب',  'لیٌب', 'لیں', 'لے', 'ه', 'هتعلق', 'هختلف', 'هسترم', 'هسترهہ', 'هسطوش', 'هسیذ', 'هطئلہ',  'هطئلے', 'هطبئل', 'هطتعول', 'هطلق', 'هعلوم', 'هػتول', 'هلا', 'هوکي', 'هوکٌبت', 'هوکٌہ',  'هٌبضت', 'هڑا', 'هڑًب', 'هڑے', 'هکول', 'هگر', 'هہرثبى', 'هیرا', 'هیری', 'هیرے', 'هیں', 'و',  'وار', 'والے', 'وٍ', 'ًئی', 'ًئے', 'ًب', 'ًبپطٌذ', 'ًبگسیر', 'ًطجت', 'ًقطہ', 'ًو', 'ًوخواى',  'ًکبلٌب', 'ًکتہ', 'ًہ', 'ًہیں', 'ًیب', 'ًے', 'ٓ آش', 'ٹھیک', 'پبئے', 'پبش', 'پبًب', 'پبًچ',  'پر', 'پراًب', 'پطٌذ', 'پل', 'پورا', 'پوچھب', 'پوچھتب', 'پوچھتی', 'پوچھتے', 'پوچھو', 'پوچھوں',  'پوچھٌب', 'پوچھیں', 'پچھلا', 'پھر', 'پہلا', 'پہلی', 'پہلےضی', 'پہلےضے', 'پہلےضےہی', 'پیع',  'چبر', 'چبہب', 'چبہٌب', 'چبہے', 'چلا', 'چلو', 'چلیں', 'چلے', 'چکب', 'چکی', 'چکیں', 'چکے',  'چھوٹب', 'چھوٹوں', 'چھوٹی', 'چھوٹے', 'چھہ', 'چیسیں', 'ڈھوًڈا', 'ڈھوًڈلیب', 'ڈھوًڈو', 'ڈھوًڈًب',  'ڈھوًڈی', 'ڈھوًڈیں', 'ک', 'کئی', 'کئے', 'کب', 'کبفی', 'کبم', 'کت', 'کجھی', 'کرا', 'کرتب',  'کرتبہوں', 'کرتی', 'کرتے', 'کرتےہو', 'کررہب', 'کررہی', 'کررہے', 'کرو', 'کرًب', 'کریں', 'کرے',  'کطی', 'کل', 'کن', 'کوئی', 'کوتر', 'کورا', 'کوروں', 'کورٍ', 'کورے', 'کوطي', 'کوى', 'کوًطب',  'کوًطی', 'کوًطے', 'کھولا', 'کھولو', 'کھولٌب', 'کھولی', 'کھولیں', 'کھولے', 'کہ', 'کہب', 'کہتب',  'کہتی', 'کہتے', 'کہو', 'کہوں', 'کہٌب', 'کہی', 'کہیں', 'کہے', 'کی', 'کیب', 'کیطب', 'کیطرف',  'کیطے', 'کیلئے', 'کیوًکہ', 'کیوں', 'کیے', 'کے', 'کےثعذ', 'کےرریعے', 'گئی', 'گئے', 'گب',  'گرد', 'گروٍ', 'گروپ', 'گروہوں', 'گٌتی', 'گی', 'گیب', 'گے', 'ہر', 'ہن', 'ہو', 'ہوئی', 'ہوئے',  'ہوا', 'ہوبرا', 'ہوبری', 'ہوبرے', 'ہوتب', 'ہوتی', 'ہوتے', 'ہورہب', 'ہورہی', 'ہورہے', 'ہوضکتب',  'ہوضکتی', 'ہوضکتے', 'ہوًب', 'ہوًی', 'ہوًے', 'ہوچکب', 'ہوچکی', 'ہوچکے', 'ہوگئی', 'ہوگئے',  'ہوگیب', 'ہوں', 'ہی', 'ہیں', 'ہے', 'ی', 'یقیٌی', 'یہ', 'یہبں']"
   ]
  },
  {
   "cell_type": "code",
   "execution_count": null,
   "metadata": {
    "execution": {
     "iopub.execute_input": "2025-03-19T11:13:25.786655Z",
     "iopub.status.busy": "2025-03-19T11:13:25.786297Z",
     "iopub.status.idle": "2025-03-19T11:13:26.077840Z",
     "shell.execute_reply": "2025-03-19T11:13:26.076912Z",
     "shell.execute_reply.started": "2025-03-19T11:13:25.786617Z"
    },
    "id": "Pas3myfL_jHb",
    "trusted": true
   },
   "outputs": [],
   "source": [
    "test_data['no stop']=test_data['tweet'].apply(lambda x:[word for word in str(x).split() if word not in stopwords])"
   ]
  },
  {
   "cell_type": "code",
   "execution_count": null,
   "metadata": {
    "colab": {
     "base_uri": "https://localhost:8080/",
     "height": 423
    },
    "execution": {
     "iopub.execute_input": "2025-03-19T11:13:26.079025Z",
     "iopub.status.busy": "2025-03-19T11:13:26.078732Z",
     "iopub.status.idle": "2025-03-19T11:13:26.092929Z",
     "shell.execute_reply": "2025-03-19T11:13:26.091893Z",
     "shell.execute_reply.started": "2025-03-19T11:13:26.078995Z"
    },
    "id": "SFZFNibS_jHd",
    "outputId": "3fd9e6bc-3ef9-4a88-c12c-6922c2d9ef7e",
    "trusted": true
   },
   "outputs": [],
   "source": [
    "test_data"
   ]
  },
  {
   "cell_type": "code",
   "execution_count": null,
   "metadata": {
    "execution": {
     "iopub.execute_input": "2025-03-19T11:13:26.094103Z",
     "iopub.status.busy": "2025-03-19T11:13:26.093830Z",
     "iopub.status.idle": "2025-03-19T11:13:26.148075Z",
     "shell.execute_reply": "2025-03-19T11:13:26.147404Z",
     "shell.execute_reply.started": "2025-03-19T11:13:26.094082Z"
    },
    "id": "GMgY9U1i_jHe",
    "trusted": true
   },
   "outputs": [],
   "source": [
    "test_tokenizer=Tokenizer()\n",
    "# test_data['sents']=test_data['tweet'].apply(lambda x:str(x).split())\n",
    "\n",
    "test_tokenizer.fit_on_texts(test_data['no stop'])\n",
    "test_sequences=tokenizer.texts_to_sequences(test_data['no stop'])"
   ]
  },
  {
   "cell_type": "code",
   "execution_count": null,
   "metadata": {
    "execution": {
     "iopub.execute_input": "2025-03-19T11:13:26.150014Z",
     "iopub.status.busy": "2025-03-19T11:13:26.149789Z",
     "iopub.status.idle": "2025-03-19T11:13:26.171831Z",
     "shell.execute_reply": "2025-03-19T11:13:26.171084Z",
     "shell.execute_reply.started": "2025-03-19T11:13:26.149995Z"
    },
    "id": "X_H6HSVN_jHf",
    "trusted": true
   },
   "outputs": [],
   "source": [
    "test_padded_sequences=pad_sequences(test_sequences,maxlen=maxlen,padding='post')"
   ]
  },
  {
   "cell_type": "code",
   "execution_count": null,
   "metadata": {
    "execution": {
     "iopub.execute_input": "2025-03-19T11:13:26.173067Z",
     "iopub.status.busy": "2025-03-19T11:13:26.172761Z",
     "iopub.status.idle": "2025-03-19T11:13:26.803670Z",
     "shell.execute_reply": "2025-03-19T11:13:26.802967Z",
     "shell.execute_reply.started": "2025-03-19T11:13:26.173034Z"
    },
    "id": "ySCPrQ8V_jHf",
    "trusted": true
   },
   "outputs": [],
   "source": [
    "# Train-Test Split\n",
    "X_train, X_test, y_train, y_test = train_test_split(padded_sequences, data['target'], test_size=0.2, random_state=42)"
   ]
  },
  {
   "cell_type": "markdown",
   "metadata": {
    "id": "YfFEBHCx_jHg"
   },
   "source": [
    "FOR TESTING WITH TRAIN DATASET"
   ]
  },
  {
   "cell_type": "code",
   "execution_count": null,
   "metadata": {
    "execution": {
     "iopub.execute_input": "2025-03-19T11:13:26.804746Z",
     "iopub.status.busy": "2025-03-19T11:13:26.804471Z",
     "iopub.status.idle": "2025-03-19T11:13:26.808499Z",
     "shell.execute_reply": "2025-03-19T11:13:26.807677Z",
     "shell.execute_reply.started": "2025-03-19T11:13:26.804721Z"
    },
    "id": "-PfCtsvd_jHh",
    "trusted": true
   },
   "outputs": [],
   "source": [
    "xx_test=test_padded_sequences\n",
    "yy_test=test_data['target']"
   ]
  },
  {
   "cell_type": "markdown",
   "metadata": {
    "id": "73c4ffd3"
   },
   "source": [
    "# CNN"
   ]
  },
  {
   "cell_type": "code",
   "execution_count": null,
   "metadata": {},
   "outputs": [],
   "source": [
    "class Attention(Layer):\n",
    "\n",
    "    def __init__(self, return_sequences=True):\n",
    "        super(Attention, self).__init__()\n",
    "        self.return_sequences = return_sequences\n",
    "\n",
    "    def build(self, input_shape):\n",
    "        # Add weights for attention mechanism\n",
    "        self.W = self.add_weight(\n",
    "            name=\"att_weight\",\n",
    "            shape=(input_shape[-1], input_shape[-1]),\n",
    "            initializer=\"normal\",\n",
    "            trainable=True,\n",
    "        )\n",
    "        self.b = self.add_weight(\n",
    "            name=\"att_bias\",\n",
    "            shape=(input_shape[-1],),\n",
    "            initializer=\"zeros\",\n",
    "            trainable=True,\n",
    "        )\n",
    "        self.u = self.add_weight(\n",
    "            name=\"att_u\",\n",
    "            shape=(input_shape[-1], 1),\n",
    "            initializer=\"normal\",\n",
    "            trainable=True,\n",
    "        )\n",
    "        super(Attention, self).build(input_shape)\n",
    "\n",
    "    def call(self, x):\n",
    "        # Step 1: Calculate scores\n",
    "        score = tf.tanh(tf.tensordot(x, self.W, axes=[2, 0]) + self.b)\n",
    "\n",
    "        # Step 2: Compute attention weights\n",
    "        attention_weights = tf.nn.softmax(tf.tensordot(score, self.u, axes=[2, 0]), axis=1)\n",
    "\n",
    "        # Step 3: Apply attention weights to the input\n",
    "        context_vector = attention_weights * x\n",
    "\n",
    "        if self.return_sequences:\n",
    "            return context_vector\n",
    "        else:\n",
    "            return tf.reduce_sum(context_vector, axis=1)\n",
    "\n",
    "    def compute_output_shape(self, input_shape):\n",
    "        if self.return_sequences:\n",
    "            return input_shape\n",
    "        else:\n",
    "            return (input_shape[0], input_shape[-1])\n"
   ]
  },
  {
   "cell_type": "code",
   "execution_count": null,
   "metadata": {
    "id": "cd54cd1d"
   },
   "outputs": [],
   "source": [
    "# Define LSTM Model\n",
    "def build_model(embedding_matrix):\n",
    "    model = Sequential([\n",
    "        Embedding(input_dim=embedding_matrix.shape[0], output_dim=embedding_matrix.shape[1], weights=[embedding_matrix], trainable=True, input_length=maxlen),\n",
    "        Attention(return_sequences=True),\n",
    "        Conv1D(filters=32, kernel_size=8, activation='relu'),\n",
    "        MaxPooling1D(pool_size=2),\n",
    "        Flatten(),\n",
    "        Dense(64, activation='relu'),\n",
    "        Dense(32, activation='relu'),\n",
    "        Dense(16, activation='relu'),\n",
    "        Dense(1, activation='sigmoid')\n",
    "    ])\n",
    "    model.build((None, maxlen))  # Build the model with input shape\n",
    "    model.compile(optimizer='adam', loss='binary_crossentropy', metrics=['accuracy'])\n",
    "    return model"
   ]
  },
  {
   "cell_type": "code",
   "execution_count": null,
   "metadata": {
    "colab": {
     "base_uri": "https://localhost:8080/",
     "height": 440
    },
    "id": "9a3a18cc",
    "outputId": "0358e4f0-a362-48f5-f960-98f40f560371"
   },
   "outputs": [],
   "source": [
    "# Build and Train Model\n",
    "urdu_model = build_model(fastext_embedding_matrix)\n",
    "urdu_model.summary()"
   ]
  },
  {
   "cell_type": "code",
   "execution_count": null,
   "metadata": {
    "execution": {
     "iopub.execute_input": "2025-03-19T11:14:36.312883Z",
     "iopub.status.busy": "2025-03-19T11:14:36.312509Z",
     "iopub.status.idle": "2025-03-19T11:14:36.316478Z",
     "shell.execute_reply": "2025-03-19T11:14:36.315698Z",
     "shell.execute_reply.started": "2025-03-19T11:14:36.312855Z"
    },
    "id": "2d18ff6d",
    "trusted": true
   },
   "outputs": [],
   "source": [
    "early_stopping = EarlyStopping(\n",
    "    monitor='val_loss',  # Metric to monitor (e.g., validation loss)\n",
    "    patience=3,          # Number of epochs with no improvement before stopping\n",
    "    restore_best_weights=True  # Restore model weights from the epoch with the best value of the monitored quantity\n",
    ")"
   ]
  },
  {
   "cell_type": "code",
   "execution_count": null,
   "metadata": {
    "colab": {
     "base_uri": "https://localhost:8080/"
    },
    "id": "18b995ae",
    "outputId": "0d8eb93a-d5b7-4637-ae08-9a8a5f25c49c"
   },
   "outputs": [],
   "source": [
    "history = urdu_model.fit(\n",
    "    X_train, y_train,\n",
    "    validation_split=0.2,\n",
    "    epochs=500,\n",
    "    batch_size=32,\n",
    "    callbacks=[early_stopping]  # Add the early stopping callback here\n",
    ")"
   ]
  },
  {
   "cell_type": "code",
   "execution_count": null,
   "metadata": {
    "colab": {
     "base_uri": "https://localhost:8080/"
    },
    "id": "1decd8e8",
    "outputId": "682c6f22-d47d-4c64-c61e-a45f22433d53"
   },
   "outputs": [],
   "source": [
    "# Evaluate Model\n",
    "eval_results = urdu_model.evaluate(X_test, y_test)\n",
    "print(f\"Test Loss: {eval_results[0]}, Test Accuracy: {eval_results[1]}\")"
   ]
  },
  {
   "cell_type": "code",
   "execution_count": null,
   "metadata": {
    "colab": {
     "base_uri": "https://localhost:8080/"
    },
    "id": "0efb87d1",
    "outputId": "c3751a5e-6071-4cae-960e-a60e727f907c"
   },
   "outputs": [],
   "source": [
    "# Predictions and Metrics\n",
    "y_pred = (urdu_model.predict(X_test) > 0.5).astype(\"int32\")\n",
    "print(\"Accuracy:\", accuracy_score(y_test, y_pred))\n",
    "print(\"Precision:\", precision_score(y_test, y_pred))\n",
    "print(\"Recall:\", recall_score(y_test, y_pred))\n",
    "print(\"F1 Score:\", f1_score(y_test, y_pred))"
   ]
  },
  {
   "cell_type": "code",
   "execution_count": null,
   "metadata": {
    "colab": {
     "base_uri": "https://localhost:8080/",
     "height": 483
    },
    "id": "a03cd01a",
    "outputId": "ddf7a832-2cd6-42ec-96ba-fe38dab6d709"
   },
   "outputs": [],
   "source": [
    "# Assuming 'history' is the variable storing the training history\n",
    "# Plot training & validation accuracy values\n",
    "plt.figure(figsize=(10, 5))\n",
    "plt.plot(history.history['accuracy'])\n",
    "plt.plot(history.history['val_accuracy'])\n",
    "plt.title('Model accuracy')\n",
    "plt.ylabel('Accuracy')\n",
    "plt.xlabel('Epoch')\n",
    "plt.legend(['Train', 'Validation'], loc='upper left')\n",
    "plt.show()"
   ]
  },
  {
   "cell_type": "code",
   "execution_count": null,
   "metadata": {
    "colab": {
     "base_uri": "https://localhost:8080/",
     "height": 483
    },
    "id": "88b6102a",
    "outputId": "58a3d12c-b9bb-4a83-85ab-7ae629eb262c"
   },
   "outputs": [],
   "source": [
    "# Plot training & validation loss values\n",
    "plt.figure(figsize=(10, 5))\n",
    "plt.plot(history.history['loss'])\n",
    "plt.plot(history.history['val_loss'])\n",
    "plt.title('Model loss')\n",
    "plt.ylabel('Loss')\n",
    "plt.xlabel('Epoch')\n",
    "plt.legend(['Train', 'Validation'], loc='upper left')\n",
    "plt.show()"
   ]
  },
  {
   "cell_type": "code",
   "execution_count": null,
   "metadata": {
    "colab": {
     "base_uri": "https://localhost:8080/",
     "height": 564
    },
    "id": "6410ee99",
    "outputId": "b4011014-1c69-49d4-f8db-de26e8203443"
   },
   "outputs": [],
   "source": [
    "cm = confusion_matrix(y_test, y_pred)\n",
    "\n",
    "plt.figure(figsize=(8, 6))\n",
    "sns.heatmap(cm, annot=True, fmt='d', cmap='Blues', cbar=False)\n",
    "plt.title('Confusion Matrix')\n",
    "plt.xlabel('Predicted Label')\n",
    "plt.ylabel('True Label')\n",
    "plt.show()"
   ]
  },
  {
   "cell_type": "code",
   "execution_count": null,
   "metadata": {
    "colab": {
     "base_uri": "https://localhost:8080/",
     "height": 545
    },
    "id": "724a6cdc",
    "outputId": "f87d902a-acfb-4b17-e5fe-4e59bc0a6421"
   },
   "outputs": [],
   "source": [
    "report = classification_report(y_test, y_pred, output_dict=True)\n",
    "report_df = pd.DataFrame(report).transpose()\n",
    "\n",
    "plt.figure(figsize=(10, 6))\n",
    "sns.heatmap(report_df[:-3].drop(columns=['support']), annot=True, cmap='viridis', fmt=\".2f\")  # Exclude support and averages\n",
    "plt.title('Classification Report')\n",
    "plt.show()"
   ]
  },
  {
   "cell_type": "code",
   "execution_count": null,
   "metadata": {
    "id": "96d7d72b"
   },
   "outputs": [],
   "source": [
    "urdu_model.save(f\"CNN_model.keras\")"
   ]
  },
  {
   "cell_type": "markdown",
   "metadata": {
    "id": "iGamV89X_jHm"
   },
   "source": [
    "Testing with TRAIN DATASET"
   ]
  },
  {
   "cell_type": "code",
   "execution_count": null,
   "metadata": {
    "colab": {
     "base_uri": "https://localhost:8080/"
    },
    "id": "alPbSXP__jHm",
    "outputId": "96b6a99c-bfd9-4a73-b86a-85350c9c3dd5"
   },
   "outputs": [],
   "source": [
    "# Evaluate Model\n",
    "eval_results = urdu_model.evaluate(xx_test, yy_test)\n",
    "print(f\"Test Loss: {eval_results[0]}, Test Accuracy: {eval_results[1]}\")\n",
    "# Predictions and Metrics\n",
    "y_pred = (urdu_model.predict(xx_test) > 0.5).astype(\"int32\")\n",
    "print(\"Accuracy:\", accuracy_score(yy_test, y_pred))\n",
    "print(\"Precision:\", precision_score(yy_test, y_pred))\n",
    "print(\"Recall:\", recall_score(yy_test, y_pred))\n",
    "print(\"F1 Score:\", f1_score(yy_test, y_pred))"
   ]
  },
  {
   "cell_type": "markdown",
   "metadata": {
    "id": "2ed2e608"
   },
   "source": [
    "# RNN"
   ]
  },
  {
   "cell_type": "code",
   "execution_count": null,
   "metadata": {
    "id": "466c3d1d"
   },
   "outputs": [],
   "source": [
    "# Define LSTM Model\n",
    "def build_model(embedding_matrix):\n",
    "    model = Sequential([\n",
    "        Embedding(input_dim=embedding_matrix.shape[0], output_dim=embedding_matrix.shape[1], weights=[embedding_matrix], trainable=True, input_length=maxlen),\n",
    "        Attention(return_sequences=True),\n",
    "        Conv1D(filters=32, kernel_size=8, activation='relu'),\n",
    "        MaxPooling1D(pool_size=2),\n",
    "        SimpleRNN(100),\n",
    "        Dense(64, activation='relu'),\n",
    "        Dense(32, activation='relu'),\n",
    "        Dense(16, activation='relu'),\n",
    "        Dense(1, activation='sigmoid')\n",
    "    ])\n",
    "    model.build((None, maxlen))  # Build the model with input shape\n",
    "    model.compile(optimizer='adam', loss='binary_crossentropy', metrics=['accuracy'])\n",
    "    return model"
   ]
  },
  {
   "cell_type": "code",
   "execution_count": null,
   "metadata": {
    "colab": {
     "base_uri": "https://localhost:8080/",
     "height": 440
    },
    "id": "8b1d8add",
    "outputId": "c8652233-3192-456b-e0b1-86557ab9ff47"
   },
   "outputs": [],
   "source": [
    "# Build and Train Model\n",
    "urdu_model = build_model(fastext_embedding_matrix)\n",
    "urdu_model.summary()"
   ]
  },
  {
   "cell_type": "code",
   "execution_count": null,
   "metadata": {
    "colab": {
     "base_uri": "https://localhost:8080/"
    },
    "id": "43d241e2",
    "outputId": "02c14745-b6b1-4d32-e92f-bd29fed822e4"
   },
   "outputs": [],
   "source": [
    "history = urdu_model.fit(\n",
    "    X_train, y_train,\n",
    "    validation_split=0.2,\n",
    "    epochs=500,\n",
    "    batch_size=32,\n",
    "    callbacks=[early_stopping]  # Add the early stopping callback here\n",
    ")"
   ]
  },
  {
   "cell_type": "code",
   "execution_count": null,
   "metadata": {
    "colab": {
     "base_uri": "https://localhost:8080/"
    },
    "id": "3263691a",
    "outputId": "d9d643fd-f299-4f8c-9b77-e78773b0f987"
   },
   "outputs": [],
   "source": [
    "# Evaluate Model\n",
    "eval_results = urdu_model.evaluate(X_test, y_test)\n",
    "print(f\"Test Loss: {eval_results[0]}, Test Accuracy: {eval_results[1]}\")"
   ]
  },
  {
   "cell_type": "code",
   "execution_count": null,
   "metadata": {
    "colab": {
     "base_uri": "https://localhost:8080/"
    },
    "id": "a9db9a1c",
    "outputId": "057bc08f-980a-4025-93f4-080608c4f7eb"
   },
   "outputs": [],
   "source": [
    "# Predictions and Metrics\n",
    "y_pred = (urdu_model.predict(X_test) > 0.5).astype(\"int32\")\n",
    "print(\"Accuracy:\", accuracy_score(y_test, y_pred))\n",
    "print(\"Precision:\", precision_score(y_test, y_pred))\n",
    "print(\"Recall:\", recall_score(y_test, y_pred))\n",
    "print(\"F1 Score:\", f1_score(y_test, y_pred))"
   ]
  },
  {
   "cell_type": "code",
   "execution_count": null,
   "metadata": {
    "colab": {
     "base_uri": "https://localhost:8080/",
     "height": 483
    },
    "id": "3fccc99a",
    "outputId": "c69fe851-19ea-4b2c-c1a5-e25adde47608"
   },
   "outputs": [],
   "source": [
    "# Plot training & validation accuracy values\n",
    "plt.figure(figsize=(10, 5))\n",
    "plt.plot(history.history['accuracy'])\n",
    "plt.plot(history.history['val_accuracy'])\n",
    "plt.title('Model accuracy')\n",
    "plt.ylabel('Accuracy')\n",
    "plt.xlabel('Epoch')\n",
    "plt.legend(['Train', 'Validation'], loc='upper left')\n",
    "plt.show()"
   ]
  },
  {
   "cell_type": "code",
   "execution_count": null,
   "metadata": {
    "colab": {
     "base_uri": "https://localhost:8080/",
     "height": 484
    },
    "id": "4e5e07fc",
    "outputId": "88b7c1d9-a416-4160-f01d-fad188ff30f0"
   },
   "outputs": [],
   "source": [
    "# Plot training & validation loss values\n",
    "plt.figure(figsize=(10, 5))\n",
    "plt.plot(history.history['loss'])\n",
    "plt.plot(history.history['val_loss'])\n",
    "plt.title('Model loss')\n",
    "plt.ylabel('Loss')\n",
    "plt.xlabel('Epoch')\n",
    "plt.legend(['Train', 'Validation'], loc='upper left')\n",
    "plt.show()"
   ]
  },
  {
   "cell_type": "code",
   "execution_count": null,
   "metadata": {
    "colab": {
     "base_uri": "https://localhost:8080/",
     "height": 564
    },
    "id": "ec84ab89",
    "outputId": "eb8e9589-639a-4c40-9ef2-0edc33e16b50"
   },
   "outputs": [],
   "source": [
    "cm = confusion_matrix(y_test, y_pred)\n",
    "\n",
    "plt.figure(figsize=(8, 6))\n",
    "sns.heatmap(cm, annot=True, fmt='d', cmap='Blues', cbar=False)\n",
    "plt.title('Confusion Matrix')\n",
    "plt.xlabel('Predicted Label')\n",
    "plt.ylabel('True Label')\n",
    "plt.show()"
   ]
  },
  {
   "cell_type": "code",
   "execution_count": null,
   "metadata": {
    "colab": {
     "base_uri": "https://localhost:8080/",
     "height": 545
    },
    "id": "f887b838",
    "outputId": "b7b610ca-ae3f-4332-e47e-d85537eda10a"
   },
   "outputs": [],
   "source": [
    "report = classification_report(y_test, y_pred, output_dict=True)\n",
    "report_df = pd.DataFrame(report).transpose()\n",
    "\n",
    "plt.figure(figsize=(10, 6))\n",
    "sns.heatmap(report_df[:-3].drop(columns=['support']), annot=True, cmap='viridis', fmt=\".2f\")  # Exclude support and averages\n",
    "plt.title('Classification Report')\n",
    "plt.show()"
   ]
  },
  {
   "cell_type": "code",
   "execution_count": null,
   "metadata": {
    "id": "ac8157ed"
   },
   "outputs": [],
   "source": [
    "urdu_model.save(f\"RNN_model.keras\")"
   ]
  },
  {
   "cell_type": "markdown",
   "metadata": {
    "id": "SGW1dh4T_jIG"
   },
   "source": [
    "Testing with TRAIN DATASET"
   ]
  },
  {
   "cell_type": "code",
   "execution_count": null,
   "metadata": {
    "colab": {
     "base_uri": "https://localhost:8080/"
    },
    "id": "ectOE3LJ_jIG",
    "outputId": "0056b144-0aa6-49e7-cb4d-817dc81f9702"
   },
   "outputs": [],
   "source": [
    "# Evaluate Model\n",
    "eval_results = urdu_model.evaluate(xx_test, yy_test)\n",
    "print(f\"Test Loss: {eval_results[0]}, Test Accuracy: {eval_results[1]}\")\n",
    "# Predictions and Metrics\n",
    "y_pred = (urdu_model.predict(xx_test) > 0.5).astype(\"int32\")\n",
    "print(\"Accuracy:\", accuracy_score(yy_test, y_pred))\n",
    "print(\"Precision:\", precision_score(yy_test, y_pred))\n",
    "print(\"Recall:\", recall_score(yy_test, y_pred))\n",
    "print(\"F1 Score:\", f1_score(yy_test, y_pred))"
   ]
  },
  {
   "cell_type": "markdown",
   "metadata": {
    "id": "864ccee2"
   },
   "source": [
    "# Bi-RNN"
   ]
  },
  {
   "cell_type": "code",
   "execution_count": null,
   "metadata": {
    "execution": {
     "iopub.execute_input": "2025-03-19T11:14:54.650094Z",
     "iopub.status.busy": "2025-03-19T11:14:54.649807Z",
     "iopub.status.idle": "2025-03-19T11:14:54.655008Z",
     "shell.execute_reply": "2025-03-19T11:14:54.653989Z",
     "shell.execute_reply.started": "2025-03-19T11:14:54.650073Z"
    },
    "id": "31aa2038",
    "trusted": true
   },
   "outputs": [],
   "source": [
    "# Define LSTM Model\n",
    "def build_model(embedding_matrix):\n",
    "    model = Sequential([\n",
    "        Embedding(input_dim=embedding_matrix.shape[0], output_dim=embedding_matrix.shape[1], weights=[embedding_matrix], trainable=True, input_length=maxlen),\n",
    "        Attention(return_sequences=True),\n",
    "        Bidirectional(SimpleRNN(100)),\n",
    "        Dense(64, activation='relu'),\n",
    "        Dense(32, activation='relu'),\n",
    "        Dense(16, activation='relu'),\n",
    "        Dense(1, activation='sigmoid')\n",
    "    ])\n",
    "    model.build((None, maxlen))  # Build the model with input shape\n",
    "    model.compile(optimizer='adam', loss='binary_crossentropy', metrics=['accuracy'])\n",
    "    return model"
   ]
  },
  {
   "cell_type": "code",
   "execution_count": null,
   "metadata": {
    "colab": {
     "base_uri": "https://localhost:8080/",
     "height": 376
    },
    "execution": {
     "iopub.execute_input": "2025-03-19T11:14:57.951043Z",
     "iopub.status.busy": "2025-03-19T11:14:57.950747Z",
     "iopub.status.idle": "2025-03-19T11:15:00.453488Z",
     "shell.execute_reply": "2025-03-19T11:15:00.452662Z",
     "shell.execute_reply.started": "2025-03-19T11:14:57.951021Z"
    },
    "id": "8cc50a80",
    "outputId": "1221b7f2-6692-498d-b052-91c9e09345a0",
    "trusted": true
   },
   "outputs": [],
   "source": [
    "# Build and Train Model\n",
    "urdu_model = build_model(fastext_embedding_matrix)\n",
    "urdu_model.summary()"
   ]
  },
  {
   "cell_type": "code",
   "execution_count": null,
   "metadata": {
    "colab": {
     "base_uri": "https://localhost:8080/",
     "height": 211
    },
    "execution": {
     "iopub.execute_input": "2025-03-19T11:16:21.884793Z",
     "iopub.status.busy": "2025-03-19T11:16:21.884393Z",
     "iopub.status.idle": "2025-03-19T15:09:25.448185Z",
     "shell.execute_reply": "2025-03-19T15:09:25.447149Z",
     "shell.execute_reply.started": "2025-03-19T11:16:21.884760Z"
    },
    "id": "20f5ace5",
    "outputId": "4925663c-807b-457f-96f0-1d7fb8e68323",
    "trusted": true
   },
   "outputs": [],
   "source": [
    "history = urdu_model.fit(\n",
    "    X_train, y_train,\n",
    "    validation_split=0.2,\n",
    "    epochs=500,\n",
    "    batch_size=32,\n",
    "    callbacks=[early_stopping]  # Add the early stopping callback here\n",
    ")"
   ]
  },
  {
   "cell_type": "code",
   "execution_count": null,
   "metadata": {
    "execution": {
     "iopub.execute_input": "2025-03-19T15:17:06.066028Z",
     "iopub.status.busy": "2025-03-19T15:17:06.065817Z",
     "iopub.status.idle": "2025-03-19T15:20:29.020959Z",
     "shell.execute_reply": "2025-03-19T15:20:29.020249Z",
     "shell.execute_reply.started": "2025-03-19T15:17:06.066008Z"
    },
    "id": "92cfc245",
    "trusted": true
   },
   "outputs": [],
   "source": [
    "# Evaluate Model\n",
    "eval_results = urdu_model.evaluate(X_test, y_test)\n",
    "print(f\"Test Loss: {eval_results[0]}, Test Accuracy: {eval_results[1]}\")"
   ]
  },
  {
   "cell_type": "code",
   "execution_count": null,
   "metadata": {
    "execution": {
     "iopub.execute_input": "2025-03-19T15:20:29.022227Z",
     "iopub.status.busy": "2025-03-19T15:20:29.021913Z",
     "iopub.status.idle": "2025-03-19T15:23:51.527388Z",
     "shell.execute_reply": "2025-03-19T15:23:51.526689Z",
     "shell.execute_reply.started": "2025-03-19T15:20:29.022195Z"
    },
    "id": "261aaf03",
    "trusted": true
   },
   "outputs": [],
   "source": [
    "# Predictions and Metrics\n",
    "y_pred = (urdu_model.predict(X_test) > 0.5).astype(\"int32\")\n",
    "print(\"Accuracy:\", accuracy_score(y_test, y_pred))\n",
    "print(\"Precision:\", precision_score(y_test, y_pred))\n",
    "print(\"Recall:\", recall_score(y_test, y_pred))\n",
    "print(\"F1 Score:\", f1_score(y_test, y_pred))"
   ]
  },
  {
   "cell_type": "code",
   "execution_count": null,
   "metadata": {
    "execution": {
     "iopub.execute_input": "2025-03-19T15:23:51.528466Z",
     "iopub.status.busy": "2025-03-19T15:23:51.528224Z",
     "iopub.status.idle": "2025-03-19T15:23:51.712809Z",
     "shell.execute_reply": "2025-03-19T15:23:51.712019Z",
     "shell.execute_reply.started": "2025-03-19T15:23:51.528446Z"
    },
    "id": "85d173dc",
    "trusted": true
   },
   "outputs": [],
   "source": [
    "# Plot training & validation accuracy values\n",
    "plt.figure(figsize=(10, 5))\n",
    "plt.plot(history.history['accuracy'])\n",
    "plt.plot(history.history['val_accuracy'])\n",
    "plt.title('Model accuracy')\n",
    "plt.ylabel('Accuracy')\n",
    "plt.xlabel('Epoch')\n",
    "plt.legend(['Train', 'Validation'], loc='upper left')\n",
    "plt.show()"
   ]
  },
  {
   "cell_type": "code",
   "execution_count": null,
   "metadata": {
    "execution": {
     "iopub.execute_input": "2025-03-19T15:23:51.713873Z",
     "iopub.status.busy": "2025-03-19T15:23:51.713524Z",
     "iopub.status.idle": "2025-03-19T15:23:51.889730Z",
     "shell.execute_reply": "2025-03-19T15:23:51.889023Z",
     "shell.execute_reply.started": "2025-03-19T15:23:51.713840Z"
    },
    "id": "30406053",
    "trusted": true
   },
   "outputs": [],
   "source": [
    "# Plot training & validation loss values\n",
    "plt.figure(figsize=(10, 5))\n",
    "plt.plot(history.history['loss'])\n",
    "plt.plot(history.history['val_loss'])\n",
    "plt.title('Model loss')\n",
    "plt.ylabel('Loss')\n",
    "plt.xlabel('Epoch')\n",
    "plt.legend(['Train', 'Validation'], loc='upper left')\n",
    "plt.show()"
   ]
  },
  {
   "cell_type": "code",
   "execution_count": null,
   "metadata": {
    "execution": {
     "iopub.execute_input": "2025-03-19T15:23:51.890682Z",
     "iopub.status.busy": "2025-03-19T15:23:51.890419Z",
     "iopub.status.idle": "2025-03-19T15:23:51.984396Z",
     "shell.execute_reply": "2025-03-19T15:23:51.983540Z",
     "shell.execute_reply.started": "2025-03-19T15:23:51.890660Z"
    },
    "id": "bb3263bf",
    "trusted": true
   },
   "outputs": [],
   "source": [
    "cm = confusion_matrix(y_test, y_pred)\n",
    "\n",
    "plt.figure(figsize=(8, 6))\n",
    "sns.heatmap(cm, annot=True, fmt='d', cmap='Blues', cbar=False)\n",
    "plt.title('Confusion Matrix')\n",
    "plt.xlabel('Predicted Label')\n",
    "plt.ylabel('True Label')\n",
    "plt.show()"
   ]
  },
  {
   "cell_type": "code",
   "execution_count": null,
   "metadata": {
    "execution": {
     "iopub.execute_input": "2025-03-19T15:23:51.985577Z",
     "iopub.status.busy": "2025-03-19T15:23:51.985265Z",
     "iopub.status.idle": "2025-03-19T15:23:52.169915Z",
     "shell.execute_reply": "2025-03-19T15:23:52.169142Z",
     "shell.execute_reply.started": "2025-03-19T15:23:51.985538Z"
    },
    "id": "5e4b81c9",
    "trusted": true
   },
   "outputs": [],
   "source": [
    "report = classification_report(y_test, y_pred, output_dict=True)\n",
    "report_df = pd.DataFrame(report).transpose()\n",
    "\n",
    "plt.figure(figsize=(10, 6))\n",
    "sns.heatmap(report_df[:-3].drop(columns=['support']), annot=True, cmap='viridis', fmt=\".2f\")  # Exclude support and averages\n",
    "plt.title('Classification Report')\n",
    "plt.show()"
   ]
  },
  {
   "cell_type": "code",
   "execution_count": null,
   "metadata": {
    "execution": {
     "iopub.execute_input": "2025-03-19T15:23:52.170847Z",
     "iopub.status.busy": "2025-03-19T15:23:52.170639Z",
     "iopub.status.idle": "2025-03-19T15:23:52.428201Z",
     "shell.execute_reply": "2025-03-19T15:23:52.427159Z",
     "shell.execute_reply.started": "2025-03-19T15:23:52.170828Z"
    },
    "id": "d86b687c",
    "trusted": true
   },
   "outputs": [],
   "source": [
    "urdu_model.save(f\"Bi-RNN_model.keras\")"
   ]
  },
  {
   "cell_type": "markdown",
   "metadata": {
    "id": "QJycJQjc_jIM"
   },
   "source": [
    "Testing with TRAIN DATASET"
   ]
  },
  {
   "cell_type": "code",
   "execution_count": null,
   "metadata": {
    "execution": {
     "iopub.execute_input": "2025-03-19T15:23:52.429446Z",
     "iopub.status.busy": "2025-03-19T15:23:52.429125Z",
     "iopub.status.idle": "2025-03-19T15:24:42.673699Z",
     "shell.execute_reply": "2025-03-19T15:24:42.672991Z",
     "shell.execute_reply.started": "2025-03-19T15:23:52.429409Z"
    },
    "id": "9xH1PByR_jIM",
    "trusted": true
   },
   "outputs": [],
   "source": [
    "# Evaluate Model\n",
    "eval_results = urdu_model.evaluate(xx_test, yy_test)\n",
    "print(f\"Test Loss: {eval_results[0]}, Test Accuracy: {eval_results[1]}\")\n",
    "# Predictions and Metrics\n",
    "y_pred = (urdu_model.predict(xx_test) > 0.5).astype(\"int32\")\n",
    "print(\"Accuracy:\", accuracy_score(yy_test, y_pred))\n",
    "print(\"Precision:\", precision_score(yy_test, y_pred))\n",
    "print(\"Recall:\", recall_score(yy_test, y_pred))\n",
    "print(\"F1 Score:\", f1_score(yy_test, y_pred))"
   ]
  },
  {
   "cell_type": "markdown",
   "metadata": {
    "id": "fc0fe2c5"
   },
   "source": [
    "# LSTM"
   ]
  },
  {
   "cell_type": "code",
   "execution_count": null,
   "metadata": {
    "id": "RHxkXV7-8_bO"
   },
   "outputs": [],
   "source": [
    "# Define LSTM Model\n",
    "def build_model(embedding_matrix):\n",
    "    model = Sequential([\n",
    "        Embedding(input_dim=embedding_matrix.shape[0], output_dim=embedding_matrix.shape[1], weights=[embedding_matrix], trainable=True, input_length=maxlen),\n",
    "        Attention(return_sequences=True),\n",
    "        LSTM(units=64, dropout=0.2, return_sequences=False),\n",
    "        Dense(64, activation='relu'),\n",
    "        Dense(32, activation='relu'),\n",
    "        Dense(16, activation='relu'),\n",
    "        Dense(1, activation='sigmoid')\n",
    "    ])\n",
    "    model.build((None, maxlen))  # Build the model with input shape\n",
    "    model.compile(optimizer='adam', loss='binary_crossentropy', metrics=['accuracy'])\n",
    "    return model"
   ]
  },
  {
   "cell_type": "code",
   "execution_count": null,
   "metadata": {
    "colab": {
     "base_uri": "https://localhost:8080/",
     "height": 321
    },
    "id": "3HkvUeXg9C1S",
    "outputId": "6b238f9c-ef49-48e0-cd77-8022725ba689"
   },
   "outputs": [],
   "source": [
    "# Build and Train Model\n",
    "urdu_model = build_model(fastext_embedding_matrix)\n",
    "urdu_model.summary()"
   ]
  },
  {
   "cell_type": "code",
   "execution_count": null,
   "metadata": {
    "colab": {
     "base_uri": "https://localhost:8080/"
    },
    "id": "LlIkInK1ABO8",
    "outputId": "cfb75d6b-3e01-427a-8a6f-8f3ca732a4fb"
   },
   "outputs": [],
   "source": [
    "history = urdu_model.fit(\n",
    "    X_train, y_train,\n",
    "    validation_split=0.2,\n",
    "    epochs=500,\n",
    "    batch_size=32,\n",
    "    callbacks=[early_stopping]  # Add the early stopping callback here\n",
    ")"
   ]
  },
  {
   "cell_type": "code",
   "execution_count": null,
   "metadata": {
    "colab": {
     "base_uri": "https://localhost:8080/"
    },
    "id": "ct2zEl_m9r16",
    "outputId": "e1a867d1-6bdb-4a1c-e4ba-38d2c678ce4a"
   },
   "outputs": [],
   "source": [
    "# Evaluate Model\n",
    "eval_results = urdu_model.evaluate(X_test, y_test)\n",
    "print(f\"Test Loss: {eval_results[0]}, Test Accuracy: {eval_results[1]}\")"
   ]
  },
  {
   "cell_type": "code",
   "execution_count": null,
   "metadata": {
    "colab": {
     "base_uri": "https://localhost:8080/"
    },
    "id": "bI1FWtxO-GGC",
    "outputId": "185ac16a-74dc-42ea-e4bd-dc054b6ba50d"
   },
   "outputs": [],
   "source": [
    "# Predictions and Metrics\n",
    "y_pred = (urdu_model.predict(X_test) > 0.5).astype(\"int32\")\n",
    "print(\"Accuracy:\", accuracy_score(y_test, y_pred))\n",
    "print(\"Precision:\", precision_score(y_test, y_pred))\n",
    "print(\"Recall:\", recall_score(y_test, y_pred))\n",
    "print(\"F1 Score:\", f1_score(y_test, y_pred))"
   ]
  },
  {
   "cell_type": "code",
   "execution_count": null,
   "metadata": {
    "colab": {
     "base_uri": "https://localhost:8080/",
     "height": 474
    },
    "id": "DK3FaO-B-Jba",
    "outputId": "99b2dcb3-ef39-4fda-98dc-6bc67012d4bd"
   },
   "outputs": [],
   "source": [
    "# Plot training & validation accuracy values\n",
    "plt.figure(figsize=(10, 5))\n",
    "plt.plot(history.history['accuracy'])\n",
    "plt.plot(history.history['val_accuracy'])\n",
    "plt.title('Model accuracy')\n",
    "plt.ylabel('Accuracy')\n",
    "plt.xlabel('Epoch')\n",
    "plt.legend(['Train', 'Validation'], loc='upper left')\n",
    "plt.show()"
   ]
  },
  {
   "cell_type": "code",
   "execution_count": null,
   "metadata": {
    "colab": {
     "base_uri": "https://localhost:8080/",
     "height": 474
    },
    "id": "GLj9mnqQA-oQ",
    "outputId": "43715ad1-7ab5-4442-da2d-f7bd51fdd2b2"
   },
   "outputs": [],
   "source": [
    "# Plot training & validation loss values\n",
    "plt.figure(figsize=(10, 5))\n",
    "plt.plot(history.history['loss'])\n",
    "plt.plot(history.history['val_loss'])\n",
    "plt.title('Model loss')\n",
    "plt.ylabel('Loss')\n",
    "plt.xlabel('Epoch')\n",
    "plt.legend(['Train', 'Validation'], loc='upper left')\n",
    "plt.show()"
   ]
  },
  {
   "cell_type": "code",
   "execution_count": null,
   "metadata": {
    "colab": {
     "base_uri": "https://localhost:8080/",
     "height": 564
    },
    "id": "2pxVwls5BDkN",
    "outputId": "5baba8ca-3f8d-4bbe-d91b-744c902cd5af"
   },
   "outputs": [],
   "source": [
    "cm = confusion_matrix(y_test, y_pred)\n",
    "\n",
    "plt.figure(figsize=(8, 6))\n",
    "sns.heatmap(cm, annot=True, fmt='d', cmap='Blues', cbar=False)\n",
    "plt.title('Confusion Matrix')\n",
    "plt.xlabel('Predicted Label')\n",
    "plt.ylabel('True Label')\n",
    "plt.show()"
   ]
  },
  {
   "cell_type": "code",
   "execution_count": null,
   "metadata": {
    "colab": {
     "base_uri": "https://localhost:8080/",
     "height": 669
    },
    "id": "Vtoj726DBGhK",
    "outputId": "567ee633-0796-4e1f-8fc9-40ce3ad9f262"
   },
   "outputs": [],
   "source": [
    "report = classification_report(y_test, y_pred, output_dict=True)\n",
    "report_df = pd.DataFrame(report).transpose()\n",
    "\n",
    "plt.figure(figsize=(10, 6))\n",
    "sns.heatmap(report_df[:-3].drop(columns=['support']), annot=True, cmap='viridis', fmt=\".2f\")  # Exclude support and averages\n",
    "plt.title('Classification Report')\n",
    "plt.show()"
   ]
  },
  {
   "cell_type": "code",
   "execution_count": null,
   "metadata": {
    "id": "vvKRil8RBIUa"
   },
   "outputs": [],
   "source": [
    "urdu_model.save(f\"LSTM_model.keras\")"
   ]
  },
  {
   "cell_type": "markdown",
   "metadata": {
    "id": "6tW5cHLs_jIS"
   },
   "source": [
    "Testing with TRAIN DATASET"
   ]
  },
  {
   "cell_type": "code",
   "execution_count": null,
   "metadata": {
    "colab": {
     "base_uri": "https://localhost:8080/"
    },
    "id": "WG3d86ip_jIS",
    "outputId": "843d7299-51bd-464b-95c3-f49644cd3226"
   },
   "outputs": [],
   "source": [
    "# Evaluate Model\n",
    "eval_results = urdu_model.evaluate(xx_test, yy_test)\n",
    "print(f\"Test Loss: {eval_results[0]}, Test Accuracy: {eval_results[1]}\")\n",
    "# Predictions and Metrics\n",
    "y_pred = (urdu_model.predict(xx_test) > 0.5).astype(\"int32\")\n",
    "print(\"Accuracy:\", accuracy_score(yy_test, y_pred))\n",
    "print(\"Precision:\", precision_score(yy_test, y_pred))\n",
    "print(\"Recall:\", recall_score(yy_test, y_pred))\n",
    "print(\"F1 Score:\", f1_score(yy_test, y_pred))"
   ]
  },
  {
   "cell_type": "markdown",
   "metadata": {
    "id": "c1eaeaf9"
   },
   "source": [
    "# Bi-LSTM"
   ]
  },
  {
   "cell_type": "code",
   "execution_count": null,
   "metadata": {
    "id": "035cfbc8"
   },
   "outputs": [],
   "source": [
    "# Define LSTM Model\n",
    "def build_model(embedding_matrix):\n",
    "    model = Sequential([\n",
    "        Embedding(input_dim=embedding_matrix.shape[0], output_dim=embedding_matrix.shape[1], weights=[embedding_matrix], trainable=True, input_length=maxlen),\n",
    "        Attention(return_sequences=True),\n",
    "        Bidirectional(LSTM(units=64, dropout=0.2, recurrent_dropout=0.0, return_sequences=False)),\n",
    "        Dense(64, activation='relu'),\n",
    "        Dense(32, activation='relu'),\n",
    "        Dense(16, activation='relu'),\n",
    "        Dense(1, activation='sigmoid')\n",
    "    ])\n",
    "    model.build((None, maxlen))  # Build the model with input shape\n",
    "    model.compile(optimizer='adam', loss='binary_crossentropy', metrics=['accuracy'])\n",
    "    return model"
   ]
  },
  {
   "cell_type": "code",
   "execution_count": null,
   "metadata": {
    "colab": {
     "base_uri": "https://localhost:8080/",
     "height": 376
    },
    "id": "936a1102",
    "outputId": "a577dd2c-81ae-4e94-8761-4c0029ca134f"
   },
   "outputs": [],
   "source": [
    "# Build and Train Model\n",
    "urdu_model = build_model(fastext_embedding_matrix)\n",
    "urdu_model.summary()"
   ]
  },
  {
   "cell_type": "code",
   "execution_count": null,
   "metadata": {
    "colab": {
     "base_uri": "https://localhost:8080/"
    },
    "id": "a2e4f2af",
    "outputId": "750e445d-3aa1-46a0-bab9-c2ba0faff7f5"
   },
   "outputs": [],
   "source": [
    "history = urdu_model.fit(\n",
    "    X_train, y_train,\n",
    "    validation_split=0.2,\n",
    "    epochs=500,\n",
    "    batch_size=32,\n",
    "    callbacks=[early_stopping]  # Add the early stopping callback here\n",
    ")"
   ]
  },
  {
   "cell_type": "code",
   "execution_count": null,
   "metadata": {
    "colab": {
     "base_uri": "https://localhost:8080/"
    },
    "id": "1af9107a",
    "outputId": "71a22cbd-1090-4e46-c020-969742af546c"
   },
   "outputs": [],
   "source": [
    "# Evaluate Model\n",
    "eval_results = urdu_model.evaluate(X_test, y_test)\n",
    "print(f\"Test Loss: {eval_results[0]}, Test Accuracy: {eval_results[1]}\")"
   ]
  },
  {
   "cell_type": "code",
   "execution_count": null,
   "metadata": {
    "colab": {
     "base_uri": "https://localhost:8080/"
    },
    "id": "4f9d108d",
    "outputId": "287971fb-3012-469b-d615-c36e2e3ff861"
   },
   "outputs": [],
   "source": [
    "# Predictions and Metrics\n",
    "y_pred = (urdu_model.predict(X_test) > 0.5).astype(\"int32\")\n",
    "print(\"Accuracy:\", accuracy_score(y_test, y_pred))\n",
    "print(\"Precision:\", precision_score(y_test, y_pred))\n",
    "print(\"Recall:\", recall_score(y_test, y_pred))\n",
    "print(\"F1 Score:\", f1_score(y_test, y_pred))"
   ]
  },
  {
   "cell_type": "code",
   "execution_count": null,
   "metadata": {
    "colab": {
     "base_uri": "https://localhost:8080/",
     "height": 483
    },
    "id": "4fcf8b74",
    "outputId": "241a2a18-86bb-4f35-e1e9-593f0648d5b5"
   },
   "outputs": [],
   "source": [
    "# Plot training & validation accuracy values\n",
    "plt.figure(figsize=(10, 5))\n",
    "plt.plot(history.history['accuracy'])\n",
    "plt.plot(history.history['val_accuracy'])\n",
    "plt.title('Model accuracy')\n",
    "plt.ylabel('Accuracy')\n",
    "plt.xlabel('Epoch')\n",
    "plt.legend(['Train', 'Validation'], loc='upper left')\n",
    "plt.show()"
   ]
  },
  {
   "cell_type": "code",
   "execution_count": null,
   "metadata": {
    "colab": {
     "base_uri": "https://localhost:8080/",
     "height": 484
    },
    "id": "0b23330f",
    "outputId": "2b760680-d538-47e9-b30b-102e57f0289b"
   },
   "outputs": [],
   "source": [
    "# Plot training & validation loss values\n",
    "plt.figure(figsize=(10, 5))\n",
    "plt.plot(history.history['loss'])\n",
    "plt.plot(history.history['val_loss'])\n",
    "plt.title('Model loss')\n",
    "plt.ylabel('Loss')\n",
    "plt.xlabel('Epoch')\n",
    "plt.legend(['Train', 'Validation'], loc='upper left')\n",
    "plt.show()"
   ]
  },
  {
   "cell_type": "code",
   "execution_count": null,
   "metadata": {
    "colab": {
     "base_uri": "https://localhost:8080/",
     "height": 564
    },
    "id": "9445d8e1",
    "outputId": "398e1bcd-ce65-4c9e-b29d-8c0d1d46679a"
   },
   "outputs": [],
   "source": [
    "cm = confusion_matrix(y_test, y_pred)\n",
    "\n",
    "plt.figure(figsize=(8, 6))\n",
    "sns.heatmap(cm, annot=True, fmt='d', cmap='Blues', cbar=False)\n",
    "plt.title('Confusion Matrix')\n",
    "plt.xlabel('Predicted Label')\n",
    "plt.ylabel('True Label')\n",
    "plt.show()"
   ]
  },
  {
   "cell_type": "code",
   "execution_count": null,
   "metadata": {
    "colab": {
     "base_uri": "https://localhost:8080/",
     "height": 545
    },
    "id": "91dd079e",
    "outputId": "6bebe136-06fd-4b18-8130-260ae912ee0e"
   },
   "outputs": [],
   "source": [
    "report = classification_report(y_test, y_pred, output_dict=True)\n",
    "report_df = pd.DataFrame(report).transpose()\n",
    "\n",
    "plt.figure(figsize=(10, 6))\n",
    "sns.heatmap(report_df[:-3].drop(columns=['support']), annot=True, cmap='viridis', fmt=\".2f\")  # Exclude support and averages\n",
    "plt.title('Classification Report')\n",
    "plt.show()"
   ]
  },
  {
   "cell_type": "code",
   "execution_count": null,
   "metadata": {
    "id": "66d0edb1"
   },
   "outputs": [],
   "source": [
    "urdu_model.save(f\"Bi-LSTM_model.keras\")"
   ]
  },
  {
   "cell_type": "markdown",
   "metadata": {
    "id": "NVGm4nhJ_jIX"
   },
   "source": [
    "Testing with TRAIN DATASET"
   ]
  },
  {
   "cell_type": "code",
   "execution_count": null,
   "metadata": {
    "colab": {
     "base_uri": "https://localhost:8080/"
    },
    "id": "Dej7q7T3_jIX",
    "outputId": "002a06f5-66a8-4962-b34a-8c706514aefd"
   },
   "outputs": [],
   "source": [
    "# Evaluate Model\n",
    "eval_results = urdu_model.evaluate(xx_test, yy_test)\n",
    "print(f\"Test Loss: {eval_results[0]}, Test Accuracy: {eval_results[1]}\")\n",
    "# Predictions and Metrics\n",
    "y_pred = (urdu_model.predict(xx_test) > 0.5).astype(\"int32\")\n",
    "print(\"Accuracy:\", accuracy_score(yy_test, y_pred))\n",
    "print(\"Precision:\", precision_score(yy_test, y_pred))\n",
    "print(\"Recall:\", recall_score(yy_test, y_pred))\n",
    "print(\"F1 Score:\", f1_score(yy_test, y_pred))"
   ]
  },
  {
   "cell_type": "markdown",
   "metadata": {
    "id": "8ec455cb"
   },
   "source": [
    "# GRU"
   ]
  },
  {
   "cell_type": "code",
   "execution_count": null,
   "metadata": {
    "id": "64345fd1"
   },
   "outputs": [],
   "source": [
    "# Define LSTM Model\n",
    "def build_model(embedding_matrix):\n",
    "    model = Sequential([\n",
    "        Embedding(input_dim=embedding_matrix.shape[0], output_dim=embedding_matrix.shape[1], weights=[embedding_matrix], trainable=True, input_length=maxlen),\n",
    "        Attention(return_sequences=True),\n",
    "        GRU(units=64, dropout=0.2, recurrent_dropout=0.0, return_sequences=False),\n",
    "        Dense(64, activation='relu'),\n",
    "        Dense(32, activation='relu'),\n",
    "        Dense(16, activation='relu'),\n",
    "        Dense(1, activation='sigmoid')\n",
    "    ])\n",
    "    model.build((None, maxlen))  # Build the model with input shape\n",
    "    model.compile(optimizer='adam', loss='binary_crossentropy', metrics=['accuracy'])\n",
    "    return model"
   ]
  },
  {
   "cell_type": "code",
   "execution_count": null,
   "metadata": {
    "colab": {
     "base_uri": "https://localhost:8080/",
     "height": 376
    },
    "id": "633dc130",
    "outputId": "8b23a2ec-9e9c-40ed-97b6-8c3733002230"
   },
   "outputs": [],
   "source": [
    "# Build and Train Model\n",
    "urdu_model = build_model(fastext_embedding_matrix)\n",
    "urdu_model.summary()"
   ]
  },
  {
   "cell_type": "code",
   "execution_count": null,
   "metadata": {
    "colab": {
     "base_uri": "https://localhost:8080/"
    },
    "id": "ffb546d3",
    "outputId": "551102c5-c513-4a25-b0e4-fdfc98d822f8"
   },
   "outputs": [],
   "source": [
    "history = urdu_model.fit(\n",
    "    X_train, y_train,\n",
    "    validation_split=0.2,\n",
    "    epochs=500,\n",
    "    batch_size=32,\n",
    "    callbacks=[early_stopping]  # Add the early stopping callback here\n",
    ")"
   ]
  },
  {
   "cell_type": "code",
   "execution_count": null,
   "metadata": {
    "colab": {
     "base_uri": "https://localhost:8080/"
    },
    "id": "47d25c64",
    "outputId": "bc09914d-6d5d-4c6c-8635-fd2b9eb70e55"
   },
   "outputs": [],
   "source": [
    "# Evaluate Model\n",
    "eval_results = urdu_model.evaluate(X_test, y_test)\n",
    "print(f\"Test Loss: {eval_results[0]}, Test Accuracy: {eval_results[1]}\")"
   ]
  },
  {
   "cell_type": "code",
   "execution_count": null,
   "metadata": {
    "colab": {
     "base_uri": "https://localhost:8080/"
    },
    "id": "0360682b",
    "outputId": "e2d3e640-47e9-4df2-8d11-72fa26d5aec4"
   },
   "outputs": [],
   "source": [
    "# Predictions and Metrics\n",
    "y_pred = (urdu_model.predict(X_test) > 0.5).astype(\"int32\")\n",
    "print(\"Accuracy:\", accuracy_score(y_test, y_pred))\n",
    "print(\"Precision:\", precision_score(y_test, y_pred))\n",
    "print(\"Recall:\", recall_score(y_test, y_pred))\n",
    "print(\"F1 Score:\", f1_score(y_test, y_pred))"
   ]
  },
  {
   "cell_type": "code",
   "execution_count": null,
   "metadata": {
    "colab": {
     "base_uri": "https://localhost:8080/",
     "height": 474
    },
    "id": "91d4ca9a",
    "outputId": "2cb270e6-a0fc-431a-8e21-41be246f345a"
   },
   "outputs": [],
   "source": [
    "# Plot training & validation accuracy values\n",
    "plt.figure(figsize=(10, 5))\n",
    "plt.plot(history.history['accuracy'])\n",
    "plt.plot(history.history['val_accuracy'])\n",
    "plt.title('Model accuracy')\n",
    "plt.ylabel('Accuracy')\n",
    "plt.xlabel('Epoch')\n",
    "plt.legend(['Train', 'Validation'], loc='upper left')\n",
    "plt.show()"
   ]
  },
  {
   "cell_type": "code",
   "execution_count": null,
   "metadata": {
    "colab": {
     "base_uri": "https://localhost:8080/",
     "height": 470
    },
    "id": "d8282862",
    "outputId": "b8a2d57e-120b-4ae3-a634-a0e3a29e3e0d"
   },
   "outputs": [],
   "source": [
    "# Plot training & validation loss values\n",
    "plt.figure(figsize=(10, 5))\n",
    "plt.plot(history.history['loss'])\n",
    "plt.plot(history.history['val_loss'])\n",
    "plt.title('Model loss')\n",
    "plt.ylabel('Loss')\n",
    "plt.xlabel('Epoch')\n",
    "plt.legend(['Train', 'Validation'], loc='upper left')\n",
    "plt.show()"
   ]
  },
  {
   "cell_type": "code",
   "execution_count": null,
   "metadata": {
    "colab": {
     "base_uri": "https://localhost:8080/",
     "height": 564
    },
    "id": "647d7a98",
    "outputId": "80cbea1f-8768-4c26-f208-489293b0ee94"
   },
   "outputs": [],
   "source": [
    "cm = confusion_matrix(y_test, y_pred)\n",
    "\n",
    "plt.figure(figsize=(8, 6))\n",
    "sns.heatmap(cm, annot=True, fmt='d', cmap='Blues', cbar=False)\n",
    "plt.title('Confusion Matrix')\n",
    "plt.xlabel('Predicted Label')\n",
    "plt.ylabel('True Label')\n",
    "plt.show()"
   ]
  },
  {
   "cell_type": "code",
   "execution_count": null,
   "metadata": {
    "colab": {
     "base_uri": "https://localhost:8080/",
     "height": 669
    },
    "id": "4721a79b",
    "outputId": "b9624e3d-259e-450c-dfd3-24db29ac8c4e"
   },
   "outputs": [],
   "source": [
    "report = classification_report(y_test, y_pred, output_dict=True)\n",
    "report_df = pd.DataFrame(report).transpose()\n",
    "\n",
    "plt.figure(figsize=(10, 6))\n",
    "sns.heatmap(report_df[:-3].drop(columns=['support']), annot=True, cmap='viridis', fmt=\".2f\")  # Exclude support and averages\n",
    "plt.title('Classification Report')\n",
    "plt.show()"
   ]
  },
  {
   "cell_type": "code",
   "execution_count": null,
   "metadata": {
    "id": "af56c355"
   },
   "outputs": [],
   "source": [
    "urdu_model.save(f\"GRU_model.keras\")"
   ]
  },
  {
   "cell_type": "markdown",
   "metadata": {
    "id": "YV4mwlTT_jIb"
   },
   "source": [
    "Testing with TRAIN DATASET"
   ]
  },
  {
   "cell_type": "code",
   "execution_count": null,
   "metadata": {
    "colab": {
     "base_uri": "https://localhost:8080/"
    },
    "id": "vZ56l9Fh_jIc",
    "outputId": "d376f9f9-a568-4944-9506-f4ef3d5d8760"
   },
   "outputs": [],
   "source": [
    "# Evaluate Model\n",
    "eval_results = urdu_model.evaluate(xx_test, yy_test)\n",
    "print(f\"Test Loss: {eval_results[0]}, Test Accuracy: {eval_results[1]}\")\n",
    "# Predictions and Metrics\n",
    "y_pred = (urdu_model.predict(xx_test) > 0.5).astype(\"int32\")\n",
    "print(\"Accuracy:\", accuracy_score(yy_test, y_pred))\n",
    "print(\"Precision:\", precision_score(yy_test, y_pred))\n",
    "print(\"Recall:\", recall_score(yy_test, y_pred))\n",
    "print(\"F1 Score:\", f1_score(yy_test, y_pred))"
   ]
  },
  {
   "cell_type": "markdown",
   "metadata": {
    "id": "76e1cada"
   },
   "source": [
    "# Bi-GRU"
   ]
  },
  {
   "cell_type": "code",
   "execution_count": null,
   "metadata": {
    "id": "d6dba8b0"
   },
   "outputs": [],
   "source": [
    "# Define LSTM Model\n",
    "def build_model(embedding_matrix):\n",
    "    model = Sequential([\n",
    "        Embedding(input_dim=embedding_matrix.shape[0], output_dim=embedding_matrix.shape[1], weights=[embedding_matrix], trainable=True, input_length=maxlen),\n",
    "        Attention(return_sequences=True),\n",
    "        Bidirectional(GRU(units=64, dropout=0.2, recurrent_dropout=0.0, return_sequences=False)),\n",
    "        Dense(64, activation='relu'),\n",
    "        Dense(32, activation='relu'),\n",
    "        Dense(16, activation='relu'),\n",
    "        Dense(1, activation='sigmoid')\n",
    "    ])\n",
    "    model.build((None, maxlen))  # Build the model with input shape\n",
    "    model.compile(optimizer='adam', loss='binary_crossentropy', metrics=['accuracy'])\n",
    "    return model"
   ]
  },
  {
   "cell_type": "code",
   "execution_count": null,
   "metadata": {
    "colab": {
     "base_uri": "https://localhost:8080/",
     "height": 376
    },
    "id": "d7b94b0e",
    "outputId": "651b5c22-00d0-43da-8aa3-ed8136c855e0"
   },
   "outputs": [],
   "source": [
    "# Build and Train Model\n",
    "urdu_model = build_model(fastext_embedding_matrix)\n",
    "urdu_model.summary()"
   ]
  },
  {
   "cell_type": "code",
   "execution_count": null,
   "metadata": {
    "colab": {
     "base_uri": "https://localhost:8080/"
    },
    "id": "19401ee4",
    "outputId": "d5febb28-4626-4677-de51-ad8c9dc206c4"
   },
   "outputs": [],
   "source": [
    "history = urdu_model.fit(\n",
    "    X_train, y_train,\n",
    "    validation_split=0.2,\n",
    "    epochs=500,\n",
    "    batch_size=32,\n",
    "    callbacks=[early_stopping]  # Add the early stopping callback here\n",
    ")"
   ]
  },
  {
   "cell_type": "code",
   "execution_count": null,
   "metadata": {
    "colab": {
     "base_uri": "https://localhost:8080/"
    },
    "id": "aafeaeb5",
    "outputId": "aba71a4a-d539-4037-aeb2-31fc126815d0"
   },
   "outputs": [],
   "source": [
    "# Evaluate Model\n",
    "eval_results = urdu_model.evaluate(X_test, y_test)\n",
    "print(f\"Test Loss: {eval_results[0]}, Test Accuracy: {eval_results[1]}\")"
   ]
  },
  {
   "cell_type": "code",
   "execution_count": null,
   "metadata": {
    "colab": {
     "base_uri": "https://localhost:8080/"
    },
    "id": "e476f080",
    "outputId": "ac891470-892b-4565-da26-3114f753f138"
   },
   "outputs": [],
   "source": [
    "# Predictions and Metrics\n",
    "y_pred = (urdu_model.predict(X_test) > 0.5).astype(\"int32\")\n",
    "print(\"Accuracy:\", accuracy_score(y_test, y_pred))\n",
    "print(\"Precision:\", precision_score(y_test, y_pred))\n",
    "print(\"Recall:\", recall_score(y_test, y_pred))\n",
    "print(\"F1 Score:\", f1_score(y_test, y_pred))"
   ]
  },
  {
   "cell_type": "code",
   "execution_count": null,
   "metadata": {
    "colab": {
     "base_uri": "https://localhost:8080/",
     "height": 483
    },
    "id": "de90cc6d",
    "outputId": "103b8535-01c3-425f-b5e9-fa16a3b52eeb"
   },
   "outputs": [],
   "source": [
    "# Plot training & validation accuracy values\n",
    "plt.figure(figsize=(10, 5))\n",
    "plt.plot(history.history['accuracy'])\n",
    "plt.plot(history.history['val_accuracy'])\n",
    "plt.title('Model accuracy')\n",
    "plt.ylabel('Accuracy')\n",
    "plt.xlabel('Epoch')\n",
    "plt.legend(['Train', 'Validation'], loc='upper left')\n",
    "plt.show()"
   ]
  },
  {
   "cell_type": "code",
   "execution_count": null,
   "metadata": {
    "colab": {
     "base_uri": "https://localhost:8080/",
     "height": 484
    },
    "id": "db981434",
    "outputId": "f489b7f3-ece4-425d-962a-c6b4a97e0b9d"
   },
   "outputs": [],
   "source": [
    "# Plot training & validation loss values\n",
    "plt.figure(figsize=(10, 5))\n",
    "plt.plot(history.history['loss'])\n",
    "plt.plot(history.history['val_loss'])\n",
    "plt.title('Model loss')\n",
    "plt.ylabel('Loss')\n",
    "plt.xlabel('Epoch')\n",
    "plt.legend(['Train', 'Validation'], loc='upper left')\n",
    "plt.show()"
   ]
  },
  {
   "cell_type": "code",
   "execution_count": null,
   "metadata": {
    "colab": {
     "base_uri": "https://localhost:8080/",
     "height": 564
    },
    "id": "d51ad203",
    "outputId": "58c64b9d-45a5-4e90-d469-2414cf68b5af"
   },
   "outputs": [],
   "source": [
    "cm = confusion_matrix(y_test, y_pred)\n",
    "\n",
    "plt.figure(figsize=(8, 6))\n",
    "sns.heatmap(cm, annot=True, fmt='d', cmap='Blues', cbar=False)\n",
    "plt.title('Confusion Matrix')\n",
    "plt.xlabel('Predicted Label')\n",
    "plt.ylabel('True Label')\n",
    "plt.show()"
   ]
  },
  {
   "cell_type": "code",
   "execution_count": null,
   "metadata": {
    "colab": {
     "base_uri": "https://localhost:8080/",
     "height": 545
    },
    "id": "d2f122b9",
    "outputId": "2cb8cfa2-b804-4f6a-f902-d44fac15d726"
   },
   "outputs": [],
   "source": [
    "report = classification_report(y_test, y_pred, output_dict=True)\n",
    "report_df = pd.DataFrame(report).transpose()\n",
    "\n",
    "plt.figure(figsize=(10, 6))\n",
    "sns.heatmap(report_df[:-3].drop(columns=['support']), annot=True, cmap='viridis', fmt=\".2f\")  # Exclude support and averages\n",
    "plt.title('Classification Report')\n",
    "plt.show()"
   ]
  },
  {
   "cell_type": "code",
   "execution_count": null,
   "metadata": {
    "id": "9f1953f4"
   },
   "outputs": [],
   "source": [
    "urdu_model.save(f\"Bi-GRU_model.keras\")"
   ]
  },
  {
   "cell_type": "markdown",
   "metadata": {
    "id": "JhYdacWS_jIi"
   },
   "source": [
    "Testing with TRAIN DATASET"
   ]
  },
  {
   "cell_type": "code",
   "execution_count": null,
   "metadata": {
    "colab": {
     "base_uri": "https://localhost:8080/"
    },
    "id": "HF5RhMJ2_jIi",
    "outputId": "da9d1aaf-6b6b-49db-f112-f2a8897ad5e1"
   },
   "outputs": [],
   "source": [
    "# Evaluate Model\n",
    "eval_results = urdu_model.evaluate(xx_test, yy_test)\n",
    "print(f\"Test Loss: {eval_results[0]}, Test Accuracy: {eval_results[1]}\")\n",
    "# Predictions and Metrics\n",
    "y_pred = (urdu_model.predict(xx_test) > 0.5).astype(\"int32\")\n",
    "print(\"Accuracy:\", accuracy_score(yy_test, y_pred))\n",
    "print(\"Precision:\", precision_score(yy_test, y_pred))\n",
    "print(\"Recall:\", recall_score(yy_test, y_pred))\n",
    "print(\"F1 Score:\", f1_score(yy_test, y_pred))"
   ]
  }
 ],
 "metadata": {
  "accelerator": "GPU",
  "colab": {
   "gpuType": "T4",
   "provenance": []
  },
  "kaggle": {
   "accelerator": "gpu",
   "dataSources": [
    {
     "datasetId": 6833965,
     "sourceId": 10981257,
     "sourceType": "datasetVersion"
    }
   ],
   "dockerImageVersionId": 30918,
   "isGpuEnabled": true,
   "isInternetEnabled": true,
   "language": "python",
   "sourceType": "notebook"
  },
  "kernelspec": {
   "display_name": "base",
   "language": "python",
   "name": "python3"
  },
  "language_info": {
   "codemirror_mode": {
    "name": "ipython",
    "version": 3
   },
   "file_extension": ".py",
   "mimetype": "text/x-python",
   "name": "python",
   "nbconvert_exporter": "python",
   "pygments_lexer": "ipython3",
   "version": "3.12.4"
  },
  "papermill": {
   "default_parameters": {},
   "duration": 63.007015,
   "end_time": "2024-12-11T14:26:12.133979",
   "environment_variables": {},
   "exception": null,
   "input_path": "__notebook__.ipynb",
   "output_path": "__notebook__.ipynb",
   "parameters": {},
   "start_time": "2024-12-11T14:25:09.126964",
   "version": "2.6.0"
  }
 },
 "nbformat": 4,
 "nbformat_minor": 4
}
