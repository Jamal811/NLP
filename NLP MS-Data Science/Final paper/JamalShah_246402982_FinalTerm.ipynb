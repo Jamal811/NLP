{
  "cells": [
    {
      "cell_type": "code",
      "execution_count": 90,
      "metadata": {
        "id": "slF5oOLdEVZF"
      },
      "outputs": [],
      "source": [
        "import pandas as pd\n",
        "import re\n",
        "from nltk.corpus import stopwords\n",
        "import matplotlib.pyplot as plt\n",
        "import seaborn as sns\n",
        "import string\n",
        "from tensorflow.keras.preprocessing.text import Tokenizer\n",
        "from tensorflow.keras.preprocessing.sequence import pad_sequences\n",
        "from sklearn.utils import resample\n",
        "from gensim.models import Word2Vec\n",
        "import gensim.downloader as api\n",
        "import numpy as np\n",
        "import gensim\n",
        "import zipfile\n",
        "import os\n",
        "from tensorflow.keras.models import Sequential\n",
        "from tensorflow.keras.layers import Layer, Input, LSTM, GRU, Dense, Embedding, Dropout, SpatialDropout1D, Bidirectional\n",
        "from tensorflow.keras import backend as K\n",
        "from kerastuner import HyperModel, RandomSearch\n",
        "from tensorflow.keras.callbacks import EarlyStopping\n",
        "from tensorflow.keras.optimizers import Adam\n",
        "from sklearn.model_selection import train_test_split\n",
        "from tensorflow.keras.utils import to_categorical\n",
        "from tensorflow.keras.preprocessing.sequence import pad_sequences\n",
        "from sklearn.metrics import accuracy_score, precision_score, recall_score, f1_score"
      ]
    },
    {
      "cell_type": "markdown",
      "metadata": {},
      "source": [
        "keras-tuner for hyper parameter tunning "
      ]
    },
    {
      "cell_type": "code",
      "execution_count": 74,
      "metadata": {
        "colab": {
          "base_uri": "https://localhost:8080/"
        },
        "id": "ShoOr-yT-4DT",
        "outputId": "aa8f6bd7-8cf8-4620-f699-9e0501f6d299"
      },
      "outputs": [
        {
          "name": "stdout",
          "output_type": "stream",
          "text": [
            "Collecting keras-tuner\n",
            "  Downloading keras_tuner-1.4.7-py3-none-any.whl.metadata (5.4 kB)\n",
            "Requirement already satisfied: keras in /usr/local/lib/python3.11/dist-packages (from keras-tuner) (3.8.0)\n",
            "Requirement already satisfied: packaging in /usr/local/lib/python3.11/dist-packages (from keras-tuner) (24.2)\n",
            "Requirement already satisfied: requests in /usr/local/lib/python3.11/dist-packages (from keras-tuner) (2.32.3)\n",
            "Collecting kt-legacy (from keras-tuner)\n",
            "  Downloading kt_legacy-1.0.5-py3-none-any.whl.metadata (221 bytes)\n",
            "Requirement already satisfied: absl-py in /usr/local/lib/python3.11/dist-packages (from keras->keras-tuner) (1.4.0)\n",
            "Requirement already satisfied: numpy in /usr/local/lib/python3.11/dist-packages (from keras->keras-tuner) (1.26.4)\n",
            "Requirement already satisfied: rich in /usr/local/lib/python3.11/dist-packages (from keras->keras-tuner) (13.9.4)\n",
            "Requirement already satisfied: namex in /usr/local/lib/python3.11/dist-packages (from keras->keras-tuner) (0.0.8)\n",
            "Requirement already satisfied: h5py in /usr/local/lib/python3.11/dist-packages (from keras->keras-tuner) (3.12.1)\n",
            "Requirement already satisfied: optree in /usr/local/lib/python3.11/dist-packages (from keras->keras-tuner) (0.14.0)\n",
            "Requirement already satisfied: ml-dtypes in /usr/local/lib/python3.11/dist-packages (from keras->keras-tuner) (0.4.1)\n",
            "Requirement already satisfied: charset-normalizer<4,>=2 in /usr/local/lib/python3.11/dist-packages (from requests->keras-tuner) (3.4.1)\n",
            "Requirement already satisfied: idna<4,>=2.5 in /usr/local/lib/python3.11/dist-packages (from requests->keras-tuner) (3.10)\n",
            "Requirement already satisfied: urllib3<3,>=1.21.1 in /usr/local/lib/python3.11/dist-packages (from requests->keras-tuner) (2.3.0)\n",
            "Requirement already satisfied: certifi>=2017.4.17 in /usr/local/lib/python3.11/dist-packages (from requests->keras-tuner) (2024.12.14)\n",
            "Requirement already satisfied: typing-extensions>=4.5.0 in /usr/local/lib/python3.11/dist-packages (from optree->keras->keras-tuner) (4.12.2)\n",
            "Requirement already satisfied: markdown-it-py>=2.2.0 in /usr/local/lib/python3.11/dist-packages (from rich->keras->keras-tuner) (3.0.0)\n",
            "Requirement already satisfied: pygments<3.0.0,>=2.13.0 in /usr/local/lib/python3.11/dist-packages (from rich->keras->keras-tuner) (2.18.0)\n",
            "Requirement already satisfied: mdurl~=0.1 in /usr/local/lib/python3.11/dist-packages (from markdown-it-py>=2.2.0->rich->keras->keras-tuner) (0.1.2)\n",
            "Downloading keras_tuner-1.4.7-py3-none-any.whl (129 kB)\n",
            "\u001b[2K   \u001b[90m━━━━━━━━━━━━━━━━━━━━━━━━━━━━━━━━━━━━━━━━\u001b[0m \u001b[32m129.1/129.1 kB\u001b[0m \u001b[31m10.5 MB/s\u001b[0m eta \u001b[36m0:00:00\u001b[0m\n",
            "\u001b[?25hDownloading kt_legacy-1.0.5-py3-none-any.whl (9.6 kB)\n",
            "Installing collected packages: kt-legacy, keras-tuner\n",
            "Successfully installed keras-tuner-1.4.7 kt-legacy-1.0.5\n"
          ]
        }
      ],
      "source": [
        "!pip install keras-tuner"
      ]
    },
    {
      "cell_type": "code",
      "execution_count": 2,
      "metadata": {
        "colab": {
          "base_uri": "https://localhost:8080/"
        },
        "id": "HDc7E5gKGDI9",
        "outputId": "5c9243c0-c587-4a7e-847c-64375bf7f4cf"
      },
      "outputs": [
        {
          "name": "stderr",
          "output_type": "stream",
          "text": [
            "[nltk_data] Downloading package stopwords to /root/nltk_data...\n",
            "[nltk_data]   Unzipping corpora/stopwords.zip.\n"
          ]
        },
        {
          "data": {
            "text/plain": [
              "True"
            ]
          },
          "execution_count": 2,
          "metadata": {},
          "output_type": "execute_result"
        }
      ],
      "source": [
        "# Download NLTK stopwords if not already downloaded\n",
        "import nltk\n",
        "nltk.download('stopwords')"
      ]
    },
    {
      "cell_type": "code",
      "execution_count": 3,
      "metadata": {
        "colab": {
          "base_uri": "https://localhost:8080/",
          "height": 310
        },
        "id": "W-ImOilqE9-Y",
        "outputId": "08a8473e-b946-4509-b57a-361a80ff8c9b"
      },
      "outputs": [
        {
          "data": {
            "application/vnd.google.colaboratory.intrinsic+json": {
              "summary": "{\n  \"name\": \"data\",\n  \"rows\": 24783,\n  \"fields\": [\n    {\n      \"column\": \"Unnamed: 0\",\n      \"properties\": {\n        \"dtype\": \"number\",\n        \"std\": 7299,\n        \"min\": 0,\n        \"max\": 25296,\n        \"num_unique_values\": 24783,\n        \"samples\": [\n          2326,\n          16283,\n          19362\n        ],\n        \"semantic_type\": \"\",\n        \"description\": \"\"\n      }\n    },\n    {\n      \"column\": \"count\",\n      \"properties\": {\n        \"dtype\": \"number\",\n        \"std\": 0,\n        \"min\": 3,\n        \"max\": 9,\n        \"num_unique_values\": 5,\n        \"samples\": [\n          6,\n          7,\n          9\n        ],\n        \"semantic_type\": \"\",\n        \"description\": \"\"\n      }\n    },\n    {\n      \"column\": \"hate_speech\",\n      \"properties\": {\n        \"dtype\": \"number\",\n        \"std\": 0,\n        \"min\": 0,\n        \"max\": 7,\n        \"num_unique_values\": 8,\n        \"samples\": [\n          1,\n          6,\n          0\n        ],\n        \"semantic_type\": \"\",\n        \"description\": \"\"\n      }\n    },\n    {\n      \"column\": \"offensive_language\",\n      \"properties\": {\n        \"dtype\": \"number\",\n        \"std\": 1,\n        \"min\": 0,\n        \"max\": 9,\n        \"num_unique_values\": 10,\n        \"samples\": [\n          8,\n          3,\n          7\n        ],\n        \"semantic_type\": \"\",\n        \"description\": \"\"\n      }\n    },\n    {\n      \"column\": \"neither\",\n      \"properties\": {\n        \"dtype\": \"number\",\n        \"std\": 1,\n        \"min\": 0,\n        \"max\": 9,\n        \"num_unique_values\": 10,\n        \"samples\": [\n          8,\n          0,\n          4\n        ],\n        \"semantic_type\": \"\",\n        \"description\": \"\"\n      }\n    },\n    {\n      \"column\": \"class\",\n      \"properties\": {\n        \"dtype\": \"number\",\n        \"std\": 0,\n        \"min\": 0,\n        \"max\": 2,\n        \"num_unique_values\": 3,\n        \"samples\": [\n          2,\n          1,\n          0\n        ],\n        \"semantic_type\": \"\",\n        \"description\": \"\"\n      }\n    },\n    {\n      \"column\": \"tweet\",\n      \"properties\": {\n        \"dtype\": \"string\",\n        \"num_unique_values\": 24783,\n        \"samples\": [\n          \"934 8616\\ni got a missed call from yo bitch\",\n          \"RT @KINGTUNCHI_: Fucking with a bad bitch you gone need some money lil homie!\",\n          \"RT @eanahS__: @1inkkofrosess lol my credit ain't no where near good , but I know the right man for the job .. that ho nice though!\"\n        ],\n        \"semantic_type\": \"\",\n        \"description\": \"\"\n      }\n    }\n  ]\n}",
              "type": "dataframe",
              "variable_name": "data"
            },
            "text/html": [
              "\n",
              "  <div id=\"df-bbc2d364-15f3-456b-9360-0713a08c0150\" class=\"colab-df-container\">\n",
              "    <div>\n",
              "<style scoped>\n",
              "    .dataframe tbody tr th:only-of-type {\n",
              "        vertical-align: middle;\n",
              "    }\n",
              "\n",
              "    .dataframe tbody tr th {\n",
              "        vertical-align: top;\n",
              "    }\n",
              "\n",
              "    .dataframe thead th {\n",
              "        text-align: right;\n",
              "    }\n",
              "</style>\n",
              "<table border=\"1\" class=\"dataframe\">\n",
              "  <thead>\n",
              "    <tr style=\"text-align: right;\">\n",
              "      <th></th>\n",
              "      <th>Unnamed: 0</th>\n",
              "      <th>count</th>\n",
              "      <th>hate_speech</th>\n",
              "      <th>offensive_language</th>\n",
              "      <th>neither</th>\n",
              "      <th>class</th>\n",
              "      <th>tweet</th>\n",
              "    </tr>\n",
              "  </thead>\n",
              "  <tbody>\n",
              "    <tr>\n",
              "      <th>0</th>\n",
              "      <td>0</td>\n",
              "      <td>3</td>\n",
              "      <td>0</td>\n",
              "      <td>0</td>\n",
              "      <td>3</td>\n",
              "      <td>2</td>\n",
              "      <td>!!! RT @mayasolovely: As a woman you shouldn't...</td>\n",
              "    </tr>\n",
              "    <tr>\n",
              "      <th>1</th>\n",
              "      <td>1</td>\n",
              "      <td>3</td>\n",
              "      <td>0</td>\n",
              "      <td>3</td>\n",
              "      <td>0</td>\n",
              "      <td>1</td>\n",
              "      <td>!!!!! RT @mleew17: boy dats cold...tyga dwn ba...</td>\n",
              "    </tr>\n",
              "    <tr>\n",
              "      <th>2</th>\n",
              "      <td>2</td>\n",
              "      <td>3</td>\n",
              "      <td>0</td>\n",
              "      <td>3</td>\n",
              "      <td>0</td>\n",
              "      <td>1</td>\n",
              "      <td>!!!!!!! RT @UrKindOfBrand Dawg!!!! RT @80sbaby...</td>\n",
              "    </tr>\n",
              "    <tr>\n",
              "      <th>3</th>\n",
              "      <td>3</td>\n",
              "      <td>3</td>\n",
              "      <td>0</td>\n",
              "      <td>2</td>\n",
              "      <td>1</td>\n",
              "      <td>1</td>\n",
              "      <td>!!!!!!!!! RT @C_G_Anderson: @viva_based she lo...</td>\n",
              "    </tr>\n",
              "    <tr>\n",
              "      <th>4</th>\n",
              "      <td>4</td>\n",
              "      <td>6</td>\n",
              "      <td>0</td>\n",
              "      <td>6</td>\n",
              "      <td>0</td>\n",
              "      <td>1</td>\n",
              "      <td>!!!!!!!!!!!!! RT @ShenikaRoberts: The shit you...</td>\n",
              "    </tr>\n",
              "  </tbody>\n",
              "</table>\n",
              "</div>\n",
              "    <div class=\"colab-df-buttons\">\n",
              "\n",
              "  <div class=\"colab-df-container\">\n",
              "    <button class=\"colab-df-convert\" onclick=\"convertToInteractive('df-bbc2d364-15f3-456b-9360-0713a08c0150')\"\n",
              "            title=\"Convert this dataframe to an interactive table.\"\n",
              "            style=\"display:none;\">\n",
              "\n",
              "  <svg xmlns=\"http://www.w3.org/2000/svg\" height=\"24px\" viewBox=\"0 -960 960 960\">\n",
              "    <path d=\"M120-120v-720h720v720H120Zm60-500h600v-160H180v160Zm220 220h160v-160H400v160Zm0 220h160v-160H400v160ZM180-400h160v-160H180v160Zm440 0h160v-160H620v160ZM180-180h160v-160H180v160Zm440 0h160v-160H620v160Z\"/>\n",
              "  </svg>\n",
              "    </button>\n",
              "\n",
              "  <style>\n",
              "    .colab-df-container {\n",
              "      display:flex;\n",
              "      gap: 12px;\n",
              "    }\n",
              "\n",
              "    .colab-df-convert {\n",
              "      background-color: #E8F0FE;\n",
              "      border: none;\n",
              "      border-radius: 50%;\n",
              "      cursor: pointer;\n",
              "      display: none;\n",
              "      fill: #1967D2;\n",
              "      height: 32px;\n",
              "      padding: 0 0 0 0;\n",
              "      width: 32px;\n",
              "    }\n",
              "\n",
              "    .colab-df-convert:hover {\n",
              "      background-color: #E2EBFA;\n",
              "      box-shadow: 0px 1px 2px rgba(60, 64, 67, 0.3), 0px 1px 3px 1px rgba(60, 64, 67, 0.15);\n",
              "      fill: #174EA6;\n",
              "    }\n",
              "\n",
              "    .colab-df-buttons div {\n",
              "      margin-bottom: 4px;\n",
              "    }\n",
              "\n",
              "    [theme=dark] .colab-df-convert {\n",
              "      background-color: #3B4455;\n",
              "      fill: #D2E3FC;\n",
              "    }\n",
              "\n",
              "    [theme=dark] .colab-df-convert:hover {\n",
              "      background-color: #434B5C;\n",
              "      box-shadow: 0px 1px 3px 1px rgba(0, 0, 0, 0.15);\n",
              "      filter: drop-shadow(0px 1px 2px rgba(0, 0, 0, 0.3));\n",
              "      fill: #FFFFFF;\n",
              "    }\n",
              "  </style>\n",
              "\n",
              "    <script>\n",
              "      const buttonEl =\n",
              "        document.querySelector('#df-bbc2d364-15f3-456b-9360-0713a08c0150 button.colab-df-convert');\n",
              "      buttonEl.style.display =\n",
              "        google.colab.kernel.accessAllowed ? 'block' : 'none';\n",
              "\n",
              "      async function convertToInteractive(key) {\n",
              "        const element = document.querySelector('#df-bbc2d364-15f3-456b-9360-0713a08c0150');\n",
              "        const dataTable =\n",
              "          await google.colab.kernel.invokeFunction('convertToInteractive',\n",
              "                                                    [key], {});\n",
              "        if (!dataTable) return;\n",
              "\n",
              "        const docLinkHtml = 'Like what you see? Visit the ' +\n",
              "          '<a target=\"_blank\" href=https://colab.research.google.com/notebooks/data_table.ipynb>data table notebook</a>'\n",
              "          + ' to learn more about interactive tables.';\n",
              "        element.innerHTML = '';\n",
              "        dataTable['output_type'] = 'display_data';\n",
              "        await google.colab.output.renderOutput(dataTable, element);\n",
              "        const docLink = document.createElement('div');\n",
              "        docLink.innerHTML = docLinkHtml;\n",
              "        element.appendChild(docLink);\n",
              "      }\n",
              "    </script>\n",
              "  </div>\n",
              "\n",
              "\n",
              "<div id=\"df-1b7b350e-1876-462f-a60a-758f8e9e3059\">\n",
              "  <button class=\"colab-df-quickchart\" onclick=\"quickchart('df-1b7b350e-1876-462f-a60a-758f8e9e3059')\"\n",
              "            title=\"Suggest charts\"\n",
              "            style=\"display:none;\">\n",
              "\n",
              "<svg xmlns=\"http://www.w3.org/2000/svg\" height=\"24px\"viewBox=\"0 0 24 24\"\n",
              "     width=\"24px\">\n",
              "    <g>\n",
              "        <path d=\"M19 3H5c-1.1 0-2 .9-2 2v14c0 1.1.9 2 2 2h14c1.1 0 2-.9 2-2V5c0-1.1-.9-2-2-2zM9 17H7v-7h2v7zm4 0h-2V7h2v10zm4 0h-2v-4h2v4z\"/>\n",
              "    </g>\n",
              "</svg>\n",
              "  </button>\n",
              "\n",
              "<style>\n",
              "  .colab-df-quickchart {\n",
              "      --bg-color: #E8F0FE;\n",
              "      --fill-color: #1967D2;\n",
              "      --hover-bg-color: #E2EBFA;\n",
              "      --hover-fill-color: #174EA6;\n",
              "      --disabled-fill-color: #AAA;\n",
              "      --disabled-bg-color: #DDD;\n",
              "  }\n",
              "\n",
              "  [theme=dark] .colab-df-quickchart {\n",
              "      --bg-color: #3B4455;\n",
              "      --fill-color: #D2E3FC;\n",
              "      --hover-bg-color: #434B5C;\n",
              "      --hover-fill-color: #FFFFFF;\n",
              "      --disabled-bg-color: #3B4455;\n",
              "      --disabled-fill-color: #666;\n",
              "  }\n",
              "\n",
              "  .colab-df-quickchart {\n",
              "    background-color: var(--bg-color);\n",
              "    border: none;\n",
              "    border-radius: 50%;\n",
              "    cursor: pointer;\n",
              "    display: none;\n",
              "    fill: var(--fill-color);\n",
              "    height: 32px;\n",
              "    padding: 0;\n",
              "    width: 32px;\n",
              "  }\n",
              "\n",
              "  .colab-df-quickchart:hover {\n",
              "    background-color: var(--hover-bg-color);\n",
              "    box-shadow: 0 1px 2px rgba(60, 64, 67, 0.3), 0 1px 3px 1px rgba(60, 64, 67, 0.15);\n",
              "    fill: var(--button-hover-fill-color);\n",
              "  }\n",
              "\n",
              "  .colab-df-quickchart-complete:disabled,\n",
              "  .colab-df-quickchart-complete:disabled:hover {\n",
              "    background-color: var(--disabled-bg-color);\n",
              "    fill: var(--disabled-fill-color);\n",
              "    box-shadow: none;\n",
              "  }\n",
              "\n",
              "  .colab-df-spinner {\n",
              "    border: 2px solid var(--fill-color);\n",
              "    border-color: transparent;\n",
              "    border-bottom-color: var(--fill-color);\n",
              "    animation:\n",
              "      spin 1s steps(1) infinite;\n",
              "  }\n",
              "\n",
              "  @keyframes spin {\n",
              "    0% {\n",
              "      border-color: transparent;\n",
              "      border-bottom-color: var(--fill-color);\n",
              "      border-left-color: var(--fill-color);\n",
              "    }\n",
              "    20% {\n",
              "      border-color: transparent;\n",
              "      border-left-color: var(--fill-color);\n",
              "      border-top-color: var(--fill-color);\n",
              "    }\n",
              "    30% {\n",
              "      border-color: transparent;\n",
              "      border-left-color: var(--fill-color);\n",
              "      border-top-color: var(--fill-color);\n",
              "      border-right-color: var(--fill-color);\n",
              "    }\n",
              "    40% {\n",
              "      border-color: transparent;\n",
              "      border-right-color: var(--fill-color);\n",
              "      border-top-color: var(--fill-color);\n",
              "    }\n",
              "    60% {\n",
              "      border-color: transparent;\n",
              "      border-right-color: var(--fill-color);\n",
              "    }\n",
              "    80% {\n",
              "      border-color: transparent;\n",
              "      border-right-color: var(--fill-color);\n",
              "      border-bottom-color: var(--fill-color);\n",
              "    }\n",
              "    90% {\n",
              "      border-color: transparent;\n",
              "      border-bottom-color: var(--fill-color);\n",
              "    }\n",
              "  }\n",
              "</style>\n",
              "\n",
              "  <script>\n",
              "    async function quickchart(key) {\n",
              "      const quickchartButtonEl =\n",
              "        document.querySelector('#' + key + ' button');\n",
              "      quickchartButtonEl.disabled = true;  // To prevent multiple clicks.\n",
              "      quickchartButtonEl.classList.add('colab-df-spinner');\n",
              "      try {\n",
              "        const charts = await google.colab.kernel.invokeFunction(\n",
              "            'suggestCharts', [key], {});\n",
              "      } catch (error) {\n",
              "        console.error('Error during call to suggestCharts:', error);\n",
              "      }\n",
              "      quickchartButtonEl.classList.remove('colab-df-spinner');\n",
              "      quickchartButtonEl.classList.add('colab-df-quickchart-complete');\n",
              "    }\n",
              "    (() => {\n",
              "      let quickchartButtonEl =\n",
              "        document.querySelector('#df-1b7b350e-1876-462f-a60a-758f8e9e3059 button');\n",
              "      quickchartButtonEl.style.display =\n",
              "        google.colab.kernel.accessAllowed ? 'block' : 'none';\n",
              "    })();\n",
              "  </script>\n",
              "</div>\n",
              "\n",
              "    </div>\n",
              "  </div>\n"
            ],
            "text/plain": [
              "   Unnamed: 0  count  hate_speech  offensive_language  neither  class  \\\n",
              "0           0      3            0                   0        3      2   \n",
              "1           1      3            0                   3        0      1   \n",
              "2           2      3            0                   3        0      1   \n",
              "3           3      3            0                   2        1      1   \n",
              "4           4      6            0                   6        0      1   \n",
              "\n",
              "                                               tweet  \n",
              "0  !!! RT @mayasolovely: As a woman you shouldn't...  \n",
              "1  !!!!! RT @mleew17: boy dats cold...tyga dwn ba...  \n",
              "2  !!!!!!! RT @UrKindOfBrand Dawg!!!! RT @80sbaby...  \n",
              "3  !!!!!!!!! RT @C_G_Anderson: @viva_based she lo...  \n",
              "4  !!!!!!!!!!!!! RT @ShenikaRoberts: The shit you...  "
            ]
          },
          "execution_count": 3,
          "metadata": {},
          "output_type": "execute_result"
        }
      ],
      "source": [
        "data = pd.read_csv('/content/labeled_data.csv')\n",
        "data.head()"
      ]
    },
    {
      "cell_type": "markdown",
      "metadata": {
        "id": "XDei9EUsIGT6"
      },
      "source": [
        "Q1:Write a Python function to remove stopwords, punctuation, special characters, and\n",
        "unwanted symbols from a given text corpus from the Hate Speech and Offensive Language\n",
        "dataset.(https://www.kaggle.com/datasets/mrmorj/hate-speech-and-offensive-language\n",
        "dataset)"
      ]
    },
    {
      "cell_type": "code",
      "execution_count": 4,
      "metadata": {
        "id": "ImP2sf1gFDj5"
      },
      "outputs": [],
      "source": [
        "# Preprocessing function\n",
        "def preprocess_text(text):\n",
        "    \"\"\"\n",
        "    Preprocesses the input text by:\n",
        "    1. Removing punctuation and special characters.\n",
        "    2. Converting text to lowercase.\n",
        "    3. Removing stopwords.\n",
        "    4. Removing extra spaces.\n",
        "\n",
        "    Args:\n",
        "        text (str): Input text to preprocess.\n",
        "\n",
        "    Returns:\n",
        "        str: Preprocessed text.\n",
        "    \"\"\"\n",
        "    # Step 1: Remove punctuation and special characters using regex\n",
        "    text = re.sub(r'[^\\w\\s]', '', text)  # Keep only alphanumeric and spaces\n",
        "\n",
        "    # Step 2: Convert text to lowercase\n",
        "    text = text.lower()\n",
        "\n",
        "    # Step 3: Remove stopwords\n",
        "    stop_words = set(stopwords.words('english'))\n",
        "    text = \" \".join([word for word in text.split() if word not in stop_words])\n",
        "\n",
        "    # Step 4: Remove extra spaces\n",
        "    text = re.sub(r'\\s+', ' ', text).strip()\n",
        "\n",
        "    return text"
      ]
    },
    {
      "cell_type": "code",
      "execution_count": 5,
      "metadata": {
        "id": "VE2uB7jhGOVH"
      },
      "outputs": [],
      "source": [
        "# Apply the preprocessing function to the 'tweet' column\n",
        "data['cleaned_tweet'] = data['tweet'].apply(preprocess_text)"
      ]
    },
    {
      "cell_type": "markdown",
      "metadata": {},
      "source": [
        "### Text Preprocessing Function in Python\n",
        "\n",
        "This Python code defines a function called `preprocess_text`, which is designed to clean and standardize textual data. The function follows a structured approach to preprocess text: it removes punctuation and special characters using regular expressions, converts the text to lowercase to maintain uniformity, eliminates common stopwords (like \"the,\" \"is,\" and \"and\") to focus on meaningful words, and removes extra spaces to ensure a clean output. After defining this function, it is applied to a dataset column named `'tweet'`, creating a new column, `'cleaned_tweet'`, containing the processed text. This preprocessing step is crucial because it helps in reducing noise and improving model performance by focusing only on relevant words. Finally, the dataset is displayed to show the original and cleaned tweets for comparison."
      ]
    },
    {
      "cell_type": "code",
      "execution_count": 6,
      "metadata": {
        "colab": {
          "base_uri": "https://localhost:8080/",
          "height": 206
        },
        "id": "_9KFkaKNGSXS",
        "outputId": "1f52f1fd-c10f-4303-a04d-8a3bad1192a1"
      },
      "outputs": [
        {
          "data": {
            "application/vnd.google.colaboratory.intrinsic+json": {
              "summary": "{\n  \"name\": \"data[['tweet', 'cleaned_tweet']]\",\n  \"rows\": 5,\n  \"fields\": [\n    {\n      \"column\": \"tweet\",\n      \"properties\": {\n        \"dtype\": \"string\",\n        \"num_unique_values\": 5,\n        \"samples\": [\n          \"!!!!! RT @mleew17: boy dats cold...tyga dwn bad for cuffin dat hoe in the 1st place!!\",\n          \"!!!!!!!!!!!!! RT @ShenikaRoberts: The shit you hear about me might be true or it might be faker than the bitch who told it to ya &#57361;\",\n          \"!!!!!!! RT @UrKindOfBrand Dawg!!!! RT @80sbaby4life: You ever fuck a bitch and she start to cry? You be confused as shit\"\n        ],\n        \"semantic_type\": \"\",\n        \"description\": \"\"\n      }\n    },\n    {\n      \"column\": \"cleaned_tweet\",\n      \"properties\": {\n        \"dtype\": \"string\",\n        \"num_unique_values\": 5,\n        \"samples\": [\n          \"rt mleew17 boy dats coldtyga dwn bad cuffin dat hoe 1st place\",\n          \"rt shenikaroberts shit hear might true might faker bitch told ya 57361\",\n          \"rt urkindofbrand dawg rt 80sbaby4life ever fuck bitch start cry confused shit\"\n        ],\n        \"semantic_type\": \"\",\n        \"description\": \"\"\n      }\n    }\n  ]\n}",
              "type": "dataframe"
            },
            "text/html": [
              "\n",
              "  <div id=\"df-00769c75-ee31-44a5-9965-e7636409bc1b\" class=\"colab-df-container\">\n",
              "    <div>\n",
              "<style scoped>\n",
              "    .dataframe tbody tr th:only-of-type {\n",
              "        vertical-align: middle;\n",
              "    }\n",
              "\n",
              "    .dataframe tbody tr th {\n",
              "        vertical-align: top;\n",
              "    }\n",
              "\n",
              "    .dataframe thead th {\n",
              "        text-align: right;\n",
              "    }\n",
              "</style>\n",
              "<table border=\"1\" class=\"dataframe\">\n",
              "  <thead>\n",
              "    <tr style=\"text-align: right;\">\n",
              "      <th></th>\n",
              "      <th>tweet</th>\n",
              "      <th>cleaned_tweet</th>\n",
              "    </tr>\n",
              "  </thead>\n",
              "  <tbody>\n",
              "    <tr>\n",
              "      <th>0</th>\n",
              "      <td>!!! RT @mayasolovely: As a woman you shouldn't...</td>\n",
              "      <td>rt mayasolovely woman shouldnt complain cleani...</td>\n",
              "    </tr>\n",
              "    <tr>\n",
              "      <th>1</th>\n",
              "      <td>!!!!! RT @mleew17: boy dats cold...tyga dwn ba...</td>\n",
              "      <td>rt mleew17 boy dats coldtyga dwn bad cuffin da...</td>\n",
              "    </tr>\n",
              "    <tr>\n",
              "      <th>2</th>\n",
              "      <td>!!!!!!! RT @UrKindOfBrand Dawg!!!! RT @80sbaby...</td>\n",
              "      <td>rt urkindofbrand dawg rt 80sbaby4life ever fuc...</td>\n",
              "    </tr>\n",
              "    <tr>\n",
              "      <th>3</th>\n",
              "      <td>!!!!!!!!! RT @C_G_Anderson: @viva_based she lo...</td>\n",
              "      <td>rt c_g_anderson viva_based look like tranny</td>\n",
              "    </tr>\n",
              "    <tr>\n",
              "      <th>4</th>\n",
              "      <td>!!!!!!!!!!!!! RT @ShenikaRoberts: The shit you...</td>\n",
              "      <td>rt shenikaroberts shit hear might true might f...</td>\n",
              "    </tr>\n",
              "  </tbody>\n",
              "</table>\n",
              "</div>\n",
              "    <div class=\"colab-df-buttons\">\n",
              "\n",
              "  <div class=\"colab-df-container\">\n",
              "    <button class=\"colab-df-convert\" onclick=\"convertToInteractive('df-00769c75-ee31-44a5-9965-e7636409bc1b')\"\n",
              "            title=\"Convert this dataframe to an interactive table.\"\n",
              "            style=\"display:none;\">\n",
              "\n",
              "  <svg xmlns=\"http://www.w3.org/2000/svg\" height=\"24px\" viewBox=\"0 -960 960 960\">\n",
              "    <path d=\"M120-120v-720h720v720H120Zm60-500h600v-160H180v160Zm220 220h160v-160H400v160Zm0 220h160v-160H400v160ZM180-400h160v-160H180v160Zm440 0h160v-160H620v160ZM180-180h160v-160H180v160Zm440 0h160v-160H620v160Z\"/>\n",
              "  </svg>\n",
              "    </button>\n",
              "\n",
              "  <style>\n",
              "    .colab-df-container {\n",
              "      display:flex;\n",
              "      gap: 12px;\n",
              "    }\n",
              "\n",
              "    .colab-df-convert {\n",
              "      background-color: #E8F0FE;\n",
              "      border: none;\n",
              "      border-radius: 50%;\n",
              "      cursor: pointer;\n",
              "      display: none;\n",
              "      fill: #1967D2;\n",
              "      height: 32px;\n",
              "      padding: 0 0 0 0;\n",
              "      width: 32px;\n",
              "    }\n",
              "\n",
              "    .colab-df-convert:hover {\n",
              "      background-color: #E2EBFA;\n",
              "      box-shadow: 0px 1px 2px rgba(60, 64, 67, 0.3), 0px 1px 3px 1px rgba(60, 64, 67, 0.15);\n",
              "      fill: #174EA6;\n",
              "    }\n",
              "\n",
              "    .colab-df-buttons div {\n",
              "      margin-bottom: 4px;\n",
              "    }\n",
              "\n",
              "    [theme=dark] .colab-df-convert {\n",
              "      background-color: #3B4455;\n",
              "      fill: #D2E3FC;\n",
              "    }\n",
              "\n",
              "    [theme=dark] .colab-df-convert:hover {\n",
              "      background-color: #434B5C;\n",
              "      box-shadow: 0px 1px 3px 1px rgba(0, 0, 0, 0.15);\n",
              "      filter: drop-shadow(0px 1px 2px rgba(0, 0, 0, 0.3));\n",
              "      fill: #FFFFFF;\n",
              "    }\n",
              "  </style>\n",
              "\n",
              "    <script>\n",
              "      const buttonEl =\n",
              "        document.querySelector('#df-00769c75-ee31-44a5-9965-e7636409bc1b button.colab-df-convert');\n",
              "      buttonEl.style.display =\n",
              "        google.colab.kernel.accessAllowed ? 'block' : 'none';\n",
              "\n",
              "      async function convertToInteractive(key) {\n",
              "        const element = document.querySelector('#df-00769c75-ee31-44a5-9965-e7636409bc1b');\n",
              "        const dataTable =\n",
              "          await google.colab.kernel.invokeFunction('convertToInteractive',\n",
              "                                                    [key], {});\n",
              "        if (!dataTable) return;\n",
              "\n",
              "        const docLinkHtml = 'Like what you see? Visit the ' +\n",
              "          '<a target=\"_blank\" href=https://colab.research.google.com/notebooks/data_table.ipynb>data table notebook</a>'\n",
              "          + ' to learn more about interactive tables.';\n",
              "        element.innerHTML = '';\n",
              "        dataTable['output_type'] = 'display_data';\n",
              "        await google.colab.output.renderOutput(dataTable, element);\n",
              "        const docLink = document.createElement('div');\n",
              "        docLink.innerHTML = docLinkHtml;\n",
              "        element.appendChild(docLink);\n",
              "      }\n",
              "    </script>\n",
              "  </div>\n",
              "\n",
              "\n",
              "<div id=\"df-41e9ec7e-18ee-4747-813c-aaba7d0479e9\">\n",
              "  <button class=\"colab-df-quickchart\" onclick=\"quickchart('df-41e9ec7e-18ee-4747-813c-aaba7d0479e9')\"\n",
              "            title=\"Suggest charts\"\n",
              "            style=\"display:none;\">\n",
              "\n",
              "<svg xmlns=\"http://www.w3.org/2000/svg\" height=\"24px\"viewBox=\"0 0 24 24\"\n",
              "     width=\"24px\">\n",
              "    <g>\n",
              "        <path d=\"M19 3H5c-1.1 0-2 .9-2 2v14c0 1.1.9 2 2 2h14c1.1 0 2-.9 2-2V5c0-1.1-.9-2-2-2zM9 17H7v-7h2v7zm4 0h-2V7h2v10zm4 0h-2v-4h2v4z\"/>\n",
              "    </g>\n",
              "</svg>\n",
              "  </button>\n",
              "\n",
              "<style>\n",
              "  .colab-df-quickchart {\n",
              "      --bg-color: #E8F0FE;\n",
              "      --fill-color: #1967D2;\n",
              "      --hover-bg-color: #E2EBFA;\n",
              "      --hover-fill-color: #174EA6;\n",
              "      --disabled-fill-color: #AAA;\n",
              "      --disabled-bg-color: #DDD;\n",
              "  }\n",
              "\n",
              "  [theme=dark] .colab-df-quickchart {\n",
              "      --bg-color: #3B4455;\n",
              "      --fill-color: #D2E3FC;\n",
              "      --hover-bg-color: #434B5C;\n",
              "      --hover-fill-color: #FFFFFF;\n",
              "      --disabled-bg-color: #3B4455;\n",
              "      --disabled-fill-color: #666;\n",
              "  }\n",
              "\n",
              "  .colab-df-quickchart {\n",
              "    background-color: var(--bg-color);\n",
              "    border: none;\n",
              "    border-radius: 50%;\n",
              "    cursor: pointer;\n",
              "    display: none;\n",
              "    fill: var(--fill-color);\n",
              "    height: 32px;\n",
              "    padding: 0;\n",
              "    width: 32px;\n",
              "  }\n",
              "\n",
              "  .colab-df-quickchart:hover {\n",
              "    background-color: var(--hover-bg-color);\n",
              "    box-shadow: 0 1px 2px rgba(60, 64, 67, 0.3), 0 1px 3px 1px rgba(60, 64, 67, 0.15);\n",
              "    fill: var(--button-hover-fill-color);\n",
              "  }\n",
              "\n",
              "  .colab-df-quickchart-complete:disabled,\n",
              "  .colab-df-quickchart-complete:disabled:hover {\n",
              "    background-color: var(--disabled-bg-color);\n",
              "    fill: var(--disabled-fill-color);\n",
              "    box-shadow: none;\n",
              "  }\n",
              "\n",
              "  .colab-df-spinner {\n",
              "    border: 2px solid var(--fill-color);\n",
              "    border-color: transparent;\n",
              "    border-bottom-color: var(--fill-color);\n",
              "    animation:\n",
              "      spin 1s steps(1) infinite;\n",
              "  }\n",
              "\n",
              "  @keyframes spin {\n",
              "    0% {\n",
              "      border-color: transparent;\n",
              "      border-bottom-color: var(--fill-color);\n",
              "      border-left-color: var(--fill-color);\n",
              "    }\n",
              "    20% {\n",
              "      border-color: transparent;\n",
              "      border-left-color: var(--fill-color);\n",
              "      border-top-color: var(--fill-color);\n",
              "    }\n",
              "    30% {\n",
              "      border-color: transparent;\n",
              "      border-left-color: var(--fill-color);\n",
              "      border-top-color: var(--fill-color);\n",
              "      border-right-color: var(--fill-color);\n",
              "    }\n",
              "    40% {\n",
              "      border-color: transparent;\n",
              "      border-right-color: var(--fill-color);\n",
              "      border-top-color: var(--fill-color);\n",
              "    }\n",
              "    60% {\n",
              "      border-color: transparent;\n",
              "      border-right-color: var(--fill-color);\n",
              "    }\n",
              "    80% {\n",
              "      border-color: transparent;\n",
              "      border-right-color: var(--fill-color);\n",
              "      border-bottom-color: var(--fill-color);\n",
              "    }\n",
              "    90% {\n",
              "      border-color: transparent;\n",
              "      border-bottom-color: var(--fill-color);\n",
              "    }\n",
              "  }\n",
              "</style>\n",
              "\n",
              "  <script>\n",
              "    async function quickchart(key) {\n",
              "      const quickchartButtonEl =\n",
              "        document.querySelector('#' + key + ' button');\n",
              "      quickchartButtonEl.disabled = true;  // To prevent multiple clicks.\n",
              "      quickchartButtonEl.classList.add('colab-df-spinner');\n",
              "      try {\n",
              "        const charts = await google.colab.kernel.invokeFunction(\n",
              "            'suggestCharts', [key], {});\n",
              "      } catch (error) {\n",
              "        console.error('Error during call to suggestCharts:', error);\n",
              "      }\n",
              "      quickchartButtonEl.classList.remove('colab-df-spinner');\n",
              "      quickchartButtonEl.classList.add('colab-df-quickchart-complete');\n",
              "    }\n",
              "    (() => {\n",
              "      let quickchartButtonEl =\n",
              "        document.querySelector('#df-41e9ec7e-18ee-4747-813c-aaba7d0479e9 button');\n",
              "      quickchartButtonEl.style.display =\n",
              "        google.colab.kernel.accessAllowed ? 'block' : 'none';\n",
              "    })();\n",
              "  </script>\n",
              "</div>\n",
              "\n",
              "    </div>\n",
              "  </div>\n"
            ],
            "text/plain": [
              "                                               tweet  \\\n",
              "0  !!! RT @mayasolovely: As a woman you shouldn't...   \n",
              "1  !!!!! RT @mleew17: boy dats cold...tyga dwn ba...   \n",
              "2  !!!!!!! RT @UrKindOfBrand Dawg!!!! RT @80sbaby...   \n",
              "3  !!!!!!!!! RT @C_G_Anderson: @viva_based she lo...   \n",
              "4  !!!!!!!!!!!!! RT @ShenikaRoberts: The shit you...   \n",
              "\n",
              "                                       cleaned_tweet  \n",
              "0  rt mayasolovely woman shouldnt complain cleani...  \n",
              "1  rt mleew17 boy dats coldtyga dwn bad cuffin da...  \n",
              "2  rt urkindofbrand dawg rt 80sbaby4life ever fuc...  \n",
              "3        rt c_g_anderson viva_based look like tranny  \n",
              "4  rt shenikaroberts shit hear might true might f...  "
            ]
          },
          "execution_count": 6,
          "metadata": {},
          "output_type": "execute_result"
        }
      ],
      "source": [
        "# Display the updated dataset\n",
        "data[['tweet', 'cleaned_tweet']].head()"
      ]
    },
    {
      "cell_type": "code",
      "execution_count": 7,
      "metadata": {
        "colab": {
          "base_uri": "https://localhost:8080/",
          "height": 449
        },
        "id": "B5E5q1NFGXNt",
        "outputId": "55ea06d0-27ba-49eb-dc77-f093b35fd3cf"
      },
      "outputs": [
        {
          "data": {
            "application/vnd.google.colaboratory.intrinsic+json": {
              "summary": "{\n  \"name\": \"data\",\n  \"rows\": 24783,\n  \"fields\": [\n    {\n      \"column\": \"Unnamed: 0\",\n      \"properties\": {\n        \"dtype\": \"number\",\n        \"std\": 7299,\n        \"min\": 0,\n        \"max\": 25296,\n        \"num_unique_values\": 24783,\n        \"samples\": [\n          2326,\n          16283,\n          19362\n        ],\n        \"semantic_type\": \"\",\n        \"description\": \"\"\n      }\n    },\n    {\n      \"column\": \"count\",\n      \"properties\": {\n        \"dtype\": \"number\",\n        \"std\": 0,\n        \"min\": 3,\n        \"max\": 9,\n        \"num_unique_values\": 5,\n        \"samples\": [\n          6,\n          7,\n          9\n        ],\n        \"semantic_type\": \"\",\n        \"description\": \"\"\n      }\n    },\n    {\n      \"column\": \"hate_speech\",\n      \"properties\": {\n        \"dtype\": \"number\",\n        \"std\": 0,\n        \"min\": 0,\n        \"max\": 7,\n        \"num_unique_values\": 8,\n        \"samples\": [\n          1,\n          6,\n          0\n        ],\n        \"semantic_type\": \"\",\n        \"description\": \"\"\n      }\n    },\n    {\n      \"column\": \"offensive_language\",\n      \"properties\": {\n        \"dtype\": \"number\",\n        \"std\": 1,\n        \"min\": 0,\n        \"max\": 9,\n        \"num_unique_values\": 10,\n        \"samples\": [\n          8,\n          3,\n          7\n        ],\n        \"semantic_type\": \"\",\n        \"description\": \"\"\n      }\n    },\n    {\n      \"column\": \"neither\",\n      \"properties\": {\n        \"dtype\": \"number\",\n        \"std\": 1,\n        \"min\": 0,\n        \"max\": 9,\n        \"num_unique_values\": 10,\n        \"samples\": [\n          8,\n          0,\n          4\n        ],\n        \"semantic_type\": \"\",\n        \"description\": \"\"\n      }\n    },\n    {\n      \"column\": \"class\",\n      \"properties\": {\n        \"dtype\": \"number\",\n        \"std\": 0,\n        \"min\": 0,\n        \"max\": 2,\n        \"num_unique_values\": 3,\n        \"samples\": [\n          2,\n          1,\n          0\n        ],\n        \"semantic_type\": \"\",\n        \"description\": \"\"\n      }\n    },\n    {\n      \"column\": \"tweet\",\n      \"properties\": {\n        \"dtype\": \"string\",\n        \"num_unique_values\": 24783,\n        \"samples\": [\n          \"934 8616\\ni got a missed call from yo bitch\",\n          \"RT @KINGTUNCHI_: Fucking with a bad bitch you gone need some money lil homie!\",\n          \"RT @eanahS__: @1inkkofrosess lol my credit ain't no where near good , but I know the right man for the job .. that ho nice though!\"\n        ],\n        \"semantic_type\": \"\",\n        \"description\": \"\"\n      }\n    },\n    {\n      \"column\": \"cleaned_tweet\",\n      \"properties\": {\n        \"dtype\": \"string\",\n        \"num_unique_values\": 24699,\n        \"samples\": [\n          \"rt martinsopchak thechriscates youre fucking pussy isnt joke girly little bitch\",\n          \"leg day made bitch\",\n          \"niccas hating nicca jeezy realtalk\"\n        ],\n        \"semantic_type\": \"\",\n        \"description\": \"\"\n      }\n    }\n  ]\n}",
              "type": "dataframe",
              "variable_name": "data"
            },
            "text/html": [
              "\n",
              "  <div id=\"df-2e45b5ab-0603-4c12-bf12-1d08706f7753\" class=\"colab-df-container\">\n",
              "    <div>\n",
              "<style scoped>\n",
              "    .dataframe tbody tr th:only-of-type {\n",
              "        vertical-align: middle;\n",
              "    }\n",
              "\n",
              "    .dataframe tbody tr th {\n",
              "        vertical-align: top;\n",
              "    }\n",
              "\n",
              "    .dataframe thead th {\n",
              "        text-align: right;\n",
              "    }\n",
              "</style>\n",
              "<table border=\"1\" class=\"dataframe\">\n",
              "  <thead>\n",
              "    <tr style=\"text-align: right;\">\n",
              "      <th></th>\n",
              "      <th>Unnamed: 0</th>\n",
              "      <th>count</th>\n",
              "      <th>hate_speech</th>\n",
              "      <th>offensive_language</th>\n",
              "      <th>neither</th>\n",
              "      <th>class</th>\n",
              "      <th>tweet</th>\n",
              "      <th>cleaned_tweet</th>\n",
              "    </tr>\n",
              "  </thead>\n",
              "  <tbody>\n",
              "    <tr>\n",
              "      <th>0</th>\n",
              "      <td>0</td>\n",
              "      <td>3</td>\n",
              "      <td>0</td>\n",
              "      <td>0</td>\n",
              "      <td>3</td>\n",
              "      <td>2</td>\n",
              "      <td>!!! RT @mayasolovely: As a woman you shouldn't...</td>\n",
              "      <td>rt mayasolovely woman shouldnt complain cleani...</td>\n",
              "    </tr>\n",
              "    <tr>\n",
              "      <th>1</th>\n",
              "      <td>1</td>\n",
              "      <td>3</td>\n",
              "      <td>0</td>\n",
              "      <td>3</td>\n",
              "      <td>0</td>\n",
              "      <td>1</td>\n",
              "      <td>!!!!! RT @mleew17: boy dats cold...tyga dwn ba...</td>\n",
              "      <td>rt mleew17 boy dats coldtyga dwn bad cuffin da...</td>\n",
              "    </tr>\n",
              "    <tr>\n",
              "      <th>2</th>\n",
              "      <td>2</td>\n",
              "      <td>3</td>\n",
              "      <td>0</td>\n",
              "      <td>3</td>\n",
              "      <td>0</td>\n",
              "      <td>1</td>\n",
              "      <td>!!!!!!! RT @UrKindOfBrand Dawg!!!! RT @80sbaby...</td>\n",
              "      <td>rt urkindofbrand dawg rt 80sbaby4life ever fuc...</td>\n",
              "    </tr>\n",
              "    <tr>\n",
              "      <th>3</th>\n",
              "      <td>3</td>\n",
              "      <td>3</td>\n",
              "      <td>0</td>\n",
              "      <td>2</td>\n",
              "      <td>1</td>\n",
              "      <td>1</td>\n",
              "      <td>!!!!!!!!! RT @C_G_Anderson: @viva_based she lo...</td>\n",
              "      <td>rt c_g_anderson viva_based look like tranny</td>\n",
              "    </tr>\n",
              "    <tr>\n",
              "      <th>4</th>\n",
              "      <td>4</td>\n",
              "      <td>6</td>\n",
              "      <td>0</td>\n",
              "      <td>6</td>\n",
              "      <td>0</td>\n",
              "      <td>1</td>\n",
              "      <td>!!!!!!!!!!!!! RT @ShenikaRoberts: The shit you...</td>\n",
              "      <td>rt shenikaroberts shit hear might true might f...</td>\n",
              "    </tr>\n",
              "  </tbody>\n",
              "</table>\n",
              "</div>\n",
              "    <div class=\"colab-df-buttons\">\n",
              "\n",
              "  <div class=\"colab-df-container\">\n",
              "    <button class=\"colab-df-convert\" onclick=\"convertToInteractive('df-2e45b5ab-0603-4c12-bf12-1d08706f7753')\"\n",
              "            title=\"Convert this dataframe to an interactive table.\"\n",
              "            style=\"display:none;\">\n",
              "\n",
              "  <svg xmlns=\"http://www.w3.org/2000/svg\" height=\"24px\" viewBox=\"0 -960 960 960\">\n",
              "    <path d=\"M120-120v-720h720v720H120Zm60-500h600v-160H180v160Zm220 220h160v-160H400v160Zm0 220h160v-160H400v160ZM180-400h160v-160H180v160Zm440 0h160v-160H620v160ZM180-180h160v-160H180v160Zm440 0h160v-160H620v160Z\"/>\n",
              "  </svg>\n",
              "    </button>\n",
              "\n",
              "  <style>\n",
              "    .colab-df-container {\n",
              "      display:flex;\n",
              "      gap: 12px;\n",
              "    }\n",
              "\n",
              "    .colab-df-convert {\n",
              "      background-color: #E8F0FE;\n",
              "      border: none;\n",
              "      border-radius: 50%;\n",
              "      cursor: pointer;\n",
              "      display: none;\n",
              "      fill: #1967D2;\n",
              "      height: 32px;\n",
              "      padding: 0 0 0 0;\n",
              "      width: 32px;\n",
              "    }\n",
              "\n",
              "    .colab-df-convert:hover {\n",
              "      background-color: #E2EBFA;\n",
              "      box-shadow: 0px 1px 2px rgba(60, 64, 67, 0.3), 0px 1px 3px 1px rgba(60, 64, 67, 0.15);\n",
              "      fill: #174EA6;\n",
              "    }\n",
              "\n",
              "    .colab-df-buttons div {\n",
              "      margin-bottom: 4px;\n",
              "    }\n",
              "\n",
              "    [theme=dark] .colab-df-convert {\n",
              "      background-color: #3B4455;\n",
              "      fill: #D2E3FC;\n",
              "    }\n",
              "\n",
              "    [theme=dark] .colab-df-convert:hover {\n",
              "      background-color: #434B5C;\n",
              "      box-shadow: 0px 1px 3px 1px rgba(0, 0, 0, 0.15);\n",
              "      filter: drop-shadow(0px 1px 2px rgba(0, 0, 0, 0.3));\n",
              "      fill: #FFFFFF;\n",
              "    }\n",
              "  </style>\n",
              "\n",
              "    <script>\n",
              "      const buttonEl =\n",
              "        document.querySelector('#df-2e45b5ab-0603-4c12-bf12-1d08706f7753 button.colab-df-convert');\n",
              "      buttonEl.style.display =\n",
              "        google.colab.kernel.accessAllowed ? 'block' : 'none';\n",
              "\n",
              "      async function convertToInteractive(key) {\n",
              "        const element = document.querySelector('#df-2e45b5ab-0603-4c12-bf12-1d08706f7753');\n",
              "        const dataTable =\n",
              "          await google.colab.kernel.invokeFunction('convertToInteractive',\n",
              "                                                    [key], {});\n",
              "        if (!dataTable) return;\n",
              "\n",
              "        const docLinkHtml = 'Like what you see? Visit the ' +\n",
              "          '<a target=\"_blank\" href=https://colab.research.google.com/notebooks/data_table.ipynb>data table notebook</a>'\n",
              "          + ' to learn more about interactive tables.';\n",
              "        element.innerHTML = '';\n",
              "        dataTable['output_type'] = 'display_data';\n",
              "        await google.colab.output.renderOutput(dataTable, element);\n",
              "        const docLink = document.createElement('div');\n",
              "        docLink.innerHTML = docLinkHtml;\n",
              "        element.appendChild(docLink);\n",
              "      }\n",
              "    </script>\n",
              "  </div>\n",
              "\n",
              "\n",
              "<div id=\"df-efdce288-ba44-44bb-bc6d-7c97b8c0bf95\">\n",
              "  <button class=\"colab-df-quickchart\" onclick=\"quickchart('df-efdce288-ba44-44bb-bc6d-7c97b8c0bf95')\"\n",
              "            title=\"Suggest charts\"\n",
              "            style=\"display:none;\">\n",
              "\n",
              "<svg xmlns=\"http://www.w3.org/2000/svg\" height=\"24px\"viewBox=\"0 0 24 24\"\n",
              "     width=\"24px\">\n",
              "    <g>\n",
              "        <path d=\"M19 3H5c-1.1 0-2 .9-2 2v14c0 1.1.9 2 2 2h14c1.1 0 2-.9 2-2V5c0-1.1-.9-2-2-2zM9 17H7v-7h2v7zm4 0h-2V7h2v10zm4 0h-2v-4h2v4z\"/>\n",
              "    </g>\n",
              "</svg>\n",
              "  </button>\n",
              "\n",
              "<style>\n",
              "  .colab-df-quickchart {\n",
              "      --bg-color: #E8F0FE;\n",
              "      --fill-color: #1967D2;\n",
              "      --hover-bg-color: #E2EBFA;\n",
              "      --hover-fill-color: #174EA6;\n",
              "      --disabled-fill-color: #AAA;\n",
              "      --disabled-bg-color: #DDD;\n",
              "  }\n",
              "\n",
              "  [theme=dark] .colab-df-quickchart {\n",
              "      --bg-color: #3B4455;\n",
              "      --fill-color: #D2E3FC;\n",
              "      --hover-bg-color: #434B5C;\n",
              "      --hover-fill-color: #FFFFFF;\n",
              "      --disabled-bg-color: #3B4455;\n",
              "      --disabled-fill-color: #666;\n",
              "  }\n",
              "\n",
              "  .colab-df-quickchart {\n",
              "    background-color: var(--bg-color);\n",
              "    border: none;\n",
              "    border-radius: 50%;\n",
              "    cursor: pointer;\n",
              "    display: none;\n",
              "    fill: var(--fill-color);\n",
              "    height: 32px;\n",
              "    padding: 0;\n",
              "    width: 32px;\n",
              "  }\n",
              "\n",
              "  .colab-df-quickchart:hover {\n",
              "    background-color: var(--hover-bg-color);\n",
              "    box-shadow: 0 1px 2px rgba(60, 64, 67, 0.3), 0 1px 3px 1px rgba(60, 64, 67, 0.15);\n",
              "    fill: var(--button-hover-fill-color);\n",
              "  }\n",
              "\n",
              "  .colab-df-quickchart-complete:disabled,\n",
              "  .colab-df-quickchart-complete:disabled:hover {\n",
              "    background-color: var(--disabled-bg-color);\n",
              "    fill: var(--disabled-fill-color);\n",
              "    box-shadow: none;\n",
              "  }\n",
              "\n",
              "  .colab-df-spinner {\n",
              "    border: 2px solid var(--fill-color);\n",
              "    border-color: transparent;\n",
              "    border-bottom-color: var(--fill-color);\n",
              "    animation:\n",
              "      spin 1s steps(1) infinite;\n",
              "  }\n",
              "\n",
              "  @keyframes spin {\n",
              "    0% {\n",
              "      border-color: transparent;\n",
              "      border-bottom-color: var(--fill-color);\n",
              "      border-left-color: var(--fill-color);\n",
              "    }\n",
              "    20% {\n",
              "      border-color: transparent;\n",
              "      border-left-color: var(--fill-color);\n",
              "      border-top-color: var(--fill-color);\n",
              "    }\n",
              "    30% {\n",
              "      border-color: transparent;\n",
              "      border-left-color: var(--fill-color);\n",
              "      border-top-color: var(--fill-color);\n",
              "      border-right-color: var(--fill-color);\n",
              "    }\n",
              "    40% {\n",
              "      border-color: transparent;\n",
              "      border-right-color: var(--fill-color);\n",
              "      border-top-color: var(--fill-color);\n",
              "    }\n",
              "    60% {\n",
              "      border-color: transparent;\n",
              "      border-right-color: var(--fill-color);\n",
              "    }\n",
              "    80% {\n",
              "      border-color: transparent;\n",
              "      border-right-color: var(--fill-color);\n",
              "      border-bottom-color: var(--fill-color);\n",
              "    }\n",
              "    90% {\n",
              "      border-color: transparent;\n",
              "      border-bottom-color: var(--fill-color);\n",
              "    }\n",
              "  }\n",
              "</style>\n",
              "\n",
              "  <script>\n",
              "    async function quickchart(key) {\n",
              "      const quickchartButtonEl =\n",
              "        document.querySelector('#' + key + ' button');\n",
              "      quickchartButtonEl.disabled = true;  // To prevent multiple clicks.\n",
              "      quickchartButtonEl.classList.add('colab-df-spinner');\n",
              "      try {\n",
              "        const charts = await google.colab.kernel.invokeFunction(\n",
              "            'suggestCharts', [key], {});\n",
              "      } catch (error) {\n",
              "        console.error('Error during call to suggestCharts:', error);\n",
              "      }\n",
              "      quickchartButtonEl.classList.remove('colab-df-spinner');\n",
              "      quickchartButtonEl.classList.add('colab-df-quickchart-complete');\n",
              "    }\n",
              "    (() => {\n",
              "      let quickchartButtonEl =\n",
              "        document.querySelector('#df-efdce288-ba44-44bb-bc6d-7c97b8c0bf95 button');\n",
              "      quickchartButtonEl.style.display =\n",
              "        google.colab.kernel.accessAllowed ? 'block' : 'none';\n",
              "    })();\n",
              "  </script>\n",
              "</div>\n",
              "\n",
              "    </div>\n",
              "  </div>\n"
            ],
            "text/plain": [
              "   Unnamed: 0  count  hate_speech  offensive_language  neither  class  \\\n",
              "0           0      3            0                   0        3      2   \n",
              "1           1      3            0                   3        0      1   \n",
              "2           2      3            0                   3        0      1   \n",
              "3           3      3            0                   2        1      1   \n",
              "4           4      6            0                   6        0      1   \n",
              "\n",
              "                                               tweet  \\\n",
              "0  !!! RT @mayasolovely: As a woman you shouldn't...   \n",
              "1  !!!!! RT @mleew17: boy dats cold...tyga dwn ba...   \n",
              "2  !!!!!!! RT @UrKindOfBrand Dawg!!!! RT @80sbaby...   \n",
              "3  !!!!!!!!! RT @C_G_Anderson: @viva_based she lo...   \n",
              "4  !!!!!!!!!!!!! RT @ShenikaRoberts: The shit you...   \n",
              "\n",
              "                                       cleaned_tweet  \n",
              "0  rt mayasolovely woman shouldnt complain cleani...  \n",
              "1  rt mleew17 boy dats coldtyga dwn bad cuffin da...  \n",
              "2  rt urkindofbrand dawg rt 80sbaby4life ever fuc...  \n",
              "3        rt c_g_anderson viva_based look like tranny  \n",
              "4  rt shenikaroberts shit hear might true might f...  "
            ]
          },
          "execution_count": 7,
          "metadata": {},
          "output_type": "execute_result"
        }
      ],
      "source": [
        "data.head()"
      ]
    },
    {
      "cell_type": "markdown",
      "metadata": {
        "id": "z2Xkz8wLH7dn"
      },
      "source": [
        "Q2: Implement a tokenizer that converts sentences from the Hate Speech dataset into sequences\n",
        "suitable for embedding layers."
      ]
    },
    {
      "cell_type": "code",
      "execution_count": 8,
      "metadata": {
        "id": "ff3fLOqWGjPx"
      },
      "outputs": [],
      "source": [
        "from tensorflow.keras.preprocessing.text import Tokenizer\n",
        "from tensorflow.keras.preprocessing.sequence import pad_sequences\n",
        "\n",
        "# Define the tokenizer\n",
        "tokenizer = Tokenizer(num_words=10000, oov_token=\"<OOV>\")  # Set a vocabulary size and out-of-vocabulary token\n",
        "\n",
        "# Fit the tokenizer on the cleaned tweets\n",
        "tokenizer.fit_on_texts(data['cleaned_tweet'])\n",
        "\n",
        "# Convert text into sequences\n",
        "sequences = tokenizer.texts_to_sequences(data['cleaned_tweet'])\n",
        "\n",
        "# Pad sequences to ensure uniform input size\n",
        "max_length = max(len(seq) for seq in sequences)  # Find the longest sequence length\n",
        "padded_sequences = pad_sequences(sequences, maxlen=max_length, padding='post', truncating='post')"
      ]
    },
    {
      "cell_type": "markdown",
      "metadata": {},
      "source": [
        "### Tokenization and Padding for Text Processing\n",
        "\n",
        "This code snippet utilizes TensorFlow's `Tokenizer` and `pad_sequences` functions to prepare textual data for deep learning models. The first step involves defining a `Tokenizer` with a vocabulary size of 10,000 words and an out-of-vocabulary token (`<OOV>`) to handle unseen words. The tokenizer is then trained on the preprocessed text (`'cleaned_tweet'`), converting words into unique integer sequences. After tokenization, the text is transformed into numerical sequences using `texts_to_sequences`, where each word is mapped to its corresponding index in the tokenizer's vocabulary. Since deep learning models require inputs of uniform size, `pad_sequences` is applied to ensure that all sequences have the same length, determined by the longest sequence in the dataset. Padding is added at the end (`padding='post'`), and truncation is applied similarly if needed. This preprocessing step is essential for feeding textual data into neural networks."
      ]
    },
    {
      "cell_type": "code",
      "execution_count": 9,
      "metadata": {
        "colab": {
          "base_uri": "https://localhost:8080/"
        },
        "id": "DJ_tywxFHshQ",
        "outputId": "e8fff91c-0d52-44cb-f14b-54faf9f017b9"
      },
      "outputs": [
        {
          "name": "stdout",
          "output_type": "stream",
          "text": [
            "Original Tweet: !!! RT @mayasolovely: As a woman you shouldn't complain about cleaning up your house. &amp; as a man you should always take the trash out...\n"
          ]
        }
      ],
      "source": [
        "# Display the first few tokenized sequences\n",
        "print(\"Original Tweet:\", data['tweet'].iloc[0])"
      ]
    },
    {
      "cell_type": "code",
      "execution_count": 10,
      "metadata": {
        "colab": {
          "base_uri": "https://localhost:8080/"
        },
        "id": "Vhs3wxsaHuoK",
        "outputId": "3593b00e-9fb4-4dab-cd25-7911c2d38a56"
      },
      "outputs": [
        {
          "name": "stdout",
          "output_type": "stream",
          "text": [
            "Cleaned Tweet: rt mayasolovely woman shouldnt complain cleaning house amp man always take trash\n"
          ]
        }
      ],
      "source": [
        "print(\"Cleaned Tweet:\", data['cleaned_tweet'].iloc[0])"
      ]
    },
    {
      "cell_type": "code",
      "execution_count": 11,
      "metadata": {
        "colab": {
          "base_uri": "https://localhost:8080/"
        },
        "id": "6VjMJn1_HzT4",
        "outputId": "6e9c5ba8-1749-4788-99f9-01655ac8226f"
      },
      "outputs": [
        {
          "name": "stdout",
          "output_type": "stream",
          "text": [
            "Tokenized Sequence: [3, 1, 290, 902, 987, 3626, 211, 21, 36, 87, 79, 19]\n"
          ]
        }
      ],
      "source": [
        "print(\"Tokenized Sequence:\", sequences[0])"
      ]
    },
    {
      "cell_type": "code",
      "execution_count": 12,
      "metadata": {
        "colab": {
          "base_uri": "https://localhost:8080/"
        },
        "id": "JtIR20JXH1uj",
        "outputId": "be4f429f-3989-4fd9-95b3-a9b3611b9836"
      },
      "outputs": [
        {
          "name": "stdout",
          "output_type": "stream",
          "text": [
            "Padded Sequence: [   3    1  290  902  987 3626  211   21   36   87   79   19    0    0\n",
            "    0    0    0    0    0    0    0    0    0    0    0    0    0    0\n",
            "    0    0]\n"
          ]
        }
      ],
      "source": [
        "print(\"Padded Sequence:\", padded_sequences[0])"
      ]
    },
    {
      "cell_type": "markdown",
      "metadata": {
        "id": "NO4GcW2zJuVV"
      },
      "source": [
        "Q3: How would you handle imbalanced classes in the Hate Speech dataset before training the\n",
        "model? Write a function to implement one method such as oversampling or undersampling."
      ]
    },
    {
      "cell_type": "code",
      "execution_count": 13,
      "metadata": {
        "colab": {
          "base_uri": "https://localhost:8080/",
          "height": 756
        },
        "id": "GCurWDbnJEo4",
        "outputId": "7adbabcf-c740-44bd-9740-40cbd670ccca"
      },
      "outputs": [
        {
          "data": {
            "image/png": "[encoded data removed]",
            "text/plain": [
              "<Figure size 800x600 with 1 Axes>"
            ]
          },
          "metadata": {},
          "output_type": "display_data"
        },
        {
          "data": {
            "text/html": [
              "<div>\n",
              "<style scoped>\n",
              "    .dataframe tbody tr th:only-of-type {\n",
              "        vertical-align: middle;\n",
              "    }\n",
              "\n",
              "    .dataframe tbody tr th {\n",
              "        vertical-align: top;\n",
              "    }\n",
              "\n",
              "    .dataframe thead th {\n",
              "        text-align: right;\n",
              "    }\n",
              "</style>\n",
              "<table border=\"1\" class=\"dataframe\">\n",
              "  <thead>\n",
              "    <tr style=\"text-align: right;\">\n",
              "      <th></th>\n",
              "      <th>count</th>\n",
              "    </tr>\n",
              "    <tr>\n",
              "      <th>class</th>\n",
              "      <th></th>\n",
              "    </tr>\n",
              "  </thead>\n",
              "  <tbody>\n",
              "    <tr>\n",
              "      <th>1</th>\n",
              "      <td>19190</td>\n",
              "    </tr>\n",
              "    <tr>\n",
              "      <th>2</th>\n",
              "      <td>4163</td>\n",
              "    </tr>\n",
              "    <tr>\n",
              "      <th>0</th>\n",
              "      <td>1430</td>\n",
              "    </tr>\n",
              "  </tbody>\n",
              "</table>\n",
              "</div><br><label><b>dtype:</b> int64</label>"
            ],
            "text/plain": [
              "class\n",
              "1    19190\n",
              "2     4163\n",
              "0     1430\n",
              "Name: count, dtype: int64"
            ]
          },
          "execution_count": 13,
          "metadata": {},
          "output_type": "execute_result"
        }
      ],
      "source": [
        "# Count the occurrences of each class label\n",
        "class_counts = data['class'].value_counts()\n",
        "\n",
        "# Create a bar plot to visualize the class distribution\n",
        "plt.figure(figsize=(8, 6))\n",
        "sns.barplot(x=class_counts.index, y=class_counts.values)\n",
        "plt.title('Class Distribution in the Dataset')\n",
        "plt.xlabel('Class Label')\n",
        "plt.ylabel('Number of Samples')\n",
        "plt.show()\n",
        "\n",
        "# Print the class counts for a more precise numerical representation\n",
        "class_counts"
      ]
    },
    {
      "cell_type": "code",
      "execution_count": 14,
      "metadata": {
        "colab": {
          "base_uri": "https://localhost:8080/"
        },
        "id": "_ozqaExDJMr7",
        "outputId": "9842bee1-f00b-44b6-d6ae-d5fb796c43b8"
      },
      "outputs": [
        {
          "name": "stdout",
          "output_type": "stream",
          "text": [
            "class\n",
            "2    19190\n",
            "0    19190\n",
            "1    19190\n",
            "Name: count, dtype: int64\n"
          ]
        }
      ],
      "source": [
        "def oversample_data(data):\n",
        "    \"\"\"\n",
        "    Performs random oversampling to balance the dataset.\n",
        "\n",
        "    Args:\n",
        "        data (DataFrame): The dataset containing the 'class' column.\n",
        "\n",
        "    Returns:\n",
        "        DataFrame: A new balanced dataset with oversampled minority classes.\n",
        "    \"\"\"\n",
        "    # Separate majority and minority classes\n",
        "    class_1 = data[data['class'] == 1]  # Majority class\n",
        "    class_2 = data[data['class'] == 2]  # Minority class\n",
        "    class_0 = data[data['class'] == 0]  # Minority class\n",
        "\n",
        "    # Determine the target sample size (equal to the majority class)\n",
        "    target_size = len(class_1)\n",
        "\n",
        "    # Oversample minority classes\n",
        "    class_2_oversampled = resample(class_2, replace=True, n_samples=target_size, random_state=42)\n",
        "    class_0_oversampled = resample(class_0, replace=True, n_samples=target_size, random_state=42)\n",
        "\n",
        "    # Combine the resampled data\n",
        "    balanced_data = pd.concat([class_1, class_2_oversampled, class_0_oversampled])\n",
        "\n",
        "    # Shuffle the dataset\n",
        "    balanced_data = balanced_data.sample(frac=1, random_state=42).reset_index(drop=True)\n",
        "\n",
        "    return balanced_data\n",
        "\n",
        "# Apply oversampling\n",
        "balanced_data = oversample_data(data)\n",
        "\n",
        "# Display new class distribution\n",
        "print(balanced_data['class'].value_counts())"
      ]
    },
    {
      "cell_type": "markdown",
      "metadata": {},
      "source": [
        "### Oversampling for Dataset Balancing\n",
        "\n",
        "The function `oversample_data`, is designed to balance an imbalanced dataset using random oversampling. Initially, the dataset has three classes with significantly different counts: Class 1 (19,190 samples), Class 2 (4,163 samples), and Class 0 (1,430 samples). Since Class 1 has the highest number of samples, it is considered the majority class, while Classes 2 and 0 are the minority classes.\n",
        "\n",
        "To balance the dataset, the function first separates each class into different subsets. It then determines a target sample size equal to the majority class (19,190 samples). Using the `resample` function, the minority classes (Class 2 and Class 0) are randomly oversampled with replacement to match this target size. Finally, the oversampled subsets are combined with the original majority class, and the dataset is shuffled to ensure randomness.\n",
        "\n",
        "After applying this function, the dataset becomes fully balanced, with each class having 19,190 samples. This technique is particularly useful in machine learning models to prevent bias toward the majority class and improve classification performance, especially when dealing with imbalanced datasets."
      ]
    },
    {
      "cell_type": "code",
      "execution_count": 15,
      "metadata": {
        "colab": {
          "base_uri": "https://localhost:8080/",
          "height": 564
        },
        "id": "oYVb8bv4KGd4",
        "outputId": "16521230-68fd-4c56-c29a-74ba08c08bb4"
      },
      "outputs": [
        {
          "data": {
            "image/png": "[encoded data removed]",
            "text/plain": [
              "<Figure size 800x600 with 1 Axes>"
            ]
          },
          "metadata": {},
          "output_type": "display_data"
        }
      ],
      "source": [
        "class_counts_balanced = balanced_data['class'].value_counts()\n",
        "\n",
        "plt.figure(figsize=(8, 6))\n",
        "sns.barplot(x=class_counts_balanced.index, y=class_counts_balanced.values)\n",
        "plt.title('Balanced Class Distribution in the Dataset')\n",
        "plt.xlabel('Class Label')\n",
        "plt.ylabel('Number of Samples')\n",
        "plt.show()"
      ]
    },
    {
      "cell_type": "code",
      "execution_count": 16,
      "metadata": {
        "colab": {
          "base_uri": "https://localhost:8080/",
          "height": 414
        },
        "id": "uPG1MfC-KLPL",
        "outputId": "bcfee42a-a9ae-4604-b87e-1f84a5703fc0"
      },
      "outputs": [
        {
          "data": {
            "application/vnd.google.colaboratory.intrinsic+json": {
              "summary": "{\n  \"name\": \"balanced_data\",\n  \"rows\": 57570,\n  \"fields\": [\n    {\n      \"column\": \"Unnamed: 0\",\n      \"properties\": {\n        \"dtype\": \"number\",\n        \"std\": 7275,\n        \"min\": 0,\n        \"max\": 25296,\n        \"num_unique_values\": 24748,\n        \"samples\": [\n          3913,\n          18746,\n          24012\n        ],\n        \"semantic_type\": \"\",\n        \"description\": \"\"\n      }\n    },\n    {\n      \"column\": \"count\",\n      \"properties\": {\n        \"dtype\": \"number\",\n        \"std\": 0,\n        \"min\": 3,\n        \"max\": 9,\n        \"num_unique_values\": 5,\n        \"samples\": [\n          6,\n          7,\n          9\n        ],\n        \"semantic_type\": \"\",\n        \"description\": \"\"\n      }\n    },\n    {\n      \"column\": \"hate_speech\",\n      \"properties\": {\n        \"dtype\": \"number\",\n        \"std\": 1,\n        \"min\": 0,\n        \"max\": 7,\n        \"num_unique_values\": 8,\n        \"samples\": [\n          2,\n          4,\n          0\n        ],\n        \"semantic_type\": \"\",\n        \"description\": \"\"\n      }\n    },\n    {\n      \"column\": \"offensive_language\",\n      \"properties\": {\n        \"dtype\": \"number\",\n        \"std\": 1,\n        \"min\": 0,\n        \"max\": 9,\n        \"num_unique_values\": 10,\n        \"samples\": [\n          7,\n          1,\n          4\n        ],\n        \"semantic_type\": \"\",\n        \"description\": \"\"\n      }\n    },\n    {\n      \"column\": \"neither\",\n      \"properties\": {\n        \"dtype\": \"number\",\n        \"std\": 1,\n        \"min\": 0,\n        \"max\": 9,\n        \"num_unique_values\": 10,\n        \"samples\": [\n          8,\n          0,\n          5\n        ],\n        \"semantic_type\": \"\",\n        \"description\": \"\"\n      }\n    },\n    {\n      \"column\": \"class\",\n      \"properties\": {\n        \"dtype\": \"number\",\n        \"std\": 0,\n        \"min\": 0,\n        \"max\": 2,\n        \"num_unique_values\": 3,\n        \"samples\": [\n          2,\n          0,\n          1\n        ],\n        \"semantic_type\": \"\",\n        \"description\": \"\"\n      }\n    },\n    {\n      \"column\": \"tweet\",\n      \"properties\": {\n        \"dtype\": \"category\",\n        \"num_unique_values\": 24748,\n        \"samples\": [\n          \"@Kenny__Wright @itsfrankybitch @Amber_Nicole_21 @Kush_Boy420 @yoPapi_chulo you cant call someone a fag if you're snuggling up with guys\",\n          \"RT @_RyanRod: RT @AmazinTheGreat: Girls say bs like \\\"you got too many hoes\\\". Stop letting twitter and IG fool you. I don't know these fucki&#8230;\",\n          \"Zach Huggins tell yo bitch to leave me tf alone\"\n        ],\n        \"semantic_type\": \"\",\n        \"description\": \"\"\n      }\n    },\n    {\n      \"column\": \"cleaned_tweet\",\n      \"properties\": {\n        \"dtype\": \"category\",\n        \"num_unique_values\": 24664,\n        \"samples\": [\n          \"jimboberson happy birthday faggot\",\n          \"imhis_treasure bitches get inches like\",\n          \"ever committ crime cite lvl sole influence\"\n        ],\n        \"semantic_type\": \"\",\n        \"description\": \"\"\n      }\n    }\n  ]\n}",
              "type": "dataframe",
              "variable_name": "balanced_data"
            },
            "text/html": [
              "\n",
              "  <div id=\"df-9644df36-9422-492f-989d-9defeb658a8b\" class=\"colab-df-container\">\n",
              "    <div>\n",
              "<style scoped>\n",
              "    .dataframe tbody tr th:only-of-type {\n",
              "        vertical-align: middle;\n",
              "    }\n",
              "\n",
              "    .dataframe tbody tr th {\n",
              "        vertical-align: top;\n",
              "    }\n",
              "\n",
              "    .dataframe thead th {\n",
              "        text-align: right;\n",
              "    }\n",
              "</style>\n",
              "<table border=\"1\" class=\"dataframe\">\n",
              "  <thead>\n",
              "    <tr style=\"text-align: right;\">\n",
              "      <th></th>\n",
              "      <th>Unnamed: 0</th>\n",
              "      <th>count</th>\n",
              "      <th>hate_speech</th>\n",
              "      <th>offensive_language</th>\n",
              "      <th>neither</th>\n",
              "      <th>class</th>\n",
              "      <th>tweet</th>\n",
              "      <th>cleaned_tweet</th>\n",
              "    </tr>\n",
              "  </thead>\n",
              "  <tbody>\n",
              "    <tr>\n",
              "      <th>0</th>\n",
              "      <td>5002</td>\n",
              "      <td>3</td>\n",
              "      <td>0</td>\n",
              "      <td>0</td>\n",
              "      <td>3</td>\n",
              "      <td>2</td>\n",
              "      <td>@TeamSky yellow in paris! Fantastic effort fro...</td>\n",
              "      <td>teamsky yellow paris fantastic effort allezwig...</td>\n",
              "    </tr>\n",
              "    <tr>\n",
              "      <th>1</th>\n",
              "      <td>12214</td>\n",
              "      <td>3</td>\n",
              "      <td>2</td>\n",
              "      <td>1</td>\n",
              "      <td>0</td>\n",
              "      <td>0</td>\n",
              "      <td>It was nice of you to unfollow me, fag</td>\n",
              "      <td>nice unfollow fag</td>\n",
              "    </tr>\n",
              "    <tr>\n",
              "      <th>2</th>\n",
              "      <td>4405</td>\n",
              "      <td>3</td>\n",
              "      <td>0</td>\n",
              "      <td>1</td>\n",
              "      <td>2</td>\n",
              "      <td>2</td>\n",
              "      <td>@NipseyHussle nip Im tryna buy a copy of #Cren...</td>\n",
              "      <td>nipseyhussle nip im tryna buy copy crenshaw ht...</td>\n",
              "    </tr>\n",
              "    <tr>\n",
              "      <th>3</th>\n",
              "      <td>2135</td>\n",
              "      <td>3</td>\n",
              "      <td>1</td>\n",
              "      <td>2</td>\n",
              "      <td>0</td>\n",
              "      <td>1</td>\n",
              "      <td>' On twitter say she ridin for a niggah &amp;#1041...</td>\n",
              "      <td>twitter say ridin niggah 10412191043215 thats ...</td>\n",
              "    </tr>\n",
              "    <tr>\n",
              "      <th>4</th>\n",
              "      <td>23863</td>\n",
              "      <td>3</td>\n",
              "      <td>0</td>\n",
              "      <td>3</td>\n",
              "      <td>0</td>\n",
              "      <td>1</td>\n",
              "      <td>You mad cuz she fucking on ya enemy? She wins ...</td>\n",
              "      <td>mad cuz fucking ya enemy wins cuz letting shit...</td>\n",
              "    </tr>\n",
              "  </tbody>\n",
              "</table>\n",
              "</div>\n",
              "    <div class=\"colab-df-buttons\">\n",
              "\n",
              "  <div class=\"colab-df-container\">\n",
              "    <button class=\"colab-df-convert\" onclick=\"convertToInteractive('df-9644df36-9422-492f-989d-9defeb658a8b')\"\n",
              "            title=\"Convert this dataframe to an interactive table.\"\n",
              "            style=\"display:none;\">\n",
              "\n",
              "  <svg xmlns=\"http://www.w3.org/2000/svg\" height=\"24px\" viewBox=\"0 -960 960 960\">\n",
              "    <path d=\"M120-120v-720h720v720H120Zm60-500h600v-160H180v160Zm220 220h160v-160H400v160Zm0 220h160v-160H400v160ZM180-400h160v-160H180v160Zm440 0h160v-160H620v160ZM180-180h160v-160H180v160Zm440 0h160v-160H620v160Z\"/>\n",
              "  </svg>\n",
              "    </button>\n",
              "\n",
              "  <style>\n",
              "    .colab-df-container {\n",
              "      display:flex;\n",
              "      gap: 12px;\n",
              "    }\n",
              "\n",
              "    .colab-df-convert {\n",
              "      background-color: #E8F0FE;\n",
              "      border: none;\n",
              "      border-radius: 50%;\n",
              "      cursor: pointer;\n",
              "      display: none;\n",
              "      fill: #1967D2;\n",
              "      height: 32px;\n",
              "      padding: 0 0 0 0;\n",
              "      width: 32px;\n",
              "    }\n",
              "\n",
              "    .colab-df-convert:hover {\n",
              "      background-color: #E2EBFA;\n",
              "      box-shadow: 0px 1px 2px rgba(60, 64, 67, 0.3), 0px 1px 3px 1px rgba(60, 64, 67, 0.15);\n",
              "      fill: #174EA6;\n",
              "    }\n",
              "\n",
              "    .colab-df-buttons div {\n",
              "      margin-bottom: 4px;\n",
              "    }\n",
              "\n",
              "    [theme=dark] .colab-df-convert {\n",
              "      background-color: #3B4455;\n",
              "      fill: #D2E3FC;\n",
              "    }\n",
              "\n",
              "    [theme=dark] .colab-df-convert:hover {\n",
              "      background-color: #434B5C;\n",
              "      box-shadow: 0px 1px 3px 1px rgba(0, 0, 0, 0.15);\n",
              "      filter: drop-shadow(0px 1px 2px rgba(0, 0, 0, 0.3));\n",
              "      fill: #FFFFFF;\n",
              "    }\n",
              "  </style>\n",
              "\n",
              "    <script>\n",
              "      const buttonEl =\n",
              "        document.querySelector('#df-9644df36-9422-492f-989d-9defeb658a8b button.colab-df-convert');\n",
              "      buttonEl.style.display =\n",
              "        google.colab.kernel.accessAllowed ? 'block' : 'none';\n",
              "\n",
              "      async function convertToInteractive(key) {\n",
              "        const element = document.querySelector('#df-9644df36-9422-492f-989d-9defeb658a8b');\n",
              "        const dataTable =\n",
              "          await google.colab.kernel.invokeFunction('convertToInteractive',\n",
              "                                                    [key], {});\n",
              "        if (!dataTable) return;\n",
              "\n",
              "        const docLinkHtml = 'Like what you see? Visit the ' +\n",
              "          '<a target=\"_blank\" href=https://colab.research.google.com/notebooks/data_table.ipynb>data table notebook</a>'\n",
              "          + ' to learn more about interactive tables.';\n",
              "        element.innerHTML = '';\n",
              "        dataTable['output_type'] = 'display_data';\n",
              "        await google.colab.output.renderOutput(dataTable, element);\n",
              "        const docLink = document.createElement('div');\n",
              "        docLink.innerHTML = docLinkHtml;\n",
              "        element.appendChild(docLink);\n",
              "      }\n",
              "    </script>\n",
              "  </div>\n",
              "\n",
              "\n",
              "<div id=\"df-40847978-b706-418c-bd9b-d27b147ad3cf\">\n",
              "  <button class=\"colab-df-quickchart\" onclick=\"quickchart('df-40847978-b706-418c-bd9b-d27b147ad3cf')\"\n",
              "            title=\"Suggest charts\"\n",
              "            style=\"display:none;\">\n",
              "\n",
              "<svg xmlns=\"http://www.w3.org/2000/svg\" height=\"24px\"viewBox=\"0 0 24 24\"\n",
              "     width=\"24px\">\n",
              "    <g>\n",
              "        <path d=\"M19 3H5c-1.1 0-2 .9-2 2v14c0 1.1.9 2 2 2h14c1.1 0 2-.9 2-2V5c0-1.1-.9-2-2-2zM9 17H7v-7h2v7zm4 0h-2V7h2v10zm4 0h-2v-4h2v4z\"/>\n",
              "    </g>\n",
              "</svg>\n",
              "  </button>\n",
              "\n",
              "<style>\n",
              "  .colab-df-quickchart {\n",
              "      --bg-color: #E8F0FE;\n",
              "      --fill-color: #1967D2;\n",
              "      --hover-bg-color: #E2EBFA;\n",
              "      --hover-fill-color: #174EA6;\n",
              "      --disabled-fill-color: #AAA;\n",
              "      --disabled-bg-color: #DDD;\n",
              "  }\n",
              "\n",
              "  [theme=dark] .colab-df-quickchart {\n",
              "      --bg-color: #3B4455;\n",
              "      --fill-color: #D2E3FC;\n",
              "      --hover-bg-color: #434B5C;\n",
              "      --hover-fill-color: #FFFFFF;\n",
              "      --disabled-bg-color: #3B4455;\n",
              "      --disabled-fill-color: #666;\n",
              "  }\n",
              "\n",
              "  .colab-df-quickchart {\n",
              "    background-color: var(--bg-color);\n",
              "    border: none;\n",
              "    border-radius: 50%;\n",
              "    cursor: pointer;\n",
              "    display: none;\n",
              "    fill: var(--fill-color);\n",
              "    height: 32px;\n",
              "    padding: 0;\n",
              "    width: 32px;\n",
              "  }\n",
              "\n",
              "  .colab-df-quickchart:hover {\n",
              "    background-color: var(--hover-bg-color);\n",
              "    box-shadow: 0 1px 2px rgba(60, 64, 67, 0.3), 0 1px 3px 1px rgba(60, 64, 67, 0.15);\n",
              "    fill: var(--button-hover-fill-color);\n",
              "  }\n",
              "\n",
              "  .colab-df-quickchart-complete:disabled,\n",
              "  .colab-df-quickchart-complete:disabled:hover {\n",
              "    background-color: var(--disabled-bg-color);\n",
              "    fill: var(--disabled-fill-color);\n",
              "    box-shadow: none;\n",
              "  }\n",
              "\n",
              "  .colab-df-spinner {\n",
              "    border: 2px solid var(--fill-color);\n",
              "    border-color: transparent;\n",
              "    border-bottom-color: var(--fill-color);\n",
              "    animation:\n",
              "      spin 1s steps(1) infinite;\n",
              "  }\n",
              "\n",
              "  @keyframes spin {\n",
              "    0% {\n",
              "      border-color: transparent;\n",
              "      border-bottom-color: var(--fill-color);\n",
              "      border-left-color: var(--fill-color);\n",
              "    }\n",
              "    20% {\n",
              "      border-color: transparent;\n",
              "      border-left-color: var(--fill-color);\n",
              "      border-top-color: var(--fill-color);\n",
              "    }\n",
              "    30% {\n",
              "      border-color: transparent;\n",
              "      border-left-color: var(--fill-color);\n",
              "      border-top-color: var(--fill-color);\n",
              "      border-right-color: var(--fill-color);\n",
              "    }\n",
              "    40% {\n",
              "      border-color: transparent;\n",
              "      border-right-color: var(--fill-color);\n",
              "      border-top-color: var(--fill-color);\n",
              "    }\n",
              "    60% {\n",
              "      border-color: transparent;\n",
              "      border-right-color: var(--fill-color);\n",
              "    }\n",
              "    80% {\n",
              "      border-color: transparent;\n",
              "      border-right-color: var(--fill-color);\n",
              "      border-bottom-color: var(--fill-color);\n",
              "    }\n",
              "    90% {\n",
              "      border-color: transparent;\n",
              "      border-bottom-color: var(--fill-color);\n",
              "    }\n",
              "  }\n",
              "</style>\n",
              "\n",
              "  <script>\n",
              "    async function quickchart(key) {\n",
              "      const quickchartButtonEl =\n",
              "        document.querySelector('#' + key + ' button');\n",
              "      quickchartButtonEl.disabled = true;  // To prevent multiple clicks.\n",
              "      quickchartButtonEl.classList.add('colab-df-spinner');\n",
              "      try {\n",
              "        const charts = await google.colab.kernel.invokeFunction(\n",
              "            'suggestCharts', [key], {});\n",
              "      } catch (error) {\n",
              "        console.error('Error during call to suggestCharts:', error);\n",
              "      }\n",
              "      quickchartButtonEl.classList.remove('colab-df-spinner');\n",
              "      quickchartButtonEl.classList.add('colab-df-quickchart-complete');\n",
              "    }\n",
              "    (() => {\n",
              "      let quickchartButtonEl =\n",
              "        document.querySelector('#df-40847978-b706-418c-bd9b-d27b147ad3cf button');\n",
              "      quickchartButtonEl.style.display =\n",
              "        google.colab.kernel.accessAllowed ? 'block' : 'none';\n",
              "    })();\n",
              "  </script>\n",
              "</div>\n",
              "\n",
              "    </div>\n",
              "  </div>\n"
            ],
            "text/plain": [
              "   Unnamed: 0  count  hate_speech  offensive_language  neither  class  \\\n",
              "0        5002      3            0                   0        3      2   \n",
              "1       12214      3            2                   1        0      0   \n",
              "2        4405      3            0                   1        2      2   \n",
              "3        2135      3            1                   2        0      1   \n",
              "4       23863      3            0                   3        0      1   \n",
              "\n",
              "                                               tweet  \\\n",
              "0  @TeamSky yellow in paris! Fantastic effort fro...   \n",
              "1             It was nice of you to unfollow me, fag   \n",
              "2  @NipseyHussle nip Im tryna buy a copy of #Cren...   \n",
              "3  ' On twitter say she ridin for a niggah &#1041...   \n",
              "4  You mad cuz she fucking on ya enemy? She wins ...   \n",
              "\n",
              "                                       cleaned_tweet  \n",
              "0  teamsky yellow paris fantastic effort allezwig...  \n",
              "1                                  nice unfollow fag  \n",
              "2  nipseyhussle nip im tryna buy copy crenshaw ht...  \n",
              "3  twitter say ridin niggah 10412191043215 thats ...  \n",
              "4  mad cuz fucking ya enemy wins cuz letting shit...  "
            ]
          },
          "execution_count": 16,
          "metadata": {},
          "output_type": "execute_result"
        }
      ],
      "source": [
        "balanced_data.head()"
      ]
    },
    {
      "cell_type": "code",
      "execution_count": 17,
      "metadata": {
        "colab": {
          "base_uri": "https://localhost:8080/"
        },
        "id": "yjT-G0sAKOxj",
        "outputId": "14fe332c-2739-488c-806c-ca9b362be098"
      },
      "outputs": [
        {
          "name": "stdout",
          "output_type": "stream",
          "text": [
            "<class 'pandas.core.frame.DataFrame'>\n",
            "RangeIndex: 57570 entries, 0 to 57569\n",
            "Data columns (total 8 columns):\n",
            " #   Column              Non-Null Count  Dtype \n",
            "---  ------              --------------  ----- \n",
            " 0   Unnamed: 0          57570 non-null  int64 \n",
            " 1   count               57570 non-null  int64 \n",
            " 2   hate_speech         57570 non-null  int64 \n",
            " 3   offensive_language  57570 non-null  int64 \n",
            " 4   neither             57570 non-null  int64 \n",
            " 5   class               57570 non-null  int64 \n",
            " 6   tweet               57570 non-null  object\n",
            " 7   cleaned_tweet       57570 non-null  object\n",
            "dtypes: int64(6), object(2)\n",
            "memory usage: 3.5+ MB\n"
          ]
        }
      ],
      "source": [
        "balanced_data.info()"
      ]
    },
    {
      "cell_type": "markdown",
      "metadata": {
        "id": "jazchjRNIvxg"
      },
      "source": [
        "**Explanation**"
      ]
    },
    {
      "cell_type": "markdown",
      "metadata": {
        "id": "bgWcFdvKIyLN"
      },
      "source": [
        "We used **oversampling** to handle the class imbalance in the dataset. Given the distribution of classes:  \n",
        "\n",
        "- **Class 1 (Offensive Language):** 19,190 samples  \n",
        "- **Class 2 (Neither):** 4,163 samples  \n",
        "- **Class 0 (Hate Speech):** 1,430 samples  \n",
        "\n",
        "The dataset was highly skewed, with significantly fewer hate speech instances. To balance the dataset, we applied **oversampling** to increase the number of samples in the minority classes. This helped prevent the model from being biased toward the majority class and improved its ability to correctly classify underrepresented categories."
      ]
    },
    {
      "cell_type": "markdown",
      "metadata": {
        "id": "sSa3od8TLxt7"
      },
      "source": [
        "Q4: Write a script to train Word2Vec embeddings on the Hate Speech dataset using the gensim\n",
        "library."
      ]
    },
    {
      "cell_type": "code",
      "execution_count": 23,
      "metadata": {
        "colab": {
          "base_uri": "https://localhost:8080/"
        },
        "id": "hfWidDMYKX1Y",
        "outputId": "6ccd305c-951e-45e2-8606-d855d0876a99"
      },
      "outputs": [
        {
          "name": "stdout",
          "output_type": "stream",
          "text": [
            "[('steelers', 0.6737039685249329), ('tyler_weddle_23', 0.6731394529342651), ('redfernave', 0.6692674160003662), ('8220sexualgif', 0.6670570969581604), ('blew', 0.6661432385444641)]\n"
          ]
        }
      ],
      "source": [
        "# Prepare data: Convert tokenized sequences back to words\n",
        "tokenized_texts = [text.split() for text in balanced_data['cleaned_tweet']]\n",
        "\n",
        "# Train Word2Vec model\n",
        "word2vec_model = Word2Vec(\n",
        "    sentences=tokenized_texts,  # Input data\n",
        "    vector_size=100,  # Embedding size\n",
        "    window=5,  # Context window size\n",
        "    min_count=2,  # Ignore words with low frequency\n",
        "    workers=4,  # Parallel processing\n",
        "    sg=1  # Skip-gram model (better for small datasets)\n",
        ")\n",
        "\n",
        "# Save the trained Word2Vec model\n",
        "word2vec_model.save(\"word2vec_hate_speech.model\")\n",
        "\n",
        "# Check the most similar words to a sample word\n",
        "print(word2vec_model.wv.most_similar(\"hate\", topn=5))"
      ]
    },
    {
      "cell_type": "markdown",
      "metadata": {},
      "source": [
        "### Word Embedding with Word2Vec\n",
        "\n",
        "The provided code trains a **Word2Vec** model to generate word embeddings from the preprocessed dataset. Word embeddings are numerical vector representations of words that capture their semantic meaning, which is essential for NLP tasks like sentiment analysis and text classification.\n",
        "\n",
        "First, the text is tokenized by splitting each cleaned tweet into a list of words. This tokenized data is then used to train a **Word2Vec** model with the following configurations:\n",
        "- **`vector_size=100`**: Each word is represented as a 100-dimensional vector.\n",
        "- **`window=5`**: The model considers a context window of 5 words around the target word.\n",
        "- **`min_count=2`**: Words that appear fewer than 2 times are ignored.\n",
        "- **`workers=4`**: Enables parallel processing for faster training.\n",
        "- **`sg=1`**: Uses the **Skip-gram** model, which performs well on smaller datasets by predicting context words based on a target word.\n",
        "\n",
        "After training, the model is saved as `\"word2vec_hate_speech.model\"`, allowing for future reuse without retraining. To test its effectiveness, the function `most_similar(\"hate\", topn=5)` retrieves the five most semantically similar words to \"hate,\" demonstrating how the model captures word relationships."
      ]
    },
    {
      "cell_type": "markdown",
      "metadata": {
        "id": "7fiOc6ulMQRv"
      },
      "source": [
        "Q5: Compare the performance of Word2Vec, GloVe, and FastText embeddings by integrating\n",
        "them into the same deep learning model on the Hate Speech dataset."
      ]
    },
    {
      "cell_type": "markdown",
      "metadata": {
        "id": "wEbROao4W9H6"
      },
      "source": [
        "**Load Word2Vec, GloVe, and FastText**"
      ]
    },
    {
      "cell_type": "code",
      "execution_count": 24,
      "metadata": {
        "id": "UVRhgRniLoPk"
      },
      "outputs": [],
      "source": [
        "# Load Word2Vec model\n",
        "word2vec_model = gensim.models.Word2Vec.load(\"/content/word2vec_hate_speech.model\")"
      ]
    },
    {
      "cell_type": "code",
      "execution_count": 25,
      "metadata": {
        "id": "bjew57nDMexF"
      },
      "outputs": [],
      "source": [
        "# GloVe\n",
        "glove_url = \"http://nlp.stanford.edu/data/glove.6B.zip\"\n",
        "glove_zip_path = \"glove.6B.zip\""
      ]
    },
    {
      "cell_type": "code",
      "execution_count": 26,
      "metadata": {
        "colab": {
          "base_uri": "https://localhost:8080/"
        },
        "id": "qeU3utu0M169",
        "outputId": "08e9bd3d-219a-4712-c967-0bbfc082feaa"
      },
      "outputs": [
        {
          "name": "stdout",
          "output_type": "stream",
          "text": [
            "GloVe embeddings downloaded.\n"
          ]
        }
      ],
      "source": [
        "# Downloading GloVe embeddings\n",
        "import requests\n",
        "response = requests.get(glove_url)\n",
        "with open(glove_zip_path, 'wb') as f:\n",
        "    f.write(response.content)\n",
        "print(\"GloVe embeddings downloaded.\")"
      ]
    },
    {
      "cell_type": "code",
      "execution_count": 27,
      "metadata": {
        "colab": {
          "base_uri": "https://localhost:8080/"
        },
        "id": "yktcSbGNNIgA",
        "outputId": "dbf69fcd-9ccb-40c2-f588-59841e7b52cb"
      },
      "outputs": [
        {
          "name": "stdout",
          "output_type": "stream",
          "text": [
            "GloVe embeddings extracted.\n"
          ]
        }
      ],
      "source": [
        "# Unzipping the downloaded file\n",
        "with zipfile.ZipFile(glove_zip_path, 'r') as zip_ref:\n",
        "    zip_ref.extractall()\n",
        "print(\"GloVe embeddings extracted.\")"
      ]
    },
    {
      "cell_type": "code",
      "execution_count": 28,
      "metadata": {
        "id": "ao5y6EbyNKja"
      },
      "outputs": [],
      "source": [
        "# Cleaning up the zip file\n",
        "os.remove(glove_zip_path)"
      ]
    },
    {
      "cell_type": "code",
      "execution_count": 29,
      "metadata": {
        "id": "NdgicsTWMUKy"
      },
      "outputs": [],
      "source": [
        "# Load GloVe embeddings\n",
        "def load_glove_embeddings(filepath, embedding_dim=100):\n",
        "    embeddings_index = {}\n",
        "    with open(filepath, encoding=\"utf8\") as f:\n",
        "        for line in f:\n",
        "            values = line.split()\n",
        "            word = values[0]\n",
        "            embeddings_index[word] = np.asarray(values[1:], dtype='float32')\n",
        "    return embeddings_index\n",
        "\n",
        "glove_embeddings = load_glove_embeddings(\"/content/glove.6B.100d.txt\")"
      ]
    },
    {
      "cell_type": "code",
      "execution_count": 30,
      "metadata": {
        "colab": {
          "base_uri": "https://localhost:8080/"
        },
        "id": "DHKM4EqcMaJB",
        "outputId": "e3e9542c-02d2-413c-8107-41519f8d6e8e"
      },
      "outputs": [
        {
          "name": "stdout",
          "output_type": "stream",
          "text": [
            "[==================================================] 100.0% 958.5/958.4MB downloaded\n",
            "\n",
            "FastText model downloaded.\n",
            "FastText model downloaded.\n"
          ]
        }
      ],
      "source": [
        "# FastText\n",
        "fasttext_model = api.load(\"fasttext-wiki-news-subwords-300\")\n",
        "print(\"FastText model downloaded.\")"
      ]
    },
    {
      "cell_type": "markdown",
      "metadata": {
        "id": "PAmA9rKsW4i4"
      },
      "source": [
        "**Create Embedding Matrices**"
      ]
    },
    {
      "cell_type": "code",
      "execution_count": 31,
      "metadata": {
        "id": "Q0N8col0Og0T"
      },
      "outputs": [],
      "source": [
        "# Tokenize text again to match embeddings\n",
        "tokenizer = Tokenizer(num_words=10000, oov_token=\"<OOV>\")\n",
        "tokenizer.fit_on_texts(balanced_data['cleaned_tweet'])\n",
        "word_index = tokenizer.word_index\n",
        "vocab_size = len(word_index) + 1  # +1 for padding token"
      ]
    },
    {
      "cell_type": "code",
      "execution_count": 32,
      "metadata": {
        "id": "PteJ2fCsOS0B"
      },
      "outputs": [],
      "source": [
        "def create_embedding_matrix(word_index, embedding_model, embedding_dim=100):\n",
        "    \"\"\"\n",
        "    Creates an embedding matrix for the given vocabulary using the provided\n",
        "    embedding model.\n",
        "\n",
        "    Args:\n",
        "        word_index (dict): A dictionary mapping words to their indices.\n",
        "        embedding_model (object): The embedding model (e.g., Word2Vec, GloVe, FastText).\n",
        "        embedding_dim (int, optional): The dimensionality of the embeddings.\n",
        "                                       If None, it will be inferred from the embedding model.\n",
        "                                       Defaults to None.\n",
        "\n",
        "    Returns:\n",
        "        np.ndarray: The embedding matrix.\n",
        "    \"\"\"\n",
        "    # Infer embedding dimension if not provided\n",
        "    if embedding_dim is None:\n",
        "        # Get the embedding dimension from the model's vector_size attribute if available\n",
        "        if hasattr(embedding_model, 'vector_size'):\n",
        "            embedding_dim = embedding_model.vector_size\n",
        "        else:\n",
        "            # Fallback to previous method if vector_size is not available\n",
        "            # (e.g., for GloVe embeddings)\n",
        "            first_word = next(iter(embedding_model))\n",
        "            embedding_dim = len(embedding_model[first_word])\n",
        "\n",
        "    embedding_matrix = np.zeros((vocab_size, embedding_dim))\n",
        "    for word, i in word_index.items():\n",
        "        if word in embedding_model:  # Check if the word is in the vocabulary\n",
        "            embedding_matrix[i] = embedding_model[word]  # Get the embedding for the word\n",
        "    return embedding_matrix"
      ]
    },
    {
      "cell_type": "code",
      "execution_count": 33,
      "metadata": {
        "id": "nmBDsOjWOkNI"
      },
      "outputs": [],
      "source": [
        "# Create embedding matrices\n",
        "word2vec_matrix = create_embedding_matrix(word_index, word2vec_model.wv)\n",
        "glove_matrix = create_embedding_matrix(word_index, glove_embeddings)\n",
        "fasttext_matrix = create_embedding_matrix(word_index, fasttext_model, embedding_dim=300)"
      ]
    },
    {
      "cell_type": "markdown",
      "metadata": {
        "id": "CkVNrzdzWyOg"
      },
      "source": [
        "**Define LSTM Model**"
      ]
    },
    {
      "cell_type": "code",
      "execution_count": 43,
      "metadata": {
        "id": "BGOSmyVXS7uF"
      },
      "outputs": [],
      "source": [
        "def build_lstm_model(embedding_matrix):\n",
        "    # Get the embedding dimension from the embedding matrix\n",
        "    embedding_dim = embedding_matrix.shape[1]\n",
        "\n",
        "    model = Sequential([\n",
        "        # Use the correct embedding_dim\n",
        "        Embedding(input_dim=vocab_size, output_dim=embedding_dim, weights=[embedding_matrix], trainable=False),\n",
        "        LSTM(128, return_sequences=False),\n",
        "        Dropout(0.5),\n",
        "        Dense(64, activation='relu'),\n",
        "        Dense(3, activation='softmax')   # 3 classes: hate speech, offensive, neither\n",
        "    ])\n",
        "    model.compile(loss='sparse_categorical_crossentropy', optimizer=Adam(learning_rate=0.001), metrics=['accuracy'])\n",
        "    return model"
      ]
    },
    {
      "cell_type": "markdown",
      "metadata": {
        "id": "2EOTojtiWuv0"
      },
      "source": [
        "**Train & Evaluate Models**"
      ]
    },
    {
      "cell_type": "code",
      "execution_count": 44,
      "metadata": {
        "id": "rU9FpjvXSKWJ"
      },
      "outputs": [],
      "source": [
        "# Convert text to sequences and pad\n",
        "sequences = tokenizer.texts_to_sequences(balanced_data['cleaned_tweet'])\n",
        "padded_sequences = pad_sequences(sequences, maxlen=50)"
      ]
    },
    {
      "cell_type": "code",
      "execution_count": 45,
      "metadata": {
        "id": "ecLcUI7sSR9L"
      },
      "outputs": [],
      "source": [
        "# Split data\n",
        "X_train, X_test, y_train, y_test = train_test_split(padded_sequences, balanced_data['class'], test_size=0.2, random_state=42)"
      ]
    },
    {
      "cell_type": "code",
      "execution_count": 46,
      "metadata": {
        "colab": {
          "base_uri": "https://localhost:8080/"
        },
        "id": "lMcT9NrvST0V",
        "outputId": "9e6bf961-cb18-4b33-b6f4-bff85c0651fd"
      },
      "outputs": [
        {
          "data": {
            "text/plain": [
              "(46056, 50)"
            ]
          },
          "execution_count": 46,
          "metadata": {},
          "output_type": "execute_result"
        }
      ],
      "source": [
        "X_train.shape"
      ]
    },
    {
      "cell_type": "code",
      "execution_count": 47,
      "metadata": {
        "colab": {
          "base_uri": "https://localhost:8080/"
        },
        "id": "uoZ-idiuSaQF",
        "outputId": "a1065cff-a4ff-4bbd-d33d-30a6b56f4c07"
      },
      "outputs": [
        {
          "data": {
            "text/plain": [
              "(11514, 50)"
            ]
          },
          "execution_count": 47,
          "metadata": {},
          "output_type": "execute_result"
        }
      ],
      "source": [
        "X_test.shape"
      ]
    },
    {
      "cell_type": "code",
      "execution_count": 48,
      "metadata": {
        "id": "1uITAMQlSd2W"
      },
      "outputs": [],
      "source": [
        "# Train LSTM models for each embedding\n",
        "models = {\n",
        "    \"Word2Vec\": build_lstm_model(word2vec_matrix),\n",
        "    \"GloVe\": build_lstm_model(glove_matrix),\n",
        "    \"FastText\": build_lstm_model(fasttext_matrix)\n",
        "}"
      ]
    },
    {
      "cell_type": "code",
      "execution_count": 50,
      "metadata": {
        "colab": {
          "base_uri": "https://localhost:8080/",
          "height": 305
        },
        "id": "4kCsOD1waQXs",
        "outputId": "272351fa-42d4-4dff-fa59-446b3f33451f"
      },
      "outputs": [
        {
          "data": {
            "text/html": [
              "<pre style=\"white-space:pre;overflow-x:auto;line-height:normal;font-family:Menlo,'DejaVu Sans Mono',consolas,'Courier New',monospace\"><span style=\"font-weight: bold\">Model: \"sequential_5\"</span>\n",
              "</pre>\n"
            ],
            "text/plain": [
              "\u001b[1mModel: \"sequential_5\"\u001b[0m\n"
            ]
          },
          "metadata": {},
          "output_type": "display_data"
        },
        {
          "data": {
            "text/html": [
              "<pre style=\"white-space:pre;overflow-x:auto;line-height:normal;font-family:Menlo,'DejaVu Sans Mono',consolas,'Courier New',monospace\">┏━━━━━━━━━━━━━━━━━━━━━━━━━━━━━━━━━━━━━━┳━━━━━━━━━━━━━━━━━━━━━━━━━━━━━┳━━━━━━━━━━━━━━━━━┓\n",
              "┃<span style=\"font-weight: bold\"> Layer (type)                         </span>┃<span style=\"font-weight: bold\"> Output Shape                </span>┃<span style=\"font-weight: bold\">         Param # </span>┃\n",
              "┡━━━━━━━━━━━━━━━━━━━━━━━━━━━━━━━━━━━━━━╇━━━━━━━━━━━━━━━━━━━━━━━━━━━━━╇━━━━━━━━━━━━━━━━━┩\n",
              "│ embedding_5 (<span style=\"color: #0087ff; text-decoration-color: #0087ff\">Embedding</span>)              │ (<span style=\"color: #00d7ff; text-decoration-color: #00d7ff\">None</span>, <span style=\"color: #00af00; text-decoration-color: #00af00\">50</span>, <span style=\"color: #00af00; text-decoration-color: #00af00\">300</span>)             │      <span style=\"color: #00af00; text-decoration-color: #00af00\">12,220,200</span> │\n",
              "├──────────────────────────────────────┼─────────────────────────────┼─────────────────┤\n",
              "│ lstm_5 (<span style=\"color: #0087ff; text-decoration-color: #0087ff\">LSTM</span>)                        │ (<span style=\"color: #00d7ff; text-decoration-color: #00d7ff\">None</span>, <span style=\"color: #00af00; text-decoration-color: #00af00\">128</span>)                 │         <span style=\"color: #00af00; text-decoration-color: #00af00\">219,648</span> │\n",
              "├──────────────────────────────────────┼─────────────────────────────┼─────────────────┤\n",
              "│ dropout_5 (<span style=\"color: #0087ff; text-decoration-color: #0087ff\">Dropout</span>)                  │ (<span style=\"color: #00d7ff; text-decoration-color: #00d7ff\">None</span>, <span style=\"color: #00af00; text-decoration-color: #00af00\">128</span>)                 │               <span style=\"color: #00af00; text-decoration-color: #00af00\">0</span> │\n",
              "├──────────────────────────────────────┼─────────────────────────────┼─────────────────┤\n",
              "│ dense_10 (<span style=\"color: #0087ff; text-decoration-color: #0087ff\">Dense</span>)                     │ (<span style=\"color: #00d7ff; text-decoration-color: #00d7ff\">None</span>, <span style=\"color: #00af00; text-decoration-color: #00af00\">64</span>)                  │           <span style=\"color: #00af00; text-decoration-color: #00af00\">8,256</span> │\n",
              "├──────────────────────────────────────┼─────────────────────────────┼─────────────────┤\n",
              "│ dense_11 (<span style=\"color: #0087ff; text-decoration-color: #0087ff\">Dense</span>)                     │ (<span style=\"color: #00d7ff; text-decoration-color: #00d7ff\">None</span>, <span style=\"color: #00af00; text-decoration-color: #00af00\">3</span>)                   │             <span style=\"color: #00af00; text-decoration-color: #00af00\">195</span> │\n",
              "└──────────────────────────────────────┴─────────────────────────────┴─────────────────┘\n",
              "</pre>\n"
            ],
            "text/plain": [
              "┏━━━━━━━━━━━━━━━━━━━━━━━━━━━━━━━━━━━━━━┳━━━━━━━━━━━━━━━━━━━━━━━━━━━━━┳━━━━━━━━━━━━━━━━━┓\n",
              "┃\u001b[1m \u001b[0m\u001b[1mLayer (type)                        \u001b[0m\u001b[1m \u001b[0m┃\u001b[1m \u001b[0m\u001b[1mOutput Shape               \u001b[0m\u001b[1m \u001b[0m┃\u001b[1m \u001b[0m\u001b[1m        Param #\u001b[0m\u001b[1m \u001b[0m┃\n",
              "┡━━━━━━━━━━━━━━━━━━━━━━━━━━━━━━━━━━━━━━╇━━━━━━━━━━━━━━━━━━━━━━━━━━━━━╇━━━━━━━━━━━━━━━━━┩\n",
              "│ embedding_5 (\u001b[38;5;33mEmbedding\u001b[0m)              │ (\u001b[38;5;45mNone\u001b[0m, \u001b[38;5;34m50\u001b[0m, \u001b[38;5;34m300\u001b[0m)             │      \u001b[38;5;34m12,220,200\u001b[0m │\n",
              "├──────────────────────────────────────┼─────────────────────────────┼─────────────────┤\n",
              "│ lstm_5 (\u001b[38;5;33mLSTM\u001b[0m)                        │ (\u001b[38;5;45mNone\u001b[0m, \u001b[38;5;34m128\u001b[0m)                 │         \u001b[38;5;34m219,648\u001b[0m │\n",
              "├──────────────────────────────────────┼─────────────────────────────┼─────────────────┤\n",
              "│ dropout_5 (\u001b[38;5;33mDropout\u001b[0m)                  │ (\u001b[38;5;45mNone\u001b[0m, \u001b[38;5;34m128\u001b[0m)                 │               \u001b[38;5;34m0\u001b[0m │\n",
              "├──────────────────────────────────────┼─────────────────────────────┼─────────────────┤\n",
              "│ dense_10 (\u001b[38;5;33mDense\u001b[0m)                     │ (\u001b[38;5;45mNone\u001b[0m, \u001b[38;5;34m64\u001b[0m)                  │           \u001b[38;5;34m8,256\u001b[0m │\n",
              "├──────────────────────────────────────┼─────────────────────────────┼─────────────────┤\n",
              "│ dense_11 (\u001b[38;5;33mDense\u001b[0m)                     │ (\u001b[38;5;45mNone\u001b[0m, \u001b[38;5;34m3\u001b[0m)                   │             \u001b[38;5;34m195\u001b[0m │\n",
              "└──────────────────────────────────────┴─────────────────────────────┴─────────────────┘\n"
            ]
          },
          "metadata": {},
          "output_type": "display_data"
        },
        {
          "data": {
            "text/html": [
              "<pre style=\"white-space:pre;overflow-x:auto;line-height:normal;font-family:Menlo,'DejaVu Sans Mono',consolas,'Courier New',monospace\"><span style=\"font-weight: bold\"> Total params: </span><span style=\"color: #00af00; text-decoration-color: #00af00\">12,904,499</span> (49.23 MB)\n",
              "</pre>\n"
            ],
            "text/plain": [
              "\u001b[1m Total params: \u001b[0m\u001b[38;5;34m12,904,499\u001b[0m (49.23 MB)\n"
            ]
          },
          "metadata": {},
          "output_type": "display_data"
        },
        {
          "data": {
            "text/html": [
              "<pre style=\"white-space:pre;overflow-x:auto;line-height:normal;font-family:Menlo,'DejaVu Sans Mono',consolas,'Courier New',monospace\"><span style=\"font-weight: bold\"> Trainable params: </span><span style=\"color: #00af00; text-decoration-color: #00af00\">228,099</span> (891.01 KB)\n",
              "</pre>\n"
            ],
            "text/plain": [
              "\u001b[1m Trainable params: \u001b[0m\u001b[38;5;34m228,099\u001b[0m (891.01 KB)\n"
            ]
          },
          "metadata": {},
          "output_type": "display_data"
        },
        {
          "data": {
            "text/html": [
              "<pre style=\"white-space:pre;overflow-x:auto;line-height:normal;font-family:Menlo,'DejaVu Sans Mono',consolas,'Courier New',monospace\"><span style=\"font-weight: bold\"> Non-trainable params: </span><span style=\"color: #00af00; text-decoration-color: #00af00\">12,220,200</span> (46.62 MB)\n",
              "</pre>\n"
            ],
            "text/plain": [
              "\u001b[1m Non-trainable params: \u001b[0m\u001b[38;5;34m12,220,200\u001b[0m (46.62 MB)\n"
            ]
          },
          "metadata": {},
          "output_type": "display_data"
        },
        {
          "data": {
            "text/html": [
              "<pre style=\"white-space:pre;overflow-x:auto;line-height:normal;font-family:Menlo,'DejaVu Sans Mono',consolas,'Courier New',monospace\"><span style=\"font-weight: bold\"> Optimizer params: </span><span style=\"color: #00af00; text-decoration-color: #00af00\">456,200</span> (1.74 MB)\n",
              "</pre>\n"
            ],
            "text/plain": [
              "\u001b[1m Optimizer params: \u001b[0m\u001b[38;5;34m456,200\u001b[0m (1.74 MB)\n"
            ]
          },
          "metadata": {},
          "output_type": "display_data"
        }
      ],
      "source": [
        "model.summary()"
      ]
    },
    {
      "cell_type": "code",
      "execution_count": 49,
      "metadata": {
        "colab": {
          "base_uri": "https://localhost:8080/"
        },
        "id": "hvg9DS_aRrlh",
        "outputId": "9f7fd799-9603-4d78-a117-5aebb92d40b2"
      },
      "outputs": [
        {
          "name": "stdout",
          "output_type": "stream",
          "text": [
            "\n",
            "Training Word2Vec model...\n",
            "Epoch 1/10\n",
            "\u001b[1m1440/1440\u001b[0m \u001b[32m━━━━━━━━━━━━━━━━━━━━\u001b[0m\u001b[37m\u001b[0m \u001b[1m22s\u001b[0m 13ms/step - accuracy: 0.7747 - loss: 0.5434 - val_accuracy: 0.9003 - val_loss: 0.2729\n",
            "Epoch 2/10\n",
            "\u001b[1m1440/1440\u001b[0m \u001b[32m━━━━━━━━━━━━━━━━━━━━\u001b[0m\u001b[37m\u001b[0m \u001b[1m21s\u001b[0m 13ms/step - accuracy: 0.9004 - loss: 0.2758 - val_accuracy: 0.9275 - val_loss: 0.2089\n",
            "Epoch 3/10\n",
            "\u001b[1m1440/1440\u001b[0m \u001b[32m━━━━━━━━━━━━━━━━━━━━\u001b[0m\u001b[37m\u001b[0m \u001b[1m19s\u001b[0m 14ms/step - accuracy: 0.9279 - loss: 0.2078 - val_accuracy: 0.9399 - val_loss: 0.1668\n",
            "Epoch 4/10\n",
            "\u001b[1m1440/1440\u001b[0m \u001b[32m━━━━━━━━━━━━━━━━━━━━\u001b[0m\u001b[37m\u001b[0m \u001b[1m20s\u001b[0m 13ms/step - accuracy: 0.9442 - loss: 0.1636 - val_accuracy: 0.9554 - val_loss: 0.1308\n",
            "Epoch 5/10\n",
            "\u001b[1m1440/1440\u001b[0m \u001b[32m━━━━━━━━━━━━━━━━━━━━\u001b[0m\u001b[37m\u001b[0m \u001b[1m17s\u001b[0m 12ms/step - accuracy: 0.9549 - loss: 0.1340 - val_accuracy: 0.9545 - val_loss: 0.1312\n",
            "Epoch 6/10\n",
            "\u001b[1m1440/1440\u001b[0m \u001b[32m━━━━━━━━━━━━━━━━━━━━\u001b[0m\u001b[37m\u001b[0m \u001b[1m15s\u001b[0m 10ms/step - accuracy: 0.9606 - loss: 0.1142 - val_accuracy: 0.9624 - val_loss: 0.1106\n",
            "Epoch 7/10\n",
            "\u001b[1m1440/1440\u001b[0m \u001b[32m━━━━━━━━━━━━━━━━━━━━\u001b[0m\u001b[37m\u001b[0m \u001b[1m18s\u001b[0m 13ms/step - accuracy: 0.9663 - loss: 0.1012 - val_accuracy: 0.9677 - val_loss: 0.1026\n",
            "Epoch 8/10\n",
            "\u001b[1m1440/1440\u001b[0m \u001b[32m━━━━━━━━━━━━━━━━━━━━\u001b[0m\u001b[37m\u001b[0m \u001b[1m19s\u001b[0m 13ms/step - accuracy: 0.9730 - loss: 0.0825 - val_accuracy: 0.9688 - val_loss: 0.0960\n",
            "Epoch 9/10\n",
            "\u001b[1m1440/1440\u001b[0m \u001b[32m━━━━━━━━━━━━━━━━━━━━\u001b[0m\u001b[37m\u001b[0m \u001b[1m18s\u001b[0m 13ms/step - accuracy: 0.9755 - loss: 0.0737 - val_accuracy: 0.9646 - val_loss: 0.1142\n",
            "Epoch 10/10\n",
            "\u001b[1m1440/1440\u001b[0m \u001b[32m━━━━━━━━━━━━━━━━━━━━\u001b[0m\u001b[37m\u001b[0m \u001b[1m21s\u001b[0m 13ms/step - accuracy: 0.9767 - loss: 0.0703 - val_accuracy: 0.9760 - val_loss: 0.0815\n",
            "\n",
            "Training GloVe model...\n",
            "Epoch 1/10\n",
            "\u001b[1m1440/1440\u001b[0m \u001b[32m━━━━━━━━━━━━━━━━━━━━\u001b[0m\u001b[37m\u001b[0m \u001b[1m22s\u001b[0m 14ms/step - accuracy: 0.7324 - loss: 0.6420 - val_accuracy: 0.8538 - val_loss: 0.3845\n",
            "Epoch 2/10\n",
            "\u001b[1m1440/1440\u001b[0m \u001b[32m━━━━━━━━━━━━━━━━━━━━\u001b[0m\u001b[37m\u001b[0m \u001b[1m16s\u001b[0m 11ms/step - accuracy: 0.8622 - loss: 0.3600 - val_accuracy: 0.9097 - val_loss: 0.2517\n",
            "Epoch 3/10\n",
            "\u001b[1m1440/1440\u001b[0m \u001b[32m━━━━━━━━━━━━━━━━━━━━\u001b[0m\u001b[37m\u001b[0m \u001b[1m17s\u001b[0m 9ms/step - accuracy: 0.9094 - loss: 0.2463 - val_accuracy: 0.9308 - val_loss: 0.1967\n",
            "Epoch 4/10\n",
            "\u001b[1m1440/1440\u001b[0m \u001b[32m━━━━━━━━━━━━━━━━━━━━\u001b[0m\u001b[37m\u001b[0m \u001b[1m20s\u001b[0m 8ms/step - accuracy: 0.9349 - loss: 0.1811 - val_accuracy: 0.9393 - val_loss: 0.1817\n",
            "Epoch 5/10\n",
            "\u001b[1m1440/1440\u001b[0m \u001b[32m━━━━━━━━━━━━━━━━━━━━\u001b[0m\u001b[37m\u001b[0m \u001b[1m21s\u001b[0m 8ms/step - accuracy: 0.9502 - loss: 0.1429 - val_accuracy: 0.9495 - val_loss: 0.1486\n",
            "Epoch 6/10\n",
            "\u001b[1m1440/1440\u001b[0m \u001b[32m━━━━━━━━━━━━━━━━━━━━\u001b[0m\u001b[37m\u001b[0m \u001b[1m21s\u001b[0m 9ms/step - accuracy: 0.9566 - loss: 0.1215 - val_accuracy: 0.9545 - val_loss: 0.1384\n",
            "Epoch 7/10\n",
            "\u001b[1m1440/1440\u001b[0m \u001b[32m━━━━━━━━━━━━━━━━━━━━\u001b[0m\u001b[37m\u001b[0m \u001b[1m19s\u001b[0m 8ms/step - accuracy: 0.9658 - loss: 0.1009 - val_accuracy: 0.9589 - val_loss: 0.1291\n",
            "Epoch 8/10\n",
            "\u001b[1m1440/1440\u001b[0m \u001b[32m━━━━━━━━━━━━━━━━━━━━\u001b[0m\u001b[37m\u001b[0m \u001b[1m22s\u001b[0m 9ms/step - accuracy: 0.9733 - loss: 0.0796 - val_accuracy: 0.9553 - val_loss: 0.1620\n",
            "Epoch 9/10\n",
            "\u001b[1m1440/1440\u001b[0m \u001b[32m━━━━━━━━━━━━━━━━━━━━\u001b[0m\u001b[37m\u001b[0m \u001b[1m21s\u001b[0m 9ms/step - accuracy: 0.9752 - loss: 0.0736 - val_accuracy: 0.9617 - val_loss: 0.1335\n",
            "Epoch 10/10\n",
            "\u001b[1m1440/1440\u001b[0m \u001b[32m━━━━━━━━━━━━━━━━━━━━\u001b[0m\u001b[37m\u001b[0m \u001b[1m20s\u001b[0m 9ms/step - accuracy: 0.9795 - loss: 0.0616 - val_accuracy: 0.9626 - val_loss: 0.1303\n",
            "\n",
            "Training FastText model...\n",
            "Epoch 1/10\n",
            "\u001b[1m1440/1440\u001b[0m \u001b[32m━━━━━━━━━━━━━━━━━━━━\u001b[0m\u001b[37m\u001b[0m \u001b[1m16s\u001b[0m 10ms/step - accuracy: 0.7315 - loss: 0.6345 - val_accuracy: 0.8206 - val_loss: 0.4493\n",
            "Epoch 2/10\n",
            "\u001b[1m1440/1440\u001b[0m \u001b[32m━━━━━━━━━━━━━━━━━━━━\u001b[0m\u001b[37m\u001b[0m \u001b[1m19s\u001b[0m 9ms/step - accuracy: 0.8354 - loss: 0.4137 - val_accuracy: 0.8715 - val_loss: 0.3391\n",
            "Epoch 3/10\n",
            "\u001b[1m1440/1440\u001b[0m \u001b[32m━━━━━━━━━━━━━━━━━━━━\u001b[0m\u001b[37m\u001b[0m \u001b[1m20s\u001b[0m 9ms/step - accuracy: 0.8729 - loss: 0.3310 - val_accuracy: 0.8963 - val_loss: 0.2869\n",
            "Epoch 4/10\n",
            "\u001b[1m1440/1440\u001b[0m \u001b[32m━━━━━━━━━━━━━━━━━━━━\u001b[0m\u001b[37m\u001b[0m \u001b[1m21s\u001b[0m 9ms/step - accuracy: 0.9015 - loss: 0.2672 - val_accuracy: 0.9075 - val_loss: 0.2546\n",
            "Epoch 5/10\n",
            "\u001b[1m1440/1440\u001b[0m \u001b[32m━━━━━━━━━━━━━━━━━━━━\u001b[0m\u001b[37m\u001b[0m \u001b[1m20s\u001b[0m 9ms/step - accuracy: 0.9150 - loss: 0.2373 - val_accuracy: 0.9088 - val_loss: 0.2490\n",
            "Epoch 6/10\n",
            "\u001b[1m1440/1440\u001b[0m \u001b[32m━━━━━━━━━━━━━━━━━━━━\u001b[0m\u001b[37m\u001b[0m \u001b[1m21s\u001b[0m 9ms/step - accuracy: 0.9282 - loss: 0.2028 - val_accuracy: 0.9329 - val_loss: 0.2002\n",
            "Epoch 7/10\n",
            "\u001b[1m1440/1440\u001b[0m \u001b[32m━━━━━━━━━━━━━━━━━━━━\u001b[0m\u001b[37m\u001b[0m \u001b[1m21s\u001b[0m 9ms/step - accuracy: 0.9407 - loss: 0.1728 - val_accuracy: 0.9409 - val_loss: 0.1714\n",
            "Epoch 8/10\n",
            "\u001b[1m1440/1440\u001b[0m \u001b[32m━━━━━━━━━━━━━━━━━━━━\u001b[0m\u001b[37m\u001b[0m \u001b[1m11s\u001b[0m 8ms/step - accuracy: 0.9478 - loss: 0.1521 - val_accuracy: 0.9465 - val_loss: 0.1673\n",
            "Epoch 9/10\n",
            "\u001b[1m1440/1440\u001b[0m \u001b[32m━━━━━━━━━━━━━━━━━━━━\u001b[0m\u001b[37m\u001b[0m \u001b[1m16s\u001b[0m 11ms/step - accuracy: 0.9538 - loss: 0.1350 - val_accuracy: 0.9507 - val_loss: 0.1535\n",
            "Epoch 10/10\n",
            "\u001b[1m1440/1440\u001b[0m \u001b[32m━━━━━━━━━━━━━━━━━━━━\u001b[0m\u001b[37m\u001b[0m \u001b[1m12s\u001b[0m 8ms/step - accuracy: 0.9599 - loss: 0.1207 - val_accuracy: 0.9479 - val_loss: 0.1697\n"
          ]
        }
      ],
      "source": [
        "history = {}\n",
        "for name, model in models.items():\n",
        "    print(f\"\\nTraining {name} model...\")\n",
        "    history[name] = model.fit(X_train, y_train, epochs=10, batch_size=32, validation_data=(X_test, y_test), verbose=1)\n"
      ]
    },
    {
      "cell_type": "markdown",
      "metadata": {
        "id": "QBmBDhV5WnRB"
      },
      "source": [
        "**Evaluate Performance**"
      ]
    },
    {
      "cell_type": "code",
      "execution_count": 51,
      "metadata": {
        "colab": {
          "base_uri": "https://localhost:8080/"
        },
        "id": "N5mWgnDXRuEZ",
        "outputId": "53512118-08b2-480a-eaa6-ae07c2948add"
      },
      "outputs": [
        {
          "name": "stdout",
          "output_type": "stream",
          "text": [
            "\u001b[1m360/360\u001b[0m \u001b[32m━━━━━━━━━━━━━━━━━━━━\u001b[0m\u001b[37m\u001b[0m \u001b[1m2s\u001b[0m 4ms/step\n",
            "\u001b[1m360/360\u001b[0m \u001b[32m━━━━━━━━━━━━━━━━━━━━\u001b[0m\u001b[37m\u001b[0m \u001b[1m1s\u001b[0m 3ms/step\n",
            "\u001b[1m360/360\u001b[0m \u001b[32m━━━━━━━━━━━━━━━━━━━━\u001b[0m\u001b[37m\u001b[0m \u001b[1m1s\u001b[0m 3ms/step\n",
            "Embedding Comparison Results:\n",
            "Word2Vec - Accuracy: 0.9760, F1 Score: 0.9759\n",
            "GloVe - Accuracy: 0.9626, F1 Score: 0.9621\n",
            "FastText - Accuracy: 0.9479, F1 Score: 0.9469\n"
          ]
        }
      ],
      "source": [
        "def evaluate_model(model, X_test, y_test):\n",
        "    y_pred = np.argmax(model.predict(X_test), axis=1)\n",
        "    acc = accuracy_score(y_test, y_pred)\n",
        "    f1 = f1_score(y_test, y_pred, average='weighted')\n",
        "    return acc, f1\n",
        "\n",
        "results = {}\n",
        "for name, model in models.items():\n",
        "    acc, f1 = evaluate_model(model, X_test, y_test)\n",
        "    results[name] = {\"Accuracy\": acc, \"F1 Score\": f1}\n",
        "\n",
        "print(\"Embedding Comparison Results:\")\n",
        "for model_name, scores in results.items():\n",
        "    print(f\"{model_name} - Accuracy: {scores['Accuracy']:.4f}, F1 Score: {scores['F1 Score']:.4f}\")"
      ]
    },
    {
      "cell_type": "code",
      "execution_count": 52,
      "metadata": {
        "id": "lFcGUkgiYBrQ"
      },
      "outputs": [],
      "source": [
        "# Extract accuracy and F1 scores for plotting\n",
        "embedding_types = list(results.keys())\n",
        "accuracies = [results[embedding]['Accuracy'] for embedding in embedding_types]\n",
        "f1_scores = [results[embedding]['F1 Score'] for embedding in embedding_types]"
      ]
    },
    {
      "cell_type": "code",
      "execution_count": 53,
      "metadata": {
        "colab": {
          "base_uri": "https://localhost:8080/",
          "height": 299
        },
        "id": "2DFs1WnaYHFp",
        "outputId": "c0fe09fe-a500-4f84-a375-38af1d71b728"
      },
      "outputs": [
        {
          "data": {
            "image/png": "[encoded data removed]",
            "text/plain": [
              "<Figure size 1500x500 with 2 Axes>"
            ]
          },
          "metadata": {},
          "output_type": "display_data"
        }
      ],
      "source": [
        "# Create subplots\n",
        "fig, axes = plt.subplots(1, 2, figsize=(15, 5))\n",
        "\n",
        "# Plot accuracies\n",
        "axes[0].bar(embedding_types, accuracies, color=['skyblue', 'lightcoral', 'lightgreen'])\n",
        "axes[0].set_title('Accuracy Comparison')\n",
        "axes[0].set_xlabel('Embedding Type')\n",
        "axes[0].set_ylabel('Accuracy')\n",
        "axes[0].set_ylim(0,1) # Set y-axis limit for better visualization\n",
        "\n",
        "\n",
        "# Plot F1 scores\n",
        "axes[1].bar(embedding_types, f1_scores, color=['skyblue', 'lightcoral', 'lightgreen'])\n",
        "axes[1].set_title('F1 Score Comparison')\n",
        "axes[1].set_xlabel('Embedding Type')\n",
        "axes[1].set_ylabel('F1 Score')\n",
        "axes[1].set_ylim(0,1) #Set y-axis limit\n",
        "\n",
        "# Display the plot\n",
        "plt.tight_layout()\n",
        "plt.show()"
      ]
    },
    {
      "cell_type": "markdown",
      "metadata": {},
      "source": [
        "### Hate Speech Classification Using Word Embeddings and LSTM\n",
        "\n",
        "This code implements a **Hate Speech Classification** model using different word embeddings (**Word2Vec, GloVe, and FastText**) combined with an **LSTM (Long Short-Term Memory)** neural network. Below is a detailed breakdown of the key steps involved:\n",
        "\n",
        "---\n",
        "\n",
        "## **1. Word Embeddings: Word2Vec, GloVe, and FastText**\n",
        "### **Loading and Training Word2Vec**\n",
        "- The **Word2Vec** model is loaded from a pre-trained file (`word2vec_hate_speech.model`).\n",
        "- Word2Vec creates word embeddings by training on tokenized text data, capturing contextual relationships between words.\n",
        "\n",
        "### **Downloading and Loading GloVe Embeddings**\n",
        "- The **GloVe (Global Vectors for Word Representation)** embeddings are downloaded from the Stanford NLP repository.\n",
        "- The `.zip` file is extracted, and the embeddings are loaded into a dictionary format where each word is mapped to a vector.\n",
        "\n",
        "### **Loading FastText Embeddings**\n",
        "- The **FastText** model is downloaded using the `gensim` library.\n",
        "- FastText improves over Word2Vec by considering subword information, making it more effective for handling out-of-vocabulary words.\n",
        "\n",
        "---\n",
        "\n",
        "## **2. Preparing Word Embeddings for LSTM**\n",
        "### **Tokenization and Indexing Words**\n",
        "- The dataset is tokenized using the `Tokenizer` function, mapping words to unique indices.\n",
        "- A **word index dictionary** is created, which will be used to generate embeddings.\n",
        "\n",
        "### **Creating Embedding Matrices**\n",
        "- The function `create_embedding_matrix()` is implemented to construct embedding matrices for **Word2Vec, GloVe, and FastText**.\n",
        "- This matrix maps each word in the dataset to its corresponding embedding from the chosen model.\n",
        "- These matrices are later used as input for the LSTM model.\n",
        "\n",
        "---\n",
        "\n",
        "## **3. LSTM Model for Hate Speech Classification**\n",
        "### **Building the LSTM Model**\n",
        "- A function `build_lstm_model()` is created to define an **LSTM neural network**:\n",
        "  - **Embedding Layer:** Initialized with the pre-trained word embeddings (Word2Vec, GloVe, FastText).\n",
        "  - **LSTM Layer:** A **128-unit LSTM** to capture sequential patterns in the text.\n",
        "  - **Dropout Layer:** Prevents overfitting by randomly dropping 50% of connections.\n",
        "  - **Dense Layers:** \n",
        "    - A **64-unit ReLU layer** for feature extraction.\n",
        "    - A **final softmax layer** for **multi-class classification (Hate Speech, Offensive, or Neutral).**\n",
        "- The model is compiled with:\n",
        "  - **Loss function:** Sparse categorical cross-entropy (for multi-class classification).\n",
        "  - **Optimizer:** Adam optimizer with a learning rate of `0.001`.\n",
        "  - **Metrics:** Accuracy to evaluate performance.\n",
        "\n",
        "---\n",
        "\n",
        "## **4. Data Preprocessing for Model Training**\n",
        "### **Tokenization & Padding**\n",
        "- The cleaned text is converted into sequences using the tokenizer.\n",
        "- **Padding** is applied to ensure uniform input length (`maxlen=50`).\n",
        "\n",
        "### **Splitting Data into Train and Test Sets**\n",
        "- The dataset is split into:\n",
        "  - **80% training data**\n",
        "  - **20% testing data**\n",
        "- This ensures a fair evaluation of the model’s performance.\n",
        "\n",
        "---\n",
        "\n",
        "## **5. Training and Evaluating LSTM Models**\n",
        "### **Training LSTM on Each Embedding**\n",
        "- The LSTM model is trained separately on each of the three embeddings (**Word2Vec, GloVe, and FastText**) for **10 epochs**.\n",
        "- The training process shows improvement in **accuracy** and **loss reduction** over epochs.\n",
        "\n",
        "### **Evaluation Metrics**\n",
        "- **Accuracy:** Measures how often the model makes correct predictions.\n",
        "- **F1 Score:** Balances precision and recall, important for handling imbalanced datasets.\n",
        "\n",
        "---\n",
        "\n",
        "## **6. Results & Performance Comparison**\n",
        "### **Testing Accuracy and F1 Scores**\n",
        "| Embedding Type | Accuracy | F1 Score |\n",
        "|---------------|----------|----------|\n",
        "| **Word2Vec**  | **97.60%** | **97.59%** |\n",
        "| **GloVe**     | **96.26%** | **96.21%** |\n",
        "| **FastText**  | **94.79%** | **94.69%** |\n",
        "\n",
        "- **Word2Vec performed the best**, achieving **97.60% accuracy**, likely due to training on context-based word relationships.\n",
        "- **GloVe followed closely**, performing well but slightly lower than Word2Vec.\n",
        "- **FastText had the lowest accuracy**, but it is more robust for handling rare and unseen words.\n",
        "\n",
        "### **Visualization of Accuracy and F1 Scores**\n",
        "- A bar chart is plotted comparing the **accuracy** and **F1 scores** for Word2Vec, GloVe, and FastText.\n",
        "- This provides a visual representation of which embedding performed best.\n",
        "\n",
        "---\n"
      ]
    },
    {
      "cell_type": "markdown",
      "metadata": {
        "id": "qD9aByRvYaZX"
      },
      "source": [
        "Q6: Implement an LSTM model for classifying hate speech using the Hate Speech dataset,\n",
        "ensuring it includes an embedding layer, LSTM layers, and a classification output layer."
      ]
    },
    {
      "cell_type": "markdown",
      "metadata": {
        "id": "K4Ne30LJZgMM"
      },
      "source": [
        "Define the LSTM Model\n",
        "We'll use the best embedding matrix (FastText) for training."
      ]
    },
    {
      "cell_type": "code",
      "execution_count": 54,
      "metadata": {
        "id": "1ZLGkTu-c59u"
      },
      "outputs": [],
      "source": [
        "maxlen = 50  #\n",
        "X_train_pad = pad_sequences(X_train, padding='post', maxlen=maxlen)\n",
        "X_test_pad = pad_sequences(X_test, padding='post', maxlen=maxlen)"
      ]
    },
    {
      "cell_type": "code",
      "execution_count": 55,
      "metadata": {
        "id": "vlRue0B-6WgP"
      },
      "outputs": [],
      "source": [
        "# Define LSTM Model\n",
        "def build_lstm_model(embedding_matrix):\n",
        "    model = Sequential([\n",
        "        Embedding(input_dim=vocab_size, output_dim=100, weights=[embedding_matrix], trainable=False),\n",
        "        SpatialDropout1D(0.3),\n",
        "        LSTM(128, return_sequences=True),\n",
        "        LSTM(64, return_sequences=False),\n",
        "        Dropout(0.5),\n",
        "        Dense(64, activation='relu'),\n",
        "        Dense(3, activation='softmax')  # 3 classes: hate speech, offensive, neither\n",
        "    ])\n",
        "    model.compile(loss='sparse_categorical_crossentropy', optimizer=Adam(learning_rate=0.001), metrics=['accuracy'])\n",
        "    return model"
      ]
    },
    {
      "cell_type": "code",
      "execution_count": 57,
      "metadata": {
        "id": "BINC-P1TZvb-"
      },
      "outputs": [],
      "source": [
        "# Use the best embedding (Word2vec)\n",
        "lstm_model = build_lstm_model(word2vec_matrix)"
      ]
    },
    {
      "cell_type": "code",
      "execution_count": 65,
      "metadata": {
        "colab": {
          "base_uri": "https://localhost:8080/",
          "height": 385
        },
        "id": "-FWVVA3_eLqn",
        "outputId": "47033d65-97ea-4559-a389-e3344ac21342"
      },
      "outputs": [
        {
          "data": {
            "text/html": [
              "<pre style=\"white-space:pre;overflow-x:auto;line-height:normal;font-family:Menlo,'DejaVu Sans Mono',consolas,'Courier New',monospace\"><span style=\"font-weight: bold\">Model: \"sequential_7\"</span>\n",
              "</pre>\n"
            ],
            "text/plain": [
              "\u001b[1mModel: \"sequential_7\"\u001b[0m\n"
            ]
          },
          "metadata": {},
          "output_type": "display_data"
        },
        {
          "data": {
            "text/html": [
              "<pre style=\"white-space:pre;overflow-x:auto;line-height:normal;font-family:Menlo,'DejaVu Sans Mono',consolas,'Courier New',monospace\">┏━━━━━━━━━━━━━━━━━━━━━━━━━━━━━━━━━━━━━━┳━━━━━━━━━━━━━━━━━━━━━━━━━━━━━┳━━━━━━━━━━━━━━━━━┓\n",
              "┃<span style=\"font-weight: bold\"> Layer (type)                         </span>┃<span style=\"font-weight: bold\"> Output Shape                </span>┃<span style=\"font-weight: bold\">         Param # </span>┃\n",
              "┡━━━━━━━━━━━━━━━━━━━━━━━━━━━━━━━━━━━━━━╇━━━━━━━━━━━━━━━━━━━━━━━━━━━━━╇━━━━━━━━━━━━━━━━━┩\n",
              "│ embedding_7 (<span style=\"color: #0087ff; text-decoration-color: #0087ff\">Embedding</span>)              │ (<span style=\"color: #00d7ff; text-decoration-color: #00d7ff\">None</span>, <span style=\"color: #00af00; text-decoration-color: #00af00\">50</span>, <span style=\"color: #00af00; text-decoration-color: #00af00\">100</span>)             │       <span style=\"color: #00af00; text-decoration-color: #00af00\">4,073,400</span> │\n",
              "├──────────────────────────────────────┼─────────────────────────────┼─────────────────┤\n",
              "│ spatial_dropout1d_1                  │ (<span style=\"color: #00d7ff; text-decoration-color: #00d7ff\">None</span>, <span style=\"color: #00af00; text-decoration-color: #00af00\">50</span>, <span style=\"color: #00af00; text-decoration-color: #00af00\">100</span>)             │               <span style=\"color: #00af00; text-decoration-color: #00af00\">0</span> │\n",
              "│ (<span style=\"color: #0087ff; text-decoration-color: #0087ff\">SpatialDropout1D</span>)                   │                             │                 │\n",
              "├──────────────────────────────────────┼─────────────────────────────┼─────────────────┤\n",
              "│ lstm_8 (<span style=\"color: #0087ff; text-decoration-color: #0087ff\">LSTM</span>)                        │ (<span style=\"color: #00d7ff; text-decoration-color: #00d7ff\">None</span>, <span style=\"color: #00af00; text-decoration-color: #00af00\">50</span>, <span style=\"color: #00af00; text-decoration-color: #00af00\">128</span>)             │         <span style=\"color: #00af00; text-decoration-color: #00af00\">117,248</span> │\n",
              "├──────────────────────────────────────┼─────────────────────────────┼─────────────────┤\n",
              "│ lstm_9 (<span style=\"color: #0087ff; text-decoration-color: #0087ff\">LSTM</span>)                        │ (<span style=\"color: #00d7ff; text-decoration-color: #00d7ff\">None</span>, <span style=\"color: #00af00; text-decoration-color: #00af00\">64</span>)                  │          <span style=\"color: #00af00; text-decoration-color: #00af00\">49,408</span> │\n",
              "├──────────────────────────────────────┼─────────────────────────────┼─────────────────┤\n",
              "│ dropout_7 (<span style=\"color: #0087ff; text-decoration-color: #0087ff\">Dropout</span>)                  │ (<span style=\"color: #00d7ff; text-decoration-color: #00d7ff\">None</span>, <span style=\"color: #00af00; text-decoration-color: #00af00\">64</span>)                  │               <span style=\"color: #00af00; text-decoration-color: #00af00\">0</span> │\n",
              "├──────────────────────────────────────┼─────────────────────────────┼─────────────────┤\n",
              "│ dense_14 (<span style=\"color: #0087ff; text-decoration-color: #0087ff\">Dense</span>)                     │ (<span style=\"color: #00d7ff; text-decoration-color: #00d7ff\">None</span>, <span style=\"color: #00af00; text-decoration-color: #00af00\">64</span>)                  │           <span style=\"color: #00af00; text-decoration-color: #00af00\">4,160</span> │\n",
              "├──────────────────────────────────────┼─────────────────────────────┼─────────────────┤\n",
              "│ dense_15 (<span style=\"color: #0087ff; text-decoration-color: #0087ff\">Dense</span>)                     │ (<span style=\"color: #00d7ff; text-decoration-color: #00d7ff\">None</span>, <span style=\"color: #00af00; text-decoration-color: #00af00\">3</span>)                   │             <span style=\"color: #00af00; text-decoration-color: #00af00\">195</span> │\n",
              "└──────────────────────────────────────┴─────────────────────────────┴─────────────────┘\n",
              "</pre>\n"
            ],
            "text/plain": [
              "┏━━━━━━━━━━━━━━━━━━━━━━━━━━━━━━━━━━━━━━┳━━━━━━━━━━━━━━━━━━━━━━━━━━━━━┳━━━━━━━━━━━━━━━━━┓\n",
              "┃\u001b[1m \u001b[0m\u001b[1mLayer (type)                        \u001b[0m\u001b[1m \u001b[0m┃\u001b[1m \u001b[0m\u001b[1mOutput Shape               \u001b[0m\u001b[1m \u001b[0m┃\u001b[1m \u001b[0m\u001b[1m        Param #\u001b[0m\u001b[1m \u001b[0m┃\n",
              "┡━━━━━━━━━━━━━━━━━━━━━━━━━━━━━━━━━━━━━━╇━━━━━━━━━━━━━━━━━━━━━━━━━━━━━╇━━━━━━━━━━━━━━━━━┩\n",
              "│ embedding_7 (\u001b[38;5;33mEmbedding\u001b[0m)              │ (\u001b[38;5;45mNone\u001b[0m, \u001b[38;5;34m50\u001b[0m, \u001b[38;5;34m100\u001b[0m)             │       \u001b[38;5;34m4,073,400\u001b[0m │\n",
              "├──────────────────────────────────────┼─────────────────────────────┼─────────────────┤\n",
              "│ spatial_dropout1d_1                  │ (\u001b[38;5;45mNone\u001b[0m, \u001b[38;5;34m50\u001b[0m, \u001b[38;5;34m100\u001b[0m)             │               \u001b[38;5;34m0\u001b[0m │\n",
              "│ (\u001b[38;5;33mSpatialDropout1D\u001b[0m)                   │                             │                 │\n",
              "├──────────────────────────────────────┼─────────────────────────────┼─────────────────┤\n",
              "│ lstm_8 (\u001b[38;5;33mLSTM\u001b[0m)                        │ (\u001b[38;5;45mNone\u001b[0m, \u001b[38;5;34m50\u001b[0m, \u001b[38;5;34m128\u001b[0m)             │         \u001b[38;5;34m117,248\u001b[0m │\n",
              "├──────────────────────────────────────┼─────────────────────────────┼─────────────────┤\n",
              "│ lstm_9 (\u001b[38;5;33mLSTM\u001b[0m)                        │ (\u001b[38;5;45mNone\u001b[0m, \u001b[38;5;34m64\u001b[0m)                  │          \u001b[38;5;34m49,408\u001b[0m │\n",
              "├──────────────────────────────────────┼─────────────────────────────┼─────────────────┤\n",
              "│ dropout_7 (\u001b[38;5;33mDropout\u001b[0m)                  │ (\u001b[38;5;45mNone\u001b[0m, \u001b[38;5;34m64\u001b[0m)                  │               \u001b[38;5;34m0\u001b[0m │\n",
              "├──────────────────────────────────────┼─────────────────────────────┼─────────────────┤\n",
              "│ dense_14 (\u001b[38;5;33mDense\u001b[0m)                     │ (\u001b[38;5;45mNone\u001b[0m, \u001b[38;5;34m64\u001b[0m)                  │           \u001b[38;5;34m4,160\u001b[0m │\n",
              "├──────────────────────────────────────┼─────────────────────────────┼─────────────────┤\n",
              "│ dense_15 (\u001b[38;5;33mDense\u001b[0m)                     │ (\u001b[38;5;45mNone\u001b[0m, \u001b[38;5;34m3\u001b[0m)                   │             \u001b[38;5;34m195\u001b[0m │\n",
              "└──────────────────────────────────────┴─────────────────────────────┴─────────────────┘\n"
            ]
          },
          "metadata": {},
          "output_type": "display_data"
        },
        {
          "data": {
            "text/html": [
              "<pre style=\"white-space:pre;overflow-x:auto;line-height:normal;font-family:Menlo,'DejaVu Sans Mono',consolas,'Courier New',monospace\"><span style=\"font-weight: bold\"> Total params: </span><span style=\"color: #00af00; text-decoration-color: #00af00\">4,586,435</span> (17.50 MB)\n",
              "</pre>\n"
            ],
            "text/plain": [
              "\u001b[1m Total params: \u001b[0m\u001b[38;5;34m4,586,435\u001b[0m (17.50 MB)\n"
            ]
          },
          "metadata": {},
          "output_type": "display_data"
        },
        {
          "data": {
            "text/html": [
              "<pre style=\"white-space:pre;overflow-x:auto;line-height:normal;font-family:Menlo,'DejaVu Sans Mono',consolas,'Courier New',monospace\"><span style=\"font-weight: bold\"> Trainable params: </span><span style=\"color: #00af00; text-decoration-color: #00af00\">171,011</span> (668.01 KB)\n",
              "</pre>\n"
            ],
            "text/plain": [
              "\u001b[1m Trainable params: \u001b[0m\u001b[38;5;34m171,011\u001b[0m (668.01 KB)\n"
            ]
          },
          "metadata": {},
          "output_type": "display_data"
        },
        {
          "data": {
            "text/html": [
              "<pre style=\"white-space:pre;overflow-x:auto;line-height:normal;font-family:Menlo,'DejaVu Sans Mono',consolas,'Courier New',monospace\"><span style=\"font-weight: bold\"> Non-trainable params: </span><span style=\"color: #00af00; text-decoration-color: #00af00\">4,073,400</span> (15.54 MB)\n",
              "</pre>\n"
            ],
            "text/plain": [
              "\u001b[1m Non-trainable params: \u001b[0m\u001b[38;5;34m4,073,400\u001b[0m (15.54 MB)\n"
            ]
          },
          "metadata": {},
          "output_type": "display_data"
        },
        {
          "data": {
            "text/html": [
              "<pre style=\"white-space:pre;overflow-x:auto;line-height:normal;font-family:Menlo,'DejaVu Sans Mono',consolas,'Courier New',monospace\"><span style=\"font-weight: bold\"> Optimizer params: </span><span style=\"color: #00af00; text-decoration-color: #00af00\">342,024</span> (1.30 MB)\n",
              "</pre>\n"
            ],
            "text/plain": [
              "\u001b[1m Optimizer params: \u001b[0m\u001b[38;5;34m342,024\u001b[0m (1.30 MB)\n"
            ]
          },
          "metadata": {},
          "output_type": "display_data"
        }
      ],
      "source": [
        "lstm_model.summary()"
      ]
    },
    {
      "cell_type": "markdown",
      "metadata": {
        "id": "x7JVBqNddqnJ"
      },
      "source": [
        "**Train the LSTM Model**"
      ]
    },
    {
      "cell_type": "code",
      "execution_count": 59,
      "metadata": {
        "colab": {
          "base_uri": "https://localhost:8080/"
        },
        "id": "8YGPSvjwbrz-",
        "outputId": "b6370005-a528-4681-d315-6cfb1dbc3e72"
      },
      "outputs": [
        {
          "name": "stdout",
          "output_type": "stream",
          "text": [
            "Epoch 1/10\n",
            "\u001b[1m1440/1440\u001b[0m \u001b[32m━━━━━━━━━━━━━━━━━━━━\u001b[0m\u001b[37m\u001b[0m \u001b[1m21s\u001b[0m 13ms/step - accuracy: 0.7349 - loss: 0.6364 - val_accuracy: 0.8932 - val_loss: 0.2884\n",
            "Epoch 2/10\n",
            "\u001b[1m1440/1440\u001b[0m \u001b[32m━━━━━━━━━━━━━━━━━━━━\u001b[0m\u001b[37m\u001b[0m \u001b[1m20s\u001b[0m 12ms/step - accuracy: 0.8763 - loss: 0.3333 - val_accuracy: 0.9060 - val_loss: 0.2572\n",
            "Epoch 3/10\n",
            "\u001b[1m1440/1440\u001b[0m \u001b[32m━━━━━━━━━━━━━━━━━━━━\u001b[0m\u001b[37m\u001b[0m \u001b[1m17s\u001b[0m 12ms/step - accuracy: 0.9023 - loss: 0.2687 - val_accuracy: 0.9389 - val_loss: 0.1827\n",
            "Epoch 4/10\n",
            "\u001b[1m1440/1440\u001b[0m \u001b[32m━━━━━━━━━━━━━━━━━━━━\u001b[0m\u001b[37m\u001b[0m \u001b[1m21s\u001b[0m 12ms/step - accuracy: 0.9217 - loss: 0.2199 - val_accuracy: 0.9443 - val_loss: 0.1670\n",
            "Epoch 5/10\n",
            "\u001b[1m1440/1440\u001b[0m \u001b[32m━━━━━━━━━━━━━━━━━━━━\u001b[0m\u001b[37m\u001b[0m \u001b[1m20s\u001b[0m 12ms/step - accuracy: 0.9358 - loss: 0.1888 - val_accuracy: 0.9541 - val_loss: 0.1325\n",
            "Epoch 6/10\n",
            "\u001b[1m1440/1440\u001b[0m \u001b[32m━━━━━━━━━━━━━━━━━━━━\u001b[0m\u001b[37m\u001b[0m \u001b[1m21s\u001b[0m 12ms/step - accuracy: 0.9439 - loss: 0.1599 - val_accuracy: 0.9621 - val_loss: 0.1134\n",
            "Epoch 7/10\n",
            "\u001b[1m1440/1440\u001b[0m \u001b[32m━━━━━━━━━━━━━━━━━━━━\u001b[0m\u001b[37m\u001b[0m \u001b[1m20s\u001b[0m 12ms/step - accuracy: 0.9490 - loss: 0.1448 - val_accuracy: 0.9655 - val_loss: 0.1035\n",
            "Epoch 8/10\n",
            "\u001b[1m1440/1440\u001b[0m \u001b[32m━━━━━━━━━━━━━━━━━━━━\u001b[0m\u001b[37m\u001b[0m \u001b[1m20s\u001b[0m 12ms/step - accuracy: 0.9530 - loss: 0.1374 - val_accuracy: 0.9657 - val_loss: 0.1031\n",
            "Epoch 9/10\n",
            "\u001b[1m1440/1440\u001b[0m \u001b[32m━━━━━━━━━━━━━━━━━━━━\u001b[0m\u001b[37m\u001b[0m \u001b[1m20s\u001b[0m 11ms/step - accuracy: 0.9573 - loss: 0.1215 - val_accuracy: 0.9663 - val_loss: 0.1018\n",
            "Epoch 10/10\n",
            "\u001b[1m1440/1440\u001b[0m \u001b[32m━━━━━━━━━━━━━━━━━━━━\u001b[0m\u001b[37m\u001b[0m \u001b[1m20s\u001b[0m 11ms/step - accuracy: 0.9608 - loss: 0.1128 - val_accuracy: 0.9717 - val_loss: 0.0901\n"
          ]
        },
        {
          "name": "stderr",
          "output_type": "stream",
          "text": [
            "WARNING:absl:You are saving your model as an HDF5 file via `model.save()` or `keras.saving.save_model(model)`. This file format is considered legacy. We recommend using instead the native Keras format, e.g. `model.save('my_model.keras')` or `keras.saving.save_model(model, 'my_model.keras')`. \n"
          ]
        }
      ],
      "source": [
        "# Train LSTM model\n",
        "history = lstm_model.fit(X_train_pad, y_train, epochs=10, batch_size=32, validation_data=(X_test_pad, y_test), verbose=1)\n",
        "# Save the model\n",
        "lstm_model.save(\"lstm_hate_speech_model.h5\")\n"
      ]
    },
    {
      "cell_type": "markdown",
      "metadata": {
        "id": "G9eR2-cBdjIs"
      },
      "source": [
        "**Evaluate the LSTM Model**"
      ]
    },
    {
      "cell_type": "code",
      "execution_count": 60,
      "metadata": {
        "colab": {
          "base_uri": "https://localhost:8080/"
        },
        "id": "cOaMvo3HdId4",
        "outputId": "144f5704-9a60-441b-db99-6a6198f7dd84"
      },
      "outputs": [
        {
          "name": "stdout",
          "output_type": "stream",
          "text": [
            "\u001b[1m360/360\u001b[0m \u001b[32m━━━━━━━━━━━━━━━━━━━━\u001b[0m\u001b[37m\u001b[0m \u001b[1m2s\u001b[0m 5ms/step\n",
            "\n",
            "LSTM Model Performance:\n",
            "Accuracy: 0.9717, F1 Score: 0.9716\n"
          ]
        }
      ],
      "source": [
        "# Evaluate the trained LSTM model\n",
        "lstm_acc, lstm_f1 = evaluate_model(lstm_model, X_test, y_test)\n",
        "\n",
        "print(f\"\\nLSTM Model Performance:\")\n",
        "print(f\"Accuracy: {lstm_acc:.4f}, F1 Score: {lstm_f1:.4f}\")"
      ]
    },
    {
      "cell_type": "code",
      "execution_count": 61,
      "metadata": {
        "colab": {
          "base_uri": "https://localhost:8080/",
          "height": 441
        },
        "id": "2docELsLfSBV",
        "outputId": "436b73d2-a631-4aaa-b2d5-7748d014d28e"
      },
      "outputs": [
        {
          "data": {
            "image/png": "[encoded data removed]",
            "text/plain": [
              "<Figure size 1000x500 with 2 Axes>"
            ]
          },
          "metadata": {},
          "output_type": "display_data"
        }
      ],
      "source": [
        "lstm_history = history\n",
        "\n",
        "# Plot training & validation accuracy values\n",
        "plt.figure(figsize=(10, 5))\n",
        "plt.subplot(1, 2, 1)\n",
        "plt.plot(lstm_history.history['accuracy'])\n",
        "plt.plot(lstm_history.history['val_accuracy'])\n",
        "plt.title('Model accuracy')\n",
        "plt.ylabel('Accuracy')\n",
        "plt.xlabel('Epoch')\n",
        "plt.legend(['Train', 'Validation'], loc='upper left')\n",
        "\n",
        "# Plot training & validation loss values\n",
        "plt.subplot(1, 2, 2)\n",
        "plt.plot(lstm_history.history['loss'])\n",
        "plt.plot(lstm_history.history['val_loss'])\n",
        "plt.title('Model loss')\n",
        "plt.ylabel('Loss')\n",
        "plt.xlabel('Epoch')\n",
        "plt.legend(['Train', 'Validation'], loc='upper left')\n",
        "\n",
        "plt.tight_layout()\n",
        "plt.show()"
      ]
    },
    {
      "cell_type": "markdown",
      "metadata": {},
      "source": [
        "# LSTM Model for Hate Speech Detection\n",
        "\n",
        "This code implements an LSTM-based deep learning model to classify tweets into three categories: *hate speech*, *offensive language*, or *neither*. The steps involved in this process are:\n",
        "\n",
        "1. **Padding Sequences**:  \n",
        "   The input text data is tokenized and converted into sequences, which are then padded to a fixed length (`maxlen = 50`). This ensures that all input sequences have the same shape, making them suitable for training the neural network.\n",
        "\n",
        "2. **Building the LSTM Model**:  \n",
        "   - The model starts with an `Embedding` layer that uses pre-trained Word2Vec embeddings to represent words in vector space. The embedding weights are kept **non-trainable** to leverage the pre-learned representations.\n",
        "   - A `SpatialDropout1D` layer is used to prevent overfitting by randomly deactivating parts of the embedding layer.\n",
        "   - Two stacked `LSTM` layers (128 and 64 units) capture sequential dependencies in the text.\n",
        "   - A `Dropout` layer (0.5) further reduces overfitting.\n",
        "   - A `Dense` layer (64 neurons, ReLU activation) processes the extracted features.\n",
        "   - The final `Dense` layer has 3 neurons with a **softmax** activation function, producing probability scores for the three possible classes.\n",
        "\n",
        "3. **Training the Model**:  \n",
        "   - The model is compiled using the **Adam optimizer** and **sparse categorical cross-entropy loss**, as the labels are integer-encoded.\n",
        "   - Training is performed for **10 epochs** with a batch size of **32**, using validation data to monitor performance.\n",
        "\n",
        "4. **Saving and Evaluating the Model**:  \n",
        "   - The trained model is saved as `\"lstm_hate_speech_model.h5\"`.\n",
        "   - The model is then evaluated on the test dataset using **accuracy** and **F1-score**.\n",
        "   - The results show **high accuracy (97.17%) and F1-score (97.16%)**, indicating strong performance in detecting hate speech.\n",
        "\n",
        "This implementation leverages **pre-trained embeddings** to enhance text understanding and uses an **LSTM-based architecture** to capture contextual relationships between words. The approach ensures a balance between performance and generalization, making it effective for hate speech classification."
      ]
    },
    {
      "cell_type": "markdown",
      "metadata": {
        "id": "KvVdyILV9EYX"
      },
      "source": [
        "Q7: Implement an attention mechanism to enhance the LSTM model's focus on important\n",
        "words in the Hate Speech dataset."
      ]
    },
    {
      "cell_type": "markdown",
      "metadata": {
        "id": "dIankf-d8p2a"
      },
      "source": [
        "Implement Attention Layer\n",
        "We will define a custom Attention layer. Here’s how you can implement it:\n",
        "\n",
        "Define the Attention Layer"
      ]
    },
    {
      "cell_type": "code",
      "execution_count": 63,
      "metadata": {
        "id": "gEWs09-8fVu0"
      },
      "outputs": [],
      "source": [
        "class Attention(Layer):\n",
        "    def __init__(self):\n",
        "        super(Attention, self).__init__()\n",
        "\n",
        "    def build(self, input_shape):\n",
        "        self.W = self.add_weight(name='att_weight', shape=(input_shape[-1], 1), initializer='random_normal', trainable=True)\n",
        "        self.b = self.add_weight(name='att_bias', shape=(input_shape[1], 1), initializer='zeros', trainable=True)\n",
        "        super(Attention, self).build(input_shape)\n",
        "\n",
        "    def call(self, x):\n",
        "        e = K.tanh(K.dot(x, self.W) + self.b)  # Apply tanh activation\n",
        "        a = K.softmax(e, axis=1)  # Apply softmax to get attention weights\n",
        "        output = x * a  # Apply attention weights to the input sequence\n",
        "        return K.sum(output, axis=1)  # Sum across the sequence"
      ]
    },
    {
      "cell_type": "markdown",
      "metadata": {
        "id": "K1O_gqkj8gDj"
      },
      "source": [
        "Integrate the Attention Layer with the LSTM Model\n",
        "We can integrate this attention mechanism after the LSTM layers.\n",
        "\n",
        "Define the LSTM Model with Attention"
      ]
    },
    {
      "cell_type": "code",
      "execution_count": 67,
      "metadata": {
        "id": "AUZn3lcZ7yRN"
      },
      "outputs": [],
      "source": [
        "def build_lstm_with_attention(embedding_matrix, max_sequence_length=50):\n",
        "    model = Sequential([\n",
        "        Embedding(input_dim=vocab_size, output_dim=100, weights=[embedding_matrix], input_length=max_sequence_length, trainable=False),\n",
        "        SpatialDropout1D(0.3),\n",
        "        Bidirectional(LSTM(128, return_sequences=True)),\n",
        "        Attention(),  # Attention layer after LSTM layers\n",
        "        Dropout(0.5),\n",
        "        Dense(64, activation='relu'),\n",
        "        Dense(3, activation='softmax')  # 3 classes: hate speech, offensive, neither\n",
        "    ])\n",
        "    model.compile(loss='sparse_categorical_crossentropy', optimizer=Adam(learning_rate=0.001), metrics=['accuracy'])\n",
        "    return model"
      ]
    },
    {
      "cell_type": "markdown",
      "metadata": {
        "id": "FYYQBCYq8Z54"
      },
      "source": [
        "**Train the Model**"
      ]
    },
    {
      "cell_type": "code",
      "execution_count": 68,
      "metadata": {
        "id": "LL11lDj377Uf"
      },
      "outputs": [],
      "source": [
        "# Build the LSTM model with attention mechanism\n",
        "lstm_attention_model = build_lstm_with_attention(word2vec_matrix)"
      ]
    },
    {
      "cell_type": "code",
      "execution_count": 69,
      "metadata": {
        "colab": {
          "base_uri": "https://localhost:8080/"
        },
        "id": "YDa63rXy8Kg9",
        "outputId": "c0ecb077-cc88-4d3e-eb5d-6079aeb68692"
      },
      "outputs": [
        {
          "name": "stdout",
          "output_type": "stream",
          "text": [
            "Epoch 1/10\n",
            "\u001b[1m1440/1440\u001b[0m \u001b[32m━━━━━━━━━━━━━━━━━━━━\u001b[0m\u001b[37m\u001b[0m \u001b[1m25s\u001b[0m 14ms/step - accuracy: 0.7199 - loss: 0.6497 - val_accuracy: 0.8779 - val_loss: 0.3216\n",
            "Epoch 2/10\n",
            "\u001b[1m1440/1440\u001b[0m \u001b[32m━━━━━━━━━━━━━━━━━━━━\u001b[0m\u001b[37m\u001b[0m \u001b[1m21s\u001b[0m 15ms/step - accuracy: 0.8638 - loss: 0.3571 - val_accuracy: 0.9072 - val_loss: 0.2555\n",
            "Epoch 3/10\n",
            "\u001b[1m1440/1440\u001b[0m \u001b[32m━━━━━━━━━━━━━━━━━━━━\u001b[0m\u001b[37m\u001b[0m \u001b[1m46s\u001b[0m 18ms/step - accuracy: 0.8957 - loss: 0.2915 - val_accuracy: 0.9256 - val_loss: 0.2120\n",
            "Epoch 4/10\n",
            "\u001b[1m1440/1440\u001b[0m \u001b[32m━━━━━━━━━━━━━━━━━━━━\u001b[0m\u001b[37m\u001b[0m \u001b[1m24s\u001b[0m 16ms/step - accuracy: 0.9098 - loss: 0.2502 - val_accuracy: 0.9381 - val_loss: 0.1814\n",
            "Epoch 5/10\n",
            "\u001b[1m1440/1440\u001b[0m \u001b[32m━━━━━━━━━━━━━━━━━━━━\u001b[0m\u001b[37m\u001b[0m \u001b[1m32s\u001b[0m 22ms/step - accuracy: 0.9243 - loss: 0.2121 - val_accuracy: 0.9413 - val_loss: 0.1666\n",
            "Epoch 6/10\n",
            "\u001b[1m1440/1440\u001b[0m \u001b[32m━━━━━━━━━━━━━━━━━━━━\u001b[0m\u001b[37m\u001b[0m \u001b[1m32s\u001b[0m 16ms/step - accuracy: 0.9338 - loss: 0.1885 - val_accuracy: 0.9503 - val_loss: 0.1442\n",
            "Epoch 7/10\n",
            "\u001b[1m1440/1440\u001b[0m \u001b[32m━━━━━━━━━━━━━━━━━━━━\u001b[0m\u001b[37m\u001b[0m \u001b[1m45s\u001b[0m 19ms/step - accuracy: 0.9387 - loss: 0.1712 - val_accuracy: 0.9572 - val_loss: 0.1247\n",
            "Epoch 8/10\n",
            "\u001b[1m1440/1440\u001b[0m \u001b[32m━━━━━━━━━━━━━━━━━━━━\u001b[0m\u001b[37m\u001b[0m \u001b[1m33s\u001b[0m 13ms/step - accuracy: 0.9464 - loss: 0.1562 - val_accuracy: 0.9602 - val_loss: 0.1206\n",
            "Epoch 9/10\n",
            "\u001b[1m1440/1440\u001b[0m \u001b[32m━━━━━━━━━━━━━━━━━━━━\u001b[0m\u001b[37m\u001b[0m \u001b[1m22s\u001b[0m 14ms/step - accuracy: 0.9510 - loss: 0.1427 - val_accuracy: 0.9614 - val_loss: 0.1136\n",
            "Epoch 10/10\n",
            "\u001b[1m1440/1440\u001b[0m \u001b[32m━━━━━━━━━━━━━━━━━━━━\u001b[0m\u001b[37m\u001b[0m \u001b[1m41s\u001b[0m 14ms/step - accuracy: 0.9546 - loss: 0.1342 - val_accuracy: 0.9670 - val_loss: 0.1029\n"
          ]
        }
      ],
      "source": [
        "# Train the model\n",
        "history = lstm_attention_model.fit(X_train_pad, y_train, epochs=10, batch_size=32, validation_data=(X_test_pad, y_test), verbose=1)"
      ]
    },
    {
      "cell_type": "markdown",
      "metadata": {
        "id": "f_AV3A7m8wjL"
      },
      "source": [
        "**Evaluation**"
      ]
    },
    {
      "cell_type": "code",
      "execution_count": 70,
      "metadata": {
        "colab": {
          "base_uri": "https://localhost:8080/"
        },
        "id": "n-F_ANYo8T5Q",
        "outputId": "fb04755f-124c-4a22-c04e-44c1c2570f3c"
      },
      "outputs": [
        {
          "name": "stdout",
          "output_type": "stream",
          "text": [
            "\u001b[1m360/360\u001b[0m \u001b[32m━━━━━━━━━━━━━━━━━━━━\u001b[0m\u001b[37m\u001b[0m \u001b[1m3s\u001b[0m 7ms/step\n",
            "Attention Model - Accuracy: 0.966996699669967, F1 Score: 0.9668469852228156\n"
          ]
        }
      ],
      "source": [
        "def evaluate_model(model, X_test, y_test):\n",
        "    y_pred = np.argmax(model.predict(X_test), axis=1)\n",
        "    acc = accuracy_score(y_test, y_pred)\n",
        "    f1 = f1_score(y_test, y_pred, average='weighted')\n",
        "    return acc, f1\n",
        "\n",
        "# Evaluate the attention model\n",
        "acc_attention, f1_attention = evaluate_model(lstm_attention_model, X_test_pad, y_test)\n",
        "\n",
        "print(f\"Attention Model - Accuracy: {acc_attention}, F1 Score: {f1_attention}\")"
      ]
    },
    {
      "cell_type": "markdown",
      "metadata": {
        "id": "pQ1e7BBG82GL"
      },
      "source": [
        "**Compare Results**"
      ]
    },
    {
      "cell_type": "code",
      "execution_count": 106,
      "metadata": {
        "colab": {
          "base_uri": "https://localhost:8080/",
          "height": 483
        },
        "id": "KNlWW9gh9ydD",
        "outputId": "de4bbe5e-fc90-4f74-9d79-8e605a6be92e"
      },
      "outputs": [
        {
          "data": {
            "image/png": "[encoded data removed]",
            "text/plain": [
              "<Figure size 1000x500 with 1 Axes>"
            ]
          },
          "metadata": {},
          "output_type": "display_data"
        }
      ],
      "source": [
        "plt.figure(figsize=(10, 5))\n",
        "plt.plot(history.history['accuracy'])\n",
        "plt.plot(history.history['val_accuracy'])\n",
        "plt.title('Model accuracy')\n",
        "plt.ylabel('Accuracy')\n",
        "plt.xlabel('Epoch')\n",
        "plt.legend(['Train', 'Validation'], loc='upper left')\n",
        "plt.show()"
      ]
    },
    {
      "cell_type": "code",
      "execution_count": 107,
      "metadata": {
        "colab": {
          "base_uri": "https://localhost:8080/",
          "height": 487
        },
        "id": "-9LD47mDKBE0",
        "outputId": "641ec30a-3fd4-46d5-ba7d-6965b7a871e6"
      },
      "outputs": [
        {
          "data": {
            "image/png": "[encoded data removed]",
            "text/plain": [
              "<Figure size 1000x500 with 1 Axes>"
            ]
          },
          "metadata": {},
          "output_type": "display_data"
        }
      ],
      "source": [
        "plt.figure(figsize=(10, 5))\n",
        "plt.plot(history.history['loss'])\n",
        "plt.plot(history.history['val_loss'])\n",
        "plt.title('Model loss')\n",
        "plt.ylabel('Loss')\n",
        "plt.xlabel('Epoch')\n",
        "plt.legend(['Train', 'Validation'], loc='upper left')\n",
        "plt.show()"
      ]
    },
    {
      "cell_type": "markdown",
      "metadata": {},
      "source": [
        "# LSTM Model with Attention Mechanism for Hate Speech Detection\n",
        "\n",
        "This code extends the previous LSTM model by incorporating an **Attention Mechanism**, which helps the model focus on more relevant parts of the input sequence when making predictions. The key steps in this implementation are as follows:\n",
        "\n",
        "1. **Attention Layer**:  \n",
        "   A custom `Attention` layer is defined, which computes attention weights for each time step in the input sequence. The layer uses:\n",
        "   - A weight matrix (`W`) and bias (`b`) to compute attention scores.\n",
        "   - A **tanh activation** is applied to the weighted sum of the input sequence, followed by **softmax** to normalize the attention scores into probabilities.\n",
        "   - These scores are then used to weight the input sequence, and the result is aggregated (summed) across the sequence.\n",
        "\n",
        "2. **Building the Model**:\n",
        "   The LSTM model is built using the following layers:\n",
        "   - **Embedding**: The model uses pre-trained Word2Vec embeddings (non-trainable) to convert words into vectors of fixed size (100).\n",
        "   - **SpatialDropout1D**: Applied to prevent overfitting by randomly dropping entire features during training.\n",
        "   - **Bidirectional LSTM**: A bidirectional LSTM layer (128 units) is added to capture both forward and backward dependencies in the sequence. The `return_sequences=True` parameter ensures that the output is a sequence for the attention layer to process.\n",
        "   - **Attention Layer**: After the LSTM layer, the custom attention layer is applied to focus on the most relevant parts of the sequence.\n",
        "   - **Dropout**: A dropout layer (0.5) to further combat overfitting.\n",
        "   - **Dense Layers**: A hidden dense layer (64 units, ReLU activation) and a final output layer with 3 units (softmax activation) to classify the input into one of three classes: hate speech, offensive language, or neither.\n",
        "\n",
        "3. **Training**:  \n",
        "   The model is trained for **10 epochs** with a batch size of **32** using **sparse categorical cross-entropy loss** and the **Adam optimizer** (learning rate 0.001). During training, the model is evaluated on a validation set to track its performance.\n",
        "\n",
        "4. **Evaluation**:  \n",
        "   After training, the model's performance is evaluated on the test set using **accuracy** and **F1 score**. The results show a **high accuracy** (96.7%) and **F1 score**, indicating that the model is effective in classifying hate speech, offensive language, and neutral text.\n",
        "\n",
        "By adding the **attention mechanism**, the model is better equipped to focus on the important parts of each input, potentially improving its ability to classify subtle variations in language that are common in hate speech or offensive content."
      ]
    },
    {
      "cell_type": "markdown",
      "metadata": {
        "id": "iuBF4qYQ99cN"
      },
      "source": [
        "Q8: Write a script to train the implemented LSTM/GRU model on the Hate Speech dataset.\n",
        "Ensure that it supports hyperparameter tuning."
      ]
    },
    {
      "cell_type": "markdown",
      "metadata": {
        "id": "Zim_jt7O-Zps"
      },
      "source": [
        "**Define the Model with Hyperparameters:**"
      ]
    },
    {
      "cell_type": "code",
      "execution_count": 78,
      "metadata": {
        "id": "mJ6grB3d-czw"
      },
      "outputs": [],
      "source": [
        "def build_lstm_gru_model(embedding_matrix, max_sequence_length=50, lstm_units=128, dropout_rate=0.5, batch_size=32, use_gru=False):\n",
        "    model = Sequential()\n",
        "    model.add(Embedding(input_dim=embedding_matrix.shape[0], output_dim=embedding_matrix.shape[1],\n",
        "                        weights=[embedding_matrix], input_length=max_sequence_length, trainable=False))\n",
        "    model.add(SpatialDropout1D(0.3))\n",
        "\n",
        "    if use_gru:\n",
        "        model.add(GRU(lstm_units, return_sequences=False))  # Change to return_sequences=False\n",
        "    else:\n",
        "        model.add(LSTM(lstm_units, return_sequences=False))  # Change to return_sequences=False\n",
        "\n",
        "    model.add(Dropout(dropout_rate))\n",
        "    model.add(Dense(64, activation='relu'))\n",
        "    model.add(Dense(3, activation='softmax'))  # For 3-class classification (e.g., hate speech, offensive, neither)\n",
        "\n",
        "    model.compile(loss='sparse_categorical_crossentropy', optimizer=Adam(learning_rate=0.001), metrics=['accuracy'])\n",
        "\n",
        "    return model"
      ]
    },
    {
      "cell_type": "markdown",
      "metadata": {
        "id": "BkULKhYJ_LLs"
      },
      "source": [
        "**Set Up Keras Tuner for Random Search**"
      ]
    },
    {
      "cell_type": "code",
      "execution_count": 81,
      "metadata": {
        "id": "_4CyNkzO_GAx"
      },
      "outputs": [],
      "source": [
        "# Define the HyperModel class for LSTM/GRU\n",
        "class LSTM_GRU_HyperModel(HyperModel):\n",
        "    def __init__(self, embedding_matrix, max_sequence_length=50):\n",
        "        self.embedding_matrix = embedding_matrix\n",
        "        self.max_sequence_length = max_sequence_length\n",
        "\n",
        "    def build(self, hp):\n",
        "        # Get the hyperparameters to tune\n",
        "        lstm_units = hp.Int('lstm_units', min_value=64, max_value=256, step=64)\n",
        "        dropout_rate = hp.Float('dropout_rate', min_value=0.2, max_value=0.6, step=0.1)\n",
        "        batch_size = hp.Int('batch_size', min_value=32, max_value=128, step=32)\n",
        "        use_gru = hp.Boolean('use_gru', default=False)\n",
        "\n",
        "        model = build_lstm_gru_model(self.embedding_matrix,\n",
        "                                     max_sequence_length=self.max_sequence_length,\n",
        "                                     lstm_units=lstm_units,\n",
        "                                     dropout_rate=dropout_rate,\n",
        "                                     batch_size=batch_size,\n",
        "                                     use_gru=use_gru)\n",
        "\n",
        "        return model"
      ]
    },
    {
      "cell_type": "code",
      "execution_count": 82,
      "metadata": {
        "colab": {
          "base_uri": "https://localhost:8080/",
          "height": 305
        },
        "id": "GSJyK4MI_3cg",
        "outputId": "e7a9d678-7cef-46d7-eea0-91da41e62a46"
      },
      "outputs": [
        {
          "data": {
            "text/html": [
              "<pre style=\"white-space:pre;overflow-x:auto;line-height:normal;font-family:Menlo,'DejaVu Sans Mono',consolas,'Courier New',monospace\"><span style=\"font-weight: bold\">Model: \"sequential_5\"</span>\n",
              "</pre>\n"
            ],
            "text/plain": [
              "\u001b[1mModel: \"sequential_5\"\u001b[0m\n"
            ]
          },
          "metadata": {},
          "output_type": "display_data"
        },
        {
          "data": {
            "text/html": [
              "<pre style=\"white-space:pre;overflow-x:auto;line-height:normal;font-family:Menlo,'DejaVu Sans Mono',consolas,'Courier New',monospace\">┏━━━━━━━━━━━━━━━━━━━━━━━━━━━━━━━━━━━━━━┳━━━━━━━━━━━━━━━━━━━━━━━━━━━━━┳━━━━━━━━━━━━━━━━━┓\n",
              "┃<span style=\"font-weight: bold\"> Layer (type)                         </span>┃<span style=\"font-weight: bold\"> Output Shape                </span>┃<span style=\"font-weight: bold\">         Param # </span>┃\n",
              "┡━━━━━━━━━━━━━━━━━━━━━━━━━━━━━━━━━━━━━━╇━━━━━━━━━━━━━━━━━━━━━━━━━━━━━╇━━━━━━━━━━━━━━━━━┩\n",
              "│ embedding_5 (<span style=\"color: #0087ff; text-decoration-color: #0087ff\">Embedding</span>)              │ (<span style=\"color: #00d7ff; text-decoration-color: #00d7ff\">None</span>, <span style=\"color: #00af00; text-decoration-color: #00af00\">50</span>, <span style=\"color: #00af00; text-decoration-color: #00af00\">300</span>)             │      <span style=\"color: #00af00; text-decoration-color: #00af00\">12,220,200</span> │\n",
              "├──────────────────────────────────────┼─────────────────────────────┼─────────────────┤\n",
              "│ lstm_5 (<span style=\"color: #0087ff; text-decoration-color: #0087ff\">LSTM</span>)                        │ (<span style=\"color: #00d7ff; text-decoration-color: #00d7ff\">None</span>, <span style=\"color: #00af00; text-decoration-color: #00af00\">128</span>)                 │         <span style=\"color: #00af00; text-decoration-color: #00af00\">219,648</span> │\n",
              "├──────────────────────────────────────┼─────────────────────────────┼─────────────────┤\n",
              "│ dropout_5 (<span style=\"color: #0087ff; text-decoration-color: #0087ff\">Dropout</span>)                  │ (<span style=\"color: #00d7ff; text-decoration-color: #00d7ff\">None</span>, <span style=\"color: #00af00; text-decoration-color: #00af00\">128</span>)                 │               <span style=\"color: #00af00; text-decoration-color: #00af00\">0</span> │\n",
              "├──────────────────────────────────────┼─────────────────────────────┼─────────────────┤\n",
              "│ dense_10 (<span style=\"color: #0087ff; text-decoration-color: #0087ff\">Dense</span>)                     │ (<span style=\"color: #00d7ff; text-decoration-color: #00d7ff\">None</span>, <span style=\"color: #00af00; text-decoration-color: #00af00\">64</span>)                  │           <span style=\"color: #00af00; text-decoration-color: #00af00\">8,256</span> │\n",
              "├──────────────────────────────────────┼─────────────────────────────┼─────────────────┤\n",
              "│ dense_11 (<span style=\"color: #0087ff; text-decoration-color: #0087ff\">Dense</span>)                     │ (<span style=\"color: #00d7ff; text-decoration-color: #00d7ff\">None</span>, <span style=\"color: #00af00; text-decoration-color: #00af00\">3</span>)                   │             <span style=\"color: #00af00; text-decoration-color: #00af00\">195</span> │\n",
              "└──────────────────────────────────────┴─────────────────────────────┴─────────────────┘\n",
              "</pre>\n"
            ],
            "text/plain": [
              "┏━━━━━━━━━━━━━━━━━━━━━━━━━━━━━━━━━━━━━━┳━━━━━━━━━━━━━━━━━━━━━━━━━━━━━┳━━━━━━━━━━━━━━━━━┓\n",
              "┃\u001b[1m \u001b[0m\u001b[1mLayer (type)                        \u001b[0m\u001b[1m \u001b[0m┃\u001b[1m \u001b[0m\u001b[1mOutput Shape               \u001b[0m\u001b[1m \u001b[0m┃\u001b[1m \u001b[0m\u001b[1m        Param #\u001b[0m\u001b[1m \u001b[0m┃\n",
              "┡━━━━━━━━━━━━━━━━━━━━━━━━━━━━━━━━━━━━━━╇━━━━━━━━━━━━━━━━━━━━━━━━━━━━━╇━━━━━━━━━━━━━━━━━┩\n",
              "│ embedding_5 (\u001b[38;5;33mEmbedding\u001b[0m)              │ (\u001b[38;5;45mNone\u001b[0m, \u001b[38;5;34m50\u001b[0m, \u001b[38;5;34m300\u001b[0m)             │      \u001b[38;5;34m12,220,200\u001b[0m │\n",
              "├──────────────────────────────────────┼─────────────────────────────┼─────────────────┤\n",
              "│ lstm_5 (\u001b[38;5;33mLSTM\u001b[0m)                        │ (\u001b[38;5;45mNone\u001b[0m, \u001b[38;5;34m128\u001b[0m)                 │         \u001b[38;5;34m219,648\u001b[0m │\n",
              "├──────────────────────────────────────┼─────────────────────────────┼─────────────────┤\n",
              "│ dropout_5 (\u001b[38;5;33mDropout\u001b[0m)                  │ (\u001b[38;5;45mNone\u001b[0m, \u001b[38;5;34m128\u001b[0m)                 │               \u001b[38;5;34m0\u001b[0m │\n",
              "├──────────────────────────────────────┼─────────────────────────────┼─────────────────┤\n",
              "│ dense_10 (\u001b[38;5;33mDense\u001b[0m)                     │ (\u001b[38;5;45mNone\u001b[0m, \u001b[38;5;34m64\u001b[0m)                  │           \u001b[38;5;34m8,256\u001b[0m │\n",
              "├──────────────────────────────────────┼─────────────────────────────┼─────────────────┤\n",
              "│ dense_11 (\u001b[38;5;33mDense\u001b[0m)                     │ (\u001b[38;5;45mNone\u001b[0m, \u001b[38;5;34m3\u001b[0m)                   │             \u001b[38;5;34m195\u001b[0m │\n",
              "└──────────────────────────────────────┴─────────────────────────────┴─────────────────┘\n"
            ]
          },
          "metadata": {},
          "output_type": "display_data"
        },
        {
          "data": {
            "text/html": [
              "<pre style=\"white-space:pre;overflow-x:auto;line-height:normal;font-family:Menlo,'DejaVu Sans Mono',consolas,'Courier New',monospace\"><span style=\"font-weight: bold\"> Total params: </span><span style=\"color: #00af00; text-decoration-color: #00af00\">12,904,499</span> (49.23 MB)\n",
              "</pre>\n"
            ],
            "text/plain": [
              "\u001b[1m Total params: \u001b[0m\u001b[38;5;34m12,904,499\u001b[0m (49.23 MB)\n"
            ]
          },
          "metadata": {},
          "output_type": "display_data"
        },
        {
          "data": {
            "text/html": [
              "<pre style=\"white-space:pre;overflow-x:auto;line-height:normal;font-family:Menlo,'DejaVu Sans Mono',consolas,'Courier New',monospace\"><span style=\"font-weight: bold\"> Trainable params: </span><span style=\"color: #00af00; text-decoration-color: #00af00\">228,099</span> (891.01 KB)\n",
              "</pre>\n"
            ],
            "text/plain": [
              "\u001b[1m Trainable params: \u001b[0m\u001b[38;5;34m228,099\u001b[0m (891.01 KB)\n"
            ]
          },
          "metadata": {},
          "output_type": "display_data"
        },
        {
          "data": {
            "text/html": [
              "<pre style=\"white-space:pre;overflow-x:auto;line-height:normal;font-family:Menlo,'DejaVu Sans Mono',consolas,'Courier New',monospace\"><span style=\"font-weight: bold\"> Non-trainable params: </span><span style=\"color: #00af00; text-decoration-color: #00af00\">12,220,200</span> (46.62 MB)\n",
              "</pre>\n"
            ],
            "text/plain": [
              "\u001b[1m Non-trainable params: \u001b[0m\u001b[38;5;34m12,220,200\u001b[0m (46.62 MB)\n"
            ]
          },
          "metadata": {},
          "output_type": "display_data"
        },
        {
          "data": {
            "text/html": [
              "<pre style=\"white-space:pre;overflow-x:auto;line-height:normal;font-family:Menlo,'DejaVu Sans Mono',consolas,'Courier New',monospace\"><span style=\"font-weight: bold\"> Optimizer params: </span><span style=\"color: #00af00; text-decoration-color: #00af00\">456,200</span> (1.74 MB)\n",
              "</pre>\n"
            ],
            "text/plain": [
              "\u001b[1m Optimizer params: \u001b[0m\u001b[38;5;34m456,200\u001b[0m (1.74 MB)\n"
            ]
          },
          "metadata": {},
          "output_type": "display_data"
        }
      ],
      "source": [
        "model.summary()"
      ]
    },
    {
      "cell_type": "code",
      "execution_count": 83,
      "metadata": {
        "colab": {
          "base_uri": "https://localhost:8080/"
        },
        "id": "KqSKWcNL_Ruy",
        "outputId": "4cf4b634-bbc9-4127-a503-cde3e24fbc08"
      },
      "outputs": [
        {
          "name": "stdout",
          "output_type": "stream",
          "text": [
            "Trial 5 Complete [00h 03m 01s]\n",
            "val_accuracy: 0.9495396614074707\n",
            "\n",
            "Best val_accuracy So Far: 0.9624804854393005\n",
            "Total elapsed time: 00h 12m 24s\n"
          ]
        }
      ],
      "source": [
        "# Create the HyperModel\n",
        "hypermodel = LSTM_GRU_HyperModel(embedding_matrix=fasttext_matrix, max_sequence_length=50)\n",
        "\n",
        "# Set up RandomSearch for tuning\n",
        "tuner = RandomSearch(\n",
        "    hypermodel,\n",
        "    objective='val_accuracy',  # We want to maximize validation accuracy\n",
        "    max_trials=5,  # Number of different hyperparameter configurations to try\n",
        "    executions_per_trial=1,  # Number of training executions for each trial\n",
        "    directory='my_dir',  # Directory to save the models and results\n",
        "    project_name='lstm_gru_tuning'\n",
        ")\n",
        "\n",
        "# Perform Random Search\n",
        "tuner.search(X_train_pad, y_train, epochs=10, validation_data=(X_test_pad, y_test), verbose=1, callbacks=[EarlyStopping(patience=3)])"
      ]
    },
    {
      "cell_type": "markdown",
      "metadata": {
        "id": "RpW4-UNXCXFa"
      },
      "source": [
        "**Review Best Hyperparameters and Train the Best Model**"
      ]
    },
    {
      "cell_type": "code",
      "execution_count": 86,
      "metadata": {
        "colab": {
          "base_uri": "https://localhost:8080/"
        },
        "id": "479a538y_19b",
        "outputId": "1d1754cb-ad3b-46cf-a28b-41a54cfac044"
      },
      "outputs": [
        {
          "name": "stdout",
          "output_type": "stream",
          "text": [
            "Best Hyperparameters: <keras_tuner.src.engine.hyperparameters.hyperparameters.HyperParameters object at 0x7de63c338750>\n"
          ]
        },
        {
          "name": "stderr",
          "output_type": "stream",
          "text": [
            "/usr/local/lib/python3.11/dist-packages/keras/src/layers/core/embedding.py:90: UserWarning: Argument `input_length` is deprecated. Just remove it.\n",
            "  warnings.warn(\n"
          ]
        },
        {
          "name": "stdout",
          "output_type": "stream",
          "text": [
            "Epoch 1/10\n",
            "\u001b[1m360/360\u001b[0m \u001b[32m━━━━━━━━━━━━━━━━━━━━\u001b[0m\u001b[37m\u001b[0m \u001b[1m6s\u001b[0m 10ms/step - accuracy: 0.6892 - loss: 0.7102 - val_accuracy: 0.8211 - val_loss: 0.4577\n",
            "Epoch 2/10\n",
            "\u001b[1m360/360\u001b[0m \u001b[32m━━━━━━━━━━━━━━━━━━━━\u001b[0m\u001b[37m\u001b[0m \u001b[1m4s\u001b[0m 11ms/step - accuracy: 0.8076 - loss: 0.4948 - val_accuracy: 0.8379 - val_loss: 0.4131\n",
            "Epoch 3/10\n",
            "\u001b[1m360/360\u001b[0m \u001b[32m━━━━━━━━━━━━━━━━━━━━\u001b[0m\u001b[37m\u001b[0m \u001b[1m4s\u001b[0m 12ms/step - accuracy: 0.8216 - loss: 0.4472 - val_accuracy: 0.8470 - val_loss: 0.3756\n",
            "Epoch 4/10\n",
            "\u001b[1m360/360\u001b[0m \u001b[32m━━━━━━━━━━━━━━━━━━━━\u001b[0m\u001b[37m\u001b[0m \u001b[1m4s\u001b[0m 11ms/step - accuracy: 0.8435 - loss: 0.3927 - val_accuracy: 0.8766 - val_loss: 0.3218\n",
            "Epoch 5/10\n",
            "\u001b[1m360/360\u001b[0m \u001b[32m━━━━━━━━━━━━━━━━━━━━\u001b[0m\u001b[37m\u001b[0m \u001b[1m6s\u001b[0m 13ms/step - accuracy: 0.8691 - loss: 0.3426 - val_accuracy: 0.9000 - val_loss: 0.2643\n",
            "Epoch 6/10\n",
            "\u001b[1m360/360\u001b[0m \u001b[32m━━━━━━━━━━━━━━━━━━━━\u001b[0m\u001b[37m\u001b[0m \u001b[1m4s\u001b[0m 10ms/step - accuracy: 0.8811 - loss: 0.3086 - val_accuracy: 0.9123 - val_loss: 0.2409\n",
            "Epoch 7/10\n",
            "\u001b[1m360/360\u001b[0m \u001b[32m━━━━━━━━━━━━━━━━━━━━\u001b[0m\u001b[37m\u001b[0m \u001b[1m6s\u001b[0m 13ms/step - accuracy: 0.8993 - loss: 0.2652 - val_accuracy: 0.9181 - val_loss: 0.2272\n",
            "Epoch 8/10\n",
            "\u001b[1m360/360\u001b[0m \u001b[32m━━━━━━━━━━━━━━━━━━━━\u001b[0m\u001b[37m\u001b[0m \u001b[1m4s\u001b[0m 12ms/step - accuracy: 0.9106 - loss: 0.2413 - val_accuracy: 0.9291 - val_loss: 0.1953\n",
            "Epoch 9/10\n",
            "\u001b[1m360/360\u001b[0m \u001b[32m━━━━━━━━━━━━━━━━━━━━\u001b[0m\u001b[37m\u001b[0m \u001b[1m5s\u001b[0m 10ms/step - accuracy: 0.9209 - loss: 0.2160 - val_accuracy: 0.9350 - val_loss: 0.1805\n",
            "Epoch 10/10\n",
            "\u001b[1m360/360\u001b[0m \u001b[32m━━━━━━━━━━━━━━━━━━━━\u001b[0m\u001b[37m\u001b[0m \u001b[1m5s\u001b[0m 10ms/step - accuracy: 0.9266 - loss: 0.2021 - val_accuracy: 0.9420 - val_loss: 0.1674\n"
          ]
        }
      ],
      "source": [
        "# Get the best hyperparameters\n",
        "best_hps = tuner.get_best_hyperparameters()[0]\n",
        "print(f\"Best Hyperparameters: {best_hps}\")\n",
        "\n",
        "# Build the best model using the best hyperparameters\n",
        "best_model = tuner.hypermodel.build(best_hps)\n",
        "\n",
        "# Train the final model\n",
        "history = best_model.fit(X_train_pad, y_train, epochs=10, batch_size=best_hps['batch_size'],\n",
        "                         validation_data=(X_test_pad, y_test), verbose=1, callbacks=[EarlyStopping(patience=3)])"
      ]
    },
    {
      "cell_type": "markdown",
      "metadata": {
        "id": "3J_8gbpxCjjg"
      },
      "source": [
        "**Evaluate the Model**"
      ]
    },
    {
      "cell_type": "code",
      "execution_count": 87,
      "metadata": {
        "colab": {
          "base_uri": "https://localhost:8080/"
        },
        "id": "KuvnIEdr_qHt",
        "outputId": "679a5774-1081-4181-ff61-2f68d8ab1890"
      },
      "outputs": [
        {
          "name": "stdout",
          "output_type": "stream",
          "text": [
            "\u001b[1m360/360\u001b[0m \u001b[32m━━━━━━━━━━━━━━━━━━━━\u001b[0m\u001b[37m\u001b[0m \u001b[1m2s\u001b[0m 4ms/step\n",
            "Best Model - Accuracy: 0.9419836720514156, F1 Score: 0.9413251283154456\n"
          ]
        }
      ],
      "source": [
        "# Evaluate the best model\n",
        "acc, f1 = evaluate_model(best_model, X_test_pad, y_test)\n",
        "print(f\"Best Model - Accuracy: {acc}, F1 Score: {f1}\")"
      ]
    },
    {
      "cell_type": "markdown",
      "metadata": {},
      "source": [
        "# LSTM and GRU Hyperparameter Tuning for Hate Speech Classification\n",
        "\n",
        "This code is designed to build and tune an LSTM/GRU-based model for hate speech classification, utilizing **Keras Tuner** for hyperparameter optimization. The model uses **pre-trained embeddings** (such as FastText), and the goal is to classify text into three categories: hate speech, offensive, or neither.\n",
        "\n",
        "## Key Components:\n",
        "\n",
        "1. **LSTM/GRU Model Definition**:\n",
        "   The `build_lstm_gru_model` function defines the architecture of the model. It begins with:\n",
        "   - **Embedding Layer**: This layer initializes the word vectors from a pre-trained embedding matrix (`fasttext_matrix`), which is set to non-trainable during training to keep the embeddings fixed.\n",
        "   - **SpatialDropout1D**: Applied to prevent overfitting by randomly setting entire features to zero during training.\n",
        "   - **LSTM or GRU Layer**: A decision is made based on the `use_gru` hyperparameter, choosing either an LSTM or GRU layer for sequence processing. Both layers output sequences with `return_sequences=False`, meaning they return the final state rather than the entire sequence.\n",
        "   - **Dropout Layer**: Applied with a user-defined rate to further regularize the model and avoid overfitting.\n",
        "   - **Dense Layer**: A fully connected layer with 64 units and ReLU activation, followed by the final output layer with 3 units and softmax activation for multi-class classification.\n",
        "\n",
        "2. **HyperModel Class**:\n",
        "   The `LSTM_GRU_HyperModel` class inherits from `HyperModel` and is used to define the hyperparameter search space:\n",
        "   - **lstm_units**: The number of units in the LSTM/GRU layer, which is tuned between 64 and 256.\n",
        "   - **dropout_rate**: The rate at which dropout is applied to the model, tuned between 0.2 and 0.6.\n",
        "   - **batch_size**: The size of each batch during training, tuned between 32 and 128.\n",
        "   - **use_gru**: A boolean value that determines whether to use a GRU layer instead of an LSTM layer.\n",
        "\n",
        "3. **Hyperparameter Tuning with Keras Tuner**:\n",
        "   The `RandomSearch` tuner is set up to perform hyperparameter optimization. It:\n",
        "   - Optimizes the validation accuracy (`val_accuracy`).\n",
        "   - Executes a maximum of 5 trials with 1 execution per trial.\n",
        "   - Saves the results and models in a directory named `my_dir`.\n",
        "\n",
        "4. **Training and Evaluation**:\n",
        "   After tuning, the best hyperparameters are used to build the final model. This model is then trained on the training data for 10 epochs, and evaluated on the test set using accuracy and F1 score.\n",
        "\n",
        "5. **Final Model Performance**:\n",
        "   After training the final model with the best hyperparameters, the **accuracy** and **F1 score** on the test set are reported. The model achieves an accuracy of **94.20%** and an F1 score of **94.13%**, demonstrating the effectiveness of the hyperparameter tuning and the model architecture in classifying hate speech."
      ]
    },
    {
      "cell_type": "markdown",
      "metadata": {
        "id": "cgA9jbTHCytt"
      },
      "source": [
        "Q9: Implement a function to evaluate the trained model on the Hate Speech dataset using\n",
        "accuracy, precision, recall, and F1-score."
      ]
    },
    {
      "cell_type": "markdown",
      "metadata": {
        "id": "SBiXChAODH1i"
      },
      "source": [
        "**Evaluate the Model**"
      ]
    },
    {
      "cell_type": "markdown",
      "metadata": {
        "id": "dCpt_31WDK7f"
      },
      "source": [
        "Define the Evaluation Function"
      ]
    },
    {
      "cell_type": "code",
      "execution_count": 92,
      "metadata": {
        "id": "mp8kM2lcCnDg"
      },
      "outputs": [],
      "source": [
        "def evaluate_model(model, X_test, y_test):\n",
        "    # Predict the probabilities for each class\n",
        "    y_pred_proba = model.predict(X_test)\n",
        "\n",
        "    # Convert probabilities to class labels (the class with the highest probability)\n",
        "    y_pred = np.argmax(y_pred_proba, axis=1)\n",
        "\n",
        "    # Compute the metrics\n",
        "    accuracy = accuracy_score(y_test, y_pred)\n",
        "    precision = precision_score(y_test, y_pred, average='weighted')\n",
        "    recall = recall_score(y_test, y_pred, average='weighted')\n",
        "    f1 = f1_score(y_test, y_pred, average='weighted')\n",
        "\n",
        "    return accuracy, precision, recall, f1"
      ]
    },
    {
      "cell_type": "code",
      "execution_count": 93,
      "metadata": {
        "colab": {
          "base_uri": "https://localhost:8080/"
        },
        "id": "MQ1wzcFJDlQk",
        "outputId": "23b493de-a938-4f94-d85e-265453dfa6b7"
      },
      "outputs": [
        {
          "name": "stdout",
          "output_type": "stream",
          "text": [
            "\u001b[1m360/360\u001b[0m \u001b[32m━━━━━━━━━━━━━━━━━━━━\u001b[0m\u001b[37m\u001b[0m \u001b[1m1s\u001b[0m 3ms/step\n",
            "Model Evaluation:\n",
            "Accuracy: 0.9420\n",
            "Precision (Weighted): 0.9436\n",
            "Recall (Weighted): 0.9420\n",
            "F1-Score (Weighted): 0.9413\n"
          ]
        }
      ],
      "source": [
        "accuracy, precision, recall, f1 = evaluate_model(best_model, X_test_pad, y_test)\n",
        "\n",
        "# Print the results\n",
        "print(f\"Model Evaluation:\")\n",
        "print(f\"Accuracy: {accuracy:.4f}\")\n",
        "print(f\"Precision (Weighted): {precision:.4f}\")\n",
        "print(f\"Recall (Weighted): {recall:.4f}\")\n",
        "print(f\"F1-Score (Weighted): {f1:.4f}\")"
      ]
    },
    {
      "cell_type": "code",
      "execution_count": 105,
      "metadata": {
        "colab": {
          "base_uri": "https://localhost:8080/",
          "height": 564
        },
        "id": "1z_C8udZHxXu",
        "outputId": "fc6fda67-da95-40ac-e4b9-755bcbbd206f"
      },
      "outputs": [
        {
          "data": {
            "image/png": "[encoded data removed]",
            "text/plain": [
              "<Figure size 800x600 with 1 Axes>"
            ]
          },
          "metadata": {},
          "output_type": "display_data"
        }
      ],
      "source": [
        "metrics = ['accuracy', 'precision', 'recall', 'f1']\n",
        "scores = [accuracy, precision, recall, f1]\n",
        "\n",
        "plt.figure(figsize=(8, 6))\n",
        "plt.bar(metrics, scores, color=['skyblue', 'lightcoral', 'lightgreen', 'orange'])\n",
        "plt.title('Best Model Performance Metrics')\n",
        "plt.xlabel('Metric')\n",
        "plt.ylabel('Score')\n",
        "plt.ylim(0, 1)  # Set y-axis limit for better visualization\n",
        "plt.show()"
      ]
    },
    {
      "cell_type": "markdown",
      "metadata": {},
      "source": [
        "# Model Evaluation for Hate Speech Classification\n",
        "\n",
        "The provided code defines the `evaluate_model` function, which is used to evaluate the performance of a trained machine learning model (in this case, the best model obtained from hyperparameter tuning). The function takes in the trained `model`, the test data (`X_test`), and the true labels (`y_test`), and it computes key evaluation metrics including accuracy, precision, recall, and F1-score.\n",
        "\n",
        "## Key Steps:\n",
        "1. **Prediction**: \n",
        "   - The model predicts the probabilities of each class for the input data (`X_test`), using the `model.predict()` method. These predictions are in the form of probabilities for each class.\n",
        "   - The `np.argmax()` function is then used to select the class with the highest probability for each input, converting these probabilities into discrete class labels.\n",
        "\n",
        "2. **Evaluation Metrics**:\n",
        "   - **Accuracy**: The proportion of correctly predicted labels among the total number of predictions.\n",
        "   - **Precision**: The ratio of true positive predictions to the total predicted positives, weighted by class distribution.\n",
        "   - **Recall**: The ratio of true positive predictions to the total actual positives, weighted by class distribution.\n",
        "   - **F1-Score**: The harmonic mean of precision and recall, providing a balanced measure for imbalanced datasets.\n",
        "\n",
        "These metrics are calculated using the corresponding functions from **scikit-learn** (`accuracy_score`, `precision_score`, `recall_score`, `f1_score`), with the `average='weighted'` parameter to account for the class imbalance in the dataset.\n",
        "\n",
        "The code then prints out the evaluation results for the model, displaying the calculated accuracy, precision, recall, and F1-score.\n",
        "\n",
        "## Results:\n",
        "After evaluating the model, the output prints the following metrics:\n",
        "- **Accuracy**: 94.20%\n",
        "- **Precision (Weighted)**: 94.36%\n",
        "- **Recall (Weighted)**: 94.20%\n",
        "- **F1-Score (Weighted)**: 94.13%\n",
        "\n",
        "These metrics indicate the model's effectiveness in classifying hate speech, offensive, and neutral text categories. The high precision and recall values suggest that the model performs well in both identifying relevant instances and minimizing false positives/negatives."
      ]
    },
    {
      "cell_type": "markdown",
      "metadata": {
        "id": "l2IHNBTFHklO"
      },
      "source": [
        "Q10: Compare the performance of different embedding techniques (pretrained vs. custom\n",
        "trained) on the Hate Speech dataset and discuss which one performed better and why."
      ]
    },
    {
      "cell_type": "markdown",
      "metadata": {
        "id": "J2UR0TpiEjgq"
      },
      "source": [
        "**Compare Word2Vec (Custom) vs Pretrained Embeddings**"
      ]
    },
    {
      "cell_type": "code",
      "execution_count": 95,
      "metadata": {
        "colab": {
          "base_uri": "https://localhost:8080/"
        },
        "id": "FkfcQe16EOCM",
        "outputId": "9af276d9-4fd1-48c6-af5f-e60d4c37c903"
      },
      "outputs": [
        {
          "name": "stderr",
          "output_type": "stream",
          "text": [
            "/usr/local/lib/python3.11/dist-packages/keras/src/layers/core/embedding.py:90: UserWarning: Argument `input_length` is deprecated. Just remove it.\n",
            "  warnings.warn(\n"
          ]
        }
      ],
      "source": [
        "# Define models for both custom (Word2Vec) and pretrained (FastText/GloVe) embeddings\n",
        "word2vec_model = build_lstm_gru_model(word2vec_matrix)  # Trained Word2Vec embeddings\n",
        "fasttext_model = build_lstm_gru_model(fasttext_matrix)  # Pretrained FastText embeddings"
      ]
    },
    {
      "cell_type": "code",
      "execution_count": 97,
      "metadata": {
        "colab": {
          "base_uri": "https://localhost:8080/"
        },
        "id": "alr10goyEqWE",
        "outputId": "e8db3537-fa71-4bdf-efda-0a122f0d6c45"
      },
      "outputs": [
        {
          "name": "stdout",
          "output_type": "stream",
          "text": [
            "Epoch 1/10\n",
            "\u001b[1m1440/1440\u001b[0m \u001b[32m━━━━━━━━━━━━━━━━━━━━\u001b[0m\u001b[37m\u001b[0m \u001b[1m17s\u001b[0m 12ms/step - accuracy: 0.8897 - loss: 0.2969 - val_accuracy: 0.9299 - val_loss: 0.1970\n",
            "Epoch 2/10\n",
            "\u001b[1m1440/1440\u001b[0m \u001b[32m━━━━━━━━━━━━━━━━━━━━\u001b[0m\u001b[37m\u001b[0m \u001b[1m16s\u001b[0m 9ms/step - accuracy: 0.9057 - loss: 0.2548 - val_accuracy: 0.9334 - val_loss: 0.1857\n",
            "Epoch 3/10\n",
            "\u001b[1m1440/1440\u001b[0m \u001b[32m━━━━━━━━━━━━━━━━━━━━\u001b[0m\u001b[37m\u001b[0m \u001b[1m20s\u001b[0m 9ms/step - accuracy: 0.9211 - loss: 0.2218 - val_accuracy: 0.9457 - val_loss: 0.1584\n",
            "Epoch 4/10\n",
            "\u001b[1m1440/1440\u001b[0m \u001b[32m━━━━━━━━━━━━━━━━━━━━\u001b[0m\u001b[37m\u001b[0m \u001b[1m20s\u001b[0m 9ms/step - accuracy: 0.9304 - loss: 0.1965 - val_accuracy: 0.9536 - val_loss: 0.1367\n",
            "Epoch 5/10\n",
            "\u001b[1m1440/1440\u001b[0m \u001b[32m━━━━━━━━━━━━━━━━━━━━\u001b[0m\u001b[37m\u001b[0m \u001b[1m22s\u001b[0m 10ms/step - accuracy: 0.9344 - loss: 0.1820 - val_accuracy: 0.9532 - val_loss: 0.1314\n",
            "Epoch 6/10\n",
            "\u001b[1m1440/1440\u001b[0m \u001b[32m━━━━━━━━━━━━━━━━━━━━\u001b[0m\u001b[37m\u001b[0m \u001b[1m21s\u001b[0m 10ms/step - accuracy: 0.9404 - loss: 0.1668 - val_accuracy: 0.9574 - val_loss: 0.1235\n",
            "Epoch 7/10\n",
            "\u001b[1m1440/1440\u001b[0m \u001b[32m━━━━━━━━━━━━━━━━━━━━\u001b[0m\u001b[37m\u001b[0m \u001b[1m19s\u001b[0m 9ms/step - accuracy: 0.9453 - loss: 0.1514 - val_accuracy: 0.9599 - val_loss: 0.1153\n",
            "Epoch 8/10\n",
            "\u001b[1m1440/1440\u001b[0m \u001b[32m━━━━━━━━━━━━━━━━━━━━\u001b[0m\u001b[37m\u001b[0m \u001b[1m21s\u001b[0m 9ms/step - accuracy: 0.9492 - loss: 0.1450 - val_accuracy: 0.9614 - val_loss: 0.1159\n",
            "Epoch 9/10\n",
            "\u001b[1m1440/1440\u001b[0m \u001b[32m━━━━━━━━━━━━━━━━━━━━\u001b[0m\u001b[37m\u001b[0m \u001b[1m21s\u001b[0m 9ms/step - accuracy: 0.9518 - loss: 0.1342 - val_accuracy: 0.9637 - val_loss: 0.1075\n",
            "Epoch 10/10\n",
            "\u001b[1m1440/1440\u001b[0m \u001b[32m━━━━━━━━━━━━━━━━━━━━\u001b[0m\u001b[37m\u001b[0m \u001b[1m21s\u001b[0m 10ms/step - accuracy: 0.9543 - loss: 0.1315 - val_accuracy: 0.9670 - val_loss: 0.1005\n"
          ]
        },
        {
          "data": {
            "text/plain": [
              "<keras.src.callbacks.history.History at 0x7de6b58421d0>"
            ]
          },
          "execution_count": 97,
          "metadata": {},
          "output_type": "execute_result"
        }
      ],
      "source": [
        "# Train models on the same data\n",
        "word2vec_model.fit(X_train_pad, y_train, epochs=10, batch_size=32, validation_data=(X_test_pad, y_test))"
      ]
    },
    {
      "cell_type": "code",
      "execution_count": 98,
      "metadata": {
        "colab": {
          "base_uri": "https://localhost:8080/"
        },
        "id": "8L_8uRveE_nM",
        "outputId": "d31fdc21-6fbe-4e8d-97f8-c644f0256578"
      },
      "outputs": [
        {
          "name": "stdout",
          "output_type": "stream",
          "text": [
            "Epoch 1/10\n",
            "\u001b[1m1440/1440\u001b[0m \u001b[32m━━━━━━━━━━━━━━━━━━━━\u001b[0m\u001b[37m\u001b[0m \u001b[1m18s\u001b[0m 11ms/step - accuracy: 0.7113 - loss: 0.6839 - val_accuracy: 0.8161 - val_loss: 0.4659\n",
            "Epoch 2/10\n",
            "\u001b[1m1440/1440\u001b[0m \u001b[32m━━━━━━━━━━━━━━━━━━━━\u001b[0m\u001b[37m\u001b[0m \u001b[1m12s\u001b[0m 8ms/step - accuracy: 0.8067 - loss: 0.4878 - val_accuracy: 0.8467 - val_loss: 0.3951\n",
            "Epoch 3/10\n",
            "\u001b[1m1440/1440\u001b[0m \u001b[32m━━━━━━━━━━━━━━━━━━━━\u001b[0m\u001b[37m\u001b[0m \u001b[1m14s\u001b[0m 9ms/step - accuracy: 0.8328 - loss: 0.4280 - val_accuracy: 0.8712 - val_loss: 0.3402\n",
            "Epoch 4/10\n",
            "\u001b[1m1440/1440\u001b[0m \u001b[32m━━━━━━━━━━━━━━━━━━━━\u001b[0m\u001b[37m\u001b[0m \u001b[1m20s\u001b[0m 9ms/step - accuracy: 0.8532 - loss: 0.3762 - val_accuracy: 0.8866 - val_loss: 0.2937\n",
            "Epoch 5/10\n",
            "\u001b[1m1440/1440\u001b[0m \u001b[32m━━━━━━━━━━━━━━━━━━━━\u001b[0m\u001b[37m\u001b[0m \u001b[1m15s\u001b[0m 10ms/step - accuracy: 0.8737 - loss: 0.3316 - val_accuracy: 0.9086 - val_loss: 0.2490\n",
            "Epoch 6/10\n",
            "\u001b[1m1440/1440\u001b[0m \u001b[32m━━━━━━━━━━━━━━━━━━━━\u001b[0m\u001b[37m\u001b[0m \u001b[1m11s\u001b[0m 8ms/step - accuracy: 0.8930 - loss: 0.2822 - val_accuracy: 0.9208 - val_loss: 0.2283\n",
            "Epoch 7/10\n",
            "\u001b[1m1440/1440\u001b[0m \u001b[32m━━━━━━━━━━━━━━━━━━━━\u001b[0m\u001b[37m\u001b[0m \u001b[1m14s\u001b[0m 10ms/step - accuracy: 0.9071 - loss: 0.2544 - val_accuracy: 0.9279 - val_loss: 0.2049\n",
            "Epoch 8/10\n",
            "\u001b[1m1440/1440\u001b[0m \u001b[32m━━━━━━━━━━━━━━━━━━━━\u001b[0m\u001b[37m\u001b[0m \u001b[1m21s\u001b[0m 10ms/step - accuracy: 0.9182 - loss: 0.2254 - val_accuracy: 0.9266 - val_loss: 0.2023\n",
            "Epoch 9/10\n",
            "\u001b[1m1440/1440\u001b[0m \u001b[32m━━━━━━━━━━━━━━━━━━━━\u001b[0m\u001b[37m\u001b[0m \u001b[1m20s\u001b[0m 9ms/step - accuracy: 0.9287 - loss: 0.2037 - val_accuracy: 0.9394 - val_loss: 0.1729\n",
            "Epoch 10/10\n",
            "\u001b[1m1440/1440\u001b[0m \u001b[32m━━━━━━━━━━━━━━━━━━━━\u001b[0m\u001b[37m\u001b[0m \u001b[1m20s\u001b[0m 9ms/step - accuracy: 0.9341 - loss: 0.1878 - val_accuracy: 0.9459 - val_loss: 0.1572\n"
          ]
        },
        {
          "data": {
            "text/plain": [
              "<keras.src.callbacks.history.History at 0x7de6b5802210>"
            ]
          },
          "execution_count": 98,
          "metadata": {},
          "output_type": "execute_result"
        }
      ],
      "source": [
        "fasttext_model.fit(X_train_pad, y_train, epochs=10, batch_size=32, validation_data=(X_test_pad, y_test))"
      ]
    },
    {
      "cell_type": "code",
      "execution_count": 99,
      "metadata": {
        "colab": {
          "base_uri": "https://localhost:8080/"
        },
        "id": "jxnTXzfqEtPx",
        "outputId": "09bf2a82-09fc-4c46-93c4-0e07741ef19e"
      },
      "outputs": [
        {
          "name": "stdout",
          "output_type": "stream",
          "text": [
            "\u001b[1m360/360\u001b[0m \u001b[32m━━━━━━━━━━━━━━━━━━━━\u001b[0m\u001b[37m\u001b[0m \u001b[1m1s\u001b[0m 3ms/step\n",
            "\u001b[1m360/360\u001b[0m \u001b[32m━━━━━━━━━━━━━━━━━━━━\u001b[0m\u001b[37m\u001b[0m \u001b[1m1s\u001b[0m 3ms/step\n"
          ]
        }
      ],
      "source": [
        "# Evaluate both models\n",
        "w2v_acc, w2v_precision, w2v_recall, w2v_f1 = evaluate_model(word2vec_model, X_test_pad, y_test)\n",
        "ft_acc, ft_precision, ft_recall, ft_f1 = evaluate_model(fasttext_model, X_test_pad, y_test)"
      ]
    },
    {
      "cell_type": "code",
      "execution_count": 100,
      "metadata": {
        "colab": {
          "base_uri": "https://localhost:8080/"
        },
        "id": "T-V2kkZREy6a",
        "outputId": "df1fd923-3e84-4a70-8cf9-378a317dfc95"
      },
      "outputs": [
        {
          "name": "stdout",
          "output_type": "stream",
          "text": [
            "Custom Word2Vec (trained) Model Evaluation:\n",
            "Accuracy: 0.9670, Precision: 0.9675, Recall: 0.9670, F1-Score: 0.9668\n"
          ]
        }
      ],
      "source": [
        "# Print results for comparison\n",
        "print(\"Custom Word2Vec (trained) Model Evaluation:\")\n",
        "print(f\"Accuracy: {w2v_acc:.4f}, Precision: {w2v_precision:.4f}, Recall: {w2v_recall:.4f}, F1-Score: {w2v_f1:.4f}\")"
      ]
    },
    {
      "cell_type": "code",
      "execution_count": 101,
      "metadata": {
        "colab": {
          "base_uri": "https://localhost:8080/"
        },
        "id": "B4ZLYQsTEzRA",
        "outputId": "817ee3fc-03b6-499a-d8e5-c8d0df0f3ad3"
      },
      "outputs": [
        {
          "name": "stdout",
          "output_type": "stream",
          "text": [
            "\n",
            "Pretrained FastText Model Evaluation:\n",
            "Accuracy: 0.9459, Precision: 0.9471, Recall: 0.9459, F1-Score: 0.9452\n"
          ]
        }
      ],
      "source": [
        "print(\"\\nPretrained FastText Model Evaluation:\")\n",
        "print(f\"Accuracy: {ft_acc:.4f}, Precision: {ft_precision:.4f}, Recall: {ft_recall:.4f}, F1-Score: {ft_f1:.4f}\")"
      ]
    },
    {
      "cell_type": "code",
      "execution_count": 103,
      "metadata": {
        "colab": {
          "base_uri": "https://localhost:8080/",
          "height": 528
        },
        "id": "YiNsSvEyHJlj",
        "outputId": "86d2ad4c-f9a7-458c-cc34-fdabd6a2169e"
      },
      "outputs": [
        {
          "data": {
            "image/png": "[encoded data removed]",
            "text/plain": [
              "<Figure size 1000x600 with 1 Axes>"
            ]
          },
          "metadata": {},
          "output_type": "display_data"
        }
      ],
      "source": [
        "# Extract accuracy and F1 scores for plotting\n",
        "embedding_types = ['Word2Vec', 'FastText']  # Specify the embedding types to compare\n",
        "accuracies = [results[embedding]['Accuracy'] for embedding in embedding_types if embedding in results]\n",
        "f1_scores = [results[embedding]['F1 Score'] for embedding in embedding_types if embedding in results]\n",
        "\n",
        "# Create the plot\n",
        "plt.figure(figsize=(10, 6))\n",
        "\n",
        "# Bar plot for Accuracy\n",
        "plt.bar(embedding_types, accuracies, label='Accuracy', color='skyblue', alpha=0.7, width=0.35)\n",
        "\n",
        "# Bar plot for F1 Score\n",
        "plt.bar([i + 0.35 for i in range(len(f1_scores))], f1_scores, label='F1 Score', color='lightcoral', alpha=0.7, width=0.35)\n",
        "\n",
        "\n",
        "# Add labels, title, and legend\n",
        "plt.xlabel('Embedding Type')\n",
        "plt.ylabel('Score')\n",
        "plt.title('Word2Vec vs. FastText Performance')\n",
        "plt.xticks(rotation=0)  # Rotate x-axis labels if needed\n",
        "plt.legend()\n",
        "plt.ylim(0, 1)\n",
        "\n",
        "# Add annotations to the bars\n",
        "for i, acc in enumerate(accuracies):\n",
        "    plt.text(i, acc + 0.01, f'{acc:.4f}', ha='center', va='bottom')\n",
        "\n",
        "for i, f1 in enumerate(f1_scores):\n",
        "    plt.text(i + 0.35, f1 + 0.01, f'{f1:.4f}', ha='center', va='bottom')\n",
        "\n",
        "# Show the plot\n",
        "plt.tight_layout()\n",
        "plt.show()"
      ]
    },
    {
      "cell_type": "markdown",
      "metadata": {},
      "source": [
        "# Comparison of Custom (Word2Vec) and Pretrained (FastText) Models\n",
        "\n",
        "In this code, two different models are defined and trained using distinct word embeddings: one based on **Word2Vec** (a custom-trained word embedding model) and the other based on **FastText** (a pretrained word embedding model). The models are built using the same LSTM-GRU architecture, which processes the embeddings and makes predictions for text classification tasks.\n",
        "\n",
        "## Key Steps:\n",
        "1. **Model Definition**:\n",
        "   - The `build_lstm_gru_model` function is called twice, once for each type of embedding. The first model is trained using custom **Word2Vec** embeddings, and the second model uses **FastText** embeddings, which have been pretrained on large corpora.\n",
        "\n",
        "2. **Training**:\n",
        "   - Both models are trained on the same dataset (`X_train_pad` and `y_train`) for 10 epochs with a batch size of 32. The training process involves adjusting the model weights to minimize loss and improve accuracy, and validation data (`X_test_pad` and `y_test`) is used to track performance during training.\n",
        "\n",
        "3. **Evaluation**:\n",
        "   - After training, both models are evaluated on the test data using the `evaluate_model` function, which computes key metrics: **accuracy**, **precision**, **recall**, and **F1-score**.\n",
        "   - The results for each model are printed, providing a clear comparison between the performance of the custom-trained Word2Vec model and the pretrained FastText model.\n",
        "\n",
        "## Results:\n",
        "- **Custom Word2Vec Model**:\n",
        "  - Accuracy: 96.70%\n",
        "  - Precision: 96.75%\n",
        "  - Recall: 96.70%\n",
        "  - F1-Score: 96.68%\n",
        "\n",
        "- **Pretrained FastText Model**:\n",
        "  - Accuracy: 94.59%\n",
        "  - Precision: 94.71%\n",
        "  - Recall: 94.59%\n",
        "  - F1-Score: 94.52%\n",
        "\n",
        "From the results, we observe that the **Word2Vec** model outperforms the **FastText** model across all metrics, indicating that custom-trained embeddings can sometimes lead to better performance than using pretrained embeddings, at least for this specific task."
      ]
    }
  ],
  "metadata": {
    "accelerator": "GPU",
    "colab": {
      "gpuType": "T4",
      "provenance": []
    },
    "kernelspec": {
      "display_name": "Python 3",
      "name": "python3"
    },
    "language_info": {
      "name": "python"
    }
  },
  "nbformat": 4,
  "nbformat_minor": 0
}
