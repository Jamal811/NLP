{
  "nbformat": 4,
  "nbformat_minor": 0,
  "metadata": {
    "colab": {
      "provenance": [],
      "gpuType": "T4"
    },
    "kernelspec": {
      "name": "python3",
      "display_name": "Python 3"
    },
    "language_info": {
      "name": "python"
    },
    "accelerator": "GPU",
    "widgets": {
      "application/vnd.jupyter.widget-state+json": {
        "ec52010450fa471eb7cbd4a8418847a0": {
          "model_module": "@jupyter-widgets/controls",
          "model_name": "HBoxModel",
          "model_module_version": "1.5.0",
          "state": {
            "_dom_classes": [],
            "_model_module": "@jupyter-widgets/controls",
            "_model_module_version": "1.5.0",
            "_model_name": "HBoxModel",
            "_view_count": null,
            "_view_module": "@jupyter-widgets/controls",
            "_view_module_version": "1.5.0",
            "_view_name": "HBoxView",
            "box_style": "",
            "children": [
              "IPY_MODEL_cc61169937614e1fbaff998001173aec",
              "IPY_MODEL_869f6866a52747a78e00c43f73127b2f",
              "IPY_MODEL_fbca7700c8d3414ca9813aa14601c987"
            ],
            "layout": "IPY_MODEL_be604327031b4dd0849988ad50caf088"
          }
        },
        "cc61169937614e1fbaff998001173aec": {
          "model_module": "@jupyter-widgets/controls",
          "model_name": "HTMLModel",
          "model_module_version": "1.5.0",
          "state": {
            "_dom_classes": [],
            "_model_module": "@jupyter-widgets/controls",
            "_model_module_version": "1.5.0",
            "_model_name": "HTMLModel",
            "_view_count": null,
            "_view_module": "@jupyter-widgets/controls",
            "_view_module_version": "1.5.0",
            "_view_name": "HTMLView",
            "description": "",
            "description_tooltip": null,
            "layout": "IPY_MODEL_1126256ddb7c41238247d03c0da1f0a3",
            "placeholder": "​",
            "style": "IPY_MODEL_e1a4133901494419a5a8a8566cd85e41",
            "value": "tokenizer_config.json: 100%"
          }
        },
        "869f6866a52747a78e00c43f73127b2f": {
          "model_module": "@jupyter-widgets/controls",
          "model_name": "FloatProgressModel",
          "model_module_version": "1.5.0",
          "state": {
            "_dom_classes": [],
            "_model_module": "@jupyter-widgets/controls",
            "_model_module_version": "1.5.0",
            "_model_name": "FloatProgressModel",
            "_view_count": null,
            "_view_module": "@jupyter-widgets/controls",
            "_view_module_version": "1.5.0",
            "_view_name": "ProgressView",
            "bar_style": "success",
            "description": "",
            "description_tooltip": null,
            "layout": "IPY_MODEL_62a74a5fba8242b18aa6368d7b4d6e64",
            "max": 48,
            "min": 0,
            "orientation": "horizontal",
            "style": "IPY_MODEL_9e9fc5b67bf044349dd92e68350b94fa",
            "value": 48
          }
        },
        "fbca7700c8d3414ca9813aa14601c987": {
          "model_module": "@jupyter-widgets/controls",
          "model_name": "HTMLModel",
          "model_module_version": "1.5.0",
          "state": {
            "_dom_classes": [],
            "_model_module": "@jupyter-widgets/controls",
            "_model_module_version": "1.5.0",
            "_model_name": "HTMLModel",
            "_view_count": null,
            "_view_module": "@jupyter-widgets/controls",
            "_view_module_version": "1.5.0",
            "_view_name": "HTMLView",
            "description": "",
            "description_tooltip": null,
            "layout": "IPY_MODEL_afd6d0dc511c46129627d1fd652d8688",
            "placeholder": "​",
            "style": "IPY_MODEL_faad2cc5f32e42c790473a78d1edab28",
            "value": " 48.0/48.0 [00:00&lt;00:00, 1.14kB/s]"
          }
        },
        "be604327031b4dd0849988ad50caf088": {
          "model_module": "@jupyter-widgets/base",
          "model_name": "LayoutModel",
          "model_module_version": "1.2.0",
          "state": {
            "_model_module": "@jupyter-widgets/base",
            "_model_module_version": "1.2.0",
            "_model_name": "LayoutModel",
            "_view_count": null,
            "_view_module": "@jupyter-widgets/base",
            "_view_module_version": "1.2.0",
            "_view_name": "LayoutView",
            "align_content": null,
            "align_items": null,
            "align_self": null,
            "border": null,
            "bottom": null,
            "display": null,
            "flex": null,
            "flex_flow": null,
            "grid_area": null,
            "grid_auto_columns": null,
            "grid_auto_flow": null,
            "grid_auto_rows": null,
            "grid_column": null,
            "grid_gap": null,
            "grid_row": null,
            "grid_template_areas": null,
            "grid_template_columns": null,
            "grid_template_rows": null,
            "height": null,
            "justify_content": null,
            "justify_items": null,
            "left": null,
            "margin": null,
            "max_height": null,
            "max_width": null,
            "min_height": null,
            "min_width": null,
            "object_fit": null,
            "object_position": null,
            "order": null,
            "overflow": null,
            "overflow_x": null,
            "overflow_y": null,
            "padding": null,
            "right": null,
            "top": null,
            "visibility": null,
            "width": null
          }
        },
        "1126256ddb7c41238247d03c0da1f0a3": {
          "model_module": "@jupyter-widgets/base",
          "model_name": "LayoutModel",
          "model_module_version": "1.2.0",
          "state": {
            "_model_module": "@jupyter-widgets/base",
            "_model_module_version": "1.2.0",
            "_model_name": "LayoutModel",
            "_view_count": null,
            "_view_module": "@jupyter-widgets/base",
            "_view_module_version": "1.2.0",
            "_view_name": "LayoutView",
            "align_content": null,
            "align_items": null,
            "align_self": null,
            "border": null,
            "bottom": null,
            "display": null,
            "flex": null,
            "flex_flow": null,
            "grid_area": null,
            "grid_auto_columns": null,
            "grid_auto_flow": null,
            "grid_auto_rows": null,
            "grid_column": null,
            "grid_gap": null,
            "grid_row": null,
            "grid_template_areas": null,
            "grid_template_columns": null,
            "grid_template_rows": null,
            "height": null,
            "justify_content": null,
            "justify_items": null,
            "left": null,
            "margin": null,
            "max_height": null,
            "max_width": null,
            "min_height": null,
            "min_width": null,
            "object_fit": null,
            "object_position": null,
            "order": null,
            "overflow": null,
            "overflow_x": null,
            "overflow_y": null,
            "padding": null,
            "right": null,
            "top": null,
            "visibility": null,
            "width": null
          }
        },
        "e1a4133901494419a5a8a8566cd85e41": {
          "model_module": "@jupyter-widgets/controls",
          "model_name": "DescriptionStyleModel",
          "model_module_version": "1.5.0",
          "state": {
            "_model_module": "@jupyter-widgets/controls",
            "_model_module_version": "1.5.0",
            "_model_name": "DescriptionStyleModel",
            "_view_count": null,
            "_view_module": "@jupyter-widgets/base",
            "_view_module_version": "1.2.0",
            "_view_name": "StyleView",
            "description_width": ""
          }
        },
        "62a74a5fba8242b18aa6368d7b4d6e64": {
          "model_module": "@jupyter-widgets/base",
          "model_name": "LayoutModel",
          "model_module_version": "1.2.0",
          "state": {
            "_model_module": "@jupyter-widgets/base",
            "_model_module_version": "1.2.0",
            "_model_name": "LayoutModel",
            "_view_count": null,
            "_view_module": "@jupyter-widgets/base",
            "_view_module_version": "1.2.0",
            "_view_name": "LayoutView",
            "align_content": null,
            "align_items": null,
            "align_self": null,
            "border": null,
            "bottom": null,
            "display": null,
            "flex": null,
            "flex_flow": null,
            "grid_area": null,
            "grid_auto_columns": null,
            "grid_auto_flow": null,
            "grid_auto_rows": null,
            "grid_column": null,
            "grid_gap": null,
            "grid_row": null,
            "grid_template_areas": null,
            "grid_template_columns": null,
            "grid_template_rows": null,
            "height": null,
            "justify_content": null,
            "justify_items": null,
            "left": null,
            "margin": null,
            "max_height": null,
            "max_width": null,
            "min_height": null,
            "min_width": null,
            "object_fit": null,
            "object_position": null,
            "order": null,
            "overflow": null,
            "overflow_x": null,
            "overflow_y": null,
            "padding": null,
            "right": null,
            "top": null,
            "visibility": null,
            "width": null
          }
        },
        "9e9fc5b67bf044349dd92e68350b94fa": {
          "model_module": "@jupyter-widgets/controls",
          "model_name": "ProgressStyleModel",
          "model_module_version": "1.5.0",
          "state": {
            "_model_module": "@jupyter-widgets/controls",
            "_model_module_version": "1.5.0",
            "_model_name": "ProgressStyleModel",
            "_view_count": null,
            "_view_module": "@jupyter-widgets/base",
            "_view_module_version": "1.2.0",
            "_view_name": "StyleView",
            "bar_color": null,
            "description_width": ""
          }
        },
        "afd6d0dc511c46129627d1fd652d8688": {
          "model_module": "@jupyter-widgets/base",
          "model_name": "LayoutModel",
          "model_module_version": "1.2.0",
          "state": {
            "_model_module": "@jupyter-widgets/base",
            "_model_module_version": "1.2.0",
            "_model_name": "LayoutModel",
            "_view_count": null,
            "_view_module": "@jupyter-widgets/base",
            "_view_module_version": "1.2.0",
            "_view_name": "LayoutView",
            "align_content": null,
            "align_items": null,
            "align_self": null,
            "border": null,
            "bottom": null,
            "display": null,
            "flex": null,
            "flex_flow": null,
            "grid_area": null,
            "grid_auto_columns": null,
            "grid_auto_flow": null,
            "grid_auto_rows": null,
            "grid_column": null,
            "grid_gap": null,
            "grid_row": null,
            "grid_template_areas": null,
            "grid_template_columns": null,
            "grid_template_rows": null,
            "height": null,
            "justify_content": null,
            "justify_items": null,
            "left": null,
            "margin": null,
            "max_height": null,
            "max_width": null,
            "min_height": null,
            "min_width": null,
            "object_fit": null,
            "object_position": null,
            "order": null,
            "overflow": null,
            "overflow_x": null,
            "overflow_y": null,
            "padding": null,
            "right": null,
            "top": null,
            "visibility": null,
            "width": null
          }
        },
        "faad2cc5f32e42c790473a78d1edab28": {
          "model_module": "@jupyter-widgets/controls",
          "model_name": "DescriptionStyleModel",
          "model_module_version": "1.5.0",
          "state": {
            "_model_module": "@jupyter-widgets/controls",
            "_model_module_version": "1.5.0",
            "_model_name": "DescriptionStyleModel",
            "_view_count": null,
            "_view_module": "@jupyter-widgets/base",
            "_view_module_version": "1.2.0",
            "_view_name": "StyleView",
            "description_width": ""
          }
        },
        "f440430e1efd4087bd279722503216af": {
          "model_module": "@jupyter-widgets/controls",
          "model_name": "HBoxModel",
          "model_module_version": "1.5.0",
          "state": {
            "_dom_classes": [],
            "_model_module": "@jupyter-widgets/controls",
            "_model_module_version": "1.5.0",
            "_model_name": "HBoxModel",
            "_view_count": null,
            "_view_module": "@jupyter-widgets/controls",
            "_view_module_version": "1.5.0",
            "_view_name": "HBoxView",
            "box_style": "",
            "children": [
              "IPY_MODEL_533d98da0f574c60961e1492b618b4e7",
              "IPY_MODEL_b21bcbe9922a4349a4c7f9b800d9e8d2",
              "IPY_MODEL_424807553ba54b8db24418dba73f2e18"
            ],
            "layout": "IPY_MODEL_b064071bd89340f885786a5ad1410797"
          }
        },
        "533d98da0f574c60961e1492b618b4e7": {
          "model_module": "@jupyter-widgets/controls",
          "model_name": "HTMLModel",
          "model_module_version": "1.5.0",
          "state": {
            "_dom_classes": [],
            "_model_module": "@jupyter-widgets/controls",
            "_model_module_version": "1.5.0",
            "_model_name": "HTMLModel",
            "_view_count": null,
            "_view_module": "@jupyter-widgets/controls",
            "_view_module_version": "1.5.0",
            "_view_name": "HTMLView",
            "description": "",
            "description_tooltip": null,
            "layout": "IPY_MODEL_9ecb975d77ad48b5b1d629ffa8718965",
            "placeholder": "​",
            "style": "IPY_MODEL_010d22f7931d4c48becd41dd253f4003",
            "value": "vocab.txt: 100%"
          }
        },
        "b21bcbe9922a4349a4c7f9b800d9e8d2": {
          "model_module": "@jupyter-widgets/controls",
          "model_name": "FloatProgressModel",
          "model_module_version": "1.5.0",
          "state": {
            "_dom_classes": [],
            "_model_module": "@jupyter-widgets/controls",
            "_model_module_version": "1.5.0",
            "_model_name": "FloatProgressModel",
            "_view_count": null,
            "_view_module": "@jupyter-widgets/controls",
            "_view_module_version": "1.5.0",
            "_view_name": "ProgressView",
            "bar_style": "success",
            "description": "",
            "description_tooltip": null,
            "layout": "IPY_MODEL_5226068d4c19408d84e588394a45c258",
            "max": 231508,
            "min": 0,
            "orientation": "horizontal",
            "style": "IPY_MODEL_21091a72a3c84a43b3c797e287f80498",
            "value": 231508
          }
        },
        "424807553ba54b8db24418dba73f2e18": {
          "model_module": "@jupyter-widgets/controls",
          "model_name": "HTMLModel",
          "model_module_version": "1.5.0",
          "state": {
            "_dom_classes": [],
            "_model_module": "@jupyter-widgets/controls",
            "_model_module_version": "1.5.0",
            "_model_name": "HTMLModel",
            "_view_count": null,
            "_view_module": "@jupyter-widgets/controls",
            "_view_module_version": "1.5.0",
            "_view_name": "HTMLView",
            "description": "",
            "description_tooltip": null,
            "layout": "IPY_MODEL_43d4610c56124f51b7d80a8c2acfc777",
            "placeholder": "​",
            "style": "IPY_MODEL_cbc799e27e614fca906c4f30e96b412c",
            "value": " 232k/232k [00:00&lt;00:00, 3.02MB/s]"
          }
        },
        "b064071bd89340f885786a5ad1410797": {
          "model_module": "@jupyter-widgets/base",
          "model_name": "LayoutModel",
          "model_module_version": "1.2.0",
          "state": {
            "_model_module": "@jupyter-widgets/base",
            "_model_module_version": "1.2.0",
            "_model_name": "LayoutModel",
            "_view_count": null,
            "_view_module": "@jupyter-widgets/base",
            "_view_module_version": "1.2.0",
            "_view_name": "LayoutView",
            "align_content": null,
            "align_items": null,
            "align_self": null,
            "border": null,
            "bottom": null,
            "display": null,
            "flex": null,
            "flex_flow": null,
            "grid_area": null,
            "grid_auto_columns": null,
            "grid_auto_flow": null,
            "grid_auto_rows": null,
            "grid_column": null,
            "grid_gap": null,
            "grid_row": null,
            "grid_template_areas": null,
            "grid_template_columns": null,
            "grid_template_rows": null,
            "height": null,
            "justify_content": null,
            "justify_items": null,
            "left": null,
            "margin": null,
            "max_height": null,
            "max_width": null,
            "min_height": null,
            "min_width": null,
            "object_fit": null,
            "object_position": null,
            "order": null,
            "overflow": null,
            "overflow_x": null,
            "overflow_y": null,
            "padding": null,
            "right": null,
            "top": null,
            "visibility": null,
            "width": null
          }
        },
        "9ecb975d77ad48b5b1d629ffa8718965": {
          "model_module": "@jupyter-widgets/base",
          "model_name": "LayoutModel",
          "model_module_version": "1.2.0",
          "state": {
            "_model_module": "@jupyter-widgets/base",
            "_model_module_version": "1.2.0",
            "_model_name": "LayoutModel",
            "_view_count": null,
            "_view_module": "@jupyter-widgets/base",
            "_view_module_version": "1.2.0",
            "_view_name": "LayoutView",
            "align_content": null,
            "align_items": null,
            "align_self": null,
            "border": null,
            "bottom": null,
            "display": null,
            "flex": null,
            "flex_flow": null,
            "grid_area": null,
            "grid_auto_columns": null,
            "grid_auto_flow": null,
            "grid_auto_rows": null,
            "grid_column": null,
            "grid_gap": null,
            "grid_row": null,
            "grid_template_areas": null,
            "grid_template_columns": null,
            "grid_template_rows": null,
            "height": null,
            "justify_content": null,
            "justify_items": null,
            "left": null,
            "margin": null,
            "max_height": null,
            "max_width": null,
            "min_height": null,
            "min_width": null,
            "object_fit": null,
            "object_position": null,
            "order": null,
            "overflow": null,
            "overflow_x": null,
            "overflow_y": null,
            "padding": null,
            "right": null,
            "top": null,
            "visibility": null,
            "width": null
          }
        },
        "010d22f7931d4c48becd41dd253f4003": {
          "model_module": "@jupyter-widgets/controls",
          "model_name": "DescriptionStyleModel",
          "model_module_version": "1.5.0",
          "state": {
            "_model_module": "@jupyter-widgets/controls",
            "_model_module_version": "1.5.0",
            "_model_name": "DescriptionStyleModel",
            "_view_count": null,
            "_view_module": "@jupyter-widgets/base",
            "_view_module_version": "1.2.0",
            "_view_name": "StyleView",
            "description_width": ""
          }
        },
        "5226068d4c19408d84e588394a45c258": {
          "model_module": "@jupyter-widgets/base",
          "model_name": "LayoutModel",
          "model_module_version": "1.2.0",
          "state": {
            "_model_module": "@jupyter-widgets/base",
            "_model_module_version": "1.2.0",
            "_model_name": "LayoutModel",
            "_view_count": null,
            "_view_module": "@jupyter-widgets/base",
            "_view_module_version": "1.2.0",
            "_view_name": "LayoutView",
            "align_content": null,
            "align_items": null,
            "align_self": null,
            "border": null,
            "bottom": null,
            "display": null,
            "flex": null,
            "flex_flow": null,
            "grid_area": null,
            "grid_auto_columns": null,
            "grid_auto_flow": null,
            "grid_auto_rows": null,
            "grid_column": null,
            "grid_gap": null,
            "grid_row": null,
            "grid_template_areas": null,
            "grid_template_columns": null,
            "grid_template_rows": null,
            "height": null,
            "justify_content": null,
            "justify_items": null,
            "left": null,
            "margin": null,
            "max_height": null,
            "max_width": null,
            "min_height": null,
            "min_width": null,
            "object_fit": null,
            "object_position": null,
            "order": null,
            "overflow": null,
            "overflow_x": null,
            "overflow_y": null,
            "padding": null,
            "right": null,
            "top": null,
            "visibility": null,
            "width": null
          }
        },
        "21091a72a3c84a43b3c797e287f80498": {
          "model_module": "@jupyter-widgets/controls",
          "model_name": "ProgressStyleModel",
          "model_module_version": "1.5.0",
          "state": {
            "_model_module": "@jupyter-widgets/controls",
            "_model_module_version": "1.5.0",
            "_model_name": "ProgressStyleModel",
            "_view_count": null,
            "_view_module": "@jupyter-widgets/base",
            "_view_module_version": "1.2.0",
            "_view_name": "StyleView",
            "bar_color": null,
            "description_width": ""
          }
        },
        "43d4610c56124f51b7d80a8c2acfc777": {
          "model_module": "@jupyter-widgets/base",
          "model_name": "LayoutModel",
          "model_module_version": "1.2.0",
          "state": {
            "_model_module": "@jupyter-widgets/base",
            "_model_module_version": "1.2.0",
            "_model_name": "LayoutModel",
            "_view_count": null,
            "_view_module": "@jupyter-widgets/base",
            "_view_module_version": "1.2.0",
            "_view_name": "LayoutView",
            "align_content": null,
            "align_items": null,
            "align_self": null,
            "border": null,
            "bottom": null,
            "display": null,
            "flex": null,
            "flex_flow": null,
            "grid_area": null,
            "grid_auto_columns": null,
            "grid_auto_flow": null,
            "grid_auto_rows": null,
            "grid_column": null,
            "grid_gap": null,
            "grid_row": null,
            "grid_template_areas": null,
            "grid_template_columns": null,
            "grid_template_rows": null,
            "height": null,
            "justify_content": null,
            "justify_items": null,
            "left": null,
            "margin": null,
            "max_height": null,
            "max_width": null,
            "min_height": null,
            "min_width": null,
            "object_fit": null,
            "object_position": null,
            "order": null,
            "overflow": null,
            "overflow_x": null,
            "overflow_y": null,
            "padding": null,
            "right": null,
            "top": null,
            "visibility": null,
            "width": null
          }
        },
        "cbc799e27e614fca906c4f30e96b412c": {
          "model_module": "@jupyter-widgets/controls",
          "model_name": "DescriptionStyleModel",
          "model_module_version": "1.5.0",
          "state": {
            "_model_module": "@jupyter-widgets/controls",
            "_model_module_version": "1.5.0",
            "_model_name": "DescriptionStyleModel",
            "_view_count": null,
            "_view_module": "@jupyter-widgets/base",
            "_view_module_version": "1.2.0",
            "_view_name": "StyleView",
            "description_width": ""
          }
        },
        "df4bfbd37c854765898c7fbec15c09cd": {
          "model_module": "@jupyter-widgets/controls",
          "model_name": "HBoxModel",
          "model_module_version": "1.5.0",
          "state": {
            "_dom_classes": [],
            "_model_module": "@jupyter-widgets/controls",
            "_model_module_version": "1.5.0",
            "_model_name": "HBoxModel",
            "_view_count": null,
            "_view_module": "@jupyter-widgets/controls",
            "_view_module_version": "1.5.0",
            "_view_name": "HBoxView",
            "box_style": "",
            "children": [
              "IPY_MODEL_0f55a81b0bc9450faa06b70391a0c248",
              "IPY_MODEL_5115ccc784b94a6f91cfcce1a10783f0",
              "IPY_MODEL_2c9916250b7c492fa5694767024c929b"
            ],
            "layout": "IPY_MODEL_5ef1e8a5b88043d9a6a8e56c17cff9c5"
          }
        },
        "0f55a81b0bc9450faa06b70391a0c248": {
          "model_module": "@jupyter-widgets/controls",
          "model_name": "HTMLModel",
          "model_module_version": "1.5.0",
          "state": {
            "_dom_classes": [],
            "_model_module": "@jupyter-widgets/controls",
            "_model_module_version": "1.5.0",
            "_model_name": "HTMLModel",
            "_view_count": null,
            "_view_module": "@jupyter-widgets/controls",
            "_view_module_version": "1.5.0",
            "_view_name": "HTMLView",
            "description": "",
            "description_tooltip": null,
            "layout": "IPY_MODEL_5f814f1efca44cd292f4389b0608f9bf",
            "placeholder": "​",
            "style": "IPY_MODEL_92d45eba7bd1472ea5758c35c1969845",
            "value": "tokenizer.json: 100%"
          }
        },
        "5115ccc784b94a6f91cfcce1a10783f0": {
          "model_module": "@jupyter-widgets/controls",
          "model_name": "FloatProgressModel",
          "model_module_version": "1.5.0",
          "state": {
            "_dom_classes": [],
            "_model_module": "@jupyter-widgets/controls",
            "_model_module_version": "1.5.0",
            "_model_name": "FloatProgressModel",
            "_view_count": null,
            "_view_module": "@jupyter-widgets/controls",
            "_view_module_version": "1.5.0",
            "_view_name": "ProgressView",
            "bar_style": "success",
            "description": "",
            "description_tooltip": null,
            "layout": "IPY_MODEL_cd23191f8d6f4b67aca1a25a49557103",
            "max": 466062,
            "min": 0,
            "orientation": "horizontal",
            "style": "IPY_MODEL_27d17a0023ec4f77a0bece948c99f5d2",
            "value": 466062
          }
        },
        "2c9916250b7c492fa5694767024c929b": {
          "model_module": "@jupyter-widgets/controls",
          "model_name": "HTMLModel",
          "model_module_version": "1.5.0",
          "state": {
            "_dom_classes": [],
            "_model_module": "@jupyter-widgets/controls",
            "_model_module_version": "1.5.0",
            "_model_name": "HTMLModel",
            "_view_count": null,
            "_view_module": "@jupyter-widgets/controls",
            "_view_module_version": "1.5.0",
            "_view_name": "HTMLView",
            "description": "",
            "description_tooltip": null,
            "layout": "IPY_MODEL_586dc4a93b944b69b9b169cf193b0902",
            "placeholder": "​",
            "style": "IPY_MODEL_fe78b4a395ef448681d30f0ddafc835c",
            "value": " 466k/466k [00:00&lt;00:00, 5.02MB/s]"
          }
        },
        "5ef1e8a5b88043d9a6a8e56c17cff9c5": {
          "model_module": "@jupyter-widgets/base",
          "model_name": "LayoutModel",
          "model_module_version": "1.2.0",
          "state": {
            "_model_module": "@jupyter-widgets/base",
            "_model_module_version": "1.2.0",
            "_model_name": "LayoutModel",
            "_view_count": null,
            "_view_module": "@jupyter-widgets/base",
            "_view_module_version": "1.2.0",
            "_view_name": "LayoutView",
            "align_content": null,
            "align_items": null,
            "align_self": null,
            "border": null,
            "bottom": null,
            "display": null,
            "flex": null,
            "flex_flow": null,
            "grid_area": null,
            "grid_auto_columns": null,
            "grid_auto_flow": null,
            "grid_auto_rows": null,
            "grid_column": null,
            "grid_gap": null,
            "grid_row": null,
            "grid_template_areas": null,
            "grid_template_columns": null,
            "grid_template_rows": null,
            "height": null,
            "justify_content": null,
            "justify_items": null,
            "left": null,
            "margin": null,
            "max_height": null,
            "max_width": null,
            "min_height": null,
            "min_width": null,
            "object_fit": null,
            "object_position": null,
            "order": null,
            "overflow": null,
            "overflow_x": null,
            "overflow_y": null,
            "padding": null,
            "right": null,
            "top": null,
            "visibility": null,
            "width": null
          }
        },
        "5f814f1efca44cd292f4389b0608f9bf": {
          "model_module": "@jupyter-widgets/base",
          "model_name": "LayoutModel",
          "model_module_version": "1.2.0",
          "state": {
            "_model_module": "@jupyter-widgets/base",
            "_model_module_version": "1.2.0",
            "_model_name": "LayoutModel",
            "_view_count": null,
            "_view_module": "@jupyter-widgets/base",
            "_view_module_version": "1.2.0",
            "_view_name": "LayoutView",
            "align_content": null,
            "align_items": null,
            "align_self": null,
            "border": null,
            "bottom": null,
            "display": null,
            "flex": null,
            "flex_flow": null,
            "grid_area": null,
            "grid_auto_columns": null,
            "grid_auto_flow": null,
            "grid_auto_rows": null,
            "grid_column": null,
            "grid_gap": null,
            "grid_row": null,
            "grid_template_areas": null,
            "grid_template_columns": null,
            "grid_template_rows": null,
            "height": null,
            "justify_content": null,
            "justify_items": null,
            "left": null,
            "margin": null,
            "max_height": null,
            "max_width": null,
            "min_height": null,
            "min_width": null,
            "object_fit": null,
            "object_position": null,
            "order": null,
            "overflow": null,
            "overflow_x": null,
            "overflow_y": null,
            "padding": null,
            "right": null,
            "top": null,
            "visibility": null,
            "width": null
          }
        },
        "92d45eba7bd1472ea5758c35c1969845": {
          "model_module": "@jupyter-widgets/controls",
          "model_name": "DescriptionStyleModel",
          "model_module_version": "1.5.0",
          "state": {
            "_model_module": "@jupyter-widgets/controls",
            "_model_module_version": "1.5.0",
            "_model_name": "DescriptionStyleModel",
            "_view_count": null,
            "_view_module": "@jupyter-widgets/base",
            "_view_module_version": "1.2.0",
            "_view_name": "StyleView",
            "description_width": ""
          }
        },
        "cd23191f8d6f4b67aca1a25a49557103": {
          "model_module": "@jupyter-widgets/base",
          "model_name": "LayoutModel",
          "model_module_version": "1.2.0",
          "state": {
            "_model_module": "@jupyter-widgets/base",
            "_model_module_version": "1.2.0",
            "_model_name": "LayoutModel",
            "_view_count": null,
            "_view_module": "@jupyter-widgets/base",
            "_view_module_version": "1.2.0",
            "_view_name": "LayoutView",
            "align_content": null,
            "align_items": null,
            "align_self": null,
            "border": null,
            "bottom": null,
            "display": null,
            "flex": null,
            "flex_flow": null,
            "grid_area": null,
            "grid_auto_columns": null,
            "grid_auto_flow": null,
            "grid_auto_rows": null,
            "grid_column": null,
            "grid_gap": null,
            "grid_row": null,
            "grid_template_areas": null,
            "grid_template_columns": null,
            "grid_template_rows": null,
            "height": null,
            "justify_content": null,
            "justify_items": null,
            "left": null,
            "margin": null,
            "max_height": null,
            "max_width": null,
            "min_height": null,
            "min_width": null,
            "object_fit": null,
            "object_position": null,
            "order": null,
            "overflow": null,
            "overflow_x": null,
            "overflow_y": null,
            "padding": null,
            "right": null,
            "top": null,
            "visibility": null,
            "width": null
          }
        },
        "27d17a0023ec4f77a0bece948c99f5d2": {
          "model_module": "@jupyter-widgets/controls",
          "model_name": "ProgressStyleModel",
          "model_module_version": "1.5.0",
          "state": {
            "_model_module": "@jupyter-widgets/controls",
            "_model_module_version": "1.5.0",
            "_model_name": "ProgressStyleModel",
            "_view_count": null,
            "_view_module": "@jupyter-widgets/base",
            "_view_module_version": "1.2.0",
            "_view_name": "StyleView",
            "bar_color": null,
            "description_width": ""
          }
        },
        "586dc4a93b944b69b9b169cf193b0902": {
          "model_module": "@jupyter-widgets/base",
          "model_name": "LayoutModel",
          "model_module_version": "1.2.0",
          "state": {
            "_model_module": "@jupyter-widgets/base",
            "_model_module_version": "1.2.0",
            "_model_name": "LayoutModel",
            "_view_count": null,
            "_view_module": "@jupyter-widgets/base",
            "_view_module_version": "1.2.0",
            "_view_name": "LayoutView",
            "align_content": null,
            "align_items": null,
            "align_self": null,
            "border": null,
            "bottom": null,
            "display": null,
            "flex": null,
            "flex_flow": null,
            "grid_area": null,
            "grid_auto_columns": null,
            "grid_auto_flow": null,
            "grid_auto_rows": null,
            "grid_column": null,
            "grid_gap": null,
            "grid_row": null,
            "grid_template_areas": null,
            "grid_template_columns": null,
            "grid_template_rows": null,
            "height": null,
            "justify_content": null,
            "justify_items": null,
            "left": null,
            "margin": null,
            "max_height": null,
            "max_width": null,
            "min_height": null,
            "min_width": null,
            "object_fit": null,
            "object_position": null,
            "order": null,
            "overflow": null,
            "overflow_x": null,
            "overflow_y": null,
            "padding": null,
            "right": null,
            "top": null,
            "visibility": null,
            "width": null
          }
        },
        "fe78b4a395ef448681d30f0ddafc835c": {
          "model_module": "@jupyter-widgets/controls",
          "model_name": "DescriptionStyleModel",
          "model_module_version": "1.5.0",
          "state": {
            "_model_module": "@jupyter-widgets/controls",
            "_model_module_version": "1.5.0",
            "_model_name": "DescriptionStyleModel",
            "_view_count": null,
            "_view_module": "@jupyter-widgets/base",
            "_view_module_version": "1.2.0",
            "_view_name": "StyleView",
            "description_width": ""
          }
        },
        "fc7885592ad94b31a224eb65218f9bb6": {
          "model_module": "@jupyter-widgets/controls",
          "model_name": "HBoxModel",
          "model_module_version": "1.5.0",
          "state": {
            "_dom_classes": [],
            "_model_module": "@jupyter-widgets/controls",
            "_model_module_version": "1.5.0",
            "_model_name": "HBoxModel",
            "_view_count": null,
            "_view_module": "@jupyter-widgets/controls",
            "_view_module_version": "1.5.0",
            "_view_name": "HBoxView",
            "box_style": "",
            "children": [
              "IPY_MODEL_8cea46b9a6134480b5bd1d379675c808",
              "IPY_MODEL_d20d26e9a0b045b2bf53ffd9f203e302",
              "IPY_MODEL_0642814463a441148e5da162ef6cecb1"
            ],
            "layout": "IPY_MODEL_db046c27cd804e0ab7d1155aaad50ef5"
          }
        },
        "8cea46b9a6134480b5bd1d379675c808": {
          "model_module": "@jupyter-widgets/controls",
          "model_name": "HTMLModel",
          "model_module_version": "1.5.0",
          "state": {
            "_dom_classes": [],
            "_model_module": "@jupyter-widgets/controls",
            "_model_module_version": "1.5.0",
            "_model_name": "HTMLModel",
            "_view_count": null,
            "_view_module": "@jupyter-widgets/controls",
            "_view_module_version": "1.5.0",
            "_view_name": "HTMLView",
            "description": "",
            "description_tooltip": null,
            "layout": "IPY_MODEL_15a6c1650e174265aa1990f5aa416b44",
            "placeholder": "​",
            "style": "IPY_MODEL_bda0cef75f6d4394b7123b0183efc1d0",
            "value": "config.json: 100%"
          }
        },
        "d20d26e9a0b045b2bf53ffd9f203e302": {
          "model_module": "@jupyter-widgets/controls",
          "model_name": "FloatProgressModel",
          "model_module_version": "1.5.0",
          "state": {
            "_dom_classes": [],
            "_model_module": "@jupyter-widgets/controls",
            "_model_module_version": "1.5.0",
            "_model_name": "FloatProgressModel",
            "_view_count": null,
            "_view_module": "@jupyter-widgets/controls",
            "_view_module_version": "1.5.0",
            "_view_name": "ProgressView",
            "bar_style": "success",
            "description": "",
            "description_tooltip": null,
            "layout": "IPY_MODEL_af8448b4f7b346f988df3d9c27b3c106",
            "max": 570,
            "min": 0,
            "orientation": "horizontal",
            "style": "IPY_MODEL_aaa1dfa2cb654ce4a28d240a828ac3f5",
            "value": 570
          }
        },
        "0642814463a441148e5da162ef6cecb1": {
          "model_module": "@jupyter-widgets/controls",
          "model_name": "HTMLModel",
          "model_module_version": "1.5.0",
          "state": {
            "_dom_classes": [],
            "_model_module": "@jupyter-widgets/controls",
            "_model_module_version": "1.5.0",
            "_model_name": "HTMLModel",
            "_view_count": null,
            "_view_module": "@jupyter-widgets/controls",
            "_view_module_version": "1.5.0",
            "_view_name": "HTMLView",
            "description": "",
            "description_tooltip": null,
            "layout": "IPY_MODEL_a39fa5adbc2342518e93d8bad8360b26",
            "placeholder": "​",
            "style": "IPY_MODEL_36acac4dc9de41feb73edd23be389b35",
            "value": " 570/570 [00:00&lt;00:00, 14.9kB/s]"
          }
        },
        "db046c27cd804e0ab7d1155aaad50ef5": {
          "model_module": "@jupyter-widgets/base",
          "model_name": "LayoutModel",
          "model_module_version": "1.2.0",
          "state": {
            "_model_module": "@jupyter-widgets/base",
            "_model_module_version": "1.2.0",
            "_model_name": "LayoutModel",
            "_view_count": null,
            "_view_module": "@jupyter-widgets/base",
            "_view_module_version": "1.2.0",
            "_view_name": "LayoutView",
            "align_content": null,
            "align_items": null,
            "align_self": null,
            "border": null,
            "bottom": null,
            "display": null,
            "flex": null,
            "flex_flow": null,
            "grid_area": null,
            "grid_auto_columns": null,
            "grid_auto_flow": null,
            "grid_auto_rows": null,
            "grid_column": null,
            "grid_gap": null,
            "grid_row": null,
            "grid_template_areas": null,
            "grid_template_columns": null,
            "grid_template_rows": null,
            "height": null,
            "justify_content": null,
            "justify_items": null,
            "left": null,
            "margin": null,
            "max_height": null,
            "max_width": null,
            "min_height": null,
            "min_width": null,
            "object_fit": null,
            "object_position": null,
            "order": null,
            "overflow": null,
            "overflow_x": null,
            "overflow_y": null,
            "padding": null,
            "right": null,
            "top": null,
            "visibility": null,
            "width": null
          }
        },
        "15a6c1650e174265aa1990f5aa416b44": {
          "model_module": "@jupyter-widgets/base",
          "model_name": "LayoutModel",
          "model_module_version": "1.2.0",
          "state": {
            "_model_module": "@jupyter-widgets/base",
            "_model_module_version": "1.2.0",
            "_model_name": "LayoutModel",
            "_view_count": null,
            "_view_module": "@jupyter-widgets/base",
            "_view_module_version": "1.2.0",
            "_view_name": "LayoutView",
            "align_content": null,
            "align_items": null,
            "align_self": null,
            "border": null,
            "bottom": null,
            "display": null,
            "flex": null,
            "flex_flow": null,
            "grid_area": null,
            "grid_auto_columns": null,
            "grid_auto_flow": null,
            "grid_auto_rows": null,
            "grid_column": null,
            "grid_gap": null,
            "grid_row": null,
            "grid_template_areas": null,
            "grid_template_columns": null,
            "grid_template_rows": null,
            "height": null,
            "justify_content": null,
            "justify_items": null,
            "left": null,
            "margin": null,
            "max_height": null,
            "max_width": null,
            "min_height": null,
            "min_width": null,
            "object_fit": null,
            "object_position": null,
            "order": null,
            "overflow": null,
            "overflow_x": null,
            "overflow_y": null,
            "padding": null,
            "right": null,
            "top": null,
            "visibility": null,
            "width": null
          }
        },
        "bda0cef75f6d4394b7123b0183efc1d0": {
          "model_module": "@jupyter-widgets/controls",
          "model_name": "DescriptionStyleModel",
          "model_module_version": "1.5.0",
          "state": {
            "_model_module": "@jupyter-widgets/controls",
            "_model_module_version": "1.5.0",
            "_model_name": "DescriptionStyleModel",
            "_view_count": null,
            "_view_module": "@jupyter-widgets/base",
            "_view_module_version": "1.2.0",
            "_view_name": "StyleView",
            "description_width": ""
          }
        },
        "af8448b4f7b346f988df3d9c27b3c106": {
          "model_module": "@jupyter-widgets/base",
          "model_name": "LayoutModel",
          "model_module_version": "1.2.0",
          "state": {
            "_model_module": "@jupyter-widgets/base",
            "_model_module_version": "1.2.0",
            "_model_name": "LayoutModel",
            "_view_count": null,
            "_view_module": "@jupyter-widgets/base",
            "_view_module_version": "1.2.0",
            "_view_name": "LayoutView",
            "align_content": null,
            "align_items": null,
            "align_self": null,
            "border": null,
            "bottom": null,
            "display": null,
            "flex": null,
            "flex_flow": null,
            "grid_area": null,
            "grid_auto_columns": null,
            "grid_auto_flow": null,
            "grid_auto_rows": null,
            "grid_column": null,
            "grid_gap": null,
            "grid_row": null,
            "grid_template_areas": null,
            "grid_template_columns": null,
            "grid_template_rows": null,
            "height": null,
            "justify_content": null,
            "justify_items": null,
            "left": null,
            "margin": null,
            "max_height": null,
            "max_width": null,
            "min_height": null,
            "min_width": null,
            "object_fit": null,
            "object_position": null,
            "order": null,
            "overflow": null,
            "overflow_x": null,
            "overflow_y": null,
            "padding": null,
            "right": null,
            "top": null,
            "visibility": null,
            "width": null
          }
        },
        "aaa1dfa2cb654ce4a28d240a828ac3f5": {
          "model_module": "@jupyter-widgets/controls",
          "model_name": "ProgressStyleModel",
          "model_module_version": "1.5.0",
          "state": {
            "_model_module": "@jupyter-widgets/controls",
            "_model_module_version": "1.5.0",
            "_model_name": "ProgressStyleModel",
            "_view_count": null,
            "_view_module": "@jupyter-widgets/base",
            "_view_module_version": "1.2.0",
            "_view_name": "StyleView",
            "bar_color": null,
            "description_width": ""
          }
        },
        "a39fa5adbc2342518e93d8bad8360b26": {
          "model_module": "@jupyter-widgets/base",
          "model_name": "LayoutModel",
          "model_module_version": "1.2.0",
          "state": {
            "_model_module": "@jupyter-widgets/base",
            "_model_module_version": "1.2.0",
            "_model_name": "LayoutModel",
            "_view_count": null,
            "_view_module": "@jupyter-widgets/base",
            "_view_module_version": "1.2.0",
            "_view_name": "LayoutView",
            "align_content": null,
            "align_items": null,
            "align_self": null,
            "border": null,
            "bottom": null,
            "display": null,
            "flex": null,
            "flex_flow": null,
            "grid_area": null,
            "grid_auto_columns": null,
            "grid_auto_flow": null,
            "grid_auto_rows": null,
            "grid_column": null,
            "grid_gap": null,
            "grid_row": null,
            "grid_template_areas": null,
            "grid_template_columns": null,
            "grid_template_rows": null,
            "height": null,
            "justify_content": null,
            "justify_items": null,
            "left": null,
            "margin": null,
            "max_height": null,
            "max_width": null,
            "min_height": null,
            "min_width": null,
            "object_fit": null,
            "object_position": null,
            "order": null,
            "overflow": null,
            "overflow_x": null,
            "overflow_y": null,
            "padding": null,
            "right": null,
            "top": null,
            "visibility": null,
            "width": null
          }
        },
        "36acac4dc9de41feb73edd23be389b35": {
          "model_module": "@jupyter-widgets/controls",
          "model_name": "DescriptionStyleModel",
          "model_module_version": "1.5.0",
          "state": {
            "_model_module": "@jupyter-widgets/controls",
            "_model_module_version": "1.5.0",
            "_model_name": "DescriptionStyleModel",
            "_view_count": null,
            "_view_module": "@jupyter-widgets/base",
            "_view_module_version": "1.2.0",
            "_view_name": "StyleView",
            "description_width": ""
          }
        },
        "e40b2ed7173d4759ba43e0d8b7aebbc4": {
          "model_module": "@jupyter-widgets/controls",
          "model_name": "HBoxModel",
          "model_module_version": "1.5.0",
          "state": {
            "_dom_classes": [],
            "_model_module": "@jupyter-widgets/controls",
            "_model_module_version": "1.5.0",
            "_model_name": "HBoxModel",
            "_view_count": null,
            "_view_module": "@jupyter-widgets/controls",
            "_view_module_version": "1.5.0",
            "_view_name": "HBoxView",
            "box_style": "",
            "children": [
              "IPY_MODEL_eb59887c924745babf2c36859dffb798",
              "IPY_MODEL_700c7676a5a5499387a6ef2d14c28910",
              "IPY_MODEL_2ff6a8dc59e44f2eb6ac269204850fc6"
            ],
            "layout": "IPY_MODEL_15ba0379521548edbcfabbab1ccc7235"
          }
        },
        "eb59887c924745babf2c36859dffb798": {
          "model_module": "@jupyter-widgets/controls",
          "model_name": "HTMLModel",
          "model_module_version": "1.5.0",
          "state": {
            "_dom_classes": [],
            "_model_module": "@jupyter-widgets/controls",
            "_model_module_version": "1.5.0",
            "_model_name": "HTMLModel",
            "_view_count": null,
            "_view_module": "@jupyter-widgets/controls",
            "_view_module_version": "1.5.0",
            "_view_name": "HTMLView",
            "description": "",
            "description_tooltip": null,
            "layout": "IPY_MODEL_5c8ed40036c54a93814db468a0fb1074",
            "placeholder": "​",
            "style": "IPY_MODEL_a96525212fd44af0870ccaa0f9a8ee8d",
            "value": "model.safetensors: 100%"
          }
        },
        "700c7676a5a5499387a6ef2d14c28910": {
          "model_module": "@jupyter-widgets/controls",
          "model_name": "FloatProgressModel",
          "model_module_version": "1.5.0",
          "state": {
            "_dom_classes": [],
            "_model_module": "@jupyter-widgets/controls",
            "_model_module_version": "1.5.0",
            "_model_name": "FloatProgressModel",
            "_view_count": null,
            "_view_module": "@jupyter-widgets/controls",
            "_view_module_version": "1.5.0",
            "_view_name": "ProgressView",
            "bar_style": "success",
            "description": "",
            "description_tooltip": null,
            "layout": "IPY_MODEL_eb49e8e227be4fa28da55d0b8e43301e",
            "max": 440449768,
            "min": 0,
            "orientation": "horizontal",
            "style": "IPY_MODEL_8922429a307145a49c5d94fffc9d7fca",
            "value": 440449768
          }
        },
        "2ff6a8dc59e44f2eb6ac269204850fc6": {
          "model_module": "@jupyter-widgets/controls",
          "model_name": "HTMLModel",
          "model_module_version": "1.5.0",
          "state": {
            "_dom_classes": [],
            "_model_module": "@jupyter-widgets/controls",
            "_model_module_version": "1.5.0",
            "_model_name": "HTMLModel",
            "_view_count": null,
            "_view_module": "@jupyter-widgets/controls",
            "_view_module_version": "1.5.0",
            "_view_name": "HTMLView",
            "description": "",
            "description_tooltip": null,
            "layout": "IPY_MODEL_689c0b0d99cd4379ad385b1b3e9cc932",
            "placeholder": "​",
            "style": "IPY_MODEL_bb2ab3c4912f4500a8d5e842d9744eef",
            "value": " 440M/440M [00:02&lt;00:00, 178MB/s]"
          }
        },
        "15ba0379521548edbcfabbab1ccc7235": {
          "model_module": "@jupyter-widgets/base",
          "model_name": "LayoutModel",
          "model_module_version": "1.2.0",
          "state": {
            "_model_module": "@jupyter-widgets/base",
            "_model_module_version": "1.2.0",
            "_model_name": "LayoutModel",
            "_view_count": null,
            "_view_module": "@jupyter-widgets/base",
            "_view_module_version": "1.2.0",
            "_view_name": "LayoutView",
            "align_content": null,
            "align_items": null,
            "align_self": null,
            "border": null,
            "bottom": null,
            "display": null,
            "flex": null,
            "flex_flow": null,
            "grid_area": null,
            "grid_auto_columns": null,
            "grid_auto_flow": null,
            "grid_auto_rows": null,
            "grid_column": null,
            "grid_gap": null,
            "grid_row": null,
            "grid_template_areas": null,
            "grid_template_columns": null,
            "grid_template_rows": null,
            "height": null,
            "justify_content": null,
            "justify_items": null,
            "left": null,
            "margin": null,
            "max_height": null,
            "max_width": null,
            "min_height": null,
            "min_width": null,
            "object_fit": null,
            "object_position": null,
            "order": null,
            "overflow": null,
            "overflow_x": null,
            "overflow_y": null,
            "padding": null,
            "right": null,
            "top": null,
            "visibility": null,
            "width": null
          }
        },
        "5c8ed40036c54a93814db468a0fb1074": {
          "model_module": "@jupyter-widgets/base",
          "model_name": "LayoutModel",
          "model_module_version": "1.2.0",
          "state": {
            "_model_module": "@jupyter-widgets/base",
            "_model_module_version": "1.2.0",
            "_model_name": "LayoutModel",
            "_view_count": null,
            "_view_module": "@jupyter-widgets/base",
            "_view_module_version": "1.2.0",
            "_view_name": "LayoutView",
            "align_content": null,
            "align_items": null,
            "align_self": null,
            "border": null,
            "bottom": null,
            "display": null,
            "flex": null,
            "flex_flow": null,
            "grid_area": null,
            "grid_auto_columns": null,
            "grid_auto_flow": null,
            "grid_auto_rows": null,
            "grid_column": null,
            "grid_gap": null,
            "grid_row": null,
            "grid_template_areas": null,
            "grid_template_columns": null,
            "grid_template_rows": null,
            "height": null,
            "justify_content": null,
            "justify_items": null,
            "left": null,
            "margin": null,
            "max_height": null,
            "max_width": null,
            "min_height": null,
            "min_width": null,
            "object_fit": null,
            "object_position": null,
            "order": null,
            "overflow": null,
            "overflow_x": null,
            "overflow_y": null,
            "padding": null,
            "right": null,
            "top": null,
            "visibility": null,
            "width": null
          }
        },
        "a96525212fd44af0870ccaa0f9a8ee8d": {
          "model_module": "@jupyter-widgets/controls",
          "model_name": "DescriptionStyleModel",
          "model_module_version": "1.5.0",
          "state": {
            "_model_module": "@jupyter-widgets/controls",
            "_model_module_version": "1.5.0",
            "_model_name": "DescriptionStyleModel",
            "_view_count": null,
            "_view_module": "@jupyter-widgets/base",
            "_view_module_version": "1.2.0",
            "_view_name": "StyleView",
            "description_width": ""
          }
        },
        "eb49e8e227be4fa28da55d0b8e43301e": {
          "model_module": "@jupyter-widgets/base",
          "model_name": "LayoutModel",
          "model_module_version": "1.2.0",
          "state": {
            "_model_module": "@jupyter-widgets/base",
            "_model_module_version": "1.2.0",
            "_model_name": "LayoutModel",
            "_view_count": null,
            "_view_module": "@jupyter-widgets/base",
            "_view_module_version": "1.2.0",
            "_view_name": "LayoutView",
            "align_content": null,
            "align_items": null,
            "align_self": null,
            "border": null,
            "bottom": null,
            "display": null,
            "flex": null,
            "flex_flow": null,
            "grid_area": null,
            "grid_auto_columns": null,
            "grid_auto_flow": null,
            "grid_auto_rows": null,
            "grid_column": null,
            "grid_gap": null,
            "grid_row": null,
            "grid_template_areas": null,
            "grid_template_columns": null,
            "grid_template_rows": null,
            "height": null,
            "justify_content": null,
            "justify_items": null,
            "left": null,
            "margin": null,
            "max_height": null,
            "max_width": null,
            "min_height": null,
            "min_width": null,
            "object_fit": null,
            "object_position": null,
            "order": null,
            "overflow": null,
            "overflow_x": null,
            "overflow_y": null,
            "padding": null,
            "right": null,
            "top": null,
            "visibility": null,
            "width": null
          }
        },
        "8922429a307145a49c5d94fffc9d7fca": {
          "model_module": "@jupyter-widgets/controls",
          "model_name": "ProgressStyleModel",
          "model_module_version": "1.5.0",
          "state": {
            "_model_module": "@jupyter-widgets/controls",
            "_model_module_version": "1.5.0",
            "_model_name": "ProgressStyleModel",
            "_view_count": null,
            "_view_module": "@jupyter-widgets/base",
            "_view_module_version": "1.2.0",
            "_view_name": "StyleView",
            "bar_color": null,
            "description_width": ""
          }
        },
        "689c0b0d99cd4379ad385b1b3e9cc932": {
          "model_module": "@jupyter-widgets/base",
          "model_name": "LayoutModel",
          "model_module_version": "1.2.0",
          "state": {
            "_model_module": "@jupyter-widgets/base",
            "_model_module_version": "1.2.0",
            "_model_name": "LayoutModel",
            "_view_count": null,
            "_view_module": "@jupyter-widgets/base",
            "_view_module_version": "1.2.0",
            "_view_name": "LayoutView",
            "align_content": null,
            "align_items": null,
            "align_self": null,
            "border": null,
            "bottom": null,
            "display": null,
            "flex": null,
            "flex_flow": null,
            "grid_area": null,
            "grid_auto_columns": null,
            "grid_auto_flow": null,
            "grid_auto_rows": null,
            "grid_column": null,
            "grid_gap": null,
            "grid_row": null,
            "grid_template_areas": null,
            "grid_template_columns": null,
            "grid_template_rows": null,
            "height": null,
            "justify_content": null,
            "justify_items": null,
            "left": null,
            "margin": null,
            "max_height": null,
            "max_width": null,
            "min_height": null,
            "min_width": null,
            "object_fit": null,
            "object_position": null,
            "order": null,
            "overflow": null,
            "overflow_x": null,
            "overflow_y": null,
            "padding": null,
            "right": null,
            "top": null,
            "visibility": null,
            "width": null
          }
        },
        "bb2ab3c4912f4500a8d5e842d9744eef": {
          "model_module": "@jupyter-widgets/controls",
          "model_name": "DescriptionStyleModel",
          "model_module_version": "1.5.0",
          "state": {
            "_model_module": "@jupyter-widgets/controls",
            "_model_module_version": "1.5.0",
            "_model_name": "DescriptionStyleModel",
            "_view_count": null,
            "_view_module": "@jupyter-widgets/base",
            "_view_module_version": "1.2.0",
            "_view_name": "StyleView",
            "description_width": ""
          }
        }
      }
    }
  },
  "cells": [
    {
      "cell_type": "markdown",
      "source": [
        "**1. FastText Word Embeddings**"
      ],
      "metadata": {
        "id": "WyHlOVfos00H"
      }
    },
    {
      "cell_type": "code",
      "source": [
        "# Install gensim and load pre-trained FastText model\n",
        "!pip install gensim"
      ],
      "metadata": {
        "colab": {
          "base_uri": "https://localhost:8080/"
        },
        "id": "GEhdG5owuNmE",
        "outputId": "a4aac0e2-4581-4c70-fddf-a1881bc2a9d8"
      },
      "execution_count": 1,
      "outputs": [
        {
          "output_type": "stream",
          "name": "stdout",
          "text": [
            "Requirement already satisfied: gensim in /usr/local/lib/python3.10/dist-packages (4.3.3)\n",
            "Requirement already satisfied: numpy<2.0,>=1.18.5 in /usr/local/lib/python3.10/dist-packages (from gensim) (1.26.4)\n",
            "Requirement already satisfied: scipy<1.14.0,>=1.7.0 in /usr/local/lib/python3.10/dist-packages (from gensim) (1.13.1)\n",
            "Requirement already satisfied: smart-open>=1.8.1 in /usr/local/lib/python3.10/dist-packages (from gensim) (7.1.0)\n",
            "Requirement already satisfied: wrapt in /usr/local/lib/python3.10/dist-packages (from smart-open>=1.8.1->gensim) (1.14.1)\n"
          ]
        }
      ]
    },
    {
      "cell_type": "code",
      "source": [
        "import gensim.downloader as api\n",
        "\n",
        "# Load pre-trained FastText model from gensim's dataset\n",
        "fasttext_model = api.load(\"fasttext-wiki-news-subwords-300\")"
      ],
      "metadata": {
        "colab": {
          "base_uri": "https://localhost:8080/"
        },
        "id": "cSAumL9iucOa",
        "outputId": "513aa6e1-46a1-463b-c4e6-c260023e0c23"
      },
      "execution_count": 17,
      "outputs": [
        {
          "output_type": "stream",
          "name": "stdout",
          "text": [
            "[==================================================] 100.0% 958.5/958.4MB downloaded\n"
          ]
        }
      ]
    },
    {
      "cell_type": "code",
      "source": [
        "# Define word pairs to compute similarity for\n",
        "word_pairs = [('learn', 'learning'), ('pakistan', 'pakistani'), ('fame', 'famous')]\n",
        "\n",
        "# Compute similarity for each pair of words\n",
        "for pair in word_pairs:\n",
        "\tsimilarity = fasttext_model.similarity(pair[0], pair[1])\n",
        "\tprint(f\"Similarity between '{pair[0]}' and '{pair[1]}' using FastText: {similarity:.3f}\")"
      ],
      "metadata": {
        "colab": {
          "base_uri": "https://localhost:8080/"
        },
        "id": "Ut9ReaFhpjg3",
        "outputId": "47a4ae5e-3a3a-4398-d230-addbaac4debc"
      },
      "execution_count": 18,
      "outputs": [
        {
          "output_type": "stream",
          "name": "stdout",
          "text": [
            "Similarity between 'learn' and 'learning' using FastText: 0.642\n",
            "Similarity between 'pakistan' and 'pakistani' using FastText: 0.784\n",
            "Similarity between 'fame' and 'famous' using FastText: 0.519\n"
          ]
        }
      ]
    },
    {
      "cell_type": "code",
      "source": [
        "fasttext_model['cricket']"
      ],
      "metadata": {
        "colab": {
          "base_uri": "https://localhost:8080/"
        },
        "id": "K9DXYOC-Pmja",
        "outputId": "01061bcd-3f17-4892-a8c5-215bcacc272e"
      },
      "execution_count": 19,
      "outputs": [
        {
          "output_type": "execute_result",
          "data": {
            "text/plain": [
              "array([-5.6223e-02, -1.3269e-01,  8.0792e-02,  4.8387e-03, -7.2780e-02,\n",
              "       -1.1366e-01,  3.2758e-02, -1.0579e-01,  5.5781e-02,  8.1121e-02,\n",
              "       -2.6884e-02, -5.6836e-02,  3.4722e-02, -1.8339e-02,  2.4359e-02,\n",
              "        5.4740e-02,  1.2844e-01, -1.1079e-02,  4.5804e-02,  3.4510e-03,\n",
              "       -8.2912e-03, -1.3103e-02,  6.4645e-02,  6.1126e-02,  9.1010e-02,\n",
              "       -7.0568e-02,  3.2366e-02, -2.5020e-02,  9.4346e-03, -5.7183e-02,\n",
              "        5.2997e-02,  4.6864e-02,  4.9109e-02, -3.3272e-02,  5.7041e-02,\n",
              "        2.2314e-03, -1.8304e-02, -4.2963e-03,  4.2639e-02, -7.5454e-02,\n",
              "       -5.0088e-02, -1.2924e-01, -4.4175e-02, -7.7405e-02,  4.7315e-03,\n",
              "       -2.2751e-02,  8.2874e-02, -1.2767e-01, -3.0402e-02,  7.6816e-02,\n",
              "       -1.2038e-04, -2.2981e-02,  1.0717e-01, -8.3321e-02, -5.9552e-02,\n",
              "       -3.0353e-02,  2.3399e-02,  9.7110e-03, -1.1167e-01,  2.1441e-02,\n",
              "        4.9749e-02, -4.7759e-02,  9.3138e-02,  4.5799e-03,  1.0022e-02,\n",
              "       -1.0357e-01, -5.1326e-02, -5.2696e-03, -2.5817e-03,  1.4886e-02,\n",
              "       -2.3062e-03, -7.0232e-02,  1.1274e-02, -3.5021e-02,  1.4308e-02,\n",
              "       -2.2612e-03, -8.7538e-02, -2.3851e-02, -2.6008e-02,  8.8544e-03,\n",
              "       -1.8424e-02,  2.2569e-02, -8.3862e-02,  8.6204e-02, -3.4900e-02,\n",
              "       -1.0612e-01,  1.7735e-02, -4.1286e-02, -8.7749e-02,  1.3651e-03,\n",
              "       -2.7065e-02,  5.5786e-02, -1.0348e-01,  4.0044e-02,  5.0471e-02,\n",
              "        9.1805e-02, -5.5934e-02,  9.9850e-02,  4.9357e-02, -8.2915e-02,\n",
              "        2.7197e-04,  1.0414e-01, -2.2135e-02, -5.2627e-02,  5.3343e-03,\n",
              "       -1.2802e-01, -3.2335e-02,  3.4162e-02,  3.3403e-02,  8.8730e-03,\n",
              "       -6.7203e-02,  6.6550e-02,  5.1468e-02,  1.2027e-02, -2.2898e-02,\n",
              "        9.3140e-03,  5.3977e-02,  5.5322e-02, -4.3287e-02, -1.0585e-02,\n",
              "        9.4051e-02, -2.8868e-02, -1.1151e-02, -1.8509e-02,  6.4740e-02,\n",
              "       -5.0242e-02, -5.2540e-02, -6.8864e-02, -6.6978e-02,  1.2222e-01,\n",
              "       -1.2835e-02,  2.4561e-02,  2.1228e-03,  1.2751e-01, -1.7544e-02,\n",
              "       -4.8172e-02,  9.7709e-02,  2.2615e-02, -4.5197e-03,  5.1635e-03,\n",
              "       -5.1989e-03,  3.3489e-02,  1.5691e-01, -5.1057e-02, -7.7587e-04,\n",
              "       -6.2172e-02,  4.8491e-02, -1.5902e-02, -7.0723e-03, -2.5539e-02,\n",
              "        4.2857e-02,  9.2100e-02, -8.2789e-02, -6.2008e-02, -7.2736e-02,\n",
              "       -2.2256e-02,  3.5570e-02,  1.0454e-01,  1.0968e-01, -2.6046e-02,\n",
              "        1.2697e-02,  3.1596e-02, -6.3536e-02,  7.0923e-02,  4.3172e-02,\n",
              "       -1.7355e-02,  3.3869e-02, -1.5877e-02, -1.2578e-02, -6.5711e-02,\n",
              "       -1.7072e-03,  7.0585e-02, -2.5351e-02,  5.1899e-02,  8.7724e-02,\n",
              "        5.7029e-02, -5.2897e-02, -3.0736e-02, -2.2654e-02, -6.8326e-02,\n",
              "        1.1082e-03,  3.8555e-02, -6.6652e-02, -6.8300e-02, -7.8327e-02,\n",
              "       -2.8607e-02,  6.3876e-02,  1.1342e-01,  4.5733e-03, -7.5027e-02,\n",
              "       -2.1609e-02,  5.4657e-02, -1.2753e-02, -8.0350e-02, -9.8915e-03,\n",
              "       -1.8245e-01,  2.8181e-02,  4.6423e-02, -1.4719e-02, -8.6475e-03,\n",
              "       -1.7615e-01,  7.1566e-02, -4.1985e-02, -4.8938e-02, -1.1055e-01,\n",
              "       -2.2786e-02,  4.5736e-02,  6.2825e-03,  7.3010e-03, -1.2132e-02,\n",
              "        1.4439e-01,  7.7186e-03,  2.1353e-02,  1.4284e-02,  7.4769e-03,\n",
              "        1.6671e-02, -1.2661e-01,  2.5639e-02,  3.2771e-03, -4.2018e-02,\n",
              "       -1.0103e-03,  4.0710e-02, -1.3316e-02,  1.0330e-01, -5.8162e-02,\n",
              "       -9.1343e-02,  4.6810e-02,  8.8264e-02,  4.6430e-03, -1.1038e-02,\n",
              "       -9.1799e-03, -5.7536e-02, -4.0628e-02,  3.8178e-02, -7.4733e-03,\n",
              "        4.6105e-02, -5.2715e-02,  5.4897e-02, -3.3467e-03, -5.6993e-02,\n",
              "        2.9826e-02, -6.7140e-02,  1.3697e-02, -9.2832e-04,  4.4002e-03,\n",
              "        1.0691e-01,  3.3762e-02,  1.2902e-02, -5.6826e-02, -5.4292e-03,\n",
              "        6.0756e-02, -2.6679e-02,  2.9786e-02,  1.7893e-03,  8.3046e-04,\n",
              "        6.8271e-02, -2.8118e-02, -1.1156e-02,  5.9470e-02,  1.4329e-01,\n",
              "       -3.9467e-02,  4.9237e-02,  4.4570e-02, -1.6485e-02,  5.2343e-02,\n",
              "        5.9286e-02, -5.3043e-02,  2.5074e-02,  4.7974e-02, -1.6221e-02,\n",
              "        5.6871e-02,  9.8023e-02, -1.2000e-01,  1.6424e-02, -3.2622e-02,\n",
              "       -6.3527e-02,  1.4032e-01, -1.2514e-01,  8.3137e-03,  2.0893e-02,\n",
              "        1.1146e-01,  2.2451e-02,  1.0519e-02,  5.3167e-02, -4.9936e-04,\n",
              "        8.4452e-04,  5.8767e-02, -3.5063e-02,  2.3304e-02,  3.8967e-02,\n",
              "        3.9772e-02, -2.7112e-02, -4.7859e-02,  1.3284e-02, -8.2636e-02,\n",
              "       -1.7070e-02, -2.5697e-02, -2.0387e-02,  7.9304e-02, -1.0058e-02],\n",
              "      dtype=float32)"
            ]
          },
          "metadata": {},
          "execution_count": 19
        }
      ]
    },
    {
      "cell_type": "code",
      "source": [
        "fasttext_model['cricket'].shape"
      ],
      "metadata": {
        "colab": {
          "base_uri": "https://localhost:8080/"
        },
        "id": "apA35UITRlUu",
        "outputId": "fe3adff1-7901-4014-e2d8-fe39bd1a9106"
      },
      "execution_count": 28,
      "outputs": [
        {
          "output_type": "execute_result",
          "data": {
            "text/plain": [
              "(300,)"
            ]
          },
          "metadata": {},
          "execution_count": 28
        }
      ]
    },
    {
      "cell_type": "code",
      "source": [
        "fasttext_model.most_similar('man')"
      ],
      "metadata": {
        "colab": {
          "base_uri": "https://localhost:8080/"
        },
        "id": "d75aysBMQ5sf",
        "outputId": "e1e2784d-4214-44dc-bfa1-75bb2a42161d"
      },
      "execution_count": 20,
      "outputs": [
        {
          "output_type": "execute_result",
          "data": {
            "text/plain": [
              "[('woman', 0.8119808435440063),\n",
              " ('man--', 0.7323855757713318),\n",
              " ('man--and', 0.7230692505836487),\n",
              " ('person', 0.7203925848007202),\n",
              " ('mad-man', 0.7037578225135803),\n",
              " ('guy', 0.6992257833480835),\n",
              " ('god-man', 0.69350266456604),\n",
              " ('boy-man', 0.6925113797187805),\n",
              " ('man--the', 0.6904609203338623),\n",
              " ('man-love', 0.687400221824646)]"
            ]
          },
          "metadata": {},
          "execution_count": 20
        }
      ]
    },
    {
      "cell_type": "code",
      "source": [
        "fasttext_model.similarity('man','bottle')"
      ],
      "metadata": {
        "colab": {
          "base_uri": "https://localhost:8080/"
        },
        "id": "nMyDlf37REY4",
        "outputId": "a66817c3-7627-4b05-e931-b00e5e784862"
      },
      "execution_count": 21,
      "outputs": [
        {
          "output_type": "execute_result",
          "data": {
            "text/plain": [
              "0.40124792"
            ]
          },
          "metadata": {},
          "execution_count": 21
        }
      ]
    },
    {
      "cell_type": "code",
      "source": [
        "fasttext_model.doesnt_match(['PHP','java','monkey'])"
      ],
      "metadata": {
        "colab": {
          "base_uri": "https://localhost:8080/",
          "height": 36
        },
        "id": "AwqDt1ULRP0c",
        "outputId": "84530c73-1880-4a95-9d98-8b873716c5ca"
      },
      "execution_count": 22,
      "outputs": [
        {
          "output_type": "execute_result",
          "data": {
            "text/plain": [
              "'monkey'"
            ],
            "application/vnd.google.colaboratory.intrinsic+json": {
              "type": "string"
            }
          },
          "metadata": {},
          "execution_count": 22
        }
      ]
    },
    {
      "cell_type": "markdown",
      "source": [
        "**2. GloVe Word Embeddings**"
      ],
      "metadata": {
        "id": "asEBsyNgwDs2"
      }
    },
    {
      "cell_type": "code",
      "source": [
        "# Load pre-trained GloVe model (6B tokens, 100-dimensional vectors)\n",
        "glove_model = api.load(\"glove-wiki-gigaword-100\")"
      ],
      "metadata": {
        "colab": {
          "base_uri": "https://localhost:8080/"
        },
        "id": "H8oWafWLwM5a",
        "outputId": "44809bb1-91e8-457d-fd98-dc02c0e933ae"
      },
      "execution_count": 24,
      "outputs": [
        {
          "output_type": "stream",
          "name": "stdout",
          "text": [
            "[==================================================] 100.0% 128.1/128.1MB downloaded\n"
          ]
        }
      ]
    },
    {
      "cell_type": "code",
      "source": [
        "word_pairs = [('learn', 'learning'), ('pakistan', 'pakistani'), ('fame', 'famous')]\n",
        "\n",
        "# Compute similarity for each pair of words\n",
        "for pair in word_pairs:\n",
        "\tsimilarity = glove_model.similarity(pair[0], pair[1])\n",
        "\tprint(f\"Similarity between '{pair[0]}' and '{pair[1]}' using GloVe: {similarity:.3f}\")"
      ],
      "metadata": {
        "colab": {
          "base_uri": "https://localhost:8080/"
        },
        "id": "PAHRwIWerRdl",
        "outputId": "351373de-de7a-40d1-eb12-6cc53e4f64d0"
      },
      "execution_count": 25,
      "outputs": [
        {
          "output_type": "stream",
          "name": "stdout",
          "text": [
            "Similarity between 'learn' and 'learning' using GloVe: 0.734\n",
            "Similarity between 'pakistan' and 'pakistani' using GloVe: 0.813\n",
            "Similarity between 'fame' and 'famous' using GloVe: 0.468\n"
          ]
        }
      ]
    },
    {
      "cell_type": "code",
      "source": [
        "glove_model['cricket']"
      ],
      "metadata": {
        "colab": {
          "base_uri": "https://localhost:8080/"
        },
        "id": "JNyQmpuDRZZF",
        "outputId": "6fe62692-ea26-4a2b-f5e3-6a36ca6b0728"
      },
      "execution_count": 26,
      "outputs": [
        {
          "output_type": "execute_result",
          "data": {
            "text/plain": [
              "array([-0.55541  ,  0.45894  ,  0.51851  , -0.045938 , -1.4064   ,\n",
              "        0.49701  , -0.085008 ,  0.63442  , -1.7949   , -0.31881  ,\n",
              "       -0.13673  , -1.1583   ,  0.45505  ,  0.21464  , -0.21751  ,\n",
              "       -0.21984  ,  0.60619  ,  0.55812  , -0.01031  ,  0.66228  ,\n",
              "        0.22206  ,  0.25498  ,  0.8452   , -0.72988  ,  0.26195  ,\n",
              "        0.26418  ,  0.22577  , -0.051338 ,  0.024459 ,  0.86389  ,\n",
              "       -0.35585  ,  0.48662  , -0.49752  , -0.44777  , -0.040533 ,\n",
              "       -0.18376  , -1.32     ,  0.54899  , -1.2289   , -0.22673  ,\n",
              "       -0.93431  ,  0.78923  ,  0.9565   , -1.3996   ,  1.0314   ,\n",
              "        0.39573  ,  0.7956   , -0.27184  ,  0.51776  , -1.0387   ,\n",
              "       -0.38121  ,  0.21772  ,  0.52486  ,  0.63307  , -0.21206  ,\n",
              "       -1.6741   , -1.3811   ,  0.079469 ,  0.46871  ,  0.29956  ,\n",
              "       -0.90023  , -0.16781  , -0.30873  ,  0.16586  ,  0.12141  ,\n",
              "        0.50219  ,  0.049859 ,  0.54896  ,  0.55576  , -0.14683  ,\n",
              "        0.55657  , -0.0060587,  0.25941  , -0.91918  ,  0.23     ,\n",
              "       -0.32992  ,  0.18277  ,  0.036235 , -0.71589  ,  0.22084  ,\n",
              "        0.3952   , -0.46155  ,  1.0515   , -0.58014  , -0.19766  ,\n",
              "       -0.39474  , -1.2366   , -0.37599  ,  0.070743 ,  0.93192  ,\n",
              "       -0.31744  ,  0.26108  , -0.23069  , -0.1247   ,  0.81297  ,\n",
              "        0.56446  ,  0.043594 ,  0.69141  ,  0.3543   ,  0.60907  ],\n",
              "      dtype=float32)"
            ]
          },
          "metadata": {},
          "execution_count": 26
        }
      ]
    },
    {
      "cell_type": "code",
      "source": [
        "glove_model['cricket'].shape"
      ],
      "metadata": {
        "colab": {
          "base_uri": "https://localhost:8080/"
        },
        "id": "yUtMrDhNSEsF",
        "outputId": "8a5aacd9-db7d-4ec4-a095-3c7966df05d7"
      },
      "execution_count": 29,
      "outputs": [
        {
          "output_type": "execute_result",
          "data": {
            "text/plain": [
              "(100,)"
            ]
          },
          "metadata": {},
          "execution_count": 29
        }
      ]
    },
    {
      "cell_type": "code",
      "source": [
        "glove_model.most_similar('man')"
      ],
      "metadata": {
        "colab": {
          "base_uri": "https://localhost:8080/"
        },
        "id": "vNNcJmz9R3Lw",
        "outputId": "8190efe4-9741-4192-a3e5-15d665084ec1"
      },
      "execution_count": 30,
      "outputs": [
        {
          "output_type": "execute_result",
          "data": {
            "text/plain": [
              "[('woman', 0.8323495388031006),\n",
              " ('boy', 0.7914870977401733),\n",
              " ('one', 0.7788748741149902),\n",
              " ('person', 0.7526816725730896),\n",
              " ('another', 0.7522234916687012),\n",
              " ('old', 0.7409117221832275),\n",
              " ('life', 0.7371697425842285),\n",
              " ('father', 0.7370322346687317),\n",
              " ('turned', 0.7347694635391235),\n",
              " ('who', 0.7345511317253113)]"
            ]
          },
          "metadata": {},
          "execution_count": 30
        }
      ]
    },
    {
      "cell_type": "code",
      "source": [
        "glove_model.similarity('man','bottle')"
      ],
      "metadata": {
        "colab": {
          "base_uri": "https://localhost:8080/"
        },
        "id": "LzP6ZbXgR99r",
        "outputId": "ee83ce5d-86a3-431b-81a9-d527012b5e92"
      },
      "execution_count": 31,
      "outputs": [
        {
          "output_type": "execute_result",
          "data": {
            "text/plain": [
              "0.3487146"
            ]
          },
          "metadata": {},
          "execution_count": 31
        }
      ]
    },
    {
      "cell_type": "code",
      "source": [
        "glove_model.doesnt_match(['PHP','java','monkey'])"
      ],
      "metadata": {
        "colab": {
          "base_uri": "https://localhost:8080/",
          "height": 54
        },
        "id": "h7gxHIbESByG",
        "outputId": "55301726-674a-4dbe-fb68-5061ab70c405"
      },
      "execution_count": 32,
      "outputs": [
        {
          "output_type": "stream",
          "name": "stderr",
          "text": [
            "WARNING:gensim.models.keyedvectors:vectors for words {'PHP'} are not present in the model, ignoring these words\n"
          ]
        },
        {
          "output_type": "execute_result",
          "data": {
            "text/plain": [
              "'monkey'"
            ],
            "application/vnd.google.colaboratory.intrinsic+json": {
              "type": "string"
            }
          },
          "metadata": {},
          "execution_count": 32
        }
      ]
    },
    {
      "cell_type": "markdown",
      "source": [
        "**3. BERT Word Embeddings**"
      ],
      "metadata": {
        "id": "2lVxSFh0wP0k"
      }
    },
    {
      "cell_type": "code",
      "source": [
        "# Import necessary libraries\n",
        "from transformers import BertTokenizer, BertModel\n",
        "import torch"
      ],
      "metadata": {
        "id": "xrLgASX4wzEp"
      },
      "execution_count": 1,
      "outputs": []
    },
    {
      "cell_type": "code",
      "source": [
        "# Load the pre-trained BERT model and tokenizer\n",
        "tokenizer = BertTokenizer.from_pretrained('bert-base-uncased')\n",
        "model = BertModel.from_pretrained('bert-base-uncased')"
      ],
      "metadata": {
        "colab": {
          "base_uri": "https://localhost:8080/",
          "height": 305,
          "referenced_widgets": [
            "ec52010450fa471eb7cbd4a8418847a0",
            "cc61169937614e1fbaff998001173aec",
            "869f6866a52747a78e00c43f73127b2f",
            "fbca7700c8d3414ca9813aa14601c987",
            "be604327031b4dd0849988ad50caf088",
            "1126256ddb7c41238247d03c0da1f0a3",
            "e1a4133901494419a5a8a8566cd85e41",
            "62a74a5fba8242b18aa6368d7b4d6e64",
            "9e9fc5b67bf044349dd92e68350b94fa",
            "afd6d0dc511c46129627d1fd652d8688",
            "faad2cc5f32e42c790473a78d1edab28",
            "f440430e1efd4087bd279722503216af",
            "533d98da0f574c60961e1492b618b4e7",
            "b21bcbe9922a4349a4c7f9b800d9e8d2",
            "424807553ba54b8db24418dba73f2e18",
            "b064071bd89340f885786a5ad1410797",
            "9ecb975d77ad48b5b1d629ffa8718965",
            "010d22f7931d4c48becd41dd253f4003",
            "5226068d4c19408d84e588394a45c258",
            "21091a72a3c84a43b3c797e287f80498",
            "43d4610c56124f51b7d80a8c2acfc777",
            "cbc799e27e614fca906c4f30e96b412c",
            "df4bfbd37c854765898c7fbec15c09cd",
            "0f55a81b0bc9450faa06b70391a0c248",
            "5115ccc784b94a6f91cfcce1a10783f0",
            "2c9916250b7c492fa5694767024c929b",
            "5ef1e8a5b88043d9a6a8e56c17cff9c5",
            "5f814f1efca44cd292f4389b0608f9bf",
            "92d45eba7bd1472ea5758c35c1969845",
            "cd23191f8d6f4b67aca1a25a49557103",
            "27d17a0023ec4f77a0bece948c99f5d2",
            "586dc4a93b944b69b9b169cf193b0902",
            "fe78b4a395ef448681d30f0ddafc835c",
            "fc7885592ad94b31a224eb65218f9bb6",
            "8cea46b9a6134480b5bd1d379675c808",
            "d20d26e9a0b045b2bf53ffd9f203e302",
            "0642814463a441148e5da162ef6cecb1",
            "db046c27cd804e0ab7d1155aaad50ef5",
            "15a6c1650e174265aa1990f5aa416b44",
            "bda0cef75f6d4394b7123b0183efc1d0",
            "af8448b4f7b346f988df3d9c27b3c106",
            "aaa1dfa2cb654ce4a28d240a828ac3f5",
            "a39fa5adbc2342518e93d8bad8360b26",
            "36acac4dc9de41feb73edd23be389b35",
            "e40b2ed7173d4759ba43e0d8b7aebbc4",
            "eb59887c924745babf2c36859dffb798",
            "700c7676a5a5499387a6ef2d14c28910",
            "2ff6a8dc59e44f2eb6ac269204850fc6",
            "15ba0379521548edbcfabbab1ccc7235",
            "5c8ed40036c54a93814db468a0fb1074",
            "a96525212fd44af0870ccaa0f9a8ee8d",
            "eb49e8e227be4fa28da55d0b8e43301e",
            "8922429a307145a49c5d94fffc9d7fca",
            "689c0b0d99cd4379ad385b1b3e9cc932",
            "bb2ab3c4912f4500a8d5e842d9744eef"
          ]
        },
        "id": "3ZP8uj_bwbIq",
        "outputId": "5c0f3077-8c2d-43da-d577-9e21990e6fe8"
      },
      "execution_count": 2,
      "outputs": [
        {
          "output_type": "stream",
          "name": "stderr",
          "text": [
            "/usr/local/lib/python3.10/dist-packages/huggingface_hub/utils/_auth.py:94: UserWarning: \n",
            "The secret `HF_TOKEN` does not exist in your Colab secrets.\n",
            "To authenticate with the Hugging Face Hub, create a token in your settings tab (https://huggingface.co/settings/tokens), set it as secret in your Google Colab and restart your session.\n",
            "You will be able to reuse this secret in all of your notebooks.\n",
            "Please note that authentication is recommended but still optional to access public models or datasets.\n",
            "  warnings.warn(\n"
          ]
        },
        {
          "output_type": "display_data",
          "data": {
            "text/plain": [
              "tokenizer_config.json:   0%|          | 0.00/48.0 [00:00<?, ?B/s]"
            ],
            "application/vnd.jupyter.widget-view+json": {
              "version_major": 2,
              "version_minor": 0,
              "model_id": "ec52010450fa471eb7cbd4a8418847a0"
            }
          },
          "metadata": {}
        },
        {
          "output_type": "display_data",
          "data": {
            "text/plain": [
              "vocab.txt:   0%|          | 0.00/232k [00:00<?, ?B/s]"
            ],
            "application/vnd.jupyter.widget-view+json": {
              "version_major": 2,
              "version_minor": 0,
              "model_id": "f440430e1efd4087bd279722503216af"
            }
          },
          "metadata": {}
        },
        {
          "output_type": "display_data",
          "data": {
            "text/plain": [
              "tokenizer.json:   0%|          | 0.00/466k [00:00<?, ?B/s]"
            ],
            "application/vnd.jupyter.widget-view+json": {
              "version_major": 2,
              "version_minor": 0,
              "model_id": "df4bfbd37c854765898c7fbec15c09cd"
            }
          },
          "metadata": {}
        },
        {
          "output_type": "display_data",
          "data": {
            "text/plain": [
              "config.json:   0%|          | 0.00/570 [00:00<?, ?B/s]"
            ],
            "application/vnd.jupyter.widget-view+json": {
              "version_major": 2,
              "version_minor": 0,
              "model_id": "fc7885592ad94b31a224eb65218f9bb6"
            }
          },
          "metadata": {}
        },
        {
          "output_type": "display_data",
          "data": {
            "text/plain": [
              "model.safetensors:   0%|          | 0.00/440M [00:00<?, ?B/s]"
            ],
            "application/vnd.jupyter.widget-view+json": {
              "version_major": 2,
              "version_minor": 0,
              "model_id": "e40b2ed7173d4759ba43e0d8b7aebbc4"
            }
          },
          "metadata": {}
        }
      ]
    },
    {
      "cell_type": "code",
      "source": [
        "word_pairs = [('learn', 'learning'), ('pakistan', 'pakistani'), ('fame', 'famous')]\n",
        "\n",
        "# Compute similarity for each pair of words\n",
        "for pair in word_pairs:\n",
        "\ttokens = tokenizer(pair, return_tensors='pt')\n",
        "\twith torch.no_grad():\n",
        "\t\toutputs = model(**tokens)\n",
        "\n",
        "\t# Extract embeddings for the [CLS] token\n",
        "\tcls_embedding = outputs.last_hidden_state[:, 0, :]\n",
        "\n",
        "\tsimilarity = torch.nn.functional.cosine_similarity(cls_embedding[0], cls_embedding[1], dim=0)\n",
        "\n",
        "\tprint(f\"Similarity between '{pair[0]}' and '{pair[1]}' using BERT: {similarity:.3f}\")"
      ],
      "metadata": {
        "colab": {
          "base_uri": "https://localhost:8080/"
        },
        "id": "YMGHWYbBwS4j",
        "outputId": "9e057c10-7db1-4c06-d13d-0e2db2baa872"
      },
      "execution_count": 3,
      "outputs": [
        {
          "output_type": "stream",
          "name": "stdout",
          "text": [
            "Similarity between 'learn' and 'learning' using BERT: 0.930\n",
            "Similarity between 'pakistan' and 'pakistani' using BERT: 0.913\n",
            "Similarity between 'fame' and 'famous' using BERT: 0.956\n"
          ]
        }
      ]
    },
    {
      "cell_type": "code",
      "source": [
        "# Tokenize the word \"cricket\"\n",
        "tokens = tokenizer(\"cricket\", return_tensors='pt')\n",
        "\n",
        "# Get the model's output\n",
        "with torch.no_grad():\n",
        "    outputs = model(**tokens)\n",
        "\n",
        "# Access the embedding for the word \"cricket\"\n",
        "# We'll take the embedding of the first token, assuming it's \"cricket\"\n",
        "embedding = outputs.last_hidden_state[:, 0, :]\n",
        "print(embedding)"
      ],
      "metadata": {
        "colab": {
          "base_uri": "https://localhost:8080/"
        },
        "id": "b-9yvXU0SY6l",
        "outputId": "14c8437f-3047-48c6-f645-7c658a61dadd"
      },
      "execution_count": 7,
      "outputs": [
        {
          "output_type": "stream",
          "name": "stdout",
          "text": [
            "tensor([[-2.5019e-01,  2.1354e-02, -4.3675e-01, -5.8682e-01,  3.4105e-02,\n",
            "         -2.8385e-02,  1.3506e-01,  5.2249e-01, -4.7748e-01,  2.8922e-02,\n",
            "         -2.7474e-01, -3.2879e-01, -1.1539e-01,  3.5818e-01,  1.4294e-01,\n",
            "          3.1087e-01, -5.2249e-01,  4.1769e-01,  4.6940e-01, -2.7974e-01,\n",
            "         -1.2542e-01, -1.4642e-01, -4.5150e-01, -2.7796e-01,  6.0341e-02,\n",
            "         -2.4179e-01,  3.6778e-02,  6.8280e-02, -2.7100e-02, -1.8102e-02,\n",
            "          7.1989e-02,  3.1395e-01, -3.4609e-02,  3.3215e-01, -1.1463e-01,\n",
            "         -2.6011e-01,  3.0103e-02, -2.6199e-01,  4.4755e-02,  2.2186e-01,\n",
            "         -3.6590e-02, -2.0875e-01,  1.1753e-01, -2.0598e-01,  3.3432e-01,\n",
            "          4.8508e-02, -2.0608e+00, -8.8270e-02, -3.1192e-01,  4.4332e-02,\n",
            "          1.8787e-01,  3.8772e-01,  4.3683e-01,  9.3089e-02,  2.0869e-01,\n",
            "          4.8024e-01,  5.3258e-03,  5.7429e-01,  1.8835e-01,  1.2618e-01,\n",
            "          1.7460e-01, -9.7302e-02, -1.2189e-01,  3.8829e-02,  3.7123e-01,\n",
            "          2.5130e-01,  3.6287e-02,  3.5200e-01,  4.1653e-02,  2.3738e-01,\n",
            "         -5.0210e-01, -1.7362e-01,  1.9662e-01,  3.5745e-01,  5.5696e-03,\n",
            "         -2.3646e-01,  6.3921e-02,  1.4776e-01, -4.2525e-01, -1.7486e-01,\n",
            "          4.5040e-01,  1.7248e-01,  4.6511e-01,  3.1986e-01,  1.2573e-01,\n",
            "          1.7696e-01, -4.3339e-01, -4.7674e-01,  1.8772e-01,  9.1682e-01,\n",
            "         -1.4851e-01,  3.3829e-01,  1.8846e-01,  5.2896e-01,  7.7636e-03,\n",
            "         -6.1307e-03, -5.3101e-02, -6.9390e-02,  5.3782e-02,  3.7640e-02,\n",
            "          3.4737e-02,  2.1362e-01,  1.6129e-01, -6.6894e-03,  2.2141e-02,\n",
            "          7.2008e-02,  4.3178e-02, -2.1908e-01,  3.9035e-02, -2.7374e+00,\n",
            "          1.4043e-01,  2.7676e-01, -5.6351e-02,  2.0757e-02, -3.9359e-01,\n",
            "          6.1584e-01,  4.4385e-01,  2.4348e-02, -2.0467e-01,  2.0227e-01,\n",
            "         -5.0088e-01,  4.4516e-01, -9.3790e-02,  8.1616e-03,  1.0522e-01,\n",
            "          4.5790e-01,  9.6879e-03, -2.2227e-01,  3.2239e-01,  7.3304e-02,\n",
            "          6.9323e-02,  3.8363e-01, -2.1217e-01, -2.5882e-01, -1.9057e-02,\n",
            "          1.6871e-01,  3.1585e-01,  1.8049e-01, -3.9419e-02, -1.9252e-01,\n",
            "         -3.4482e-01, -2.6643e-01, -3.4261e+00, -8.4519e-02,  4.1219e-01,\n",
            "         -2.2153e-01, -1.2136e-01, -1.4044e-01,  2.2185e-01,  5.8489e-02,\n",
            "          1.3736e-01,  1.7127e-01,  2.0031e-01, -6.5044e-03, -4.1567e-01,\n",
            "         -1.7460e-01,  1.8176e-01, -3.8395e-01,  7.5622e-02,  4.2702e-01,\n",
            "         -1.8786e-03, -4.6741e-01,  1.0949e-01, -3.9679e-01, -1.5088e-02,\n",
            "         -1.1987e-01,  5.5057e-01,  1.8696e-01, -4.2380e-02, -6.6543e-02,\n",
            "         -3.8920e-01, -3.0688e-01,  2.5941e-01, -2.6296e-02,  2.8149e-01,\n",
            "         -3.6133e-01, -1.2292e-01,  4.2749e-01,  6.1809e-01,  9.2999e-02,\n",
            "         -1.4284e-01,  1.8281e-01,  3.8590e-01,  3.7327e-01,  2.5742e-01,\n",
            "         -9.8141e-02,  2.8365e-01, -8.7261e-02,  2.1163e-01,  1.0568e-01,\n",
            "          6.1317e-02,  7.4383e-02,  2.1921e-02,  3.2889e-01,  3.7044e-01,\n",
            "         -1.8810e-02, -1.8490e-01, -4.5815e-01,  7.4271e-01,  2.0711e-01,\n",
            "         -8.4065e-02,  2.1669e-01, -2.5502e-01,  3.7077e-01, -9.1148e-02,\n",
            "          3.9363e+00,  1.2420e-01, -3.6326e-01,  1.1223e-01, -1.0750e-01,\n",
            "         -4.7790e-02,  1.6050e-01, -1.6992e-01, -2.5675e-01,  3.3026e-01,\n",
            "          1.4687e-02,  1.7091e-01,  2.4404e-01, -6.9117e-02, -1.9228e-01,\n",
            "          1.0868e-01,  1.3023e-01, -6.5538e-03,  2.5173e-01, -1.2536e-01,\n",
            "          3.4532e-01, -1.4345e-01,  5.6887e-01, -2.9164e-01, -9.4115e-01,\n",
            "          1.7383e-01, -2.1695e-02, -4.5149e-01,  4.5209e-01, -7.0346e-01,\n",
            "         -2.3522e-02, -4.8599e-01, -6.4485e-02,  3.0810e-01,  2.9372e-01,\n",
            "          2.8343e-01,  1.1158e-01, -1.5972e-02, -1.0145e-01, -2.2526e-01,\n",
            "          2.5930e-01,  2.0180e-01,  2.0229e-01,  2.2055e-01, -1.1780e-01,\n",
            "          7.3016e-01, -3.8957e-01,  1.1617e-01, -2.1417e-01, -1.7168e-01,\n",
            "         -6.7869e-02,  2.9923e-01, -1.0531e-01, -1.3032e-01,  2.1022e-01,\n",
            "         -2.1736e-01,  2.0353e-01,  4.7829e-01, -1.7113e-01, -2.8583e-01,\n",
            "         -2.3341e-01,  1.5901e-01, -5.4392e-01,  9.1887e-02, -4.1363e-02,\n",
            "         -1.8986e-01,  1.2845e-02,  1.3913e-01, -4.5081e+00, -2.1367e-02,\n",
            "          3.2579e-01,  8.8487e-02,  3.4101e-01, -3.2026e-01,  1.5005e-01,\n",
            "          3.2451e-01,  2.3862e-02, -4.5151e-01,  2.5736e-01, -1.2926e-01,\n",
            "          5.1211e-02,  2.0025e-01, -2.3886e-01,  2.0058e-01,  2.0740e-01,\n",
            "         -4.6174e-02,  7.6458e-02, -2.5860e-02,  1.9388e-01,  3.0931e-01,\n",
            "         -3.3626e-01, -1.1870e-01,  7.8181e-02, -1.5955e-01, -5.7005e-01,\n",
            "         -1.9660e-01,  5.9265e-01, -1.5991e-01, -1.0597e-01, -4.0263e-01,\n",
            "          3.2369e-01,  9.5097e-03, -5.3647e-01, -1.8517e+00,  2.4085e-01,\n",
            "         -2.4082e-01, -3.0955e-01,  1.1780e-01, -2.3722e-01,  4.1271e-01,\n",
            "         -1.0432e-02, -2.0817e-01,  2.0021e-01,  8.7770e-02, -1.9815e-01,\n",
            "         -6.5992e-02,  1.5203e-01,  1.9901e-01,  9.6187e-02,  3.5353e-01,\n",
            "          1.3548e-01,  1.3801e-01,  1.4541e-01,  1.5793e-01,  4.8643e-01,\n",
            "         -2.3359e-01, -1.6122e-01,  5.0428e-02,  6.1238e-01, -2.7848e-01,\n",
            "         -2.5946e-02, -4.3367e-01,  4.6237e-02, -2.7409e-01,  1.7490e-01,\n",
            "          4.9959e-02,  3.0718e-01, -5.6265e-02, -2.3620e-01,  1.1578e-01,\n",
            "          2.6795e-01,  5.1113e-01,  4.0318e-01, -3.2820e-01,  4.7651e-01,\n",
            "          8.3486e-03,  1.3164e-01,  6.0238e-01,  1.5696e-01, -1.0545e-01,\n",
            "         -1.6588e-01, -1.3609e-02,  8.3526e-02, -1.8367e-01, -1.1941e-01,\n",
            "          1.0120e+00, -8.0066e-02,  2.9386e-01, -1.4102e-01,  4.2110e-01,\n",
            "         -4.0773e-01,  2.6487e-01,  3.6305e-01,  6.1256e-01, -4.3247e-02,\n",
            "          1.2996e-01, -3.9465e-02, -4.8837e-02, -4.8248e-01,  2.4055e-01,\n",
            "         -3.8315e-01, -2.4952e-02,  9.5610e-02, -1.4332e-01,  1.5379e-01,\n",
            "          7.8717e-02, -4.9752e-01, -1.9492e-01,  5.4447e-02,  3.9452e-02,\n",
            "         -6.1534e-02,  2.8446e-01, -7.8293e-02,  1.8937e-01, -7.9909e-02,\n",
            "         -1.6798e-01,  4.8856e-01, -2.0931e-01,  2.0188e-02, -2.1523e-04,\n",
            "         -2.2019e-01, -4.6002e-01, -1.8808e-01, -2.0541e-01,  3.0628e-01,\n",
            "          1.9072e-01,  3.8350e-01, -1.1437e-01,  1.5597e-01,  6.1203e-01,\n",
            "         -9.2938e-01, -6.2360e-01, -6.2532e-02, -4.9867e-01, -6.0569e-01,\n",
            "         -2.9732e-01,  1.9827e-01,  1.2154e-01, -3.2376e-01,  1.8805e-01,\n",
            "          2.7449e-01,  2.4751e-02,  4.0841e-03, -1.0222e-01,  2.1233e-01,\n",
            "          2.0747e-01,  2.1017e-01,  7.9338e-01,  1.9040e-01, -2.6676e-01,\n",
            "          5.7413e-01,  1.7462e-01,  5.1673e-01, -1.5699e-02, -8.3768e-02,\n",
            "          1.6883e-01, -1.5586e-01, -3.7909e-02,  5.5832e-02,  1.5479e-01,\n",
            "         -3.2881e-01, -4.5604e-01, -2.0447e-01, -1.2138e-02,  4.1935e-02,\n",
            "          4.7785e-02, -6.0910e-01, -3.2398e-01, -4.2421e-02, -3.9550e-01,\n",
            "          1.6173e-01,  2.0023e-01,  8.6982e-02,  3.9468e-01, -1.7511e-01,\n",
            "         -1.6398e-01,  6.2190e-01, -1.5377e-01,  3.3322e-01,  3.1016e-01,\n",
            "         -2.4718e-01,  2.5374e-01,  5.1273e-01, -1.5733e-01, -2.8761e-01,\n",
            "          1.2109e-01,  2.4080e-01, -1.3847e-01, -2.2900e-01,  2.3167e-01,\n",
            "          2.1295e-02, -4.0531e-03,  3.6382e-02, -1.6591e-01,  1.2304e-01,\n",
            "         -1.0182e+00,  3.4201e-01,  4.9913e-01, -1.3476e-01,  6.0003e-01,\n",
            "          1.1700e-01, -1.7402e-01,  2.7191e-01, -1.1061e-02, -4.5602e-02,\n",
            "         -9.5800e-02, -1.4071e-01, -3.9445e-02,  6.6828e-02,  1.4723e-02,\n",
            "          4.6577e-02,  8.8482e-02, -2.3496e-01,  1.4793e-01, -3.1583e-01,\n",
            "         -2.9132e-01,  6.4165e-01, -1.5300e-01, -4.7635e-01, -8.8184e-02,\n",
            "         -4.3033e-01, -9.9095e-02,  8.7650e-01,  4.8730e-02,  4.7017e-01,\n",
            "          3.9931e-01, -3.9996e-01, -5.7109e-01, -1.5136e-01,  5.3465e-02,\n",
            "         -2.3877e-01,  1.0802e-02, -9.9675e-02,  2.5343e-01, -1.4277e-01,\n",
            "         -3.8308e-01,  2.1263e-01,  2.6076e-01, -3.9580e-01,  3.6711e-01,\n",
            "          1.8038e-01, -5.0965e-01,  9.4376e-02,  5.3789e-02, -5.1215e-01,\n",
            "         -1.8177e-02, -4.2309e-01,  3.5155e-02, -1.7102e-01,  5.3182e-02,\n",
            "          3.2899e-01,  1.1516e-01,  2.3335e-01, -4.1186e-01, -3.0811e-01,\n",
            "          2.7254e-01, -2.4771e-01, -6.1628e-02,  2.6051e-01, -1.3754e-01,\n",
            "         -6.8991e-01,  7.3358e-02,  1.2483e-01, -3.9609e-01,  2.9023e-01,\n",
            "          4.7275e-01,  2.3474e-01,  6.6872e-02,  2.1209e-01, -5.5738e-01,\n",
            "         -1.4286e-01,  2.6782e-01,  5.6312e-02,  4.8740e-01, -3.1176e-01,\n",
            "          1.1142e-02, -4.7165e-01, -1.0308e-01, -3.1246e-01,  4.7962e-02,\n",
            "          3.6866e-02, -2.2958e-01,  2.4089e-01, -1.0538e-01,  2.4796e-01,\n",
            "         -4.7013e-01, -2.2160e-01,  3.5183e-01, -4.1626e-01,  1.2190e-01,\n",
            "         -2.5196e-01,  1.4680e-01, -1.6331e-01, -2.1445e-01, -2.4300e-02,\n",
            "         -2.3945e-02,  5.6186e-01,  1.1020e-01, -2.5143e-01,  3.6890e-02,\n",
            "          7.3863e-02,  4.5142e-01,  1.3645e-01, -1.9539e-01, -1.5815e-01,\n",
            "          3.6154e-02,  1.0375e-01, -1.5725e-01, -1.4429e-01,  3.7142e-01,\n",
            "         -3.3049e-01,  1.5503e-01, -1.5670e-02,  2.1857e+00,  4.3946e-01,\n",
            "          5.2051e-01, -2.3335e-03,  1.5278e-01, -6.8285e-02, -1.6675e-02,\n",
            "          1.0440e-01, -3.2660e-01, -9.6792e-02,  1.0429e-01,  1.2926e-01,\n",
            "          6.9410e-02,  1.7742e-01,  2.8499e-01, -3.3279e-02, -4.7279e-01,\n",
            "         -3.7352e-01, -4.3637e-01, -1.3281e-01, -6.7963e-01,  6.5296e-01,\n",
            "          3.1393e-01, -4.7244e-02,  1.2053e-01,  8.2528e-02,  2.2149e-01,\n",
            "          1.0217e-02,  1.7429e-01, -4.2193e-01, -2.6984e-01, -4.6538e-02,\n",
            "         -2.6127e-02,  8.1182e-02,  1.3037e-02,  1.3850e-01,  1.7494e-01,\n",
            "         -5.3413e-01, -1.1683e-01,  2.9260e-01, -3.9389e-01, -3.9577e-01,\n",
            "          5.9366e-01, -8.8155e-02, -1.4082e-01,  4.2412e-01, -3.3252e-01,\n",
            "         -4.3306e-01,  4.0084e-01,  9.7109e-03, -2.0657e-01, -4.7829e-01,\n",
            "         -3.2071e-01,  2.6536e-02, -2.7910e-01, -1.4149e-01, -9.3696e-02,\n",
            "         -6.4952e-02, -2.6770e-01,  2.0985e-01,  2.3855e-01,  2.9199e-02,\n",
            "          2.7492e-01, -3.9284e-01,  4.4408e-02,  7.2086e-02, -2.3374e-02,\n",
            "          2.6954e-01,  1.0930e-01, -2.7070e-01, -1.8188e-01,  1.4707e-01,\n",
            "          4.1933e-01,  2.0338e-01,  5.5381e-01,  4.1052e-02,  5.5626e-02,\n",
            "         -8.9920e-02, -3.8153e-02, -3.3555e+00,  1.4827e-01, -1.7817e-01,\n",
            "          4.1406e-02,  5.7015e-01,  4.8668e-01,  2.2103e-01, -1.5387e-02,\n",
            "          1.3239e-01, -2.9548e-01,  2.8561e-01,  1.4110e-02, -1.4203e-01,\n",
            "          1.9369e-01,  1.5023e-01,  8.7013e-02,  1.8490e-01, -5.1793e-01,\n",
            "         -2.1642e-02,  1.7957e-01,  1.8649e-01, -1.7382e-01, -4.0123e-01,\n",
            "         -2.2286e-01, -6.1789e-01,  4.6906e-01,  6.8797e-02, -3.5260e-01,\n",
            "          2.3974e-01,  3.2320e-01, -2.8605e-01,  1.3050e-01,  2.0338e-01,\n",
            "          4.2162e-01,  7.7508e-02, -4.0909e-01,  1.3798e-02,  4.5039e-02,\n",
            "          2.5098e-01,  2.5955e-02, -1.8637e-01,  4.2570e-01,  1.5294e-01,\n",
            "         -1.3715e-01, -2.2016e-01, -1.4841e-01,  5.9561e-02, -5.6067e-01,\n",
            "          3.9453e-01, -4.5356e-01, -1.7348e-01, -5.9979e-02, -1.9285e-01,\n",
            "          1.5121e-01,  2.4667e-01, -1.8504e-01, -1.6775e-01, -1.5526e-01,\n",
            "         -2.4100e-01, -4.1371e-01,  2.8585e-01,  3.6940e-01,  1.3899e-01,\n",
            "          5.3620e-02,  2.1953e-01, -5.0665e-01, -1.5575e-01, -2.3731e-01,\n",
            "          1.5033e-01, -3.2443e-01, -2.4904e-01, -1.1151e-01,  3.6373e-01,\n",
            "         -1.9641e-01,  2.1215e-03, -6.8647e-03,  2.6303e-01,  2.8956e-01,\n",
            "          8.7251e-02, -6.6806e-04,  1.6744e-01, -3.6801e-01, -2.4744e-01,\n",
            "          1.5405e-01,  5.4809e-02, -8.8135e+00, -2.9520e-01, -1.5826e-01,\n",
            "          1.2743e-01,  6.3375e-01, -1.6081e-02,  2.8756e-01,  2.0610e-01,\n",
            "          3.1437e-01,  4.0569e-01,  9.2386e-02, -5.7749e-01, -8.0797e-02,\n",
            "         -2.1753e-01,  2.3532e-01,  4.3942e-01]])\n"
          ]
        }
      ]
    },
    {
      "cell_type": "code",
      "source": [
        "embedding.shape"
      ],
      "metadata": {
        "colab": {
          "base_uri": "https://localhost:8080/"
        },
        "id": "Ej43WoziSZC6",
        "outputId": "3ab3ac3f-2ed2-47a0-b139-078335da903e"
      },
      "execution_count": 8,
      "outputs": [
        {
          "output_type": "execute_result",
          "data": {
            "text/plain": [
              "torch.Size([1, 768])"
            ]
          },
          "metadata": {},
          "execution_count": 8
        }
      ]
    },
    {
      "cell_type": "markdown",
      "source": [
        "**Word2Vec**"
      ],
      "metadata": {
        "id": "uk6GERdpE2Sv"
      }
    },
    {
      "cell_type": "code",
      "source": [
        "import gensim\n",
        "from gensim.models import Word2Vec,KeyedVectors"
      ],
      "metadata": {
        "id": "HYgZNyOSE5Ez"
      },
      "execution_count": 4,
      "outputs": []
    },
    {
      "cell_type": "code",
      "source": [
        "import gensim.downloader\n",
        "print(list(gensim.downloader.info()['models'].keys()))"
      ],
      "metadata": {
        "colab": {
          "base_uri": "https://localhost:8080/"
        },
        "id": "1js4IDvjE5tT",
        "outputId": "b99c3949-debe-4fd1-a897-d99046d24e12"
      },
      "execution_count": 5,
      "outputs": [
        {
          "output_type": "stream",
          "name": "stdout",
          "text": [
            "['fasttext-wiki-news-subwords-300', 'conceptnet-numberbatch-17-06-300', 'word2vec-ruscorpora-300', 'word2vec-google-news-300', 'glove-wiki-gigaword-50', 'glove-wiki-gigaword-100', 'glove-wiki-gigaword-200', 'glove-wiki-gigaword-300', 'glove-twitter-25', 'glove-twitter-50', 'glove-twitter-100', 'glove-twitter-200', '__testing_word2vec-matrix-synopsis']\n"
          ]
        }
      ]
    },
    {
      "cell_type": "code",
      "source": [
        "model = gensim.downloader.load('word2vec-google-news-300') #already loads the Word2Vec Google News model as a KeyedVectors object"
      ],
      "metadata": {
        "colab": {
          "base_uri": "https://localhost:8080/"
        },
        "id": "xwGvCAm1E79e",
        "outputId": "9b4dd0fb-9c20-4949-8844-670805b11471"
      },
      "execution_count": 6,
      "outputs": [
        {
          "output_type": "stream",
          "name": "stdout",
          "text": [
            "[==================================================] 100.0% 1662.8/1662.8MB downloaded\n"
          ]
        }
      ]
    },
    {
      "cell_type": "code",
      "source": [
        "model['cricket'] # model is a word2vec, it contains word2vec vector representation of 3 million words. and each vector has 300 dimensions"
      ],
      "metadata": {
        "colab": {
          "base_uri": "https://localhost:8080/"
        },
        "id": "Vq7bxRpZE-6p",
        "outputId": "ecadebe8-25d5-4627-b73d-d21bad02a1cf"
      },
      "execution_count": 7,
      "outputs": [
        {
          "output_type": "execute_result",
          "data": {
            "text/plain": [
              "array([-3.67187500e-01, -1.21582031e-01,  2.85156250e-01,  8.15429688e-02,\n",
              "        3.19824219e-02, -3.19824219e-02,  1.34765625e-01, -2.73437500e-01,\n",
              "        9.46044922e-03, -1.07421875e-01,  2.48046875e-01, -6.05468750e-01,\n",
              "        5.02929688e-02,  2.98828125e-01,  9.57031250e-02,  1.39648438e-01,\n",
              "       -5.41992188e-02,  2.91015625e-01,  2.85156250e-01,  1.51367188e-01,\n",
              "       -2.89062500e-01, -3.46679688e-02,  1.81884766e-02, -3.92578125e-01,\n",
              "        2.46093750e-01,  2.51953125e-01, -9.86328125e-02,  3.22265625e-01,\n",
              "        4.49218750e-01, -1.36718750e-01, -2.34375000e-01,  4.12597656e-02,\n",
              "       -2.15820312e-01,  1.69921875e-01,  2.56347656e-02,  1.50146484e-02,\n",
              "       -3.75976562e-02,  6.95800781e-03,  4.00390625e-01,  2.09960938e-01,\n",
              "        1.17675781e-01, -4.19921875e-02,  2.34375000e-01,  2.03125000e-01,\n",
              "       -1.86523438e-01, -2.46093750e-01,  3.12500000e-01, -2.59765625e-01,\n",
              "       -1.06933594e-01,  1.04003906e-01, -1.79687500e-01,  5.71289062e-02,\n",
              "       -7.41577148e-03, -5.59082031e-02,  7.61718750e-02, -4.14062500e-01,\n",
              "       -3.65234375e-01, -3.35937500e-01, -1.54296875e-01, -2.39257812e-01,\n",
              "       -3.73046875e-01,  2.27355957e-03, -3.51562500e-01,  8.64257812e-02,\n",
              "        1.26953125e-01,  2.21679688e-01, -9.86328125e-02,  1.08886719e-01,\n",
              "        3.65234375e-01, -5.66406250e-02,  5.66406250e-02, -1.09375000e-01,\n",
              "       -1.66992188e-01, -4.54101562e-02, -2.00195312e-01, -1.22558594e-01,\n",
              "        1.31835938e-01, -1.31835938e-01,  1.03027344e-01, -3.41796875e-01,\n",
              "       -1.57226562e-01,  2.04101562e-01,  4.39453125e-02,  2.44140625e-01,\n",
              "       -3.19824219e-02,  3.20312500e-01, -4.41894531e-02,  1.08398438e-01,\n",
              "       -4.98046875e-02, -9.52148438e-03,  2.46093750e-01, -5.59082031e-02,\n",
              "        4.07714844e-02, -1.78222656e-02, -2.95410156e-02,  1.65039062e-01,\n",
              "        5.03906250e-01, -2.81250000e-01,  9.81445312e-02,  1.80664062e-02,\n",
              "       -1.83593750e-01,  2.53906250e-01,  2.25585938e-01,  1.63574219e-02,\n",
              "        1.81640625e-01,  1.38671875e-01,  3.33984375e-01,  1.39648438e-01,\n",
              "        1.45874023e-02, -2.89306641e-02, -8.39843750e-02,  1.50390625e-01,\n",
              "        1.67968750e-01,  2.28515625e-01,  3.59375000e-01,  1.22558594e-01,\n",
              "       -3.28125000e-01, -1.56250000e-01,  2.77343750e-01,  1.77001953e-02,\n",
              "       -1.46484375e-01, -4.51660156e-03, -4.46777344e-02,  1.75781250e-01,\n",
              "       -3.75000000e-01,  1.16699219e-01, -1.39648438e-01,  2.55859375e-01,\n",
              "       -1.96289062e-01, -2.57568359e-02, -5.41992188e-02, -2.51464844e-02,\n",
              "       -1.93359375e-01, -3.17382812e-02, -8.74023438e-02, -1.32812500e-01,\n",
              "       -2.12402344e-02,  4.33593750e-01, -5.20019531e-02,  3.46679688e-02,\n",
              "        8.00781250e-02,  3.41796875e-02,  1.99218750e-01, -2.39257812e-02,\n",
              "       -2.37304688e-01,  1.93359375e-01,  7.32421875e-02, -2.87109375e-01,\n",
              "        1.25000000e-01,  8.44726562e-02,  1.30859375e-01, -2.19726562e-01,\n",
              "       -1.61132812e-01, -2.63671875e-01, -5.46875000e-01, -2.96875000e-01,\n",
              "        3.44238281e-02, -2.87109375e-01, -1.93359375e-01, -1.61132812e-01,\n",
              "       -3.84765625e-01, -2.14843750e-01, -6.22558594e-03, -1.27929688e-01,\n",
              "       -1.00097656e-01, -6.21093750e-01,  3.78906250e-01, -4.58984375e-01,\n",
              "        1.44531250e-01, -9.13085938e-02, -3.08593750e-01,  2.23632812e-01,\n",
              "        7.86132812e-02, -2.16796875e-01,  8.78906250e-02, -1.66992188e-01,\n",
              "        1.14746094e-02, -2.53906250e-01, -6.25000000e-02,  6.04248047e-03,\n",
              "        1.56250000e-01,  4.37500000e-01, -2.23632812e-01, -2.32421875e-01,\n",
              "        2.75390625e-01,  2.39257812e-01,  4.49218750e-02, -7.51953125e-02,\n",
              "        5.74218750e-01, -2.61230469e-02, -1.21582031e-01,  2.44140625e-01,\n",
              "       -3.37890625e-01,  8.59375000e-02, -7.71484375e-02,  4.85839844e-02,\n",
              "        1.43554688e-01,  4.25781250e-01, -4.29687500e-02, -1.08398438e-01,\n",
              "        1.19628906e-01, -1.91406250e-01, -2.12890625e-01, -2.87109375e-01,\n",
              "       -1.14746094e-01, -2.04101562e-01, -2.06298828e-02, -2.53906250e-01,\n",
              "        8.25195312e-02, -3.97949219e-02, -1.57226562e-01,  1.34765625e-01,\n",
              "        2.08007812e-01, -1.78710938e-01, -2.00195312e-02, -8.34960938e-02,\n",
              "       -1.20605469e-01,  4.29687500e-02, -1.94335938e-01, -1.32812500e-01,\n",
              "       -2.17285156e-02, -2.35351562e-01, -3.63281250e-01,  1.51367188e-01,\n",
              "        9.32617188e-02,  1.63085938e-01,  1.02050781e-01, -4.27734375e-01,\n",
              "        2.83203125e-01,  2.74658203e-04, -3.20312500e-01,  1.68457031e-02,\n",
              "        4.06250000e-01, -5.24902344e-02,  7.91015625e-02, -1.41601562e-01,\n",
              "        5.27343750e-01, -1.26953125e-01,  4.74609375e-01, -6.64062500e-02,\n",
              "        3.41796875e-01, -1.78710938e-01,  3.69140625e-01, -2.05078125e-01,\n",
              "        5.82885742e-03, -1.84570312e-01, -8.88671875e-02, -1.81640625e-01,\n",
              "       -4.80957031e-02,  4.39453125e-01,  2.12890625e-01, -3.07617188e-02,\n",
              "        9.32617188e-02,  2.40234375e-01,  2.39257812e-01,  2.51953125e-01,\n",
              "       -1.98974609e-02,  1.24511719e-01, -4.73632812e-02, -2.13623047e-02,\n",
              "        3.12500000e-02,  3.05175781e-02,  2.79296875e-01,  9.08203125e-02,\n",
              "       -2.02148438e-01, -2.19726562e-02, -2.63671875e-01,  8.78906250e-02,\n",
              "       -1.07421875e-01, -2.49023438e-01, -1.22070312e-02,  1.73828125e-01,\n",
              "       -9.91210938e-02,  7.27539062e-02,  2.59765625e-01, -4.60937500e-01,\n",
              "        3.59375000e-01, -2.25585938e-01,  1.87988281e-02, -2.19726562e-01,\n",
              "       -2.08984375e-01, -1.51367188e-01,  8.64257812e-02,  1.11694336e-02,\n",
              "        6.93359375e-02, -2.99072266e-02,  1.43554688e-01,  1.89453125e-01,\n",
              "       -1.32812500e-01,  4.72656250e-01, -1.40625000e-01, -2.52685547e-02,\n",
              "        1.91406250e-01, -2.63671875e-01, -1.39648438e-01,  1.09375000e-01,\n",
              "        1.97753906e-02,  2.49023438e-01, -1.42578125e-01,  4.15039062e-02],\n",
              "      dtype=float32)"
            ]
          },
          "metadata": {},
          "execution_count": 7
        }
      ]
    },
    {
      "cell_type": "code",
      "source": [
        "model['cricket'].shape"
      ],
      "metadata": {
        "colab": {
          "base_uri": "https://localhost:8080/"
        },
        "id": "N3HGEcrnOFeB",
        "outputId": "0d03e6c0-27b3-4315-d5e5-25ba0146440f"
      },
      "execution_count": 8,
      "outputs": [
        {
          "output_type": "execute_result",
          "data": {
            "text/plain": [
              "(300,)"
            ]
          },
          "metadata": {},
          "execution_count": 8
        }
      ]
    },
    {
      "cell_type": "code",
      "source": [
        "model.most_similar('man')  # the number of times the word 'man' appears in google news, most of the times, word 'robber' also come that context"
      ],
      "metadata": {
        "colab": {
          "base_uri": "https://localhost:8080/"
        },
        "id": "HSMtOHOGPPc-",
        "outputId": "237aa9bb-614c-49a9-9b7c-74f3c8720067"
      },
      "execution_count": 9,
      "outputs": [
        {
          "output_type": "execute_result",
          "data": {
            "text/plain": [
              "[('woman', 0.7664012908935547),\n",
              " ('boy', 0.6824871301651001),\n",
              " ('teenager', 0.6586930155754089),\n",
              " ('teenage_girl', 0.6147903203964233),\n",
              " ('girl', 0.5921714305877686),\n",
              " ('suspected_purse_snatcher', 0.571636438369751),\n",
              " ('robber', 0.5585119128227234),\n",
              " ('Robbery_suspect', 0.5584409832954407),\n",
              " ('teen_ager', 0.5549196600914001),\n",
              " ('men', 0.5489763021469116)]"
            ]
          },
          "metadata": {},
          "execution_count": 9
        }
      ]
    },
    {
      "cell_type": "code",
      "source": [
        "model.most_similar('cricket')"
      ],
      "metadata": {
        "colab": {
          "base_uri": "https://localhost:8080/"
        },
        "id": "j6NpIIu0PRmR",
        "outputId": "90fb81b0-3050-46c3-85b6-2060f27c02fb"
      },
      "execution_count": 10,
      "outputs": [
        {
          "output_type": "execute_result",
          "data": {
            "text/plain": [
              "[('cricketing', 0.8372225761413574),\n",
              " ('cricketers', 0.8165745735168457),\n",
              " ('Test_cricket', 0.8094819188117981),\n",
              " ('Twenty##_cricket', 0.8068488240242004),\n",
              " ('Twenty##', 0.7624265551567078),\n",
              " ('Cricket', 0.75413978099823),\n",
              " ('cricketer', 0.7372578382492065),\n",
              " ('twenty##', 0.7316356897354126),\n",
              " ('T##_cricket', 0.7304614186286926),\n",
              " ('West_Indies_cricket', 0.6987985968589783)]"
            ]
          },
          "metadata": {},
          "execution_count": 10
        }
      ]
    },
    {
      "cell_type": "code",
      "source": [
        "model.similarity('man','bottle') # this function converts the given two words into vectors and then compute cosine similarity between two vectors."
      ],
      "metadata": {
        "colab": {
          "base_uri": "https://localhost:8080/"
        },
        "id": "VWlrj5kLPURB",
        "outputId": "00e2020d-e048-4904-df4b-8379b231104f"
      },
      "execution_count": 11,
      "outputs": [
        {
          "output_type": "execute_result",
          "data": {
            "text/plain": [
              "0.18008712"
            ]
          },
          "metadata": {},
          "execution_count": 11
        }
      ]
    },
    {
      "cell_type": "code",
      "source": [
        "model.doesnt_match(['PHP','java','monkey']) # pass array of words, and fitler out the non-matching word, monkey is not similar to php and java"
      ],
      "metadata": {
        "colab": {
          "base_uri": "https://localhost:8080/",
          "height": 36
        },
        "id": "ZVOjNk5fPXPg",
        "outputId": "c9f38092-4032-4a27-dcde-229d4d7fa436"
      },
      "execution_count": 12,
      "outputs": [
        {
          "output_type": "execute_result",
          "data": {
            "text/plain": [
              "'monkey'"
            ],
            "application/vnd.google.colaboratory.intrinsic+json": {
              "type": "string"
            }
          },
          "metadata": {},
          "execution_count": 12
        }
      ]
    },
    {
      "cell_type": "code",
      "source": [
        "#Performing vector arithmetic, like \"king - man + woman,\" yields words like \"queen,\" \"princess,\" or \"ruler.\"\n",
        "# by removing man and add woman to king vector, top 10 most similar words inlcude queen, princess\n",
        "vec = model['king'] - model['man'] + model['woman']\n",
        "model.most_similar([vec])"
      ],
      "metadata": {
        "colab": {
          "base_uri": "https://localhost:8080/"
        },
        "id": "vZuSwz_xPakO",
        "outputId": "6afb6f0b-e544-4044-b528-84d62c91ebb2"
      },
      "execution_count": 13,
      "outputs": [
        {
          "output_type": "execute_result",
          "data": {
            "text/plain": [
              "[('king', 0.8449392318725586),\n",
              " ('queen', 0.7300517559051514),\n",
              " ('monarch', 0.645466148853302),\n",
              " ('princess', 0.6156251430511475),\n",
              " ('crown_prince', 0.5818676352500916),\n",
              " ('prince', 0.5777117609977722),\n",
              " ('kings', 0.5613663792610168),\n",
              " ('sultan', 0.5376775860786438),\n",
              " ('Queen_Consort', 0.5344247817993164),\n",
              " ('queens', 0.5289887189865112)]"
            ]
          },
          "metadata": {},
          "execution_count": 13
        }
      ]
    },
    {
      "cell_type": "code",
      "source": [
        "vec = model['PKR'] - model ['Pakistan'] + model['England']\n",
        "model.most_similar([vec])"
      ],
      "metadata": {
        "colab": {
          "base_uri": "https://localhost:8080/"
        },
        "id": "fH2CSGdRPdMH",
        "outputId": "37720e49-981b-410f-d7b1-44b1f3893023"
      },
      "execution_count": 14,
      "outputs": [
        {
          "output_type": "execute_result",
          "data": {
            "text/plain": [
              "[('PKR', 0.700527548789978),\n",
              " ('Parti_Keadilan_Rakyat_PKR', 0.49439042806625366),\n",
              " ('Parti_Keadilan_Rakyat', 0.479891300201416),\n",
              " ('Pakatan', 0.4773881733417511),\n",
              " ('Keadilan', 0.47646868228912354),\n",
              " ('BN', 0.4756278693675995),\n",
              " ('exco', 0.46868693828582764),\n",
              " ('Umno', 0.4659350514411926),\n",
              " ('UMNO', 0.46452951431274414),\n",
              " ('Barisan', 0.46387091279029846)]"
            ]
          },
          "metadata": {},
          "execution_count": 14
        }
      ]
    }
  ]
}