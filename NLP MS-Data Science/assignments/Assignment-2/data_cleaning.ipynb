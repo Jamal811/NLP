{
  "cells": [
    {
      "cell_type": "code",
      "execution_count": 441,
      "metadata": {
        "id": "uCHYBjxWrb-9"
      },
      "outputs": [],
      "source": [
        "import pandas as pd\n",
        "import numpy as np\n",
        "import chardet\n",
        "import string\n",
        "import nltk\n",
        "from nltk.tokenize import word_tokenize\n",
        "from nltk.stem import WordNetLemmatizer\n",
        "import nltk\n",
        "from nltk.corpus import stopwords\n",
        "import re\n",
        "import spacy"
      ]
    },
    {
      "cell_type": "code",
      "execution_count": 442,
      "metadata": {
        "id": "8QcZxW_1rb_B"
      },
      "outputs": [],
      "source": [
        "with open('/content/messy_IMDB_dataset.csv', 'rb') as f:\n",
        "    result = chardet.detect(f.read())\n",
        "\n",
        "df = pd.read_csv('/content/messy_IMDB_dataset.csv', delimiter=';', quotechar='\"', encoding=result['encoding'], )"
      ]
    },
    {
      "cell_type": "code",
      "execution_count": 443,
      "metadata": {
        "colab": {
          "base_uri": "https://localhost:8080/",
          "height": 399
        },
        "id": "3TTsV_xqrb_F",
        "outputId": "ea6a22bc-0a8f-403d-fb4e-3f3dca1c5cf2"
      },
      "outputs": [
        {
          "data": {
            "application/vnd.google.colaboratory.intrinsic+json": {
              "summary": "{\n  \"name\": \"df\",\n  \"rows\": 101,\n  \"fields\": [\n    {\n      \"column\": \"IMBD title ID\",\n      \"properties\": {\n        \"dtype\": \"string\",\n        \"num_unique_values\": 100,\n        \"samples\": [\n          \"tt0075314\",\n          \"tt0081505\",\n          \"tt0361748\"\n        ],\n        \"semantic_type\": \"\",\n        \"description\": \"\"\n      }\n    },\n    {\n      \"column\": \"Original titl\\u00ca\",\n      \"properties\": {\n        \"dtype\": \"string\",\n        \"num_unique_values\": 100,\n        \"samples\": [\n          \"Taxi Driver\",\n          \"The Shining\",\n          \"Inglourious Basterds\"\n        ],\n        \"semantic_type\": \"\",\n        \"description\": \"\"\n      }\n    },\n    {\n      \"column\": \"Release year\",\n      \"properties\": {\n        \"dtype\": \"string\",\n        \"num_unique_values\": 99,\n        \"samples\": [\n          \"2017-12-28\",\n          \"2012-02-24\",\n          \"1982-03-18\"\n        ],\n        \"semantic_type\": \"\",\n        \"description\": \"\"\n      }\n    },\n    {\n      \"column\": \"Genr\\u00eb\\u00a8\",\n      \"properties\": {\n        \"dtype\": \"string\",\n        \"num_unique_values\": 59,\n        \"samples\": [\n          \"Drama\",\n          \"Action, Adventure, Sci-Fi\",\n          \"Drama, Horror\"\n        ],\n        \"semantic_type\": \"\",\n        \"description\": \"\"\n      }\n    },\n    {\n      \"column\": \"Duration\",\n      \"properties\": {\n        \"dtype\": \"string\",\n        \"num_unique_values\": 71,\n        \"samples\": [\n          \"125\",\n          \"142\",\n          \"120\"\n        ],\n        \"semantic_type\": \"\",\n        \"description\": \"\"\n      }\n    },\n    {\n      \"column\": \"Country\",\n      \"properties\": {\n        \"dtype\": \"category\",\n        \"num_unique_values\": 18,\n        \"samples\": [\n          \"USA\",\n          \"US\",\n          \"Brazil\"\n        ],\n        \"semantic_type\": \"\",\n        \"description\": \"\"\n      }\n    },\n    {\n      \"column\": \"Content Rating\",\n      \"properties\": {\n        \"dtype\": \"category\",\n        \"num_unique_values\": 7,\n        \"samples\": [\n          \"R\",\n          \"PG-13\",\n          \"Unrated\"\n        ],\n        \"semantic_type\": \"\",\n        \"description\": \"\"\n      }\n    },\n    {\n      \"column\": \"Director\",\n      \"properties\": {\n        \"dtype\": \"string\",\n        \"num_unique_values\": 64,\n        \"samples\": [\n          \"Guy Ritchie\",\n          \"Thomas Vinterberg\",\n          \"Frank Darabont\"\n        ],\n        \"semantic_type\": \"\",\n        \"description\": \"\"\n      }\n    },\n    {\n      \"column\": \"Unnamed: 8\",\n      \"properties\": {\n        \"dtype\": \"number\",\n        \"std\": null,\n        \"min\": null,\n        \"max\": null,\n        \"num_unique_values\": 0,\n        \"samples\": [],\n        \"semantic_type\": \"\",\n        \"description\": \"\"\n      }\n    },\n    {\n      \"column\": \"Income\",\n      \"properties\": {\n        \"dtype\": \"string\",\n        \"num_unique_values\": 100,\n        \"samples\": [],\n        \"semantic_type\": \"\",\n        \"description\": \"\"\n      }\n    },\n    {\n      \"column\": \" Votes \",\n      \"properties\": {\n        \"dtype\": \"string\",\n        \"num_unique_values\": 100,\n        \"samples\": [],\n        \"semantic_type\": \"\",\n        \"description\": \"\"\n      }\n    },\n    {\n      \"column\": \"Score\",\n      \"properties\": {\n        \"dtype\": \"category\",\n        \"num_unique_values\": 28,\n        \"samples\": [],\n        \"semantic_type\": \"\",\n        \"description\": \"\"\n      }\n    }\n  ]\n}",
              "type": "dataframe",
              "variable_name": "df"
            },
            "text/html": [
              "\n",
              "  <div id=\"df-f06b176c-c2b1-4fe7-b0a6-67ad35c093d5\" class=\"colab-df-container\">\n",
              "    <div>\n",
              "<style scoped>\n",
              "    .dataframe tbody tr th:only-of-type {\n",
              "        vertical-align: middle;\n",
              "    }\n",
              "\n",
              "    .dataframe tbody tr th {\n",
              "        vertical-align: top;\n",
              "    }\n",
              "\n",
              "    .dataframe thead th {\n",
              "        text-align: right;\n",
              "    }\n",
              "</style>\n",
              "<table border=\"1\" class=\"dataframe\">\n",
              "  <thead>\n",
              "    <tr style=\"text-align: right;\">\n",
              "      <th></th>\n",
              "      <th>IMBD title ID</th>\n",
              "      <th>Original titlÊ</th>\n",
              "      <th>Release year</th>\n",
              "      <th>Genrë¨</th>\n",
              "      <th>Duration</th>\n",
              "      <th>Country</th>\n",
              "      <th>Content Rating</th>\n",
              "      <th>Director</th>\n",
              "      <th>Unnamed: 8</th>\n",
              "      <th>Income</th>\n",
              "      <th>Votes</th>\n",
              "      <th>Score</th>\n",
              "    </tr>\n",
              "  </thead>\n",
              "  <tbody>\n",
              "    <tr>\n",
              "      <th>0</th>\n",
              "      <td>tt0111161</td>\n",
              "      <td>The Shawshank Redemption</td>\n",
              "      <td>1995-02-10</td>\n",
              "      <td>Drama</td>\n",
              "      <td>142</td>\n",
              "      <td>USA</td>\n",
              "      <td>R</td>\n",
              "      <td>Frank Darabont</td>\n",
              "      <td>NaN</td>\n",
              "      <td>$ 28815245</td>\n",
              "      <td>2.278.845</td>\n",
              "      <td>9.3</td>\n",
              "    </tr>\n",
              "    <tr>\n",
              "      <th>1</th>\n",
              "      <td>tt0068646</td>\n",
              "      <td>The Godfather</td>\n",
              "      <td>09 21 1972</td>\n",
              "      <td>Crime, Drama</td>\n",
              "      <td>175</td>\n",
              "      <td>USA</td>\n",
              "      <td>R</td>\n",
              "      <td>Francis Ford Coppola</td>\n",
              "      <td>NaN</td>\n",
              "      <td>$ 246120974</td>\n",
              "      <td>1.572.674</td>\n",
              "      <td>9.2</td>\n",
              "    </tr>\n",
              "    <tr>\n",
              "      <th>2</th>\n",
              "      <td>tt0468569</td>\n",
              "      <td>The Dark Knight</td>\n",
              "      <td>23 -07-2008</td>\n",
              "      <td>Action, Crime, Drama</td>\n",
              "      <td>152</td>\n",
              "      <td>US</td>\n",
              "      <td>PG-13</td>\n",
              "      <td>Christopher Nolan</td>\n",
              "      <td>NaN</td>\n",
              "      <td>$ 1005455211</td>\n",
              "      <td>2.241.615</td>\n",
              "      <td>9.</td>\n",
              "    </tr>\n",
              "    <tr>\n",
              "      <th>3</th>\n",
              "      <td>tt0071562</td>\n",
              "      <td>The Godfather: Part II</td>\n",
              "      <td>1975-09-25</td>\n",
              "      <td>Crime, Drama</td>\n",
              "      <td>220</td>\n",
              "      <td>USA</td>\n",
              "      <td>R</td>\n",
              "      <td>Francis Ford Coppola</td>\n",
              "      <td>NaN</td>\n",
              "      <td>$ 4o8,035,783</td>\n",
              "      <td>1.098.714</td>\n",
              "      <td>9,.0</td>\n",
              "    </tr>\n",
              "    <tr>\n",
              "      <th>4</th>\n",
              "      <td>tt0110912</td>\n",
              "      <td>Pulp Fiction</td>\n",
              "      <td>1994-10-28</td>\n",
              "      <td>Crime, Drama</td>\n",
              "      <td></td>\n",
              "      <td>USA</td>\n",
              "      <td>R</td>\n",
              "      <td>Quentin Tarantino</td>\n",
              "      <td>NaN</td>\n",
              "      <td>$ 222831817</td>\n",
              "      <td>1.780.147</td>\n",
              "      <td>8,9f</td>\n",
              "    </tr>\n",
              "  </tbody>\n",
              "</table>\n",
              "</div>\n",
              "    <div class=\"colab-df-buttons\">\n",
              "\n",
              "  <div class=\"colab-df-container\">\n",
              "    <button class=\"colab-df-convert\" onclick=\"convertToInteractive('df-f06b176c-c2b1-4fe7-b0a6-67ad35c093d5')\"\n",
              "            title=\"Convert this dataframe to an interactive table.\"\n",
              "            style=\"display:none;\">\n",
              "\n",
              "  <svg xmlns=\"http://www.w3.org/2000/svg\" height=\"24px\" viewBox=\"0 -960 960 960\">\n",
              "    <path d=\"M120-120v-720h720v720H120Zm60-500h600v-160H180v160Zm220 220h160v-160H400v160Zm0 220h160v-160H400v160ZM180-400h160v-160H180v160Zm440 0h160v-160H620v160ZM180-180h160v-160H180v160Zm440 0h160v-160H620v160Z\"/>\n",
              "  </svg>\n",
              "    </button>\n",
              "\n",
              "  <style>\n",
              "    .colab-df-container {\n",
              "      display:flex;\n",
              "      gap: 12px;\n",
              "    }\n",
              "\n",
              "    .colab-df-convert {\n",
              "      background-color: #E8F0FE;\n",
              "      border: none;\n",
              "      border-radius: 50%;\n",
              "      cursor: pointer;\n",
              "      display: none;\n",
              "      fill: #1967D2;\n",
              "      height: 32px;\n",
              "      padding: 0 0 0 0;\n",
              "      width: 32px;\n",
              "    }\n",
              "\n",
              "    .colab-df-convert:hover {\n",
              "      background-color: #E2EBFA;\n",
              "      box-shadow: 0px 1px 2px rgba(60, 64, 67, 0.3), 0px 1px 3px 1px rgba(60, 64, 67, 0.15);\n",
              "      fill: #174EA6;\n",
              "    }\n",
              "\n",
              "    .colab-df-buttons div {\n",
              "      margin-bottom: 4px;\n",
              "    }\n",
              "\n",
              "    [theme=dark] .colab-df-convert {\n",
              "      background-color: #3B4455;\n",
              "      fill: #D2E3FC;\n",
              "    }\n",
              "\n",
              "    [theme=dark] .colab-df-convert:hover {\n",
              "      background-color: #434B5C;\n",
              "      box-shadow: 0px 1px 3px 1px rgba(0, 0, 0, 0.15);\n",
              "      filter: drop-shadow(0px 1px 2px rgba(0, 0, 0, 0.3));\n",
              "      fill: #FFFFFF;\n",
              "    }\n",
              "  </style>\n",
              "\n",
              "    <script>\n",
              "      const buttonEl =\n",
              "        document.querySelector('#df-f06b176c-c2b1-4fe7-b0a6-67ad35c093d5 button.colab-df-convert');\n",
              "      buttonEl.style.display =\n",
              "        google.colab.kernel.accessAllowed ? 'block' : 'none';\n",
              "\n",
              "      async function convertToInteractive(key) {\n",
              "        const element = document.querySelector('#df-f06b176c-c2b1-4fe7-b0a6-67ad35c093d5');\n",
              "        const dataTable =\n",
              "          await google.colab.kernel.invokeFunction('convertToInteractive',\n",
              "                                                    [key], {});\n",
              "        if (!dataTable) return;\n",
              "\n",
              "        const docLinkHtml = 'Like what you see? Visit the ' +\n",
              "          '<a target=\"_blank\" href=https://colab.research.google.com/notebooks/data_table.ipynb>data table notebook</a>'\n",
              "          + ' to learn more about interactive tables.';\n",
              "        element.innerHTML = '';\n",
              "        dataTable['output_type'] = 'display_data';\n",
              "        await google.colab.output.renderOutput(dataTable, element);\n",
              "        const docLink = document.createElement('div');\n",
              "        docLink.innerHTML = docLinkHtml;\n",
              "        element.appendChild(docLink);\n",
              "      }\n",
              "    </script>\n",
              "  </div>\n",
              "\n",
              "\n",
              "<div id=\"df-e7f3f296-3c40-4131-b2b6-e506b6e78d40\">\n",
              "  <button class=\"colab-df-quickchart\" onclick=\"quickchart('df-e7f3f296-3c40-4131-b2b6-e506b6e78d40')\"\n",
              "            title=\"Suggest charts\"\n",
              "            style=\"display:none;\">\n",
              "\n",
              "<svg xmlns=\"http://www.w3.org/2000/svg\" height=\"24px\"viewBox=\"0 0 24 24\"\n",
              "     width=\"24px\">\n",
              "    <g>\n",
              "        <path d=\"M19 3H5c-1.1 0-2 .9-2 2v14c0 1.1.9 2 2 2h14c1.1 0 2-.9 2-2V5c0-1.1-.9-2-2-2zM9 17H7v-7h2v7zm4 0h-2V7h2v10zm4 0h-2v-4h2v4z\"/>\n",
              "    </g>\n",
              "</svg>\n",
              "  </button>\n",
              "\n",
              "<style>\n",
              "  .colab-df-quickchart {\n",
              "      --bg-color: #E8F0FE;\n",
              "      --fill-color: #1967D2;\n",
              "      --hover-bg-color: #E2EBFA;\n",
              "      --hover-fill-color: #174EA6;\n",
              "      --disabled-fill-color: #AAA;\n",
              "      --disabled-bg-color: #DDD;\n",
              "  }\n",
              "\n",
              "  [theme=dark] .colab-df-quickchart {\n",
              "      --bg-color: #3B4455;\n",
              "      --fill-color: #D2E3FC;\n",
              "      --hover-bg-color: #434B5C;\n",
              "      --hover-fill-color: #FFFFFF;\n",
              "      --disabled-bg-color: #3B4455;\n",
              "      --disabled-fill-color: #666;\n",
              "  }\n",
              "\n",
              "  .colab-df-quickchart {\n",
              "    background-color: var(--bg-color);\n",
              "    border: none;\n",
              "    border-radius: 50%;\n",
              "    cursor: pointer;\n",
              "    display: none;\n",
              "    fill: var(--fill-color);\n",
              "    height: 32px;\n",
              "    padding: 0;\n",
              "    width: 32px;\n",
              "  }\n",
              "\n",
              "  .colab-df-quickchart:hover {\n",
              "    background-color: var(--hover-bg-color);\n",
              "    box-shadow: 0 1px 2px rgba(60, 64, 67, 0.3), 0 1px 3px 1px rgba(60, 64, 67, 0.15);\n",
              "    fill: var(--button-hover-fill-color);\n",
              "  }\n",
              "\n",
              "  .colab-df-quickchart-complete:disabled,\n",
              "  .colab-df-quickchart-complete:disabled:hover {\n",
              "    background-color: var(--disabled-bg-color);\n",
              "    fill: var(--disabled-fill-color);\n",
              "    box-shadow: none;\n",
              "  }\n",
              "\n",
              "  .colab-df-spinner {\n",
              "    border: 2px solid var(--fill-color);\n",
              "    border-color: transparent;\n",
              "    border-bottom-color: var(--fill-color);\n",
              "    animation:\n",
              "      spin 1s steps(1) infinite;\n",
              "  }\n",
              "\n",
              "  @keyframes spin {\n",
              "    0% {\n",
              "      border-color: transparent;\n",
              "      border-bottom-color: var(--fill-color);\n",
              "      border-left-color: var(--fill-color);\n",
              "    }\n",
              "    20% {\n",
              "      border-color: transparent;\n",
              "      border-left-color: var(--fill-color);\n",
              "      border-top-color: var(--fill-color);\n",
              "    }\n",
              "    30% {\n",
              "      border-color: transparent;\n",
              "      border-left-color: var(--fill-color);\n",
              "      border-top-color: var(--fill-color);\n",
              "      border-right-color: var(--fill-color);\n",
              "    }\n",
              "    40% {\n",
              "      border-color: transparent;\n",
              "      border-right-color: var(--fill-color);\n",
              "      border-top-color: var(--fill-color);\n",
              "    }\n",
              "    60% {\n",
              "      border-color: transparent;\n",
              "      border-right-color: var(--fill-color);\n",
              "    }\n",
              "    80% {\n",
              "      border-color: transparent;\n",
              "      border-right-color: var(--fill-color);\n",
              "      border-bottom-color: var(--fill-color);\n",
              "    }\n",
              "    90% {\n",
              "      border-color: transparent;\n",
              "      border-bottom-color: var(--fill-color);\n",
              "    }\n",
              "  }\n",
              "</style>\n",
              "\n",
              "  <script>\n",
              "    async function quickchart(key) {\n",
              "      const quickchartButtonEl =\n",
              "        document.querySelector('#' + key + ' button');\n",
              "      quickchartButtonEl.disabled = true;  // To prevent multiple clicks.\n",
              "      quickchartButtonEl.classList.add('colab-df-spinner');\n",
              "      try {\n",
              "        const charts = await google.colab.kernel.invokeFunction(\n",
              "            'suggestCharts', [key], {});\n",
              "      } catch (error) {\n",
              "        console.error('Error during call to suggestCharts:', error);\n",
              "      }\n",
              "      quickchartButtonEl.classList.remove('colab-df-spinner');\n",
              "      quickchartButtonEl.classList.add('colab-df-quickchart-complete');\n",
              "    }\n",
              "    (() => {\n",
              "      let quickchartButtonEl =\n",
              "        document.querySelector('#df-e7f3f296-3c40-4131-b2b6-e506b6e78d40 button');\n",
              "      quickchartButtonEl.style.display =\n",
              "        google.colab.kernel.accessAllowed ? 'block' : 'none';\n",
              "    })();\n",
              "  </script>\n",
              "</div>\n",
              "\n",
              "    </div>\n",
              "  </div>\n"
            ],
            "text/plain": [
              "  IMBD title ID            Original titlÊ  Release year                Genrë¨  \\\n",
              "0     tt0111161  The Shawshank Redemption    1995-02-10                 Drama   \n",
              "1     tt0068646             The Godfather    09 21 1972          Crime, Drama   \n",
              "2     tt0468569           The Dark Knight   23 -07-2008  Action, Crime, Drama   \n",
              "3     tt0071562    The Godfather: Part II    1975-09-25          Crime, Drama   \n",
              "4     tt0110912              Pulp Fiction    1994-10-28          Crime, Drama   \n",
              "\n",
              "  Duration Country Content Rating              Director  Unnamed: 8  \\\n",
              "0      142     USA              R        Frank Darabont         NaN   \n",
              "1      175     USA              R  Francis Ford Coppola         NaN   \n",
              "2      152      US          PG-13     Christopher Nolan         NaN   \n",
              "3      220     USA              R  Francis Ford Coppola         NaN   \n",
              "4              USA              R     Quentin Tarantino         NaN   \n",
              "\n",
              "          Income     Votes  Score  \n",
              "0     $ 28815245  2.278.845   9.3  \n",
              "1    $ 246120974  1.572.674   9.2  \n",
              "2   $ 1005455211  2.241.615    9.  \n",
              "3  $ 4o8,035,783  1.098.714  9,.0  \n",
              "4    $ 222831817  1.780.147  8,9f  "
            ]
          },
          "execution_count": 443,
          "metadata": {},
          "output_type": "execute_result"
        }
      ],
      "source": [
        "df.head()"
      ]
    },
    {
      "cell_type": "code",
      "execution_count": 444,
      "metadata": {
        "colab": {
          "base_uri": "https://localhost:8080/"
        },
        "id": "BBfq8s9Irb_I",
        "outputId": "d58d4171-c9da-48c0-b681-4127917acfe9"
      },
      "outputs": [
        {
          "name": "stdout",
          "output_type": "stream",
          "text": [
            "<class 'pandas.core.frame.DataFrame'>\n",
            "RangeIndex: 101 entries, 0 to 100\n",
            "Data columns (total 12 columns):\n",
            " #   Column          Non-Null Count  Dtype  \n",
            "---  ------          --------------  -----  \n",
            " 0   IMBD title ID   100 non-null    object \n",
            " 1   Original titlÊ  100 non-null    object \n",
            " 2   Release year    100 non-null    object \n",
            " 3   Genrë¨          100 non-null    object \n",
            " 4   Duration        99 non-null     object \n",
            " 5   Country         100 non-null    object \n",
            " 6   Content Rating  77 non-null     object \n",
            " 7   Director        100 non-null    object \n",
            " 8   Unnamed: 8      0 non-null      float64\n",
            " 9   Income          100 non-null    object \n",
            " 10   Votes          100 non-null    object \n",
            " 11  Score           100 non-null    object \n",
            "dtypes: float64(1), object(11)\n",
            "memory usage: 9.6+ KB\n"
          ]
        }
      ],
      "source": [
        "df.info()"
      ]
    },
    {
      "cell_type": "markdown",
      "metadata": {},
      "source": [
        "**Renaming the Column names**"
      ]
    },
    {
      "cell_type": "code",
      "execution_count": 445,
      "metadata": {
        "colab": {
          "base_uri": "https://localhost:8080/"
        },
        "id": "x0PkODFFGzRY",
        "outputId": "8afb964e-1c3c-49a2-97fa-4899784b53e8"
      },
      "outputs": [
        {
          "data": {
            "text/plain": [
              "Index(['ID', 'Title', 'Release year', 'Genre', 'Duration', 'Country',\n",
              "       'Content Rating', 'Director', 'Unnamed: 8', 'Earnings', ' Votes ',\n",
              "       'Score'],\n",
              "      dtype='object')"
            ]
          },
          "execution_count": 445,
          "metadata": {},
          "output_type": "execute_result"
        }
      ],
      "source": [
        "df = df.rename(columns={'IMBD title ID': 'ID', 'Original titlÊ': 'Title', 'Genrë¨': 'Genre', 'Income': 'Earnings'})\n",
        "df.columns"
      ]
    },
    {
      "cell_type": "markdown",
      "metadata": {},
      "source": [
        "**Convert the Release year Column to correct Year-Month-Day formate**"
      ]
    },
    {
      "cell_type": "code",
      "execution_count": 446,
      "metadata": {
        "colab": {
          "base_uri": "https://localhost:8080/",
          "height": 399
        },
        "id": "RamdreXxGpZ7",
        "outputId": "01b756f7-8692-4e74-e735-9cc1709eacf5"
      },
      "outputs": [
        {
          "data": {
            "application/vnd.google.colaboratory.intrinsic+json": {
              "summary": "{\n  \"name\": \"df\",\n  \"rows\": 101,\n  \"fields\": [\n    {\n      \"column\": \"ID\",\n      \"properties\": {\n        \"dtype\": \"string\",\n        \"num_unique_values\": 100,\n        \"samples\": [\n          \"tt0075314\",\n          \"tt0081505\",\n          \"tt0361748\"\n        ],\n        \"semantic_type\": \"\",\n        \"description\": \"\"\n      }\n    },\n    {\n      \"column\": \"Title\",\n      \"properties\": {\n        \"dtype\": \"string\",\n        \"num_unique_values\": 100,\n        \"samples\": [\n          \"Taxi Driver\",\n          \"The Shining\",\n          \"Inglourious Basterds\"\n        ],\n        \"semantic_type\": \"\",\n        \"description\": \"\"\n      }\n    },\n    {\n      \"column\": \"Release year\",\n      \"properties\": {\n        \"dtype\": \"object\",\n        \"num_unique_values\": 88,\n        \"samples\": [\n          \"1948-11-25\",\n          \"1995-02-10\",\n          \"1985-10-18\"\n        ],\n        \"semantic_type\": \"\",\n        \"description\": \"\"\n      }\n    },\n    {\n      \"column\": \"Genre\",\n      \"properties\": {\n        \"dtype\": \"string\",\n        \"num_unique_values\": 59,\n        \"samples\": [\n          \"Drama\",\n          \"Action, Adventure, Sci-Fi\",\n          \"Drama, Horror\"\n        ],\n        \"semantic_type\": \"\",\n        \"description\": \"\"\n      }\n    },\n    {\n      \"column\": \"Duration\",\n      \"properties\": {\n        \"dtype\": \"string\",\n        \"num_unique_values\": 71,\n        \"samples\": [\n          \"125\",\n          \"142\",\n          \"120\"\n        ],\n        \"semantic_type\": \"\",\n        \"description\": \"\"\n      }\n    },\n    {\n      \"column\": \"Country\",\n      \"properties\": {\n        \"dtype\": \"category\",\n        \"num_unique_values\": 18,\n        \"samples\": [\n          \"USA\",\n          \"US\",\n          \"Brazil\"\n        ],\n        \"semantic_type\": \"\",\n        \"description\": \"\"\n      }\n    },\n    {\n      \"column\": \"Content Rating\",\n      \"properties\": {\n        \"dtype\": \"category\",\n        \"num_unique_values\": 7,\n        \"samples\": [\n          \"R\",\n          \"PG-13\",\n          \"Unrated\"\n        ],\n        \"semantic_type\": \"\",\n        \"description\": \"\"\n      }\n    },\n    {\n      \"column\": \"Director\",\n      \"properties\": {\n        \"dtype\": \"string\",\n        \"num_unique_values\": 64,\n        \"samples\": [\n          \"Guy Ritchie\",\n          \"Thomas Vinterberg\",\n          \"Frank Darabont\"\n        ],\n        \"semantic_type\": \"\",\n        \"description\": \"\"\n      }\n    },\n    {\n      \"column\": \"Unnamed: 8\",\n      \"properties\": {\n        \"dtype\": \"number\",\n        \"std\": null,\n        \"min\": null,\n        \"max\": null,\n        \"num_unique_values\": 0,\n        \"samples\": [],\n        \"semantic_type\": \"\",\n        \"description\": \"\"\n      }\n    },\n    {\n      \"column\": \"Earnings\",\n      \"properties\": {\n        \"dtype\": \"string\",\n        \"num_unique_values\": 100,\n        \"samples\": [],\n        \"semantic_type\": \"\",\n        \"description\": \"\"\n      }\n    },\n    {\n      \"column\": \" Votes \",\n      \"properties\": {\n        \"dtype\": \"string\",\n        \"num_unique_values\": 100,\n        \"samples\": [],\n        \"semantic_type\": \"\",\n        \"description\": \"\"\n      }\n    },\n    {\n      \"column\": \"Score\",\n      \"properties\": {\n        \"dtype\": \"category\",\n        \"num_unique_values\": 28,\n        \"samples\": [],\n        \"semantic_type\": \"\",\n        \"description\": \"\"\n      }\n    }\n  ]\n}",
              "type": "dataframe",
              "variable_name": "df"
            },
            "text/html": [
              "\n",
              "  <div id=\"df-687dabcb-ba12-4a20-bb9e-3696cab0a519\" class=\"colab-df-container\">\n",
              "    <div>\n",
              "<style scoped>\n",
              "    .dataframe tbody tr th:only-of-type {\n",
              "        vertical-align: middle;\n",
              "    }\n",
              "\n",
              "    .dataframe tbody tr th {\n",
              "        vertical-align: top;\n",
              "    }\n",
              "\n",
              "    .dataframe thead th {\n",
              "        text-align: right;\n",
              "    }\n",
              "</style>\n",
              "<table border=\"1\" class=\"dataframe\">\n",
              "  <thead>\n",
              "    <tr style=\"text-align: right;\">\n",
              "      <th></th>\n",
              "      <th>ID</th>\n",
              "      <th>Title</th>\n",
              "      <th>Release year</th>\n",
              "      <th>Genre</th>\n",
              "      <th>Duration</th>\n",
              "      <th>Country</th>\n",
              "      <th>Content Rating</th>\n",
              "      <th>Director</th>\n",
              "      <th>Unnamed: 8</th>\n",
              "      <th>Earnings</th>\n",
              "      <th>Votes</th>\n",
              "      <th>Score</th>\n",
              "    </tr>\n",
              "  </thead>\n",
              "  <tbody>\n",
              "    <tr>\n",
              "      <th>0</th>\n",
              "      <td>tt0111161</td>\n",
              "      <td>The Shawshank Redemption</td>\n",
              "      <td>1995-02-10</td>\n",
              "      <td>Drama</td>\n",
              "      <td>142</td>\n",
              "      <td>USA</td>\n",
              "      <td>R</td>\n",
              "      <td>Frank Darabont</td>\n",
              "      <td>NaN</td>\n",
              "      <td>$ 28815245</td>\n",
              "      <td>2.278.845</td>\n",
              "      <td>9.3</td>\n",
              "    </tr>\n",
              "    <tr>\n",
              "      <th>1</th>\n",
              "      <td>tt0068646</td>\n",
              "      <td>The Godfather</td>\n",
              "      <td>NaN</td>\n",
              "      <td>Crime, Drama</td>\n",
              "      <td>175</td>\n",
              "      <td>USA</td>\n",
              "      <td>R</td>\n",
              "      <td>Francis Ford Coppola</td>\n",
              "      <td>NaN</td>\n",
              "      <td>$ 246120974</td>\n",
              "      <td>1.572.674</td>\n",
              "      <td>9.2</td>\n",
              "    </tr>\n",
              "    <tr>\n",
              "      <th>2</th>\n",
              "      <td>tt0468569</td>\n",
              "      <td>The Dark Knight</td>\n",
              "      <td>NaN</td>\n",
              "      <td>Action, Crime, Drama</td>\n",
              "      <td>152</td>\n",
              "      <td>US</td>\n",
              "      <td>PG-13</td>\n",
              "      <td>Christopher Nolan</td>\n",
              "      <td>NaN</td>\n",
              "      <td>$ 1005455211</td>\n",
              "      <td>2.241.615</td>\n",
              "      <td>9.</td>\n",
              "    </tr>\n",
              "    <tr>\n",
              "      <th>3</th>\n",
              "      <td>tt0071562</td>\n",
              "      <td>The Godfather: Part II</td>\n",
              "      <td>1975-09-25</td>\n",
              "      <td>Crime, Drama</td>\n",
              "      <td>220</td>\n",
              "      <td>USA</td>\n",
              "      <td>R</td>\n",
              "      <td>Francis Ford Coppola</td>\n",
              "      <td>NaN</td>\n",
              "      <td>$ 4o8,035,783</td>\n",
              "      <td>1.098.714</td>\n",
              "      <td>9,.0</td>\n",
              "    </tr>\n",
              "    <tr>\n",
              "      <th>4</th>\n",
              "      <td>tt0110912</td>\n",
              "      <td>Pulp Fiction</td>\n",
              "      <td>1994-10-28</td>\n",
              "      <td>Crime, Drama</td>\n",
              "      <td></td>\n",
              "      <td>USA</td>\n",
              "      <td>R</td>\n",
              "      <td>Quentin Tarantino</td>\n",
              "      <td>NaN</td>\n",
              "      <td>$ 222831817</td>\n",
              "      <td>1.780.147</td>\n",
              "      <td>8,9f</td>\n",
              "    </tr>\n",
              "  </tbody>\n",
              "</table>\n",
              "</div>\n",
              "    <div class=\"colab-df-buttons\">\n",
              "\n",
              "  <div class=\"colab-df-container\">\n",
              "    <button class=\"colab-df-convert\" onclick=\"convertToInteractive('df-687dabcb-ba12-4a20-bb9e-3696cab0a519')\"\n",
              "            title=\"Convert this dataframe to an interactive table.\"\n",
              "            style=\"display:none;\">\n",
              "\n",
              "  <svg xmlns=\"http://www.w3.org/2000/svg\" height=\"24px\" viewBox=\"0 -960 960 960\">\n",
              "    <path d=\"M120-120v-720h720v720H120Zm60-500h600v-160H180v160Zm220 220h160v-160H400v160Zm0 220h160v-160H400v160ZM180-400h160v-160H180v160Zm440 0h160v-160H620v160ZM180-180h160v-160H180v160Zm440 0h160v-160H620v160Z\"/>\n",
              "  </svg>\n",
              "    </button>\n",
              "\n",
              "  <style>\n",
              "    .colab-df-container {\n",
              "      display:flex;\n",
              "      gap: 12px;\n",
              "    }\n",
              "\n",
              "    .colab-df-convert {\n",
              "      background-color: #E8F0FE;\n",
              "      border: none;\n",
              "      border-radius: 50%;\n",
              "      cursor: pointer;\n",
              "      display: none;\n",
              "      fill: #1967D2;\n",
              "      height: 32px;\n",
              "      padding: 0 0 0 0;\n",
              "      width: 32px;\n",
              "    }\n",
              "\n",
              "    .colab-df-convert:hover {\n",
              "      background-color: #E2EBFA;\n",
              "      box-shadow: 0px 1px 2px rgba(60, 64, 67, 0.3), 0px 1px 3px 1px rgba(60, 64, 67, 0.15);\n",
              "      fill: #174EA6;\n",
              "    }\n",
              "\n",
              "    .colab-df-buttons div {\n",
              "      margin-bottom: 4px;\n",
              "    }\n",
              "\n",
              "    [theme=dark] .colab-df-convert {\n",
              "      background-color: #3B4455;\n",
              "      fill: #D2E3FC;\n",
              "    }\n",
              "\n",
              "    [theme=dark] .colab-df-convert:hover {\n",
              "      background-color: #434B5C;\n",
              "      box-shadow: 0px 1px 3px 1px rgba(0, 0, 0, 0.15);\n",
              "      filter: drop-shadow(0px 1px 2px rgba(0, 0, 0, 0.3));\n",
              "      fill: #FFFFFF;\n",
              "    }\n",
              "  </style>\n",
              "\n",
              "    <script>\n",
              "      const buttonEl =\n",
              "        document.querySelector('#df-687dabcb-ba12-4a20-bb9e-3696cab0a519 button.colab-df-convert');\n",
              "      buttonEl.style.display =\n",
              "        google.colab.kernel.accessAllowed ? 'block' : 'none';\n",
              "\n",
              "      async function convertToInteractive(key) {\n",
              "        const element = document.querySelector('#df-687dabcb-ba12-4a20-bb9e-3696cab0a519');\n",
              "        const dataTable =\n",
              "          await google.colab.kernel.invokeFunction('convertToInteractive',\n",
              "                                                    [key], {});\n",
              "        if (!dataTable) return;\n",
              "\n",
              "        const docLinkHtml = 'Like what you see? Visit the ' +\n",
              "          '<a target=\"_blank\" href=https://colab.research.google.com/notebooks/data_table.ipynb>data table notebook</a>'\n",
              "          + ' to learn more about interactive tables.';\n",
              "        element.innerHTML = '';\n",
              "        dataTable['output_type'] = 'display_data';\n",
              "        await google.colab.output.renderOutput(dataTable, element);\n",
              "        const docLink = document.createElement('div');\n",
              "        docLink.innerHTML = docLinkHtml;\n",
              "        element.appendChild(docLink);\n",
              "      }\n",
              "    </script>\n",
              "  </div>\n",
              "\n",
              "\n",
              "<div id=\"df-6dc60eca-46ce-47b1-bf22-312ebe72ed5f\">\n",
              "  <button class=\"colab-df-quickchart\" onclick=\"quickchart('df-6dc60eca-46ce-47b1-bf22-312ebe72ed5f')\"\n",
              "            title=\"Suggest charts\"\n",
              "            style=\"display:none;\">\n",
              "\n",
              "<svg xmlns=\"http://www.w3.org/2000/svg\" height=\"24px\"viewBox=\"0 0 24 24\"\n",
              "     width=\"24px\">\n",
              "    <g>\n",
              "        <path d=\"M19 3H5c-1.1 0-2 .9-2 2v14c0 1.1.9 2 2 2h14c1.1 0 2-.9 2-2V5c0-1.1-.9-2-2-2zM9 17H7v-7h2v7zm4 0h-2V7h2v10zm4 0h-2v-4h2v4z\"/>\n",
              "    </g>\n",
              "</svg>\n",
              "  </button>\n",
              "\n",
              "<style>\n",
              "  .colab-df-quickchart {\n",
              "      --bg-color: #E8F0FE;\n",
              "      --fill-color: #1967D2;\n",
              "      --hover-bg-color: #E2EBFA;\n",
              "      --hover-fill-color: #174EA6;\n",
              "      --disabled-fill-color: #AAA;\n",
              "      --disabled-bg-color: #DDD;\n",
              "  }\n",
              "\n",
              "  [theme=dark] .colab-df-quickchart {\n",
              "      --bg-color: #3B4455;\n",
              "      --fill-color: #D2E3FC;\n",
              "      --hover-bg-color: #434B5C;\n",
              "      --hover-fill-color: #FFFFFF;\n",
              "      --disabled-bg-color: #3B4455;\n",
              "      --disabled-fill-color: #666;\n",
              "  }\n",
              "\n",
              "  .colab-df-quickchart {\n",
              "    background-color: var(--bg-color);\n",
              "    border: none;\n",
              "    border-radius: 50%;\n",
              "    cursor: pointer;\n",
              "    display: none;\n",
              "    fill: var(--fill-color);\n",
              "    height: 32px;\n",
              "    padding: 0;\n",
              "    width: 32px;\n",
              "  }\n",
              "\n",
              "  .colab-df-quickchart:hover {\n",
              "    background-color: var(--hover-bg-color);\n",
              "    box-shadow: 0 1px 2px rgba(60, 64, 67, 0.3), 0 1px 3px 1px rgba(60, 64, 67, 0.15);\n",
              "    fill: var(--button-hover-fill-color);\n",
              "  }\n",
              "\n",
              "  .colab-df-quickchart-complete:disabled,\n",
              "  .colab-df-quickchart-complete:disabled:hover {\n",
              "    background-color: var(--disabled-bg-color);\n",
              "    fill: var(--disabled-fill-color);\n",
              "    box-shadow: none;\n",
              "  }\n",
              "\n",
              "  .colab-df-spinner {\n",
              "    border: 2px solid var(--fill-color);\n",
              "    border-color: transparent;\n",
              "    border-bottom-color: var(--fill-color);\n",
              "    animation:\n",
              "      spin 1s steps(1) infinite;\n",
              "  }\n",
              "\n",
              "  @keyframes spin {\n",
              "    0% {\n",
              "      border-color: transparent;\n",
              "      border-bottom-color: var(--fill-color);\n",
              "      border-left-color: var(--fill-color);\n",
              "    }\n",
              "    20% {\n",
              "      border-color: transparent;\n",
              "      border-left-color: var(--fill-color);\n",
              "      border-top-color: var(--fill-color);\n",
              "    }\n",
              "    30% {\n",
              "      border-color: transparent;\n",
              "      border-left-color: var(--fill-color);\n",
              "      border-top-color: var(--fill-color);\n",
              "      border-right-color: var(--fill-color);\n",
              "    }\n",
              "    40% {\n",
              "      border-color: transparent;\n",
              "      border-right-color: var(--fill-color);\n",
              "      border-top-color: var(--fill-color);\n",
              "    }\n",
              "    60% {\n",
              "      border-color: transparent;\n",
              "      border-right-color: var(--fill-color);\n",
              "    }\n",
              "    80% {\n",
              "      border-color: transparent;\n",
              "      border-right-color: var(--fill-color);\n",
              "      border-bottom-color: var(--fill-color);\n",
              "    }\n",
              "    90% {\n",
              "      border-color: transparent;\n",
              "      border-bottom-color: var(--fill-color);\n",
              "    }\n",
              "  }\n",
              "</style>\n",
              "\n",
              "  <script>\n",
              "    async function quickchart(key) {\n",
              "      const quickchartButtonEl =\n",
              "        document.querySelector('#' + key + ' button');\n",
              "      quickchartButtonEl.disabled = true;  // To prevent multiple clicks.\n",
              "      quickchartButtonEl.classList.add('colab-df-spinner');\n",
              "      try {\n",
              "        const charts = await google.colab.kernel.invokeFunction(\n",
              "            'suggestCharts', [key], {});\n",
              "      } catch (error) {\n",
              "        console.error('Error during call to suggestCharts:', error);\n",
              "      }\n",
              "      quickchartButtonEl.classList.remove('colab-df-spinner');\n",
              "      quickchartButtonEl.classList.add('colab-df-quickchart-complete');\n",
              "    }\n",
              "    (() => {\n",
              "      let quickchartButtonEl =\n",
              "        document.querySelector('#df-6dc60eca-46ce-47b1-bf22-312ebe72ed5f button');\n",
              "      quickchartButtonEl.style.display =\n",
              "        google.colab.kernel.accessAllowed ? 'block' : 'none';\n",
              "    })();\n",
              "  </script>\n",
              "</div>\n",
              "\n",
              "    </div>\n",
              "  </div>\n"
            ],
            "text/plain": [
              "          ID                     Title Release year                 Genre  \\\n",
              "0  tt0111161  The Shawshank Redemption   1995-02-10                 Drama   \n",
              "1  tt0068646             The Godfather          NaN          Crime, Drama   \n",
              "2  tt0468569           The Dark Knight          NaN  Action, Crime, Drama   \n",
              "3  tt0071562    The Godfather: Part II   1975-09-25          Crime, Drama   \n",
              "4  tt0110912              Pulp Fiction   1994-10-28          Crime, Drama   \n",
              "\n",
              "  Duration Country Content Rating              Director  Unnamed: 8  \\\n",
              "0      142     USA              R        Frank Darabont         NaN   \n",
              "1      175     USA              R  Francis Ford Coppola         NaN   \n",
              "2      152      US          PG-13     Christopher Nolan         NaN   \n",
              "3      220     USA              R  Francis Ford Coppola         NaN   \n",
              "4              USA              R     Quentin Tarantino         NaN   \n",
              "\n",
              "        Earnings     Votes  Score  \n",
              "0     $ 28815245  2.278.845   9.3  \n",
              "1    $ 246120974  1.572.674   9.2  \n",
              "2   $ 1005455211  2.241.615    9.  \n",
              "3  $ 4o8,035,783  1.098.714  9,.0  \n",
              "4    $ 222831817  1.780.147  8,9f  "
            ]
          },
          "execution_count": 446,
          "metadata": {},
          "output_type": "execute_result"
        }
      ],
      "source": [
        "df['Release year'] = pd.to_datetime(df['Release year'], errors='coerce')\n",
        "\n",
        "# Convert the datetime objects to a uniform format (e.g., YYYY-MM-DD)\n",
        "df['Release year'] = df['Release year'].dt.strftime('%Y-%m-%d')\n",
        "df.head()"
      ]
    },
    {
      "cell_type": "code",
      "execution_count": 447,
      "metadata": {
        "colab": {
          "base_uri": "https://localhost:8080/",
          "height": 460
        },
        "id": "eJlaeNr0rb_K",
        "outputId": "02ec950d-af98-442c-e280-6f055ecb0e56"
      },
      "outputs": [
        {
          "data": {
            "text/html": [
              "<div>\n",
              "<style scoped>\n",
              "    .dataframe tbody tr th:only-of-type {\n",
              "        vertical-align: middle;\n",
              "    }\n",
              "\n",
              "    .dataframe tbody tr th {\n",
              "        vertical-align: top;\n",
              "    }\n",
              "\n",
              "    .dataframe thead th {\n",
              "        text-align: right;\n",
              "    }\n",
              "</style>\n",
              "<table border=\"1\" class=\"dataframe\">\n",
              "  <thead>\n",
              "    <tr style=\"text-align: right;\">\n",
              "      <th></th>\n",
              "      <th>0</th>\n",
              "    </tr>\n",
              "  </thead>\n",
              "  <tbody>\n",
              "    <tr>\n",
              "      <th>ID</th>\n",
              "      <td>1</td>\n",
              "    </tr>\n",
              "    <tr>\n",
              "      <th>Title</th>\n",
              "      <td>1</td>\n",
              "    </tr>\n",
              "    <tr>\n",
              "      <th>Release year</th>\n",
              "      <td>12</td>\n",
              "    </tr>\n",
              "    <tr>\n",
              "      <th>Genre</th>\n",
              "      <td>1</td>\n",
              "    </tr>\n",
              "    <tr>\n",
              "      <th>Duration</th>\n",
              "      <td>2</td>\n",
              "    </tr>\n",
              "    <tr>\n",
              "      <th>Country</th>\n",
              "      <td>1</td>\n",
              "    </tr>\n",
              "    <tr>\n",
              "      <th>Content Rating</th>\n",
              "      <td>24</td>\n",
              "    </tr>\n",
              "    <tr>\n",
              "      <th>Director</th>\n",
              "      <td>1</td>\n",
              "    </tr>\n",
              "    <tr>\n",
              "      <th>Unnamed: 8</th>\n",
              "      <td>101</td>\n",
              "    </tr>\n",
              "    <tr>\n",
              "      <th>Earnings</th>\n",
              "      <td>1</td>\n",
              "    </tr>\n",
              "    <tr>\n",
              "      <th>Votes</th>\n",
              "      <td>1</td>\n",
              "    </tr>\n",
              "    <tr>\n",
              "      <th>Score</th>\n",
              "      <td>1</td>\n",
              "    </tr>\n",
              "  </tbody>\n",
              "</table>\n",
              "</div><br><label><b>dtype:</b> int64</label>"
            ],
            "text/plain": [
              "ID                  1\n",
              "Title               1\n",
              "Release year       12\n",
              "Genre               1\n",
              "Duration            2\n",
              "Country             1\n",
              "Content Rating     24\n",
              "Director            1\n",
              "Unnamed: 8        101\n",
              "Earnings            1\n",
              " Votes              1\n",
              "Score               1\n",
              "dtype: int64"
            ]
          },
          "execution_count": 447,
          "metadata": {},
          "output_type": "execute_result"
        }
      ],
      "source": [
        "df.isnull().sum() # looking for null/NaN values"
      ]
    },
    {
      "cell_type": "markdown",
      "metadata": {},
      "source": [
        "**Dropping the Unnamed: 8 Column**"
      ]
    },
    {
      "cell_type": "code",
      "execution_count": 448,
      "metadata": {
        "colab": {
          "base_uri": "https://localhost:8080/",
          "height": 429
        },
        "id": "mReY3mGTrb_K",
        "outputId": "50a7d1bb-f68a-448d-fcbc-35e7995f913f"
      },
      "outputs": [
        {
          "data": {
            "text/html": [
              "<div>\n",
              "<style scoped>\n",
              "    .dataframe tbody tr th:only-of-type {\n",
              "        vertical-align: middle;\n",
              "    }\n",
              "\n",
              "    .dataframe tbody tr th {\n",
              "        vertical-align: top;\n",
              "    }\n",
              "\n",
              "    .dataframe thead th {\n",
              "        text-align: right;\n",
              "    }\n",
              "</style>\n",
              "<table border=\"1\" class=\"dataframe\">\n",
              "  <thead>\n",
              "    <tr style=\"text-align: right;\">\n",
              "      <th></th>\n",
              "      <th>0</th>\n",
              "    </tr>\n",
              "  </thead>\n",
              "  <tbody>\n",
              "    <tr>\n",
              "      <th>ID</th>\n",
              "      <td>1</td>\n",
              "    </tr>\n",
              "    <tr>\n",
              "      <th>Title</th>\n",
              "      <td>1</td>\n",
              "    </tr>\n",
              "    <tr>\n",
              "      <th>Release year</th>\n",
              "      <td>12</td>\n",
              "    </tr>\n",
              "    <tr>\n",
              "      <th>Genre</th>\n",
              "      <td>1</td>\n",
              "    </tr>\n",
              "    <tr>\n",
              "      <th>Duration</th>\n",
              "      <td>2</td>\n",
              "    </tr>\n",
              "    <tr>\n",
              "      <th>Country</th>\n",
              "      <td>1</td>\n",
              "    </tr>\n",
              "    <tr>\n",
              "      <th>Content Rating</th>\n",
              "      <td>24</td>\n",
              "    </tr>\n",
              "    <tr>\n",
              "      <th>Director</th>\n",
              "      <td>1</td>\n",
              "    </tr>\n",
              "    <tr>\n",
              "      <th>Earnings</th>\n",
              "      <td>1</td>\n",
              "    </tr>\n",
              "    <tr>\n",
              "      <th>Votes</th>\n",
              "      <td>1</td>\n",
              "    </tr>\n",
              "    <tr>\n",
              "      <th>Score</th>\n",
              "      <td>1</td>\n",
              "    </tr>\n",
              "  </tbody>\n",
              "</table>\n",
              "</div><br><label><b>dtype:</b> int64</label>"
            ],
            "text/plain": [
              "ID                 1\n",
              "Title              1\n",
              "Release year      12\n",
              "Genre              1\n",
              "Duration           2\n",
              "Country            1\n",
              "Content Rating    24\n",
              "Director           1\n",
              "Earnings           1\n",
              " Votes             1\n",
              "Score              1\n",
              "dtype: int64"
            ]
          },
          "execution_count": 448,
          "metadata": {},
          "output_type": "execute_result"
        }
      ],
      "source": [
        "df.drop(columns=['Unnamed: 8'], inplace=True) # this column has more NaN values and was not necessary so we drop it\n",
        "df.isnull().sum()"
      ]
    },
    {
      "cell_type": "code",
      "execution_count": 449,
      "metadata": {
        "colab": {
          "base_uri": "https://localhost:8080/"
        },
        "id": "NsJmztt0rb_M",
        "outputId": "cc633a82-56f9-4eba-84e7-c43677338d71"
      },
      "outputs": [
        {
          "name": "stdout",
          "output_type": "stream",
          "text": [
            "ID                True\n",
            "Title             True\n",
            "Release year      True\n",
            "Genre             True\n",
            "Duration          True\n",
            "Country           True\n",
            "Content Rating    True\n",
            "Director          True\n",
            "Earnings          True\n",
            " Votes            True\n",
            "Score             True\n",
            "dtype: bool\n"
          ]
        }
      ],
      "source": [
        "print(df.isnull().any()) #checking that is there any missing values?"
      ]
    },
    {
      "cell_type": "code",
      "execution_count": 450,
      "metadata": {
        "id": "0qwqV-M_rb_N"
      },
      "outputs": [],
      "source": [
        "df = df.dropna() #dropping all missing values"
      ]
    },
    {
      "cell_type": "code",
      "execution_count": 451,
      "metadata": {
        "colab": {
          "base_uri": "https://localhost:8080/",
          "height": 429
        },
        "id": "K-9jqpp2rb_O",
        "outputId": "4ca6da3c-4d14-44f8-f6ba-8807d8d99da0"
      },
      "outputs": [
        {
          "data": {
            "text/html": [
              "<div>\n",
              "<style scoped>\n",
              "    .dataframe tbody tr th:only-of-type {\n",
              "        vertical-align: middle;\n",
              "    }\n",
              "\n",
              "    .dataframe tbody tr th {\n",
              "        vertical-align: top;\n",
              "    }\n",
              "\n",
              "    .dataframe thead th {\n",
              "        text-align: right;\n",
              "    }\n",
              "</style>\n",
              "<table border=\"1\" class=\"dataframe\">\n",
              "  <thead>\n",
              "    <tr style=\"text-align: right;\">\n",
              "      <th></th>\n",
              "      <th>0</th>\n",
              "    </tr>\n",
              "  </thead>\n",
              "  <tbody>\n",
              "    <tr>\n",
              "      <th>ID</th>\n",
              "      <td>0</td>\n",
              "    </tr>\n",
              "    <tr>\n",
              "      <th>Title</th>\n",
              "      <td>0</td>\n",
              "    </tr>\n",
              "    <tr>\n",
              "      <th>Release year</th>\n",
              "      <td>0</td>\n",
              "    </tr>\n",
              "    <tr>\n",
              "      <th>Genre</th>\n",
              "      <td>0</td>\n",
              "    </tr>\n",
              "    <tr>\n",
              "      <th>Duration</th>\n",
              "      <td>0</td>\n",
              "    </tr>\n",
              "    <tr>\n",
              "      <th>Country</th>\n",
              "      <td>0</td>\n",
              "    </tr>\n",
              "    <tr>\n",
              "      <th>Content Rating</th>\n",
              "      <td>0</td>\n",
              "    </tr>\n",
              "    <tr>\n",
              "      <th>Director</th>\n",
              "      <td>0</td>\n",
              "    </tr>\n",
              "    <tr>\n",
              "      <th>Earnings</th>\n",
              "      <td>0</td>\n",
              "    </tr>\n",
              "    <tr>\n",
              "      <th>Votes</th>\n",
              "      <td>0</td>\n",
              "    </tr>\n",
              "    <tr>\n",
              "      <th>Score</th>\n",
              "      <td>0</td>\n",
              "    </tr>\n",
              "  </tbody>\n",
              "</table>\n",
              "</div><br><label><b>dtype:</b> int64</label>"
            ],
            "text/plain": [
              "ID                0\n",
              "Title             0\n",
              "Release year      0\n",
              "Genre             0\n",
              "Duration          0\n",
              "Country           0\n",
              "Content Rating    0\n",
              "Director          0\n",
              "Earnings          0\n",
              " Votes            0\n",
              "Score             0\n",
              "dtype: int64"
            ]
          },
          "execution_count": 451,
          "metadata": {},
          "output_type": "execute_result"
        }
      ],
      "source": [
        "df.isnull().sum() #again looking for any missing values"
      ]
    },
    {
      "cell_type": "code",
      "execution_count": 452,
      "metadata": {
        "colab": {
          "base_uri": "https://localhost:8080/",
          "height": 756
        },
        "id": "64t7fnu8rb_P",
        "outputId": "cbcbc196-2732-406a-89d6-3b4e1b4e50dd"
      },
      "outputs": [
        {
          "data": {
            "application/vnd.google.colaboratory.intrinsic+json": {
              "summary": "{\n  \"name\": \"df\",\n  \"rows\": 66,\n  \"fields\": [\n    {\n      \"column\": \"ID\",\n      \"properties\": {\n        \"dtype\": \"string\",\n        \"num_unique_values\": 66,\n        \"samples\": [\n          \"tt0208092\",\n          \"tt0056172\",\n          \"tt0111161\"\n        ],\n        \"semantic_type\": \"\",\n        \"description\": \"\"\n      }\n    },\n    {\n      \"column\": \"Title\",\n      \"properties\": {\n        \"dtype\": \"string\",\n        \"num_unique_values\": 66,\n        \"samples\": [\n          \"Snatch\",\n          \"Lawrence of Arabia\",\n          \"The Shawshank Redemption\"\n        ],\n        \"semantic_type\": \"\",\n        \"description\": \"\"\n      }\n    },\n    {\n      \"column\": \"Release year\",\n      \"properties\": {\n        \"dtype\": \"object\",\n        \"num_unique_values\": 65,\n        \"samples\": [\n          \"2001-03-16\",\n          \"2012-11-22\",\n          \"1995-02-10\"\n        ],\n        \"semantic_type\": \"\",\n        \"description\": \"\"\n      }\n    },\n    {\n      \"column\": \"Genre\",\n      \"properties\": {\n        \"dtype\": \"string\",\n        \"num_unique_values\": 44,\n        \"samples\": [\n          \"Animation, Adventure, Comedy\",\n          \"Comedy, Drama, Family\",\n          \"Action, Adventure\"\n        ],\n        \"semantic_type\": \"\",\n        \"description\": \"\"\n      }\n    },\n    {\n      \"column\": \"Duration\",\n      \"properties\": {\n        \"dtype\": \"string\",\n        \"num_unique_values\": 54,\n        \"samples\": [\n          \"116\",\n          \"149\",\n          \"103\"\n        ],\n        \"semantic_type\": \"\",\n        \"description\": \"\"\n      }\n    },\n    {\n      \"column\": \"Country\",\n      \"properties\": {\n        \"dtype\": \"category\",\n        \"num_unique_values\": 13,\n        \"samples\": [\n          \"West Germany\",\n          \"France\",\n          \"USA\"\n        ],\n        \"semantic_type\": \"\",\n        \"description\": \"\"\n      }\n    },\n    {\n      \"column\": \"Content Rating\",\n      \"properties\": {\n        \"dtype\": \"category\",\n        \"num_unique_values\": 6,\n        \"samples\": [\n          \"R\",\n          \"Not Rated\",\n          \"G\"\n        ],\n        \"semantic_type\": \"\",\n        \"description\": \"\"\n      }\n    },\n    {\n      \"column\": \"Director\",\n      \"properties\": {\n        \"dtype\": \"string\",\n        \"num_unique_values\": 47,\n        \"samples\": [\n          \"Andrew Stanton\",\n          \"Lee Unkrich\",\n          \"Charles Chaplin\"\n        ],\n        \"semantic_type\": \"\",\n        \"description\": \"\"\n      }\n    },\n    {\n      \"column\": \"Earnings\",\n      \"properties\": {\n        \"dtype\": \"string\",\n        \"num_unique_values\": 66,\n        \"samples\": [\n          \"$ 83557872\",\n          \"$ 45710874\",\n          \"$ 28815245\"\n        ],\n        \"semantic_type\": \"\",\n        \"description\": \"\"\n      }\n    },\n    {\n      \"column\": \" Votes \",\n      \"properties\": {\n        \"dtype\": \"string\",\n        \"num_unique_values\": 66,\n        \"samples\": [\n          \"766.589\",\n          \"261.504\",\n          \"2.278.845\"\n        ],\n        \"semantic_type\": \"\",\n        \"description\": \"\"\n      }\n    },\n    {\n      \"column\": \"Score\",\n      \"properties\": {\n        \"dtype\": \"category\",\n        \"num_unique_values\": 23,\n        \"samples\": [\n          \"8.1\",\n          \"8.6\",\n          \"9.3\"\n        ],\n        \"semantic_type\": \"\",\n        \"description\": \"\"\n      }\n    }\n  ]\n}",
              "type": "dataframe",
              "variable_name": "df"
            },
            "text/html": [
              "\n",
              "  <div id=\"df-e4606c43-f4ec-402f-a85b-50dbac8abebc\" class=\"colab-df-container\">\n",
              "    <div>\n",
              "<style scoped>\n",
              "    .dataframe tbody tr th:only-of-type {\n",
              "        vertical-align: middle;\n",
              "    }\n",
              "\n",
              "    .dataframe tbody tr th {\n",
              "        vertical-align: top;\n",
              "    }\n",
              "\n",
              "    .dataframe thead th {\n",
              "        text-align: right;\n",
              "    }\n",
              "</style>\n",
              "<table border=\"1\" class=\"dataframe\">\n",
              "  <thead>\n",
              "    <tr style=\"text-align: right;\">\n",
              "      <th></th>\n",
              "      <th>ID</th>\n",
              "      <th>Title</th>\n",
              "      <th>Release year</th>\n",
              "      <th>Genre</th>\n",
              "      <th>Duration</th>\n",
              "      <th>Country</th>\n",
              "      <th>Content Rating</th>\n",
              "      <th>Director</th>\n",
              "      <th>Earnings</th>\n",
              "      <th>Votes</th>\n",
              "      <th>Score</th>\n",
              "    </tr>\n",
              "  </thead>\n",
              "  <tbody>\n",
              "    <tr>\n",
              "      <th>0</th>\n",
              "      <td>tt0111161</td>\n",
              "      <td>The Shawshank Redemption</td>\n",
              "      <td>1995-02-10</td>\n",
              "      <td>Drama</td>\n",
              "      <td>142</td>\n",
              "      <td>USA</td>\n",
              "      <td>R</td>\n",
              "      <td>Frank Darabont</td>\n",
              "      <td>$ 28815245</td>\n",
              "      <td>2.278.845</td>\n",
              "      <td>9.3</td>\n",
              "    </tr>\n",
              "    <tr>\n",
              "      <th>3</th>\n",
              "      <td>tt0071562</td>\n",
              "      <td>The Godfather: Part II</td>\n",
              "      <td>1975-09-25</td>\n",
              "      <td>Crime, Drama</td>\n",
              "      <td>220</td>\n",
              "      <td>USA</td>\n",
              "      <td>R</td>\n",
              "      <td>Francis Ford Coppola</td>\n",
              "      <td>$ 4o8,035,783</td>\n",
              "      <td>1.098.714</td>\n",
              "      <td>9,.0</td>\n",
              "    </tr>\n",
              "    <tr>\n",
              "      <th>4</th>\n",
              "      <td>tt0110912</td>\n",
              "      <td>Pulp Fiction</td>\n",
              "      <td>1994-10-28</td>\n",
              "      <td>Crime, Drama</td>\n",
              "      <td></td>\n",
              "      <td>USA</td>\n",
              "      <td>R</td>\n",
              "      <td>Quentin Tarantino</td>\n",
              "      <td>$ 222831817</td>\n",
              "      <td>1.780.147</td>\n",
              "      <td>8,9f</td>\n",
              "    </tr>\n",
              "    <tr>\n",
              "      <th>6</th>\n",
              "      <td>tt0108052</td>\n",
              "      <td>Schindler's List</td>\n",
              "      <td>1994-03-11</td>\n",
              "      <td>Biography, Drama, History</td>\n",
              "      <td>Nan</td>\n",
              "      <td>USA</td>\n",
              "      <td>R</td>\n",
              "      <td>Steven Spielberg</td>\n",
              "      <td>$ 322287794</td>\n",
              "      <td>1.183.248</td>\n",
              "      <td>8.9</td>\n",
              "    </tr>\n",
              "    <tr>\n",
              "      <th>7</th>\n",
              "      <td>tt0050083</td>\n",
              "      <td>12 Angry Men</td>\n",
              "      <td>1957-09-04</td>\n",
              "      <td>Crime, Drama</td>\n",
              "      <td>96</td>\n",
              "      <td>USA</td>\n",
              "      <td>Not Rated</td>\n",
              "      <td>Sidney Lumet</td>\n",
              "      <td>$ 576</td>\n",
              "      <td>668.473</td>\n",
              "      <td>8.9</td>\n",
              "    </tr>\n",
              "    <tr>\n",
              "      <th>...</th>\n",
              "      <td>...</td>\n",
              "      <td>...</td>\n",
              "      <td>...</td>\n",
              "      <td>...</td>\n",
              "      <td>...</td>\n",
              "      <td>...</td>\n",
              "      <td>...</td>\n",
              "      <td>...</td>\n",
              "      <td>...</td>\n",
              "      <td>...</td>\n",
              "      <td>...</td>\n",
              "    </tr>\n",
              "    <tr>\n",
              "      <th>94</th>\n",
              "      <td>tt2106476</td>\n",
              "      <td>Jagten</td>\n",
              "      <td>2012-11-22</td>\n",
              "      <td>Drama</td>\n",
              "      <td>115</td>\n",
              "      <td>Denmark</td>\n",
              "      <td>R</td>\n",
              "      <td>Thomas Vinterberg</td>\n",
              "      <td>$ 15843274</td>\n",
              "      <td>269.616</td>\n",
              "      <td>7.5</td>\n",
              "    </tr>\n",
              "    <tr>\n",
              "      <th>95</th>\n",
              "      <td>tt0056172</td>\n",
              "      <td>Lawrence of Arabia</td>\n",
              "      <td>1963-10-29</td>\n",
              "      <td>Adventure, Biography, Drama</td>\n",
              "      <td>228</td>\n",
              "      <td>UK</td>\n",
              "      <td>PG</td>\n",
              "      <td>David Lean</td>\n",
              "      <td>$ 45710874</td>\n",
              "      <td>261.504</td>\n",
              "      <td>7.5</td>\n",
              "    </tr>\n",
              "    <tr>\n",
              "      <th>96</th>\n",
              "      <td>tt0070735</td>\n",
              "      <td>The Sting</td>\n",
              "      <td>1974-03-21</td>\n",
              "      <td>Comedy, Crime, Drama</td>\n",
              "      <td>129</td>\n",
              "      <td>USA</td>\n",
              "      <td>PG</td>\n",
              "      <td>George Roy Hill</td>\n",
              "      <td>$ 156000000</td>\n",
              "      <td>236.285</td>\n",
              "      <td>7.5</td>\n",
              "    </tr>\n",
              "    <tr>\n",
              "      <th>97</th>\n",
              "      <td>tt0082096</td>\n",
              "      <td>Das Boot</td>\n",
              "      <td>1982-03-18</td>\n",
              "      <td>Adventure, Drama, Thriller</td>\n",
              "      <td>149</td>\n",
              "      <td>West Germany</td>\n",
              "      <td>R</td>\n",
              "      <td>Wolfgang Petersen</td>\n",
              "      <td>$ 11487676</td>\n",
              "      <td>226.427</td>\n",
              "      <td>7.5</td>\n",
              "    </tr>\n",
              "    <tr>\n",
              "      <th>99</th>\n",
              "      <td>tt1832382</td>\n",
              "      <td>Jodaeiye Nader az Simin</td>\n",
              "      <td>2011-10-21</td>\n",
              "      <td>Drama</td>\n",
              "      <td>123</td>\n",
              "      <td>Iran</td>\n",
              "      <td>PG-13</td>\n",
              "      <td>Asghar Farhadi</td>\n",
              "      <td>$ 22926076</td>\n",
              "      <td>214.165</td>\n",
              "      <td>7.4</td>\n",
              "    </tr>\n",
              "  </tbody>\n",
              "</table>\n",
              "<p>66 rows × 11 columns</p>\n",
              "</div>\n",
              "    <div class=\"colab-df-buttons\">\n",
              "\n",
              "  <div class=\"colab-df-container\">\n",
              "    <button class=\"colab-df-convert\" onclick=\"convertToInteractive('df-e4606c43-f4ec-402f-a85b-50dbac8abebc')\"\n",
              "            title=\"Convert this dataframe to an interactive table.\"\n",
              "            style=\"display:none;\">\n",
              "\n",
              "  <svg xmlns=\"http://www.w3.org/2000/svg\" height=\"24px\" viewBox=\"0 -960 960 960\">\n",
              "    <path d=\"M120-120v-720h720v720H120Zm60-500h600v-160H180v160Zm220 220h160v-160H400v160Zm0 220h160v-160H400v160ZM180-400h160v-160H180v160Zm440 0h160v-160H620v160ZM180-180h160v-160H180v160Zm440 0h160v-160H620v160Z\"/>\n",
              "  </svg>\n",
              "    </button>\n",
              "\n",
              "  <style>\n",
              "    .colab-df-container {\n",
              "      display:flex;\n",
              "      gap: 12px;\n",
              "    }\n",
              "\n",
              "    .colab-df-convert {\n",
              "      background-color: #E8F0FE;\n",
              "      border: none;\n",
              "      border-radius: 50%;\n",
              "      cursor: pointer;\n",
              "      display: none;\n",
              "      fill: #1967D2;\n",
              "      height: 32px;\n",
              "      padding: 0 0 0 0;\n",
              "      width: 32px;\n",
              "    }\n",
              "\n",
              "    .colab-df-convert:hover {\n",
              "      background-color: #E2EBFA;\n",
              "      box-shadow: 0px 1px 2px rgba(60, 64, 67, 0.3), 0px 1px 3px 1px rgba(60, 64, 67, 0.15);\n",
              "      fill: #174EA6;\n",
              "    }\n",
              "\n",
              "    .colab-df-buttons div {\n",
              "      margin-bottom: 4px;\n",
              "    }\n",
              "\n",
              "    [theme=dark] .colab-df-convert {\n",
              "      background-color: #3B4455;\n",
              "      fill: #D2E3FC;\n",
              "    }\n",
              "\n",
              "    [theme=dark] .colab-df-convert:hover {\n",
              "      background-color: #434B5C;\n",
              "      box-shadow: 0px 1px 3px 1px rgba(0, 0, 0, 0.15);\n",
              "      filter: drop-shadow(0px 1px 2px rgba(0, 0, 0, 0.3));\n",
              "      fill: #FFFFFF;\n",
              "    }\n",
              "  </style>\n",
              "\n",
              "    <script>\n",
              "      const buttonEl =\n",
              "        document.querySelector('#df-e4606c43-f4ec-402f-a85b-50dbac8abebc button.colab-df-convert');\n",
              "      buttonEl.style.display =\n",
              "        google.colab.kernel.accessAllowed ? 'block' : 'none';\n",
              "\n",
              "      async function convertToInteractive(key) {\n",
              "        const element = document.querySelector('#df-e4606c43-f4ec-402f-a85b-50dbac8abebc');\n",
              "        const dataTable =\n",
              "          await google.colab.kernel.invokeFunction('convertToInteractive',\n",
              "                                                    [key], {});\n",
              "        if (!dataTable) return;\n",
              "\n",
              "        const docLinkHtml = 'Like what you see? Visit the ' +\n",
              "          '<a target=\"_blank\" href=https://colab.research.google.com/notebooks/data_table.ipynb>data table notebook</a>'\n",
              "          + ' to learn more about interactive tables.';\n",
              "        element.innerHTML = '';\n",
              "        dataTable['output_type'] = 'display_data';\n",
              "        await google.colab.output.renderOutput(dataTable, element);\n",
              "        const docLink = document.createElement('div');\n",
              "        docLink.innerHTML = docLinkHtml;\n",
              "        element.appendChild(docLink);\n",
              "      }\n",
              "    </script>\n",
              "  </div>\n",
              "\n",
              "\n",
              "<div id=\"df-4bc4681e-d7c5-4664-81f9-67c2b5903851\">\n",
              "  <button class=\"colab-df-quickchart\" onclick=\"quickchart('df-4bc4681e-d7c5-4664-81f9-67c2b5903851')\"\n",
              "            title=\"Suggest charts\"\n",
              "            style=\"display:none;\">\n",
              "\n",
              "<svg xmlns=\"http://www.w3.org/2000/svg\" height=\"24px\"viewBox=\"0 0 24 24\"\n",
              "     width=\"24px\">\n",
              "    <g>\n",
              "        <path d=\"M19 3H5c-1.1 0-2 .9-2 2v14c0 1.1.9 2 2 2h14c1.1 0 2-.9 2-2V5c0-1.1-.9-2-2-2zM9 17H7v-7h2v7zm4 0h-2V7h2v10zm4 0h-2v-4h2v4z\"/>\n",
              "    </g>\n",
              "</svg>\n",
              "  </button>\n",
              "\n",
              "<style>\n",
              "  .colab-df-quickchart {\n",
              "      --bg-color: #E8F0FE;\n",
              "      --fill-color: #1967D2;\n",
              "      --hover-bg-color: #E2EBFA;\n",
              "      --hover-fill-color: #174EA6;\n",
              "      --disabled-fill-color: #AAA;\n",
              "      --disabled-bg-color: #DDD;\n",
              "  }\n",
              "\n",
              "  [theme=dark] .colab-df-quickchart {\n",
              "      --bg-color: #3B4455;\n",
              "      --fill-color: #D2E3FC;\n",
              "      --hover-bg-color: #434B5C;\n",
              "      --hover-fill-color: #FFFFFF;\n",
              "      --disabled-bg-color: #3B4455;\n",
              "      --disabled-fill-color: #666;\n",
              "  }\n",
              "\n",
              "  .colab-df-quickchart {\n",
              "    background-color: var(--bg-color);\n",
              "    border: none;\n",
              "    border-radius: 50%;\n",
              "    cursor: pointer;\n",
              "    display: none;\n",
              "    fill: var(--fill-color);\n",
              "    height: 32px;\n",
              "    padding: 0;\n",
              "    width: 32px;\n",
              "  }\n",
              "\n",
              "  .colab-df-quickchart:hover {\n",
              "    background-color: var(--hover-bg-color);\n",
              "    box-shadow: 0 1px 2px rgba(60, 64, 67, 0.3), 0 1px 3px 1px rgba(60, 64, 67, 0.15);\n",
              "    fill: var(--button-hover-fill-color);\n",
              "  }\n",
              "\n",
              "  .colab-df-quickchart-complete:disabled,\n",
              "  .colab-df-quickchart-complete:disabled:hover {\n",
              "    background-color: var(--disabled-bg-color);\n",
              "    fill: var(--disabled-fill-color);\n",
              "    box-shadow: none;\n",
              "  }\n",
              "\n",
              "  .colab-df-spinner {\n",
              "    border: 2px solid var(--fill-color);\n",
              "    border-color: transparent;\n",
              "    border-bottom-color: var(--fill-color);\n",
              "    animation:\n",
              "      spin 1s steps(1) infinite;\n",
              "  }\n",
              "\n",
              "  @keyframes spin {\n",
              "    0% {\n",
              "      border-color: transparent;\n",
              "      border-bottom-color: var(--fill-color);\n",
              "      border-left-color: var(--fill-color);\n",
              "    }\n",
              "    20% {\n",
              "      border-color: transparent;\n",
              "      border-left-color: var(--fill-color);\n",
              "      border-top-color: var(--fill-color);\n",
              "    }\n",
              "    30% {\n",
              "      border-color: transparent;\n",
              "      border-left-color: var(--fill-color);\n",
              "      border-top-color: var(--fill-color);\n",
              "      border-right-color: var(--fill-color);\n",
              "    }\n",
              "    40% {\n",
              "      border-color: transparent;\n",
              "      border-right-color: var(--fill-color);\n",
              "      border-top-color: var(--fill-color);\n",
              "    }\n",
              "    60% {\n",
              "      border-color: transparent;\n",
              "      border-right-color: var(--fill-color);\n",
              "    }\n",
              "    80% {\n",
              "      border-color: transparent;\n",
              "      border-right-color: var(--fill-color);\n",
              "      border-bottom-color: var(--fill-color);\n",
              "    }\n",
              "    90% {\n",
              "      border-color: transparent;\n",
              "      border-bottom-color: var(--fill-color);\n",
              "    }\n",
              "  }\n",
              "</style>\n",
              "\n",
              "  <script>\n",
              "    async function quickchart(key) {\n",
              "      const quickchartButtonEl =\n",
              "        document.querySelector('#' + key + ' button');\n",
              "      quickchartButtonEl.disabled = true;  // To prevent multiple clicks.\n",
              "      quickchartButtonEl.classList.add('colab-df-spinner');\n",
              "      try {\n",
              "        const charts = await google.colab.kernel.invokeFunction(\n",
              "            'suggestCharts', [key], {});\n",
              "      } catch (error) {\n",
              "        console.error('Error during call to suggestCharts:', error);\n",
              "      }\n",
              "      quickchartButtonEl.classList.remove('colab-df-spinner');\n",
              "      quickchartButtonEl.classList.add('colab-df-quickchart-complete');\n",
              "    }\n",
              "    (() => {\n",
              "      let quickchartButtonEl =\n",
              "        document.querySelector('#df-4bc4681e-d7c5-4664-81f9-67c2b5903851 button');\n",
              "      quickchartButtonEl.style.display =\n",
              "        google.colab.kernel.accessAllowed ? 'block' : 'none';\n",
              "    })();\n",
              "  </script>\n",
              "</div>\n",
              "\n",
              "  <div id=\"id_e1073c66-46d4-4d53-9ac7-5ffe24a36c7b\">\n",
              "    <style>\n",
              "      .colab-df-generate {\n",
              "        background-color: #E8F0FE;\n",
              "        border: none;\n",
              "        border-radius: 50%;\n",
              "        cursor: pointer;\n",
              "        display: none;\n",
              "        fill: #1967D2;\n",
              "        height: 32px;\n",
              "        padding: 0 0 0 0;\n",
              "        width: 32px;\n",
              "      }\n",
              "\n",
              "      .colab-df-generate:hover {\n",
              "        background-color: #E2EBFA;\n",
              "        box-shadow: 0px 1px 2px rgba(60, 64, 67, 0.3), 0px 1px 3px 1px rgba(60, 64, 67, 0.15);\n",
              "        fill: #174EA6;\n",
              "      }\n",
              "\n",
              "      [theme=dark] .colab-df-generate {\n",
              "        background-color: #3B4455;\n",
              "        fill: #D2E3FC;\n",
              "      }\n",
              "\n",
              "      [theme=dark] .colab-df-generate:hover {\n",
              "        background-color: #434B5C;\n",
              "        box-shadow: 0px 1px 3px 1px rgba(0, 0, 0, 0.15);\n",
              "        filter: drop-shadow(0px 1px 2px rgba(0, 0, 0, 0.3));\n",
              "        fill: #FFFFFF;\n",
              "      }\n",
              "    </style>\n",
              "    <button class=\"colab-df-generate\" onclick=\"generateWithVariable('df')\"\n",
              "            title=\"Generate code using this dataframe.\"\n",
              "            style=\"display:none;\">\n",
              "\n",
              "  <svg xmlns=\"http://www.w3.org/2000/svg\" height=\"24px\"viewBox=\"0 0 24 24\"\n",
              "       width=\"24px\">\n",
              "    <path d=\"M7,19H8.4L18.45,9,17,7.55,7,17.6ZM5,21V16.75L18.45,3.32a2,2,0,0,1,2.83,0l1.4,1.43a1.91,1.91,0,0,1,.58,1.4,1.91,1.91,0,0,1-.58,1.4L9.25,21ZM18.45,9,17,7.55Zm-12,3A5.31,5.31,0,0,0,4.9,8.1,5.31,5.31,0,0,0,1,6.5,5.31,5.31,0,0,0,4.9,4.9,5.31,5.31,0,0,0,6.5,1,5.31,5.31,0,0,0,8.1,4.9,5.31,5.31,0,0,0,12,6.5,5.46,5.46,0,0,0,6.5,12Z\"/>\n",
              "  </svg>\n",
              "    </button>\n",
              "    <script>\n",
              "      (() => {\n",
              "      const buttonEl =\n",
              "        document.querySelector('#id_e1073c66-46d4-4d53-9ac7-5ffe24a36c7b button.colab-df-generate');\n",
              "      buttonEl.style.display =\n",
              "        google.colab.kernel.accessAllowed ? 'block' : 'none';\n",
              "\n",
              "      buttonEl.onclick = () => {\n",
              "        google.colab.notebook.generateWithVariable('df');\n",
              "      }\n",
              "      })();\n",
              "    </script>\n",
              "  </div>\n",
              "\n",
              "    </div>\n",
              "  </div>\n"
            ],
            "text/plain": [
              "           ID                     Title Release year  \\\n",
              "0   tt0111161  The Shawshank Redemption   1995-02-10   \n",
              "3   tt0071562    The Godfather: Part II   1975-09-25   \n",
              "4   tt0110912              Pulp Fiction   1994-10-28   \n",
              "6   tt0108052          Schindler's List   1994-03-11   \n",
              "7   tt0050083              12 Angry Men   1957-09-04   \n",
              "..        ...                       ...          ...   \n",
              "94  tt2106476                    Jagten   2012-11-22   \n",
              "95  tt0056172        Lawrence of Arabia   1963-10-29   \n",
              "96  tt0070735                 The Sting   1974-03-21   \n",
              "97  tt0082096                  Das Boot   1982-03-18   \n",
              "99  tt1832382   Jodaeiye Nader az Simin   2011-10-21   \n",
              "\n",
              "                          Genre Duration       Country Content Rating  \\\n",
              "0                         Drama      142           USA              R   \n",
              "3                  Crime, Drama      220           USA              R   \n",
              "4                  Crime, Drama                    USA              R   \n",
              "6     Biography, Drama, History      Nan           USA              R   \n",
              "7                  Crime, Drama       96           USA      Not Rated   \n",
              "..                          ...      ...           ...            ...   \n",
              "94                        Drama      115       Denmark              R   \n",
              "95  Adventure, Biography, Drama      228            UK             PG   \n",
              "96         Comedy, Crime, Drama      129           USA             PG   \n",
              "97   Adventure, Drama, Thriller      149  West Germany              R   \n",
              "99                        Drama      123          Iran          PG-13   \n",
              "\n",
              "                Director       Earnings     Votes  Score  \n",
              "0         Frank Darabont     $ 28815245  2.278.845   9.3  \n",
              "3   Francis Ford Coppola  $ 4o8,035,783  1.098.714  9,.0  \n",
              "4      Quentin Tarantino    $ 222831817  1.780.147  8,9f  \n",
              "6       Steven Spielberg    $ 322287794  1.183.248   8.9  \n",
              "7           Sidney Lumet          $ 576    668.473   8.9  \n",
              "..                   ...            ...        ...   ...  \n",
              "94     Thomas Vinterberg     $ 15843274    269.616   7.5  \n",
              "95            David Lean     $ 45710874    261.504   7.5  \n",
              "96       George Roy Hill    $ 156000000    236.285   7.5  \n",
              "97     Wolfgang Petersen     $ 11487676    226.427   7.5  \n",
              "99        Asghar Farhadi     $ 22926076    214.165   7.4  \n",
              "\n",
              "[66 rows x 11 columns]"
            ]
          },
          "execution_count": 452,
          "metadata": {},
          "output_type": "execute_result"
        }
      ],
      "source": [
        "df"
      ]
    },
    {
      "cell_type": "code",
      "execution_count": 453,
      "metadata": {
        "colab": {
          "base_uri": "https://localhost:8080/",
          "height": 513
        },
        "id": "16GBEUnTrb_Q",
        "outputId": "0876b434-3304-4de6-963c-5d0ed0933587"
      },
      "outputs": [
        {
          "name": "stderr",
          "output_type": "stream",
          "text": [
            "<ipython-input-453-7997803ca0b1>:1: FutureWarning: DataFrame.applymap has been deprecated. Use DataFrame.map instead.\n",
            "  empty_rows = df.applymap(lambda x: x.strip() == '').any(axis=1)\n"
          ]
        },
        {
          "data": {
            "text/html": [
              "<div>\n",
              "<style scoped>\n",
              "    .dataframe tbody tr th:only-of-type {\n",
              "        vertical-align: middle;\n",
              "    }\n",
              "\n",
              "    .dataframe tbody tr th {\n",
              "        vertical-align: top;\n",
              "    }\n",
              "\n",
              "    .dataframe thead th {\n",
              "        text-align: right;\n",
              "    }\n",
              "</style>\n",
              "<table border=\"1\" class=\"dataframe\">\n",
              "  <thead>\n",
              "    <tr style=\"text-align: right;\">\n",
              "      <th></th>\n",
              "      <th>0</th>\n",
              "    </tr>\n",
              "  </thead>\n",
              "  <tbody>\n",
              "    <tr>\n",
              "      <th>0</th>\n",
              "      <td>False</td>\n",
              "    </tr>\n",
              "    <tr>\n",
              "      <th>3</th>\n",
              "      <td>False</td>\n",
              "    </tr>\n",
              "    <tr>\n",
              "      <th>4</th>\n",
              "      <td>True</td>\n",
              "    </tr>\n",
              "    <tr>\n",
              "      <th>6</th>\n",
              "      <td>False</td>\n",
              "    </tr>\n",
              "    <tr>\n",
              "      <th>7</th>\n",
              "      <td>False</td>\n",
              "    </tr>\n",
              "    <tr>\n",
              "      <th>...</th>\n",
              "      <td>...</td>\n",
              "    </tr>\n",
              "    <tr>\n",
              "      <th>94</th>\n",
              "      <td>False</td>\n",
              "    </tr>\n",
              "    <tr>\n",
              "      <th>95</th>\n",
              "      <td>False</td>\n",
              "    </tr>\n",
              "    <tr>\n",
              "      <th>96</th>\n",
              "      <td>False</td>\n",
              "    </tr>\n",
              "    <tr>\n",
              "      <th>97</th>\n",
              "      <td>False</td>\n",
              "    </tr>\n",
              "    <tr>\n",
              "      <th>99</th>\n",
              "      <td>False</td>\n",
              "    </tr>\n",
              "  </tbody>\n",
              "</table>\n",
              "<p>66 rows × 1 columns</p>\n",
              "</div><br><label><b>dtype:</b> bool</label>"
            ],
            "text/plain": [
              "0     False\n",
              "3     False\n",
              "4      True\n",
              "6     False\n",
              "7     False\n",
              "      ...  \n",
              "94    False\n",
              "95    False\n",
              "96    False\n",
              "97    False\n",
              "99    False\n",
              "Length: 66, dtype: bool"
            ]
          },
          "execution_count": 453,
          "metadata": {},
          "output_type": "execute_result"
        }
      ],
      "source": [
        "#checking for any empty rows/cells/empty strings\n",
        "empty_rows = df.applymap(lambda x: x.strip() == '').any(axis=1)\n",
        "empty_rows "
      ]
    },
    {
      "cell_type": "code",
      "execution_count": 455,
      "metadata": {
        "colab": {
          "base_uri": "https://localhost:8080/",
          "height": 399
        },
        "id": "82qhWRmwrb_U",
        "outputId": "f6d6278d-4ee6-470e-f5d6-0cff0135108c"
      },
      "outputs": [
        {
          "data": {
            "application/vnd.google.colaboratory.intrinsic+json": {
              "summary": "{\n  \"name\": \"df\",\n  \"rows\": 65,\n  \"fields\": [\n    {\n      \"column\": \"ID\",\n      \"properties\": {\n        \"dtype\": \"string\",\n        \"num_unique_values\": 65,\n        \"samples\": [\n          \"tt0208092\",\n          \"tt2106476\",\n          \"tt0111161\"\n        ],\n        \"semantic_type\": \"\",\n        \"description\": \"\"\n      }\n    },\n    {\n      \"column\": \"Title\",\n      \"properties\": {\n        \"dtype\": \"string\",\n        \"num_unique_values\": 65,\n        \"samples\": [\n          \"Snatch\",\n          \"Jagten\",\n          \"The Shawshank Redemption\"\n        ],\n        \"semantic_type\": \"\",\n        \"description\": \"\"\n      }\n    },\n    {\n      \"column\": \"Release year\",\n      \"properties\": {\n        \"dtype\": \"object\",\n        \"num_unique_values\": 64,\n        \"samples\": [\n          \"2001-03-16\",\n          \"1985-02-15\",\n          \"1995-02-10\"\n        ],\n        \"semantic_type\": \"\",\n        \"description\": \"\"\n      }\n    },\n    {\n      \"column\": \"Genre\",\n      \"properties\": {\n        \"dtype\": \"string\",\n        \"num_unique_values\": 44,\n        \"samples\": [\n          \"Animation, Adventure, Comedy\",\n          \"Comedy, Drama, Family\",\n          \"Action, Adventure\"\n        ],\n        \"semantic_type\": \"\",\n        \"description\": \"\"\n      }\n    },\n    {\n      \"column\": \"Duration\",\n      \"properties\": {\n        \"dtype\": \"string\",\n        \"num_unique_values\": 53,\n        \"samples\": [\n          \"119\",\n          \"99\",\n          \"103\"\n        ],\n        \"semantic_type\": \"\",\n        \"description\": \"\"\n      }\n    },\n    {\n      \"column\": \"Country\",\n      \"properties\": {\n        \"dtype\": \"category\",\n        \"num_unique_values\": 13,\n        \"samples\": [\n          \"West Germany\",\n          \"France\",\n          \"USA\"\n        ],\n        \"semantic_type\": \"\",\n        \"description\": \"\"\n      }\n    },\n    {\n      \"column\": \"Content Rating\",\n      \"properties\": {\n        \"dtype\": \"category\",\n        \"num_unique_values\": 6,\n        \"samples\": [\n          \"R\",\n          \"Not Rated\",\n          \"G\"\n        ],\n        \"semantic_type\": \"\",\n        \"description\": \"\"\n      }\n    },\n    {\n      \"column\": \"Director\",\n      \"properties\": {\n        \"dtype\": \"string\",\n        \"num_unique_values\": 47,\n        \"samples\": [\n          \"Andrew Stanton\",\n          \"Lee Unkrich\",\n          \"Quentin Tarantino\"\n        ],\n        \"semantic_type\": \"\",\n        \"description\": \"\"\n      }\n    },\n    {\n      \"column\": \"Earnings\",\n      \"properties\": {\n        \"dtype\": \"string\",\n        \"num_unique_values\": 65,\n        \"samples\": [\n          \"$ 83557872\",\n          \"$ 15843274\",\n          \"$ 28815245\"\n        ],\n        \"semantic_type\": \"\",\n        \"description\": \"\"\n      }\n    },\n    {\n      \"column\": \" Votes \",\n      \"properties\": {\n        \"dtype\": \"string\",\n        \"num_unique_values\": 65,\n        \"samples\": [\n          \"766.589\",\n          \"269.616\",\n          \"2.278.845\"\n        ],\n        \"semantic_type\": \"\",\n        \"description\": \"\"\n      }\n    },\n    {\n      \"column\": \"Score\",\n      \"properties\": {\n        \"dtype\": \"category\",\n        \"num_unique_values\": 22,\n        \"samples\": [\n          \"9.3\",\n          \"8.2\",\n          \"8.6\"\n        ],\n        \"semantic_type\": \"\",\n        \"description\": \"\"\n      }\n    }\n  ]\n}",
              "type": "dataframe",
              "variable_name": "df"
            },
            "text/html": [
              "\n",
              "  <div id=\"df-e39f2723-22b1-45da-a99a-1521281e314a\" class=\"colab-df-container\">\n",
              "    <div>\n",
              "<style scoped>\n",
              "    .dataframe tbody tr th:only-of-type {\n",
              "        vertical-align: middle;\n",
              "    }\n",
              "\n",
              "    .dataframe tbody tr th {\n",
              "        vertical-align: top;\n",
              "    }\n",
              "\n",
              "    .dataframe thead th {\n",
              "        text-align: right;\n",
              "    }\n",
              "</style>\n",
              "<table border=\"1\" class=\"dataframe\">\n",
              "  <thead>\n",
              "    <tr style=\"text-align: right;\">\n",
              "      <th></th>\n",
              "      <th>ID</th>\n",
              "      <th>Title</th>\n",
              "      <th>Release year</th>\n",
              "      <th>Genre</th>\n",
              "      <th>Duration</th>\n",
              "      <th>Country</th>\n",
              "      <th>Content Rating</th>\n",
              "      <th>Director</th>\n",
              "      <th>Earnings</th>\n",
              "      <th>Votes</th>\n",
              "      <th>Score</th>\n",
              "    </tr>\n",
              "  </thead>\n",
              "  <tbody>\n",
              "    <tr>\n",
              "      <th>0</th>\n",
              "      <td>tt0111161</td>\n",
              "      <td>The Shawshank Redemption</td>\n",
              "      <td>1995-02-10</td>\n",
              "      <td>Drama</td>\n",
              "      <td>142</td>\n",
              "      <td>USA</td>\n",
              "      <td>R</td>\n",
              "      <td>Frank Darabont</td>\n",
              "      <td>$ 28815245</td>\n",
              "      <td>2.278.845</td>\n",
              "      <td>9.3</td>\n",
              "    </tr>\n",
              "    <tr>\n",
              "      <th>3</th>\n",
              "      <td>tt0071562</td>\n",
              "      <td>The Godfather: Part II</td>\n",
              "      <td>1975-09-25</td>\n",
              "      <td>Crime, Drama</td>\n",
              "      <td>220</td>\n",
              "      <td>USA</td>\n",
              "      <td>R</td>\n",
              "      <td>Francis Ford Coppola</td>\n",
              "      <td>$ 4o8,035,783</td>\n",
              "      <td>1.098.714</td>\n",
              "      <td>9,.0</td>\n",
              "    </tr>\n",
              "    <tr>\n",
              "      <th>6</th>\n",
              "      <td>tt0108052</td>\n",
              "      <td>Schindler's List</td>\n",
              "      <td>1994-03-11</td>\n",
              "      <td>Biography, Drama, History</td>\n",
              "      <td>Nan</td>\n",
              "      <td>USA</td>\n",
              "      <td>R</td>\n",
              "      <td>Steven Spielberg</td>\n",
              "      <td>$ 322287794</td>\n",
              "      <td>1.183.248</td>\n",
              "      <td>8.9</td>\n",
              "    </tr>\n",
              "    <tr>\n",
              "      <th>7</th>\n",
              "      <td>tt0050083</td>\n",
              "      <td>12 Angry Men</td>\n",
              "      <td>1957-09-04</td>\n",
              "      <td>Crime, Drama</td>\n",
              "      <td>96</td>\n",
              "      <td>USA</td>\n",
              "      <td>Not Rated</td>\n",
              "      <td>Sidney Lumet</td>\n",
              "      <td>$ 576</td>\n",
              "      <td>668.473</td>\n",
              "      <td>8.9</td>\n",
              "    </tr>\n",
              "    <tr>\n",
              "      <th>8</th>\n",
              "      <td>tt1375666</td>\n",
              "      <td>Inception</td>\n",
              "      <td>2010-09-24</td>\n",
              "      <td>Action, Adventure, Sci-Fi</td>\n",
              "      <td>148</td>\n",
              "      <td>USA</td>\n",
              "      <td>PG-13</td>\n",
              "      <td>Christopher Nolan</td>\n",
              "      <td>$ 869784991</td>\n",
              "      <td>2.002.816</td>\n",
              "      <td>8..8</td>\n",
              "    </tr>\n",
              "  </tbody>\n",
              "</table>\n",
              "</div>\n",
              "    <div class=\"colab-df-buttons\">\n",
              "\n",
              "  <div class=\"colab-df-container\">\n",
              "    <button class=\"colab-df-convert\" onclick=\"convertToInteractive('df-e39f2723-22b1-45da-a99a-1521281e314a')\"\n",
              "            title=\"Convert this dataframe to an interactive table.\"\n",
              "            style=\"display:none;\">\n",
              "\n",
              "  <svg xmlns=\"http://www.w3.org/2000/svg\" height=\"24px\" viewBox=\"0 -960 960 960\">\n",
              "    <path d=\"M120-120v-720h720v720H120Zm60-500h600v-160H180v160Zm220 220h160v-160H400v160Zm0 220h160v-160H400v160ZM180-400h160v-160H180v160Zm440 0h160v-160H620v160ZM180-180h160v-160H180v160Zm440 0h160v-160H620v160Z\"/>\n",
              "  </svg>\n",
              "    </button>\n",
              "\n",
              "  <style>\n",
              "    .colab-df-container {\n",
              "      display:flex;\n",
              "      gap: 12px;\n",
              "    }\n",
              "\n",
              "    .colab-df-convert {\n",
              "      background-color: #E8F0FE;\n",
              "      border: none;\n",
              "      border-radius: 50%;\n",
              "      cursor: pointer;\n",
              "      display: none;\n",
              "      fill: #1967D2;\n",
              "      height: 32px;\n",
              "      padding: 0 0 0 0;\n",
              "      width: 32px;\n",
              "    }\n",
              "\n",
              "    .colab-df-convert:hover {\n",
              "      background-color: #E2EBFA;\n",
              "      box-shadow: 0px 1px 2px rgba(60, 64, 67, 0.3), 0px 1px 3px 1px rgba(60, 64, 67, 0.15);\n",
              "      fill: #174EA6;\n",
              "    }\n",
              "\n",
              "    .colab-df-buttons div {\n",
              "      margin-bottom: 4px;\n",
              "    }\n",
              "\n",
              "    [theme=dark] .colab-df-convert {\n",
              "      background-color: #3B4455;\n",
              "      fill: #D2E3FC;\n",
              "    }\n",
              "\n",
              "    [theme=dark] .colab-df-convert:hover {\n",
              "      background-color: #434B5C;\n",
              "      box-shadow: 0px 1px 3px 1px rgba(0, 0, 0, 0.15);\n",
              "      filter: drop-shadow(0px 1px 2px rgba(0, 0, 0, 0.3));\n",
              "      fill: #FFFFFF;\n",
              "    }\n",
              "  </style>\n",
              "\n",
              "    <script>\n",
              "      const buttonEl =\n",
              "        document.querySelector('#df-e39f2723-22b1-45da-a99a-1521281e314a button.colab-df-convert');\n",
              "      buttonEl.style.display =\n",
              "        google.colab.kernel.accessAllowed ? 'block' : 'none';\n",
              "\n",
              "      async function convertToInteractive(key) {\n",
              "        const element = document.querySelector('#df-e39f2723-22b1-45da-a99a-1521281e314a');\n",
              "        const dataTable =\n",
              "          await google.colab.kernel.invokeFunction('convertToInteractive',\n",
              "                                                    [key], {});\n",
              "        if (!dataTable) return;\n",
              "\n",
              "        const docLinkHtml = 'Like what you see? Visit the ' +\n",
              "          '<a target=\"_blank\" href=https://colab.research.google.com/notebooks/data_table.ipynb>data table notebook</a>'\n",
              "          + ' to learn more about interactive tables.';\n",
              "        element.innerHTML = '';\n",
              "        dataTable['output_type'] = 'display_data';\n",
              "        await google.colab.output.renderOutput(dataTable, element);\n",
              "        const docLink = document.createElement('div');\n",
              "        docLink.innerHTML = docLinkHtml;\n",
              "        element.appendChild(docLink);\n",
              "      }\n",
              "    </script>\n",
              "  </div>\n",
              "\n",
              "\n",
              "<div id=\"df-a15aa1e9-2aaf-4c0d-ab0a-cba04926fef3\">\n",
              "  <button class=\"colab-df-quickchart\" onclick=\"quickchart('df-a15aa1e9-2aaf-4c0d-ab0a-cba04926fef3')\"\n",
              "            title=\"Suggest charts\"\n",
              "            style=\"display:none;\">\n",
              "\n",
              "<svg xmlns=\"http://www.w3.org/2000/svg\" height=\"24px\"viewBox=\"0 0 24 24\"\n",
              "     width=\"24px\">\n",
              "    <g>\n",
              "        <path d=\"M19 3H5c-1.1 0-2 .9-2 2v14c0 1.1.9 2 2 2h14c1.1 0 2-.9 2-2V5c0-1.1-.9-2-2-2zM9 17H7v-7h2v7zm4 0h-2V7h2v10zm4 0h-2v-4h2v4z\"/>\n",
              "    </g>\n",
              "</svg>\n",
              "  </button>\n",
              "\n",
              "<style>\n",
              "  .colab-df-quickchart {\n",
              "      --bg-color: #E8F0FE;\n",
              "      --fill-color: #1967D2;\n",
              "      --hover-bg-color: #E2EBFA;\n",
              "      --hover-fill-color: #174EA6;\n",
              "      --disabled-fill-color: #AAA;\n",
              "      --disabled-bg-color: #DDD;\n",
              "  }\n",
              "\n",
              "  [theme=dark] .colab-df-quickchart {\n",
              "      --bg-color: #3B4455;\n",
              "      --fill-color: #D2E3FC;\n",
              "      --hover-bg-color: #434B5C;\n",
              "      --hover-fill-color: #FFFFFF;\n",
              "      --disabled-bg-color: #3B4455;\n",
              "      --disabled-fill-color: #666;\n",
              "  }\n",
              "\n",
              "  .colab-df-quickchart {\n",
              "    background-color: var(--bg-color);\n",
              "    border: none;\n",
              "    border-radius: 50%;\n",
              "    cursor: pointer;\n",
              "    display: none;\n",
              "    fill: var(--fill-color);\n",
              "    height: 32px;\n",
              "    padding: 0;\n",
              "    width: 32px;\n",
              "  }\n",
              "\n",
              "  .colab-df-quickchart:hover {\n",
              "    background-color: var(--hover-bg-color);\n",
              "    box-shadow: 0 1px 2px rgba(60, 64, 67, 0.3), 0 1px 3px 1px rgba(60, 64, 67, 0.15);\n",
              "    fill: var(--button-hover-fill-color);\n",
              "  }\n",
              "\n",
              "  .colab-df-quickchart-complete:disabled,\n",
              "  .colab-df-quickchart-complete:disabled:hover {\n",
              "    background-color: var(--disabled-bg-color);\n",
              "    fill: var(--disabled-fill-color);\n",
              "    box-shadow: none;\n",
              "  }\n",
              "\n",
              "  .colab-df-spinner {\n",
              "    border: 2px solid var(--fill-color);\n",
              "    border-color: transparent;\n",
              "    border-bottom-color: var(--fill-color);\n",
              "    animation:\n",
              "      spin 1s steps(1) infinite;\n",
              "  }\n",
              "\n",
              "  @keyframes spin {\n",
              "    0% {\n",
              "      border-color: transparent;\n",
              "      border-bottom-color: var(--fill-color);\n",
              "      border-left-color: var(--fill-color);\n",
              "    }\n",
              "    20% {\n",
              "      border-color: transparent;\n",
              "      border-left-color: var(--fill-color);\n",
              "      border-top-color: var(--fill-color);\n",
              "    }\n",
              "    30% {\n",
              "      border-color: transparent;\n",
              "      border-left-color: var(--fill-color);\n",
              "      border-top-color: var(--fill-color);\n",
              "      border-right-color: var(--fill-color);\n",
              "    }\n",
              "    40% {\n",
              "      border-color: transparent;\n",
              "      border-right-color: var(--fill-color);\n",
              "      border-top-color: var(--fill-color);\n",
              "    }\n",
              "    60% {\n",
              "      border-color: transparent;\n",
              "      border-right-color: var(--fill-color);\n",
              "    }\n",
              "    80% {\n",
              "      border-color: transparent;\n",
              "      border-right-color: var(--fill-color);\n",
              "      border-bottom-color: var(--fill-color);\n",
              "    }\n",
              "    90% {\n",
              "      border-color: transparent;\n",
              "      border-bottom-color: var(--fill-color);\n",
              "    }\n",
              "  }\n",
              "</style>\n",
              "\n",
              "  <script>\n",
              "    async function quickchart(key) {\n",
              "      const quickchartButtonEl =\n",
              "        document.querySelector('#' + key + ' button');\n",
              "      quickchartButtonEl.disabled = true;  // To prevent multiple clicks.\n",
              "      quickchartButtonEl.classList.add('colab-df-spinner');\n",
              "      try {\n",
              "        const charts = await google.colab.kernel.invokeFunction(\n",
              "            'suggestCharts', [key], {});\n",
              "      } catch (error) {\n",
              "        console.error('Error during call to suggestCharts:', error);\n",
              "      }\n",
              "      quickchartButtonEl.classList.remove('colab-df-spinner');\n",
              "      quickchartButtonEl.classList.add('colab-df-quickchart-complete');\n",
              "    }\n",
              "    (() => {\n",
              "      let quickchartButtonEl =\n",
              "        document.querySelector('#df-a15aa1e9-2aaf-4c0d-ab0a-cba04926fef3 button');\n",
              "      quickchartButtonEl.style.display =\n",
              "        google.colab.kernel.accessAllowed ? 'block' : 'none';\n",
              "    })();\n",
              "  </script>\n",
              "</div>\n",
              "\n",
              "    </div>\n",
              "  </div>\n"
            ],
            "text/plain": [
              "          ID                     Title Release year  \\\n",
              "0  tt0111161  The Shawshank Redemption   1995-02-10   \n",
              "3  tt0071562    The Godfather: Part II   1975-09-25   \n",
              "6  tt0108052          Schindler's List   1994-03-11   \n",
              "7  tt0050083              12 Angry Men   1957-09-04   \n",
              "8  tt1375666                 Inception   2010-09-24   \n",
              "\n",
              "                       Genre Duration Country Content Rating  \\\n",
              "0                      Drama      142     USA              R   \n",
              "3               Crime, Drama      220     USA              R   \n",
              "6  Biography, Drama, History      Nan     USA              R   \n",
              "7               Crime, Drama       96     USA      Not Rated   \n",
              "8  Action, Adventure, Sci-Fi      148     USA          PG-13   \n",
              "\n",
              "               Director       Earnings     Votes  Score  \n",
              "0        Frank Darabont     $ 28815245  2.278.845   9.3  \n",
              "3  Francis Ford Coppola  $ 4o8,035,783  1.098.714  9,.0  \n",
              "6      Steven Spielberg    $ 322287794  1.183.248   8.9  \n",
              "7          Sidney Lumet          $ 576    668.473   8.9  \n",
              "8     Christopher Nolan    $ 869784991  2.002.816  8..8  "
            ]
          },
          "execution_count": 455,
          "metadata": {},
          "output_type": "execute_result"
        }
      ],
      "source": [
        "df = df.replace('', np.nan).dropna() #replacing empty strings with nan and then drop it\n",
        "df.head()"
      ]
    },
    {
      "cell_type": "code",
      "execution_count": 456,
      "metadata": {
        "colab": {
          "base_uri": "https://localhost:8080/",
          "height": 399
        },
        "id": "T7khYiIjN0hz",
        "outputId": "2af3ae38-e115-489d-b56a-9c8e00d81f4f"
      },
      "outputs": [
        {
          "data": {
            "application/vnd.google.colaboratory.intrinsic+json": {
              "summary": "{\n  \"name\": \"df\",\n  \"rows\": 65,\n  \"fields\": [\n    {\n      \"column\": \"ID\",\n      \"properties\": {\n        \"dtype\": \"string\",\n        \"num_unique_values\": 65,\n        \"samples\": [\n          \"tt0208092\",\n          \"tt2106476\",\n          \"tt0111161\"\n        ],\n        \"semantic_type\": \"\",\n        \"description\": \"\"\n      }\n    },\n    {\n      \"column\": \"Title\",\n      \"properties\": {\n        \"dtype\": \"string\",\n        \"num_unique_values\": 65,\n        \"samples\": [\n          \"Snatch\",\n          \"Jagten\",\n          \"The Shawshank Redemption\"\n        ],\n        \"semantic_type\": \"\",\n        \"description\": \"\"\n      }\n    },\n    {\n      \"column\": \"Release year\",\n      \"properties\": {\n        \"dtype\": \"object\",\n        \"num_unique_values\": 64,\n        \"samples\": [\n          \"2001-03-16\",\n          \"1985-02-15\",\n          \"1995-02-10\"\n        ],\n        \"semantic_type\": \"\",\n        \"description\": \"\"\n      }\n    },\n    {\n      \"column\": \"Genre\",\n      \"properties\": {\n        \"dtype\": \"string\",\n        \"num_unique_values\": 44,\n        \"samples\": [\n          \"Animation, Adventure, Comedy\",\n          \"Comedy, Drama, Family\",\n          \"Action, Adventure\"\n        ],\n        \"semantic_type\": \"\",\n        \"description\": \"\"\n      }\n    },\n    {\n      \"column\": \"Duration\",\n      \"properties\": {\n        \"dtype\": \"string\",\n        \"num_unique_values\": 53,\n        \"samples\": [\n          \"119\",\n          \"99\",\n          \"103\"\n        ],\n        \"semantic_type\": \"\",\n        \"description\": \"\"\n      }\n    },\n    {\n      \"column\": \"Country\",\n      \"properties\": {\n        \"dtype\": \"category\",\n        \"num_unique_values\": 13,\n        \"samples\": [\n          \"West Germany\",\n          \"France\",\n          \"USA\"\n        ],\n        \"semantic_type\": \"\",\n        \"description\": \"\"\n      }\n    },\n    {\n      \"column\": \"Content Rating\",\n      \"properties\": {\n        \"dtype\": \"category\",\n        \"num_unique_values\": 6,\n        \"samples\": [\n          \"R\",\n          \"Not Rated\",\n          \"G\"\n        ],\n        \"semantic_type\": \"\",\n        \"description\": \"\"\n      }\n    },\n    {\n      \"column\": \"Director\",\n      \"properties\": {\n        \"dtype\": \"string\",\n        \"num_unique_values\": 47,\n        \"samples\": [\n          \"Andrew Stanton\",\n          \"Lee Unkrich\",\n          \"Quentin Tarantino\"\n        ],\n        \"semantic_type\": \"\",\n        \"description\": \"\"\n      }\n    },\n    {\n      \"column\": \"Earnings\",\n      \"properties\": {\n        \"dtype\": \"string\",\n        \"num_unique_values\": 65,\n        \"samples\": [\n          \"$ 83557872\",\n          \"$ 15843274\",\n          \"$ 28815245\"\n        ],\n        \"semantic_type\": \"\",\n        \"description\": \"\"\n      }\n    },\n    {\n      \"column\": \" Votes \",\n      \"properties\": {\n        \"dtype\": \"string\",\n        \"num_unique_values\": 65,\n        \"samples\": [\n          \"766.589\",\n          \"269.616\",\n          \"2.278.845\"\n        ],\n        \"semantic_type\": \"\",\n        \"description\": \"\"\n      }\n    },\n    {\n      \"column\": \"Score\",\n      \"properties\": {\n        \"dtype\": \"category\",\n        \"num_unique_values\": 22,\n        \"samples\": [\n          \"9.3\",\n          \"8.2\",\n          \"8.6\"\n        ],\n        \"semantic_type\": \"\",\n        \"description\": \"\"\n      }\n    }\n  ]\n}",
              "type": "dataframe",
              "variable_name": "df"
            },
            "text/html": [
              "\n",
              "  <div id=\"df-748ae7c6-d386-4e42-848a-540b7c1277d3\" class=\"colab-df-container\">\n",
              "    <div>\n",
              "<style scoped>\n",
              "    .dataframe tbody tr th:only-of-type {\n",
              "        vertical-align: middle;\n",
              "    }\n",
              "\n",
              "    .dataframe tbody tr th {\n",
              "        vertical-align: top;\n",
              "    }\n",
              "\n",
              "    .dataframe thead th {\n",
              "        text-align: right;\n",
              "    }\n",
              "</style>\n",
              "<table border=\"1\" class=\"dataframe\">\n",
              "  <thead>\n",
              "    <tr style=\"text-align: right;\">\n",
              "      <th></th>\n",
              "      <th>ID</th>\n",
              "      <th>Title</th>\n",
              "      <th>Release year</th>\n",
              "      <th>Genre</th>\n",
              "      <th>Duration</th>\n",
              "      <th>Country</th>\n",
              "      <th>Content Rating</th>\n",
              "      <th>Director</th>\n",
              "      <th>Earnings</th>\n",
              "      <th>Votes</th>\n",
              "      <th>Score</th>\n",
              "    </tr>\n",
              "  </thead>\n",
              "  <tbody>\n",
              "    <tr>\n",
              "      <th>0</th>\n",
              "      <td>tt0111161</td>\n",
              "      <td>The Shawshank Redemption</td>\n",
              "      <td>1995-02-10</td>\n",
              "      <td>Drama</td>\n",
              "      <td>142</td>\n",
              "      <td>USA</td>\n",
              "      <td>R</td>\n",
              "      <td>Frank Darabont</td>\n",
              "      <td>$ 28815245</td>\n",
              "      <td>2.278.845</td>\n",
              "      <td>9.3</td>\n",
              "    </tr>\n",
              "    <tr>\n",
              "      <th>3</th>\n",
              "      <td>tt0071562</td>\n",
              "      <td>The Godfather: Part II</td>\n",
              "      <td>1975-09-25</td>\n",
              "      <td>Crime, Drama</td>\n",
              "      <td>220</td>\n",
              "      <td>USA</td>\n",
              "      <td>R</td>\n",
              "      <td>Francis Ford Coppola</td>\n",
              "      <td>$ 4o8,035,783</td>\n",
              "      <td>1.098.714</td>\n",
              "      <td>9,.0</td>\n",
              "    </tr>\n",
              "    <tr>\n",
              "      <th>6</th>\n",
              "      <td>tt0108052</td>\n",
              "      <td>Schindler's List</td>\n",
              "      <td>1994-03-11</td>\n",
              "      <td>Biography, Drama, History</td>\n",
              "      <td>Nan</td>\n",
              "      <td>USA</td>\n",
              "      <td>R</td>\n",
              "      <td>Steven Spielberg</td>\n",
              "      <td>$ 322287794</td>\n",
              "      <td>1.183.248</td>\n",
              "      <td>8.9</td>\n",
              "    </tr>\n",
              "    <tr>\n",
              "      <th>7</th>\n",
              "      <td>tt0050083</td>\n",
              "      <td>12 Angry Men</td>\n",
              "      <td>1957-09-04</td>\n",
              "      <td>Crime, Drama</td>\n",
              "      <td>96</td>\n",
              "      <td>USA</td>\n",
              "      <td>Not Rated</td>\n",
              "      <td>Sidney Lumet</td>\n",
              "      <td>$ 576</td>\n",
              "      <td>668.473</td>\n",
              "      <td>8.9</td>\n",
              "    </tr>\n",
              "    <tr>\n",
              "      <th>8</th>\n",
              "      <td>tt1375666</td>\n",
              "      <td>Inception</td>\n",
              "      <td>2010-09-24</td>\n",
              "      <td>Action, Adventure, Sci-Fi</td>\n",
              "      <td>148</td>\n",
              "      <td>USA</td>\n",
              "      <td>PG-13</td>\n",
              "      <td>Christopher Nolan</td>\n",
              "      <td>$ 869784991</td>\n",
              "      <td>2.002.816</td>\n",
              "      <td>8..8</td>\n",
              "    </tr>\n",
              "  </tbody>\n",
              "</table>\n",
              "</div>\n",
              "    <div class=\"colab-df-buttons\">\n",
              "\n",
              "  <div class=\"colab-df-container\">\n",
              "    <button class=\"colab-df-convert\" onclick=\"convertToInteractive('df-748ae7c6-d386-4e42-848a-540b7c1277d3')\"\n",
              "            title=\"Convert this dataframe to an interactive table.\"\n",
              "            style=\"display:none;\">\n",
              "\n",
              "  <svg xmlns=\"http://www.w3.org/2000/svg\" height=\"24px\" viewBox=\"0 -960 960 960\">\n",
              "    <path d=\"M120-120v-720h720v720H120Zm60-500h600v-160H180v160Zm220 220h160v-160H400v160Zm0 220h160v-160H400v160ZM180-400h160v-160H180v160Zm440 0h160v-160H620v160ZM180-180h160v-160H180v160Zm440 0h160v-160H620v160Z\"/>\n",
              "  </svg>\n",
              "    </button>\n",
              "\n",
              "  <style>\n",
              "    .colab-df-container {\n",
              "      display:flex;\n",
              "      gap: 12px;\n",
              "    }\n",
              "\n",
              "    .colab-df-convert {\n",
              "      background-color: #E8F0FE;\n",
              "      border: none;\n",
              "      border-radius: 50%;\n",
              "      cursor: pointer;\n",
              "      display: none;\n",
              "      fill: #1967D2;\n",
              "      height: 32px;\n",
              "      padding: 0 0 0 0;\n",
              "      width: 32px;\n",
              "    }\n",
              "\n",
              "    .colab-df-convert:hover {\n",
              "      background-color: #E2EBFA;\n",
              "      box-shadow: 0px 1px 2px rgba(60, 64, 67, 0.3), 0px 1px 3px 1px rgba(60, 64, 67, 0.15);\n",
              "      fill: #174EA6;\n",
              "    }\n",
              "\n",
              "    .colab-df-buttons div {\n",
              "      margin-bottom: 4px;\n",
              "    }\n",
              "\n",
              "    [theme=dark] .colab-df-convert {\n",
              "      background-color: #3B4455;\n",
              "      fill: #D2E3FC;\n",
              "    }\n",
              "\n",
              "    [theme=dark] .colab-df-convert:hover {\n",
              "      background-color: #434B5C;\n",
              "      box-shadow: 0px 1px 3px 1px rgba(0, 0, 0, 0.15);\n",
              "      filter: drop-shadow(0px 1px 2px rgba(0, 0, 0, 0.3));\n",
              "      fill: #FFFFFF;\n",
              "    }\n",
              "  </style>\n",
              "\n",
              "    <script>\n",
              "      const buttonEl =\n",
              "        document.querySelector('#df-748ae7c6-d386-4e42-848a-540b7c1277d3 button.colab-df-convert');\n",
              "      buttonEl.style.display =\n",
              "        google.colab.kernel.accessAllowed ? 'block' : 'none';\n",
              "\n",
              "      async function convertToInteractive(key) {\n",
              "        const element = document.querySelector('#df-748ae7c6-d386-4e42-848a-540b7c1277d3');\n",
              "        const dataTable =\n",
              "          await google.colab.kernel.invokeFunction('convertToInteractive',\n",
              "                                                    [key], {});\n",
              "        if (!dataTable) return;\n",
              "\n",
              "        const docLinkHtml = 'Like what you see? Visit the ' +\n",
              "          '<a target=\"_blank\" href=https://colab.research.google.com/notebooks/data_table.ipynb>data table notebook</a>'\n",
              "          + ' to learn more about interactive tables.';\n",
              "        element.innerHTML = '';\n",
              "        dataTable['output_type'] = 'display_data';\n",
              "        await google.colab.output.renderOutput(dataTable, element);\n",
              "        const docLink = document.createElement('div');\n",
              "        docLink.innerHTML = docLinkHtml;\n",
              "        element.appendChild(docLink);\n",
              "      }\n",
              "    </script>\n",
              "  </div>\n",
              "\n",
              "\n",
              "<div id=\"df-83845618-2cbc-49c0-9ba0-b6db53b28ea3\">\n",
              "  <button class=\"colab-df-quickchart\" onclick=\"quickchart('df-83845618-2cbc-49c0-9ba0-b6db53b28ea3')\"\n",
              "            title=\"Suggest charts\"\n",
              "            style=\"display:none;\">\n",
              "\n",
              "<svg xmlns=\"http://www.w3.org/2000/svg\" height=\"24px\"viewBox=\"0 0 24 24\"\n",
              "     width=\"24px\">\n",
              "    <g>\n",
              "        <path d=\"M19 3H5c-1.1 0-2 .9-2 2v14c0 1.1.9 2 2 2h14c1.1 0 2-.9 2-2V5c0-1.1-.9-2-2-2zM9 17H7v-7h2v7zm4 0h-2V7h2v10zm4 0h-2v-4h2v4z\"/>\n",
              "    </g>\n",
              "</svg>\n",
              "  </button>\n",
              "\n",
              "<style>\n",
              "  .colab-df-quickchart {\n",
              "      --bg-color: #E8F0FE;\n",
              "      --fill-color: #1967D2;\n",
              "      --hover-bg-color: #E2EBFA;\n",
              "      --hover-fill-color: #174EA6;\n",
              "      --disabled-fill-color: #AAA;\n",
              "      --disabled-bg-color: #DDD;\n",
              "  }\n",
              "\n",
              "  [theme=dark] .colab-df-quickchart {\n",
              "      --bg-color: #3B4455;\n",
              "      --fill-color: #D2E3FC;\n",
              "      --hover-bg-color: #434B5C;\n",
              "      --hover-fill-color: #FFFFFF;\n",
              "      --disabled-bg-color: #3B4455;\n",
              "      --disabled-fill-color: #666;\n",
              "  }\n",
              "\n",
              "  .colab-df-quickchart {\n",
              "    background-color: var(--bg-color);\n",
              "    border: none;\n",
              "    border-radius: 50%;\n",
              "    cursor: pointer;\n",
              "    display: none;\n",
              "    fill: var(--fill-color);\n",
              "    height: 32px;\n",
              "    padding: 0;\n",
              "    width: 32px;\n",
              "  }\n",
              "\n",
              "  .colab-df-quickchart:hover {\n",
              "    background-color: var(--hover-bg-color);\n",
              "    box-shadow: 0 1px 2px rgba(60, 64, 67, 0.3), 0 1px 3px 1px rgba(60, 64, 67, 0.15);\n",
              "    fill: var(--button-hover-fill-color);\n",
              "  }\n",
              "\n",
              "  .colab-df-quickchart-complete:disabled,\n",
              "  .colab-df-quickchart-complete:disabled:hover {\n",
              "    background-color: var(--disabled-bg-color);\n",
              "    fill: var(--disabled-fill-color);\n",
              "    box-shadow: none;\n",
              "  }\n",
              "\n",
              "  .colab-df-spinner {\n",
              "    border: 2px solid var(--fill-color);\n",
              "    border-color: transparent;\n",
              "    border-bottom-color: var(--fill-color);\n",
              "    animation:\n",
              "      spin 1s steps(1) infinite;\n",
              "  }\n",
              "\n",
              "  @keyframes spin {\n",
              "    0% {\n",
              "      border-color: transparent;\n",
              "      border-bottom-color: var(--fill-color);\n",
              "      border-left-color: var(--fill-color);\n",
              "    }\n",
              "    20% {\n",
              "      border-color: transparent;\n",
              "      border-left-color: var(--fill-color);\n",
              "      border-top-color: var(--fill-color);\n",
              "    }\n",
              "    30% {\n",
              "      border-color: transparent;\n",
              "      border-left-color: var(--fill-color);\n",
              "      border-top-color: var(--fill-color);\n",
              "      border-right-color: var(--fill-color);\n",
              "    }\n",
              "    40% {\n",
              "      border-color: transparent;\n",
              "      border-right-color: var(--fill-color);\n",
              "      border-top-color: var(--fill-color);\n",
              "    }\n",
              "    60% {\n",
              "      border-color: transparent;\n",
              "      border-right-color: var(--fill-color);\n",
              "    }\n",
              "    80% {\n",
              "      border-color: transparent;\n",
              "      border-right-color: var(--fill-color);\n",
              "      border-bottom-color: var(--fill-color);\n",
              "    }\n",
              "    90% {\n",
              "      border-color: transparent;\n",
              "      border-bottom-color: var(--fill-color);\n",
              "    }\n",
              "  }\n",
              "</style>\n",
              "\n",
              "  <script>\n",
              "    async function quickchart(key) {\n",
              "      const quickchartButtonEl =\n",
              "        document.querySelector('#' + key + ' button');\n",
              "      quickchartButtonEl.disabled = true;  // To prevent multiple clicks.\n",
              "      quickchartButtonEl.classList.add('colab-df-spinner');\n",
              "      try {\n",
              "        const charts = await google.colab.kernel.invokeFunction(\n",
              "            'suggestCharts', [key], {});\n",
              "      } catch (error) {\n",
              "        console.error('Error during call to suggestCharts:', error);\n",
              "      }\n",
              "      quickchartButtonEl.classList.remove('colab-df-spinner');\n",
              "      quickchartButtonEl.classList.add('colab-df-quickchart-complete');\n",
              "    }\n",
              "    (() => {\n",
              "      let quickchartButtonEl =\n",
              "        document.querySelector('#df-83845618-2cbc-49c0-9ba0-b6db53b28ea3 button');\n",
              "      quickchartButtonEl.style.display =\n",
              "        google.colab.kernel.accessAllowed ? 'block' : 'none';\n",
              "    })();\n",
              "  </script>\n",
              "</div>\n",
              "\n",
              "    </div>\n",
              "  </div>\n"
            ],
            "text/plain": [
              "          ID                     Title Release year  \\\n",
              "0  tt0111161  The Shawshank Redemption   1995-02-10   \n",
              "3  tt0071562    The Godfather: Part II   1975-09-25   \n",
              "6  tt0108052          Schindler's List   1994-03-11   \n",
              "7  tt0050083              12 Angry Men   1957-09-04   \n",
              "8  tt1375666                 Inception   2010-09-24   \n",
              "\n",
              "                       Genre Duration Country Content Rating  \\\n",
              "0                      Drama      142     USA              R   \n",
              "3               Crime, Drama      220     USA              R   \n",
              "6  Biography, Drama, History      Nan     USA              R   \n",
              "7               Crime, Drama       96     USA      Not Rated   \n",
              "8  Action, Adventure, Sci-Fi      148     USA          PG-13   \n",
              "\n",
              "               Director       Earnings     Votes  Score  \n",
              "0        Frank Darabont     $ 28815245  2.278.845   9.3  \n",
              "3  Francis Ford Coppola  $ 4o8,035,783  1.098.714  9,.0  \n",
              "6      Steven Spielberg    $ 322287794  1.183.248   8.9  \n",
              "7          Sidney Lumet          $ 576    668.473   8.9  \n",
              "8     Christopher Nolan    $ 869784991  2.002.816  8..8  "
            ]
          },
          "execution_count": 456,
          "metadata": {},
          "output_type": "execute_result"
        }
      ],
      "source": [
        "df = df[~df['Score'].str.contains(r'^\\d{2}\\.\\d$')] #making the scores in one same formate\n",
        "df.head()"
      ]
    },
    {
      "cell_type": "code",
      "execution_count": 457,
      "metadata": {
        "id": "_nXikM4xOYxw"
      },
      "outputs": [],
      "source": [
        "df['Duration'] = pd.to_numeric(df['Duration'], errors='coerce')"
      ]
    },
    {
      "cell_type": "code",
      "execution_count": 458,
      "metadata": {
        "colab": {
          "base_uri": "https://localhost:8080/"
        },
        "id": "_bsvQ6zqO8Yd",
        "outputId": "895cff38-2886-4c80-81e8-39c3c666208c"
      },
      "outputs": [
        {
          "name": "stdout",
          "output_type": "stream",
          "text": [
            "float64\n",
            "0     142.0\n",
            "3     220.0\n",
            "6       0.0\n",
            "7      96.0\n",
            "8     148.0\n",
            "      ...  \n",
            "94    115.0\n",
            "95    228.0\n",
            "96    129.0\n",
            "97    149.0\n",
            "99    123.0\n",
            "Name: Duration, Length: 65, dtype: float64\n"
          ]
        }
      ],
      "source": [
        "print(df['Duration'].dtype)\n",
        "\n",
        "df = df.fillna(0)\n",
        "\n",
        "print(df['Duration'])"
      ]
    },
    {
      "cell_type": "code",
      "execution_count": 459,
      "metadata": {
        "colab": {
          "base_uri": "https://localhost:8080/",
          "height": 399
        },
        "id": "OiKq7gXdPMD9",
        "outputId": "a2140eaf-84e9-4a49-8f80-adc741ff469f"
      },
      "outputs": [
        {
          "data": {
            "application/vnd.google.colaboratory.intrinsic+json": {
              "summary": "{\n  \"name\": \"df\",\n  \"rows\": 65,\n  \"fields\": [\n    {\n      \"column\": \"ID\",\n      \"properties\": {\n        \"dtype\": \"string\",\n        \"num_unique_values\": 65,\n        \"samples\": [\n          \"tt0208092\",\n          \"tt2106476\",\n          \"tt0111161\"\n        ],\n        \"semantic_type\": \"\",\n        \"description\": \"\"\n      }\n    },\n    {\n      \"column\": \"Title\",\n      \"properties\": {\n        \"dtype\": \"string\",\n        \"num_unique_values\": 65,\n        \"samples\": [\n          \"Snatch\",\n          \"Jagten\",\n          \"The Shawshank Redemption\"\n        ],\n        \"semantic_type\": \"\",\n        \"description\": \"\"\n      }\n    },\n    {\n      \"column\": \"Release year\",\n      \"properties\": {\n        \"dtype\": \"object\",\n        \"num_unique_values\": 64,\n        \"samples\": [\n          \"2001-03-16\",\n          \"1985-02-15\",\n          \"1995-02-10\"\n        ],\n        \"semantic_type\": \"\",\n        \"description\": \"\"\n      }\n    },\n    {\n      \"column\": \"Genre\",\n      \"properties\": {\n        \"dtype\": \"string\",\n        \"num_unique_values\": 44,\n        \"samples\": [\n          \"Animation, Adventure, Comedy\",\n          \"Comedy, Drama, Family\",\n          \"Action, Adventure\"\n        ],\n        \"semantic_type\": \"\",\n        \"description\": \"\"\n      }\n    },\n    {\n      \"column\": \"Duration\",\n      \"properties\": {\n        \"dtype\": \"object\",\n        \"num_unique_values\": 51,\n        \"samples\": [\n          \"01:44:00\",\n          \"01:48:00\",\n          \"02:29:00\"\n        ],\n        \"semantic_type\": \"\",\n        \"description\": \"\"\n      }\n    },\n    {\n      \"column\": \"Country\",\n      \"properties\": {\n        \"dtype\": \"category\",\n        \"num_unique_values\": 13,\n        \"samples\": [\n          \"West Germany\",\n          \"France\",\n          \"USA\"\n        ],\n        \"semantic_type\": \"\",\n        \"description\": \"\"\n      }\n    },\n    {\n      \"column\": \"Content Rating\",\n      \"properties\": {\n        \"dtype\": \"category\",\n        \"num_unique_values\": 6,\n        \"samples\": [\n          \"R\",\n          \"Not Rated\",\n          \"G\"\n        ],\n        \"semantic_type\": \"\",\n        \"description\": \"\"\n      }\n    },\n    {\n      \"column\": \"Director\",\n      \"properties\": {\n        \"dtype\": \"string\",\n        \"num_unique_values\": 47,\n        \"samples\": [\n          \"Andrew Stanton\",\n          \"Lee Unkrich\",\n          \"Quentin Tarantino\"\n        ],\n        \"semantic_type\": \"\",\n        \"description\": \"\"\n      }\n    },\n    {\n      \"column\": \"Earnings\",\n      \"properties\": {\n        \"dtype\": \"string\",\n        \"num_unique_values\": 65,\n        \"samples\": [\n          \"$ 83557872\",\n          \"$ 15843274\",\n          \"$ 28815245\"\n        ],\n        \"semantic_type\": \"\",\n        \"description\": \"\"\n      }\n    },\n    {\n      \"column\": \" Votes \",\n      \"properties\": {\n        \"dtype\": \"string\",\n        \"num_unique_values\": 65,\n        \"samples\": [\n          \"766.589\",\n          \"269.616\",\n          \"2.278.845\"\n        ],\n        \"semantic_type\": \"\",\n        \"description\": \"\"\n      }\n    },\n    {\n      \"column\": \"Score\",\n      \"properties\": {\n        \"dtype\": \"category\",\n        \"num_unique_values\": 22,\n        \"samples\": [\n          \"9.3\",\n          \"8.2\",\n          \"8.6\"\n        ],\n        \"semantic_type\": \"\",\n        \"description\": \"\"\n      }\n    }\n  ]\n}",
              "type": "dataframe",
              "variable_name": "df"
            },
            "text/html": [
              "\n",
              "  <div id=\"df-f50d59c0-c7b2-468b-a5e2-67409d0a5e30\" class=\"colab-df-container\">\n",
              "    <div>\n",
              "<style scoped>\n",
              "    .dataframe tbody tr th:only-of-type {\n",
              "        vertical-align: middle;\n",
              "    }\n",
              "\n",
              "    .dataframe tbody tr th {\n",
              "        vertical-align: top;\n",
              "    }\n",
              "\n",
              "    .dataframe thead th {\n",
              "        text-align: right;\n",
              "    }\n",
              "</style>\n",
              "<table border=\"1\" class=\"dataframe\">\n",
              "  <thead>\n",
              "    <tr style=\"text-align: right;\">\n",
              "      <th></th>\n",
              "      <th>ID</th>\n",
              "      <th>Title</th>\n",
              "      <th>Release year</th>\n",
              "      <th>Genre</th>\n",
              "      <th>Duration</th>\n",
              "      <th>Country</th>\n",
              "      <th>Content Rating</th>\n",
              "      <th>Director</th>\n",
              "      <th>Earnings</th>\n",
              "      <th>Votes</th>\n",
              "      <th>Score</th>\n",
              "    </tr>\n",
              "  </thead>\n",
              "  <tbody>\n",
              "    <tr>\n",
              "      <th>0</th>\n",
              "      <td>tt0111161</td>\n",
              "      <td>The Shawshank Redemption</td>\n",
              "      <td>1995-02-10</td>\n",
              "      <td>Drama</td>\n",
              "      <td>02:22:00</td>\n",
              "      <td>USA</td>\n",
              "      <td>R</td>\n",
              "      <td>Frank Darabont</td>\n",
              "      <td>$ 28815245</td>\n",
              "      <td>2.278.845</td>\n",
              "      <td>9.3</td>\n",
              "    </tr>\n",
              "    <tr>\n",
              "      <th>3</th>\n",
              "      <td>tt0071562</td>\n",
              "      <td>The Godfather: Part II</td>\n",
              "      <td>1975-09-25</td>\n",
              "      <td>Crime, Drama</td>\n",
              "      <td>03:40:00</td>\n",
              "      <td>USA</td>\n",
              "      <td>R</td>\n",
              "      <td>Francis Ford Coppola</td>\n",
              "      <td>$ 4o8,035,783</td>\n",
              "      <td>1.098.714</td>\n",
              "      <td>9,.0</td>\n",
              "    </tr>\n",
              "    <tr>\n",
              "      <th>6</th>\n",
              "      <td>tt0108052</td>\n",
              "      <td>Schindler's List</td>\n",
              "      <td>1994-03-11</td>\n",
              "      <td>Biography, Drama, History</td>\n",
              "      <td>00:00:00</td>\n",
              "      <td>USA</td>\n",
              "      <td>R</td>\n",
              "      <td>Steven Spielberg</td>\n",
              "      <td>$ 322287794</td>\n",
              "      <td>1.183.248</td>\n",
              "      <td>8.9</td>\n",
              "    </tr>\n",
              "    <tr>\n",
              "      <th>7</th>\n",
              "      <td>tt0050083</td>\n",
              "      <td>12 Angry Men</td>\n",
              "      <td>1957-09-04</td>\n",
              "      <td>Crime, Drama</td>\n",
              "      <td>01:36:00</td>\n",
              "      <td>USA</td>\n",
              "      <td>Not Rated</td>\n",
              "      <td>Sidney Lumet</td>\n",
              "      <td>$ 576</td>\n",
              "      <td>668.473</td>\n",
              "      <td>8.9</td>\n",
              "    </tr>\n",
              "    <tr>\n",
              "      <th>8</th>\n",
              "      <td>tt1375666</td>\n",
              "      <td>Inception</td>\n",
              "      <td>2010-09-24</td>\n",
              "      <td>Action, Adventure, Sci-Fi</td>\n",
              "      <td>02:28:00</td>\n",
              "      <td>USA</td>\n",
              "      <td>PG-13</td>\n",
              "      <td>Christopher Nolan</td>\n",
              "      <td>$ 869784991</td>\n",
              "      <td>2.002.816</td>\n",
              "      <td>8..8</td>\n",
              "    </tr>\n",
              "  </tbody>\n",
              "</table>\n",
              "</div>\n",
              "    <div class=\"colab-df-buttons\">\n",
              "\n",
              "  <div class=\"colab-df-container\">\n",
              "    <button class=\"colab-df-convert\" onclick=\"convertToInteractive('df-f50d59c0-c7b2-468b-a5e2-67409d0a5e30')\"\n",
              "            title=\"Convert this dataframe to an interactive table.\"\n",
              "            style=\"display:none;\">\n",
              "\n",
              "  <svg xmlns=\"http://www.w3.org/2000/svg\" height=\"24px\" viewBox=\"0 -960 960 960\">\n",
              "    <path d=\"M120-120v-720h720v720H120Zm60-500h600v-160H180v160Zm220 220h160v-160H400v160Zm0 220h160v-160H400v160ZM180-400h160v-160H180v160Zm440 0h160v-160H620v160ZM180-180h160v-160H180v160Zm440 0h160v-160H620v160Z\"/>\n",
              "  </svg>\n",
              "    </button>\n",
              "\n",
              "  <style>\n",
              "    .colab-df-container {\n",
              "      display:flex;\n",
              "      gap: 12px;\n",
              "    }\n",
              "\n",
              "    .colab-df-convert {\n",
              "      background-color: #E8F0FE;\n",
              "      border: none;\n",
              "      border-radius: 50%;\n",
              "      cursor: pointer;\n",
              "      display: none;\n",
              "      fill: #1967D2;\n",
              "      height: 32px;\n",
              "      padding: 0 0 0 0;\n",
              "      width: 32px;\n",
              "    }\n",
              "\n",
              "    .colab-df-convert:hover {\n",
              "      background-color: #E2EBFA;\n",
              "      box-shadow: 0px 1px 2px rgba(60, 64, 67, 0.3), 0px 1px 3px 1px rgba(60, 64, 67, 0.15);\n",
              "      fill: #174EA6;\n",
              "    }\n",
              "\n",
              "    .colab-df-buttons div {\n",
              "      margin-bottom: 4px;\n",
              "    }\n",
              "\n",
              "    [theme=dark] .colab-df-convert {\n",
              "      background-color: #3B4455;\n",
              "      fill: #D2E3FC;\n",
              "    }\n",
              "\n",
              "    [theme=dark] .colab-df-convert:hover {\n",
              "      background-color: #434B5C;\n",
              "      box-shadow: 0px 1px 3px 1px rgba(0, 0, 0, 0.15);\n",
              "      filter: drop-shadow(0px 1px 2px rgba(0, 0, 0, 0.3));\n",
              "      fill: #FFFFFF;\n",
              "    }\n",
              "  </style>\n",
              "\n",
              "    <script>\n",
              "      const buttonEl =\n",
              "        document.querySelector('#df-f50d59c0-c7b2-468b-a5e2-67409d0a5e30 button.colab-df-convert');\n",
              "      buttonEl.style.display =\n",
              "        google.colab.kernel.accessAllowed ? 'block' : 'none';\n",
              "\n",
              "      async function convertToInteractive(key) {\n",
              "        const element = document.querySelector('#df-f50d59c0-c7b2-468b-a5e2-67409d0a5e30');\n",
              "        const dataTable =\n",
              "          await google.colab.kernel.invokeFunction('convertToInteractive',\n",
              "                                                    [key], {});\n",
              "        if (!dataTable) return;\n",
              "\n",
              "        const docLinkHtml = 'Like what you see? Visit the ' +\n",
              "          '<a target=\"_blank\" href=https://colab.research.google.com/notebooks/data_table.ipynb>data table notebook</a>'\n",
              "          + ' to learn more about interactive tables.';\n",
              "        element.innerHTML = '';\n",
              "        dataTable['output_type'] = 'display_data';\n",
              "        await google.colab.output.renderOutput(dataTable, element);\n",
              "        const docLink = document.createElement('div');\n",
              "        docLink.innerHTML = docLinkHtml;\n",
              "        element.appendChild(docLink);\n",
              "      }\n",
              "    </script>\n",
              "  </div>\n",
              "\n",
              "\n",
              "<div id=\"df-d8a21d0f-02de-499e-bbd0-688553784670\">\n",
              "  <button class=\"colab-df-quickchart\" onclick=\"quickchart('df-d8a21d0f-02de-499e-bbd0-688553784670')\"\n",
              "            title=\"Suggest charts\"\n",
              "            style=\"display:none;\">\n",
              "\n",
              "<svg xmlns=\"http://www.w3.org/2000/svg\" height=\"24px\"viewBox=\"0 0 24 24\"\n",
              "     width=\"24px\">\n",
              "    <g>\n",
              "        <path d=\"M19 3H5c-1.1 0-2 .9-2 2v14c0 1.1.9 2 2 2h14c1.1 0 2-.9 2-2V5c0-1.1-.9-2-2-2zM9 17H7v-7h2v7zm4 0h-2V7h2v10zm4 0h-2v-4h2v4z\"/>\n",
              "    </g>\n",
              "</svg>\n",
              "  </button>\n",
              "\n",
              "<style>\n",
              "  .colab-df-quickchart {\n",
              "      --bg-color: #E8F0FE;\n",
              "      --fill-color: #1967D2;\n",
              "      --hover-bg-color: #E2EBFA;\n",
              "      --hover-fill-color: #174EA6;\n",
              "      --disabled-fill-color: #AAA;\n",
              "      --disabled-bg-color: #DDD;\n",
              "  }\n",
              "\n",
              "  [theme=dark] .colab-df-quickchart {\n",
              "      --bg-color: #3B4455;\n",
              "      --fill-color: #D2E3FC;\n",
              "      --hover-bg-color: #434B5C;\n",
              "      --hover-fill-color: #FFFFFF;\n",
              "      --disabled-bg-color: #3B4455;\n",
              "      --disabled-fill-color: #666;\n",
              "  }\n",
              "\n",
              "  .colab-df-quickchart {\n",
              "    background-color: var(--bg-color);\n",
              "    border: none;\n",
              "    border-radius: 50%;\n",
              "    cursor: pointer;\n",
              "    display: none;\n",
              "    fill: var(--fill-color);\n",
              "    height: 32px;\n",
              "    padding: 0;\n",
              "    width: 32px;\n",
              "  }\n",
              "\n",
              "  .colab-df-quickchart:hover {\n",
              "    background-color: var(--hover-bg-color);\n",
              "    box-shadow: 0 1px 2px rgba(60, 64, 67, 0.3), 0 1px 3px 1px rgba(60, 64, 67, 0.15);\n",
              "    fill: var(--button-hover-fill-color);\n",
              "  }\n",
              "\n",
              "  .colab-df-quickchart-complete:disabled,\n",
              "  .colab-df-quickchart-complete:disabled:hover {\n",
              "    background-color: var(--disabled-bg-color);\n",
              "    fill: var(--disabled-fill-color);\n",
              "    box-shadow: none;\n",
              "  }\n",
              "\n",
              "  .colab-df-spinner {\n",
              "    border: 2px solid var(--fill-color);\n",
              "    border-color: transparent;\n",
              "    border-bottom-color: var(--fill-color);\n",
              "    animation:\n",
              "      spin 1s steps(1) infinite;\n",
              "  }\n",
              "\n",
              "  @keyframes spin {\n",
              "    0% {\n",
              "      border-color: transparent;\n",
              "      border-bottom-color: var(--fill-color);\n",
              "      border-left-color: var(--fill-color);\n",
              "    }\n",
              "    20% {\n",
              "      border-color: transparent;\n",
              "      border-left-color: var(--fill-color);\n",
              "      border-top-color: var(--fill-color);\n",
              "    }\n",
              "    30% {\n",
              "      border-color: transparent;\n",
              "      border-left-color: var(--fill-color);\n",
              "      border-top-color: var(--fill-color);\n",
              "      border-right-color: var(--fill-color);\n",
              "    }\n",
              "    40% {\n",
              "      border-color: transparent;\n",
              "      border-right-color: var(--fill-color);\n",
              "      border-top-color: var(--fill-color);\n",
              "    }\n",
              "    60% {\n",
              "      border-color: transparent;\n",
              "      border-right-color: var(--fill-color);\n",
              "    }\n",
              "    80% {\n",
              "      border-color: transparent;\n",
              "      border-right-color: var(--fill-color);\n",
              "      border-bottom-color: var(--fill-color);\n",
              "    }\n",
              "    90% {\n",
              "      border-color: transparent;\n",
              "      border-bottom-color: var(--fill-color);\n",
              "    }\n",
              "  }\n",
              "</style>\n",
              "\n",
              "  <script>\n",
              "    async function quickchart(key) {\n",
              "      const quickchartButtonEl =\n",
              "        document.querySelector('#' + key + ' button');\n",
              "      quickchartButtonEl.disabled = true;  // To prevent multiple clicks.\n",
              "      quickchartButtonEl.classList.add('colab-df-spinner');\n",
              "      try {\n",
              "        const charts = await google.colab.kernel.invokeFunction(\n",
              "            'suggestCharts', [key], {});\n",
              "      } catch (error) {\n",
              "        console.error('Error during call to suggestCharts:', error);\n",
              "      }\n",
              "      quickchartButtonEl.classList.remove('colab-df-spinner');\n",
              "      quickchartButtonEl.classList.add('colab-df-quickchart-complete');\n",
              "    }\n",
              "    (() => {\n",
              "      let quickchartButtonEl =\n",
              "        document.querySelector('#df-d8a21d0f-02de-499e-bbd0-688553784670 button');\n",
              "      quickchartButtonEl.style.display =\n",
              "        google.colab.kernel.accessAllowed ? 'block' : 'none';\n",
              "    })();\n",
              "  </script>\n",
              "</div>\n",
              "\n",
              "    </div>\n",
              "  </div>\n"
            ],
            "text/plain": [
              "          ID                     Title Release year  \\\n",
              "0  tt0111161  The Shawshank Redemption   1995-02-10   \n",
              "3  tt0071562    The Godfather: Part II   1975-09-25   \n",
              "6  tt0108052          Schindler's List   1994-03-11   \n",
              "7  tt0050083              12 Angry Men   1957-09-04   \n",
              "8  tt1375666                 Inception   2010-09-24   \n",
              "\n",
              "                       Genre  Duration Country Content Rating  \\\n",
              "0                      Drama  02:22:00     USA              R   \n",
              "3               Crime, Drama  03:40:00     USA              R   \n",
              "6  Biography, Drama, History  00:00:00     USA              R   \n",
              "7               Crime, Drama  01:36:00     USA      Not Rated   \n",
              "8  Action, Adventure, Sci-Fi  02:28:00     USA          PG-13   \n",
              "\n",
              "               Director       Earnings     Votes  Score  \n",
              "0        Frank Darabont     $ 28815245  2.278.845   9.3  \n",
              "3  Francis Ford Coppola  $ 4o8,035,783  1.098.714  9,.0  \n",
              "6      Steven Spielberg    $ 322287794  1.183.248   8.9  \n",
              "7          Sidney Lumet          $ 576    668.473   8.9  \n",
              "8     Christopher Nolan    $ 869784991  2.002.816  8..8  "
            ]
          },
          "execution_count": 459,
          "metadata": {},
          "output_type": "execute_result"
        }
      ],
      "source": [
        "#converting the Duration column into hours/minutes\n",
        "df['Duration'] = df['Duration'].apply(lambda x: '{:02d}:{:02d}:{:02d}'.format(int(x) // 60, int(x) % 60, 0))\n",
        "df.head() "
      ]
    },
    {
      "cell_type": "code",
      "execution_count": 462,
      "metadata": {
        "colab": {
          "base_uri": "https://localhost:8080/",
          "height": 458
        },
        "id": "YpX4GYVqREkl",
        "outputId": "b63621a8-2b53-4dff-f1aa-e51a8f928bd6"
      },
      "outputs": [
        {
          "data": {
            "text/html": [
              "<div>\n",
              "<style scoped>\n",
              "    .dataframe tbody tr th:only-of-type {\n",
              "        vertical-align: middle;\n",
              "    }\n",
              "\n",
              "    .dataframe tbody tr th {\n",
              "        vertical-align: top;\n",
              "    }\n",
              "\n",
              "    .dataframe thead th {\n",
              "        text-align: right;\n",
              "    }\n",
              "</style>\n",
              "<table border=\"1\" class=\"dataframe\">\n",
              "  <thead>\n",
              "    <tr style=\"text-align: right;\">\n",
              "      <th></th>\n",
              "      <th>Earnings</th>\n",
              "    </tr>\n",
              "  </thead>\n",
              "  <tbody>\n",
              "    <tr>\n",
              "      <th>0</th>\n",
              "      <td>$ 28815245</td>\n",
              "    </tr>\n",
              "    <tr>\n",
              "      <th>3</th>\n",
              "      <td>$ 4o8,035,783</td>\n",
              "    </tr>\n",
              "    <tr>\n",
              "      <th>6</th>\n",
              "      <td>$ 322287794</td>\n",
              "    </tr>\n",
              "    <tr>\n",
              "      <th>7</th>\n",
              "      <td>$ 576</td>\n",
              "    </tr>\n",
              "    <tr>\n",
              "      <th>8</th>\n",
              "      <td>$ 869784991</td>\n",
              "    </tr>\n",
              "    <tr>\n",
              "      <th>...</th>\n",
              "      <td>...</td>\n",
              "    </tr>\n",
              "    <tr>\n",
              "      <th>94</th>\n",
              "      <td>$ 15843274</td>\n",
              "    </tr>\n",
              "    <tr>\n",
              "      <th>95</th>\n",
              "      <td>$ 45710874</td>\n",
              "    </tr>\n",
              "    <tr>\n",
              "      <th>96</th>\n",
              "      <td>$ 156000000</td>\n",
              "    </tr>\n",
              "    <tr>\n",
              "      <th>97</th>\n",
              "      <td>$ 11487676</td>\n",
              "    </tr>\n",
              "    <tr>\n",
              "      <th>99</th>\n",
              "      <td>$ 22926076</td>\n",
              "    </tr>\n",
              "  </tbody>\n",
              "</table>\n",
              "<p>65 rows × 1 columns</p>\n",
              "</div><br><label><b>dtype:</b> object</label>"
            ],
            "text/plain": [
              "0        $ 28815245\n",
              "3     $ 4o8,035,783\n",
              "6       $ 322287794\n",
              "7             $ 576\n",
              "8       $ 869784991\n",
              "          ...      \n",
              "94       $ 15843274\n",
              "95       $ 45710874\n",
              "96      $ 156000000\n",
              "97       $ 11487676\n",
              "99       $ 22926076\n",
              "Name: Earnings, Length: 65, dtype: object"
            ]
          },
          "execution_count": 462,
          "metadata": {},
          "output_type": "execute_result"
        }
      ],
      "source": [
        "df['Earnings']"
      ]
    },
    {
      "cell_type": "code",
      "execution_count": 463,
      "metadata": {
        "id": "YPEbIA8yRhSJ"
      },
      "outputs": [],
      "source": [
        "#correcting and putting the Earning column in same formate\n",
        "df['Earnings'] = df['Earnings'].str.replace('$', '').str.replace(',', '')\n",
        "df['Earnings'] = df['Earnings'].str.replace('o', '0')\n",
        "df['Earnings'] = pd.to_numeric(df['Earnings'])\n",
        "df['Earnings'] = df['Earnings'].apply(lambda x: '${:,.0f}'.format(x))"
      ]
    },
    {
      "cell_type": "code",
      "execution_count": 464,
      "metadata": {
        "colab": {
          "base_uri": "https://localhost:8080/",
          "height": 458
        },
        "id": "m4pEUHooRmg5",
        "outputId": "1162dc27-73db-44df-eed0-da63d9e371c7"
      },
      "outputs": [
        {
          "data": {
            "text/html": [
              "<div>\n",
              "<style scoped>\n",
              "    .dataframe tbody tr th:only-of-type {\n",
              "        vertical-align: middle;\n",
              "    }\n",
              "\n",
              "    .dataframe tbody tr th {\n",
              "        vertical-align: top;\n",
              "    }\n",
              "\n",
              "    .dataframe thead th {\n",
              "        text-align: right;\n",
              "    }\n",
              "</style>\n",
              "<table border=\"1\" class=\"dataframe\">\n",
              "  <thead>\n",
              "    <tr style=\"text-align: right;\">\n",
              "      <th></th>\n",
              "      <th>Earnings</th>\n",
              "    </tr>\n",
              "  </thead>\n",
              "  <tbody>\n",
              "    <tr>\n",
              "      <th>0</th>\n",
              "      <td>$28,815,245</td>\n",
              "    </tr>\n",
              "    <tr>\n",
              "      <th>3</th>\n",
              "      <td>$408,035,783</td>\n",
              "    </tr>\n",
              "    <tr>\n",
              "      <th>6</th>\n",
              "      <td>$322,287,794</td>\n",
              "    </tr>\n",
              "    <tr>\n",
              "      <th>7</th>\n",
              "      <td>$576</td>\n",
              "    </tr>\n",
              "    <tr>\n",
              "      <th>8</th>\n",
              "      <td>$869,784,991</td>\n",
              "    </tr>\n",
              "    <tr>\n",
              "      <th>...</th>\n",
              "      <td>...</td>\n",
              "    </tr>\n",
              "    <tr>\n",
              "      <th>94</th>\n",
              "      <td>$15,843,274</td>\n",
              "    </tr>\n",
              "    <tr>\n",
              "      <th>95</th>\n",
              "      <td>$45,710,874</td>\n",
              "    </tr>\n",
              "    <tr>\n",
              "      <th>96</th>\n",
              "      <td>$156,000,000</td>\n",
              "    </tr>\n",
              "    <tr>\n",
              "      <th>97</th>\n",
              "      <td>$11,487,676</td>\n",
              "    </tr>\n",
              "    <tr>\n",
              "      <th>99</th>\n",
              "      <td>$22,926,076</td>\n",
              "    </tr>\n",
              "  </tbody>\n",
              "</table>\n",
              "<p>65 rows × 1 columns</p>\n",
              "</div><br><label><b>dtype:</b> object</label>"
            ],
            "text/plain": [
              "0      $28,815,245\n",
              "3     $408,035,783\n",
              "6     $322,287,794\n",
              "7             $576\n",
              "8     $869,784,991\n",
              "          ...     \n",
              "94     $15,843,274\n",
              "95     $45,710,874\n",
              "96    $156,000,000\n",
              "97     $11,487,676\n",
              "99     $22,926,076\n",
              "Name: Earnings, Length: 65, dtype: object"
            ]
          },
          "execution_count": 464,
          "metadata": {},
          "output_type": "execute_result"
        }
      ],
      "source": [
        "df['Earnings']"
      ]
    },
    {
      "cell_type": "code",
      "execution_count": 465,
      "metadata": {
        "colab": {
          "base_uri": "https://localhost:8080/",
          "height": 399
        },
        "id": "nXoUgD7aRu7F",
        "outputId": "fdba6b14-fa3a-4a4e-fc06-4276f2e391bc"
      },
      "outputs": [
        {
          "data": {
            "application/vnd.google.colaboratory.intrinsic+json": {
              "summary": "{\n  \"name\": \"df\",\n  \"rows\": 65,\n  \"fields\": [\n    {\n      \"column\": \"ID\",\n      \"properties\": {\n        \"dtype\": \"string\",\n        \"num_unique_values\": 65,\n        \"samples\": [\n          \"tt0208092\",\n          \"tt2106476\",\n          \"tt0111161\"\n        ],\n        \"semantic_type\": \"\",\n        \"description\": \"\"\n      }\n    },\n    {\n      \"column\": \"Title\",\n      \"properties\": {\n        \"dtype\": \"string\",\n        \"num_unique_values\": 65,\n        \"samples\": [\n          \"Snatch\",\n          \"Jagten\",\n          \"The Shawshank Redemption\"\n        ],\n        \"semantic_type\": \"\",\n        \"description\": \"\"\n      }\n    },\n    {\n      \"column\": \"Release year\",\n      \"properties\": {\n        \"dtype\": \"object\",\n        \"num_unique_values\": 64,\n        \"samples\": [\n          \"2001-03-16\",\n          \"1985-02-15\",\n          \"1995-02-10\"\n        ],\n        \"semantic_type\": \"\",\n        \"description\": \"\"\n      }\n    },\n    {\n      \"column\": \"Genre\",\n      \"properties\": {\n        \"dtype\": \"string\",\n        \"num_unique_values\": 44,\n        \"samples\": [\n          \"Animation, Adventure, Comedy\",\n          \"Comedy, Drama, Family\",\n          \"Action, Adventure\"\n        ],\n        \"semantic_type\": \"\",\n        \"description\": \"\"\n      }\n    },\n    {\n      \"column\": \"Duration\",\n      \"properties\": {\n        \"dtype\": \"object\",\n        \"num_unique_values\": 51,\n        \"samples\": [\n          \"01:44:00\",\n          \"01:48:00\",\n          \"02:29:00\"\n        ],\n        \"semantic_type\": \"\",\n        \"description\": \"\"\n      }\n    },\n    {\n      \"column\": \"Country\",\n      \"properties\": {\n        \"dtype\": \"category\",\n        \"num_unique_values\": 13,\n        \"samples\": [\n          \"West Germany\",\n          \"France\",\n          \"USA\"\n        ],\n        \"semantic_type\": \"\",\n        \"description\": \"\"\n      }\n    },\n    {\n      \"column\": \"Content Rating\",\n      \"properties\": {\n        \"dtype\": \"category\",\n        \"num_unique_values\": 6,\n        \"samples\": [\n          \"R\",\n          \"Not Rated\",\n          \"G\"\n        ],\n        \"semantic_type\": \"\",\n        \"description\": \"\"\n      }\n    },\n    {\n      \"column\": \"Director\",\n      \"properties\": {\n        \"dtype\": \"string\",\n        \"num_unique_values\": 47,\n        \"samples\": [\n          \"Andrew Stanton\",\n          \"Lee Unkrich\",\n          \"Quentin Tarantino\"\n        ],\n        \"semantic_type\": \"\",\n        \"description\": \"\"\n      }\n    },\n    {\n      \"column\": \"Earnings\",\n      \"properties\": {\n        \"dtype\": \"string\",\n        \"num_unique_values\": 65,\n        \"samples\": [\n          \"$83,557,872\",\n          \"$15,843,274\",\n          \"$28,815,245\"\n        ],\n        \"semantic_type\": \"\",\n        \"description\": \"\"\n      }\n    },\n    {\n      \"column\": \" Votes \",\n      \"properties\": {\n        \"dtype\": \"string\",\n        \"num_unique_values\": 65,\n        \"samples\": [\n          \"766.589\",\n          \"269.616\",\n          \"2.278.845\"\n        ],\n        \"semantic_type\": \"\",\n        \"description\": \"\"\n      }\n    },\n    {\n      \"column\": \"Score\",\n      \"properties\": {\n        \"dtype\": \"category\",\n        \"num_unique_values\": 22,\n        \"samples\": [\n          \"9.3\",\n          \"8.2\",\n          \"8.6\"\n        ],\n        \"semantic_type\": \"\",\n        \"description\": \"\"\n      }\n    }\n  ]\n}",
              "type": "dataframe",
              "variable_name": "df"
            },
            "text/html": [
              "\n",
              "  <div id=\"df-1dcf6e21-8210-4f4b-b4b7-e6da2c03031e\" class=\"colab-df-container\">\n",
              "    <div>\n",
              "<style scoped>\n",
              "    .dataframe tbody tr th:only-of-type {\n",
              "        vertical-align: middle;\n",
              "    }\n",
              "\n",
              "    .dataframe tbody tr th {\n",
              "        vertical-align: top;\n",
              "    }\n",
              "\n",
              "    .dataframe thead th {\n",
              "        text-align: right;\n",
              "    }\n",
              "</style>\n",
              "<table border=\"1\" class=\"dataframe\">\n",
              "  <thead>\n",
              "    <tr style=\"text-align: right;\">\n",
              "      <th></th>\n",
              "      <th>ID</th>\n",
              "      <th>Title</th>\n",
              "      <th>Release year</th>\n",
              "      <th>Genre</th>\n",
              "      <th>Duration</th>\n",
              "      <th>Country</th>\n",
              "      <th>Content Rating</th>\n",
              "      <th>Director</th>\n",
              "      <th>Earnings</th>\n",
              "      <th>Votes</th>\n",
              "      <th>Score</th>\n",
              "    </tr>\n",
              "  </thead>\n",
              "  <tbody>\n",
              "    <tr>\n",
              "      <th>0</th>\n",
              "      <td>tt0111161</td>\n",
              "      <td>The Shawshank Redemption</td>\n",
              "      <td>1995-02-10</td>\n",
              "      <td>Drama</td>\n",
              "      <td>02:22:00</td>\n",
              "      <td>USA</td>\n",
              "      <td>R</td>\n",
              "      <td>Frank Darabont</td>\n",
              "      <td>$28,815,245</td>\n",
              "      <td>2.278.845</td>\n",
              "      <td>9.3</td>\n",
              "    </tr>\n",
              "    <tr>\n",
              "      <th>3</th>\n",
              "      <td>tt0071562</td>\n",
              "      <td>The Godfather: Part II</td>\n",
              "      <td>1975-09-25</td>\n",
              "      <td>Crime, Drama</td>\n",
              "      <td>03:40:00</td>\n",
              "      <td>USA</td>\n",
              "      <td>R</td>\n",
              "      <td>Francis Ford Coppola</td>\n",
              "      <td>$408,035,783</td>\n",
              "      <td>1.098.714</td>\n",
              "      <td>9,.0</td>\n",
              "    </tr>\n",
              "    <tr>\n",
              "      <th>6</th>\n",
              "      <td>tt0108052</td>\n",
              "      <td>Schindler's List</td>\n",
              "      <td>1994-03-11</td>\n",
              "      <td>Biography, Drama, History</td>\n",
              "      <td>00:00:00</td>\n",
              "      <td>USA</td>\n",
              "      <td>R</td>\n",
              "      <td>Steven Spielberg</td>\n",
              "      <td>$322,287,794</td>\n",
              "      <td>1.183.248</td>\n",
              "      <td>8.9</td>\n",
              "    </tr>\n",
              "    <tr>\n",
              "      <th>7</th>\n",
              "      <td>tt0050083</td>\n",
              "      <td>12 Angry Men</td>\n",
              "      <td>1957-09-04</td>\n",
              "      <td>Crime, Drama</td>\n",
              "      <td>01:36:00</td>\n",
              "      <td>USA</td>\n",
              "      <td>Not Rated</td>\n",
              "      <td>Sidney Lumet</td>\n",
              "      <td>$576</td>\n",
              "      <td>668.473</td>\n",
              "      <td>8.9</td>\n",
              "    </tr>\n",
              "    <tr>\n",
              "      <th>8</th>\n",
              "      <td>tt1375666</td>\n",
              "      <td>Inception</td>\n",
              "      <td>2010-09-24</td>\n",
              "      <td>Action, Adventure, Sci-Fi</td>\n",
              "      <td>02:28:00</td>\n",
              "      <td>USA</td>\n",
              "      <td>PG-13</td>\n",
              "      <td>Christopher Nolan</td>\n",
              "      <td>$869,784,991</td>\n",
              "      <td>2.002.816</td>\n",
              "      <td>8..8</td>\n",
              "    </tr>\n",
              "  </tbody>\n",
              "</table>\n",
              "</div>\n",
              "    <div class=\"colab-df-buttons\">\n",
              "\n",
              "  <div class=\"colab-df-container\">\n",
              "    <button class=\"colab-df-convert\" onclick=\"convertToInteractive('df-1dcf6e21-8210-4f4b-b4b7-e6da2c03031e')\"\n",
              "            title=\"Convert this dataframe to an interactive table.\"\n",
              "            style=\"display:none;\">\n",
              "\n",
              "  <svg xmlns=\"http://www.w3.org/2000/svg\" height=\"24px\" viewBox=\"0 -960 960 960\">\n",
              "    <path d=\"M120-120v-720h720v720H120Zm60-500h600v-160H180v160Zm220 220h160v-160H400v160Zm0 220h160v-160H400v160ZM180-400h160v-160H180v160Zm440 0h160v-160H620v160ZM180-180h160v-160H180v160Zm440 0h160v-160H620v160Z\"/>\n",
              "  </svg>\n",
              "    </button>\n",
              "\n",
              "  <style>\n",
              "    .colab-df-container {\n",
              "      display:flex;\n",
              "      gap: 12px;\n",
              "    }\n",
              "\n",
              "    .colab-df-convert {\n",
              "      background-color: #E8F0FE;\n",
              "      border: none;\n",
              "      border-radius: 50%;\n",
              "      cursor: pointer;\n",
              "      display: none;\n",
              "      fill: #1967D2;\n",
              "      height: 32px;\n",
              "      padding: 0 0 0 0;\n",
              "      width: 32px;\n",
              "    }\n",
              "\n",
              "    .colab-df-convert:hover {\n",
              "      background-color: #E2EBFA;\n",
              "      box-shadow: 0px 1px 2px rgba(60, 64, 67, 0.3), 0px 1px 3px 1px rgba(60, 64, 67, 0.15);\n",
              "      fill: #174EA6;\n",
              "    }\n",
              "\n",
              "    .colab-df-buttons div {\n",
              "      margin-bottom: 4px;\n",
              "    }\n",
              "\n",
              "    [theme=dark] .colab-df-convert {\n",
              "      background-color: #3B4455;\n",
              "      fill: #D2E3FC;\n",
              "    }\n",
              "\n",
              "    [theme=dark] .colab-df-convert:hover {\n",
              "      background-color: #434B5C;\n",
              "      box-shadow: 0px 1px 3px 1px rgba(0, 0, 0, 0.15);\n",
              "      filter: drop-shadow(0px 1px 2px rgba(0, 0, 0, 0.3));\n",
              "      fill: #FFFFFF;\n",
              "    }\n",
              "  </style>\n",
              "\n",
              "    <script>\n",
              "      const buttonEl =\n",
              "        document.querySelector('#df-1dcf6e21-8210-4f4b-b4b7-e6da2c03031e button.colab-df-convert');\n",
              "      buttonEl.style.display =\n",
              "        google.colab.kernel.accessAllowed ? 'block' : 'none';\n",
              "\n",
              "      async function convertToInteractive(key) {\n",
              "        const element = document.querySelector('#df-1dcf6e21-8210-4f4b-b4b7-e6da2c03031e');\n",
              "        const dataTable =\n",
              "          await google.colab.kernel.invokeFunction('convertToInteractive',\n",
              "                                                    [key], {});\n",
              "        if (!dataTable) return;\n",
              "\n",
              "        const docLinkHtml = 'Like what you see? Visit the ' +\n",
              "          '<a target=\"_blank\" href=https://colab.research.google.com/notebooks/data_table.ipynb>data table notebook</a>'\n",
              "          + ' to learn more about interactive tables.';\n",
              "        element.innerHTML = '';\n",
              "        dataTable['output_type'] = 'display_data';\n",
              "        await google.colab.output.renderOutput(dataTable, element);\n",
              "        const docLink = document.createElement('div');\n",
              "        docLink.innerHTML = docLinkHtml;\n",
              "        element.appendChild(docLink);\n",
              "      }\n",
              "    </script>\n",
              "  </div>\n",
              "\n",
              "\n",
              "<div id=\"df-db878d22-01a2-4960-a6ea-bd4af57eb3a8\">\n",
              "  <button class=\"colab-df-quickchart\" onclick=\"quickchart('df-db878d22-01a2-4960-a6ea-bd4af57eb3a8')\"\n",
              "            title=\"Suggest charts\"\n",
              "            style=\"display:none;\">\n",
              "\n",
              "<svg xmlns=\"http://www.w3.org/2000/svg\" height=\"24px\"viewBox=\"0 0 24 24\"\n",
              "     width=\"24px\">\n",
              "    <g>\n",
              "        <path d=\"M19 3H5c-1.1 0-2 .9-2 2v14c0 1.1.9 2 2 2h14c1.1 0 2-.9 2-2V5c0-1.1-.9-2-2-2zM9 17H7v-7h2v7zm4 0h-2V7h2v10zm4 0h-2v-4h2v4z\"/>\n",
              "    </g>\n",
              "</svg>\n",
              "  </button>\n",
              "\n",
              "<style>\n",
              "  .colab-df-quickchart {\n",
              "      --bg-color: #E8F0FE;\n",
              "      --fill-color: #1967D2;\n",
              "      --hover-bg-color: #E2EBFA;\n",
              "      --hover-fill-color: #174EA6;\n",
              "      --disabled-fill-color: #AAA;\n",
              "      --disabled-bg-color: #DDD;\n",
              "  }\n",
              "\n",
              "  [theme=dark] .colab-df-quickchart {\n",
              "      --bg-color: #3B4455;\n",
              "      --fill-color: #D2E3FC;\n",
              "      --hover-bg-color: #434B5C;\n",
              "      --hover-fill-color: #FFFFFF;\n",
              "      --disabled-bg-color: #3B4455;\n",
              "      --disabled-fill-color: #666;\n",
              "  }\n",
              "\n",
              "  .colab-df-quickchart {\n",
              "    background-color: var(--bg-color);\n",
              "    border: none;\n",
              "    border-radius: 50%;\n",
              "    cursor: pointer;\n",
              "    display: none;\n",
              "    fill: var(--fill-color);\n",
              "    height: 32px;\n",
              "    padding: 0;\n",
              "    width: 32px;\n",
              "  }\n",
              "\n",
              "  .colab-df-quickchart:hover {\n",
              "    background-color: var(--hover-bg-color);\n",
              "    box-shadow: 0 1px 2px rgba(60, 64, 67, 0.3), 0 1px 3px 1px rgba(60, 64, 67, 0.15);\n",
              "    fill: var(--button-hover-fill-color);\n",
              "  }\n",
              "\n",
              "  .colab-df-quickchart-complete:disabled,\n",
              "  .colab-df-quickchart-complete:disabled:hover {\n",
              "    background-color: var(--disabled-bg-color);\n",
              "    fill: var(--disabled-fill-color);\n",
              "    box-shadow: none;\n",
              "  }\n",
              "\n",
              "  .colab-df-spinner {\n",
              "    border: 2px solid var(--fill-color);\n",
              "    border-color: transparent;\n",
              "    border-bottom-color: var(--fill-color);\n",
              "    animation:\n",
              "      spin 1s steps(1) infinite;\n",
              "  }\n",
              "\n",
              "  @keyframes spin {\n",
              "    0% {\n",
              "      border-color: transparent;\n",
              "      border-bottom-color: var(--fill-color);\n",
              "      border-left-color: var(--fill-color);\n",
              "    }\n",
              "    20% {\n",
              "      border-color: transparent;\n",
              "      border-left-color: var(--fill-color);\n",
              "      border-top-color: var(--fill-color);\n",
              "    }\n",
              "    30% {\n",
              "      border-color: transparent;\n",
              "      border-left-color: var(--fill-color);\n",
              "      border-top-color: var(--fill-color);\n",
              "      border-right-color: var(--fill-color);\n",
              "    }\n",
              "    40% {\n",
              "      border-color: transparent;\n",
              "      border-right-color: var(--fill-color);\n",
              "      border-top-color: var(--fill-color);\n",
              "    }\n",
              "    60% {\n",
              "      border-color: transparent;\n",
              "      border-right-color: var(--fill-color);\n",
              "    }\n",
              "    80% {\n",
              "      border-color: transparent;\n",
              "      border-right-color: var(--fill-color);\n",
              "      border-bottom-color: var(--fill-color);\n",
              "    }\n",
              "    90% {\n",
              "      border-color: transparent;\n",
              "      border-bottom-color: var(--fill-color);\n",
              "    }\n",
              "  }\n",
              "</style>\n",
              "\n",
              "  <script>\n",
              "    async function quickchart(key) {\n",
              "      const quickchartButtonEl =\n",
              "        document.querySelector('#' + key + ' button');\n",
              "      quickchartButtonEl.disabled = true;  // To prevent multiple clicks.\n",
              "      quickchartButtonEl.classList.add('colab-df-spinner');\n",
              "      try {\n",
              "        const charts = await google.colab.kernel.invokeFunction(\n",
              "            'suggestCharts', [key], {});\n",
              "      } catch (error) {\n",
              "        console.error('Error during call to suggestCharts:', error);\n",
              "      }\n",
              "      quickchartButtonEl.classList.remove('colab-df-spinner');\n",
              "      quickchartButtonEl.classList.add('colab-df-quickchart-complete');\n",
              "    }\n",
              "    (() => {\n",
              "      let quickchartButtonEl =\n",
              "        document.querySelector('#df-db878d22-01a2-4960-a6ea-bd4af57eb3a8 button');\n",
              "      quickchartButtonEl.style.display =\n",
              "        google.colab.kernel.accessAllowed ? 'block' : 'none';\n",
              "    })();\n",
              "  </script>\n",
              "</div>\n",
              "\n",
              "    </div>\n",
              "  </div>\n"
            ],
            "text/plain": [
              "          ID                     Title Release year  \\\n",
              "0  tt0111161  The Shawshank Redemption   1995-02-10   \n",
              "3  tt0071562    The Godfather: Part II   1975-09-25   \n",
              "6  tt0108052          Schindler's List   1994-03-11   \n",
              "7  tt0050083              12 Angry Men   1957-09-04   \n",
              "8  tt1375666                 Inception   2010-09-24   \n",
              "\n",
              "                       Genre  Duration Country Content Rating  \\\n",
              "0                      Drama  02:22:00     USA              R   \n",
              "3               Crime, Drama  03:40:00     USA              R   \n",
              "6  Biography, Drama, History  00:00:00     USA              R   \n",
              "7               Crime, Drama  01:36:00     USA      Not Rated   \n",
              "8  Action, Adventure, Sci-Fi  02:28:00     USA          PG-13   \n",
              "\n",
              "               Director      Earnings     Votes  Score  \n",
              "0        Frank Darabont   $28,815,245  2.278.845   9.3  \n",
              "3  Francis Ford Coppola  $408,035,783  1.098.714  9,.0  \n",
              "6      Steven Spielberg  $322,287,794  1.183.248   8.9  \n",
              "7          Sidney Lumet          $576    668.473   8.9  \n",
              "8     Christopher Nolan  $869,784,991  2.002.816  8..8  "
            ]
          },
          "execution_count": 465,
          "metadata": {},
          "output_type": "execute_result"
        }
      ],
      "source": [
        "df.head()"
      ]
    },
    {
      "cell_type": "code",
      "execution_count": 466,
      "metadata": {
        "id": "OIYi7A6LSxzO"
      },
      "outputs": [],
      "source": [
        "df.columns = df.columns.str.strip()"
      ]
    },
    {
      "cell_type": "code",
      "execution_count": 467,
      "metadata": {
        "colab": {
          "base_uri": "https://localhost:8080/",
          "height": 458
        },
        "id": "XmDerMuvR5l4",
        "outputId": "c567a07a-3f19-41d3-ed42-79fd49138493"
      },
      "outputs": [
        {
          "data": {
            "text/html": [
              "<div>\n",
              "<style scoped>\n",
              "    .dataframe tbody tr th:only-of-type {\n",
              "        vertical-align: middle;\n",
              "    }\n",
              "\n",
              "    .dataframe tbody tr th {\n",
              "        vertical-align: top;\n",
              "    }\n",
              "\n",
              "    .dataframe thead th {\n",
              "        text-align: right;\n",
              "    }\n",
              "</style>\n",
              "<table border=\"1\" class=\"dataframe\">\n",
              "  <thead>\n",
              "    <tr style=\"text-align: right;\">\n",
              "      <th></th>\n",
              "      <th>Votes</th>\n",
              "    </tr>\n",
              "  </thead>\n",
              "  <tbody>\n",
              "    <tr>\n",
              "      <th>0</th>\n",
              "      <td>2.278.845</td>\n",
              "    </tr>\n",
              "    <tr>\n",
              "      <th>3</th>\n",
              "      <td>1.098.714</td>\n",
              "    </tr>\n",
              "    <tr>\n",
              "      <th>6</th>\n",
              "      <td>1.183.248</td>\n",
              "    </tr>\n",
              "    <tr>\n",
              "      <th>7</th>\n",
              "      <td>668.473</td>\n",
              "    </tr>\n",
              "    <tr>\n",
              "      <th>8</th>\n",
              "      <td>2.002.816</td>\n",
              "    </tr>\n",
              "    <tr>\n",
              "      <th>...</th>\n",
              "      <td>...</td>\n",
              "    </tr>\n",
              "    <tr>\n",
              "      <th>94</th>\n",
              "      <td>269.616</td>\n",
              "    </tr>\n",
              "    <tr>\n",
              "      <th>95</th>\n",
              "      <td>261.504</td>\n",
              "    </tr>\n",
              "    <tr>\n",
              "      <th>96</th>\n",
              "      <td>236.285</td>\n",
              "    </tr>\n",
              "    <tr>\n",
              "      <th>97</th>\n",
              "      <td>226.427</td>\n",
              "    </tr>\n",
              "    <tr>\n",
              "      <th>99</th>\n",
              "      <td>214.165</td>\n",
              "    </tr>\n",
              "  </tbody>\n",
              "</table>\n",
              "<p>65 rows × 1 columns</p>\n",
              "</div><br><label><b>dtype:</b> object</label>"
            ],
            "text/plain": [
              "0     2.278.845\n",
              "3     1.098.714\n",
              "6     1.183.248\n",
              "7       668.473\n",
              "8     2.002.816\n",
              "        ...    \n",
              "94      269.616\n",
              "95      261.504\n",
              "96      236.285\n",
              "97      226.427\n",
              "99      214.165\n",
              "Name: Votes, Length: 65, dtype: object"
            ]
          },
          "execution_count": 467,
          "metadata": {},
          "output_type": "execute_result"
        }
      ],
      "source": [
        "df['Votes']"
      ]
    },
    {
      "cell_type": "code",
      "execution_count": 468,
      "metadata": {
        "colab": {
          "base_uri": "https://localhost:8080/",
          "height": 458
        },
        "id": "0HeacGUwTfk_",
        "outputId": "dd11d6f2-2ac3-480a-800c-c9b52a8f2679"
      },
      "outputs": [
        {
          "data": {
            "text/html": [
              "<div>\n",
              "<style scoped>\n",
              "    .dataframe tbody tr th:only-of-type {\n",
              "        vertical-align: middle;\n",
              "    }\n",
              "\n",
              "    .dataframe tbody tr th {\n",
              "        vertical-align: top;\n",
              "    }\n",
              "\n",
              "    .dataframe thead th {\n",
              "        text-align: right;\n",
              "    }\n",
              "</style>\n",
              "<table border=\"1\" class=\"dataframe\">\n",
              "  <thead>\n",
              "    <tr style=\"text-align: right;\">\n",
              "      <th></th>\n",
              "      <th>Votes</th>\n",
              "    </tr>\n",
              "  </thead>\n",
              "  <tbody>\n",
              "    <tr>\n",
              "      <th>0</th>\n",
              "      <td>2278845</td>\n",
              "    </tr>\n",
              "    <tr>\n",
              "      <th>3</th>\n",
              "      <td>1098714</td>\n",
              "    </tr>\n",
              "    <tr>\n",
              "      <th>6</th>\n",
              "      <td>1183248</td>\n",
              "    </tr>\n",
              "    <tr>\n",
              "      <th>7</th>\n",
              "      <td>668473</td>\n",
              "    </tr>\n",
              "    <tr>\n",
              "      <th>8</th>\n",
              "      <td>2002816</td>\n",
              "    </tr>\n",
              "    <tr>\n",
              "      <th>...</th>\n",
              "      <td>...</td>\n",
              "    </tr>\n",
              "    <tr>\n",
              "      <th>94</th>\n",
              "      <td>269616</td>\n",
              "    </tr>\n",
              "    <tr>\n",
              "      <th>95</th>\n",
              "      <td>261504</td>\n",
              "    </tr>\n",
              "    <tr>\n",
              "      <th>96</th>\n",
              "      <td>236285</td>\n",
              "    </tr>\n",
              "    <tr>\n",
              "      <th>97</th>\n",
              "      <td>226427</td>\n",
              "    </tr>\n",
              "    <tr>\n",
              "      <th>99</th>\n",
              "      <td>214165</td>\n",
              "    </tr>\n",
              "  </tbody>\n",
              "</table>\n",
              "<p>65 rows × 1 columns</p>\n",
              "</div><br><label><b>dtype:</b> object</label>"
            ],
            "text/plain": [
              "0     2278845\n",
              "3     1098714\n",
              "6     1183248\n",
              "7      668473\n",
              "8     2002816\n",
              "       ...   \n",
              "94     269616\n",
              "95     261504\n",
              "96     236285\n",
              "97     226427\n",
              "99     214165\n",
              "Name: Votes, Length: 65, dtype: object"
            ]
          },
          "execution_count": 468,
          "metadata": {},
          "output_type": "execute_result"
        }
      ],
      "source": [
        "#correcting and putting the Votes column in same formate\n",
        "df['Votes'] = df['Votes'].str .replace('.', '').str.strip()\n",
        "df['Votes']"
      ]
    },
    {
      "cell_type": "code",
      "execution_count": 469,
      "metadata": {
        "colab": {
          "base_uri": "https://localhost:8080/",
          "height": 399
        },
        "id": "9y-rLzeCTmiT",
        "outputId": "4599628d-ad39-4eec-9bc9-99d57cf02ef9"
      },
      "outputs": [
        {
          "data": {
            "application/vnd.google.colaboratory.intrinsic+json": {
              "summary": "{\n  \"name\": \"df\",\n  \"rows\": 65,\n  \"fields\": [\n    {\n      \"column\": \"ID\",\n      \"properties\": {\n        \"dtype\": \"string\",\n        \"num_unique_values\": 65,\n        \"samples\": [\n          \"tt0208092\",\n          \"tt2106476\",\n          \"tt0111161\"\n        ],\n        \"semantic_type\": \"\",\n        \"description\": \"\"\n      }\n    },\n    {\n      \"column\": \"Title\",\n      \"properties\": {\n        \"dtype\": \"string\",\n        \"num_unique_values\": 65,\n        \"samples\": [\n          \"Snatch\",\n          \"Jagten\",\n          \"The Shawshank Redemption\"\n        ],\n        \"semantic_type\": \"\",\n        \"description\": \"\"\n      }\n    },\n    {\n      \"column\": \"Release year\",\n      \"properties\": {\n        \"dtype\": \"object\",\n        \"num_unique_values\": 64,\n        \"samples\": [\n          \"2001-03-16\",\n          \"1985-02-15\",\n          \"1995-02-10\"\n        ],\n        \"semantic_type\": \"\",\n        \"description\": \"\"\n      }\n    },\n    {\n      \"column\": \"Genre\",\n      \"properties\": {\n        \"dtype\": \"string\",\n        \"num_unique_values\": 44,\n        \"samples\": [\n          \"Animation, Adventure, Comedy\",\n          \"Comedy, Drama, Family\",\n          \"Action, Adventure\"\n        ],\n        \"semantic_type\": \"\",\n        \"description\": \"\"\n      }\n    },\n    {\n      \"column\": \"Duration\",\n      \"properties\": {\n        \"dtype\": \"object\",\n        \"num_unique_values\": 51,\n        \"samples\": [\n          \"01:44:00\",\n          \"01:48:00\",\n          \"02:29:00\"\n        ],\n        \"semantic_type\": \"\",\n        \"description\": \"\"\n      }\n    },\n    {\n      \"column\": \"Country\",\n      \"properties\": {\n        \"dtype\": \"category\",\n        \"num_unique_values\": 13,\n        \"samples\": [\n          \"West Germany\",\n          \"France\",\n          \"USA\"\n        ],\n        \"semantic_type\": \"\",\n        \"description\": \"\"\n      }\n    },\n    {\n      \"column\": \"Content Rating\",\n      \"properties\": {\n        \"dtype\": \"category\",\n        \"num_unique_values\": 6,\n        \"samples\": [\n          \"R\",\n          \"Not Rated\",\n          \"G\"\n        ],\n        \"semantic_type\": \"\",\n        \"description\": \"\"\n      }\n    },\n    {\n      \"column\": \"Director\",\n      \"properties\": {\n        \"dtype\": \"string\",\n        \"num_unique_values\": 47,\n        \"samples\": [\n          \"Andrew Stanton\",\n          \"Lee Unkrich\",\n          \"Quentin Tarantino\"\n        ],\n        \"semantic_type\": \"\",\n        \"description\": \"\"\n      }\n    },\n    {\n      \"column\": \"Earnings\",\n      \"properties\": {\n        \"dtype\": \"string\",\n        \"num_unique_values\": 65,\n        \"samples\": [\n          \"$83,557,872\",\n          \"$15,843,274\",\n          \"$28,815,245\"\n        ],\n        \"semantic_type\": \"\",\n        \"description\": \"\"\n      }\n    },\n    {\n      \"column\": \"Votes\",\n      \"properties\": {\n        \"dtype\": \"string\",\n        \"num_unique_values\": 65,\n        \"samples\": [\n          \"766589\",\n          \"269616\",\n          \"2278845\"\n        ],\n        \"semantic_type\": \"\",\n        \"description\": \"\"\n      }\n    },\n    {\n      \"column\": \"Score\",\n      \"properties\": {\n        \"dtype\": \"category\",\n        \"num_unique_values\": 22,\n        \"samples\": [\n          \"9.3\",\n          \"8.2\",\n          \"8.6\"\n        ],\n        \"semantic_type\": \"\",\n        \"description\": \"\"\n      }\n    }\n  ]\n}",
              "type": "dataframe",
              "variable_name": "df"
            },
            "text/html": [
              "\n",
              "  <div id=\"df-14cca278-7a8d-4f07-9329-d5584c8ba2a0\" class=\"colab-df-container\">\n",
              "    <div>\n",
              "<style scoped>\n",
              "    .dataframe tbody tr th:only-of-type {\n",
              "        vertical-align: middle;\n",
              "    }\n",
              "\n",
              "    .dataframe tbody tr th {\n",
              "        vertical-align: top;\n",
              "    }\n",
              "\n",
              "    .dataframe thead th {\n",
              "        text-align: right;\n",
              "    }\n",
              "</style>\n",
              "<table border=\"1\" class=\"dataframe\">\n",
              "  <thead>\n",
              "    <tr style=\"text-align: right;\">\n",
              "      <th></th>\n",
              "      <th>ID</th>\n",
              "      <th>Title</th>\n",
              "      <th>Release year</th>\n",
              "      <th>Genre</th>\n",
              "      <th>Duration</th>\n",
              "      <th>Country</th>\n",
              "      <th>Content Rating</th>\n",
              "      <th>Director</th>\n",
              "      <th>Earnings</th>\n",
              "      <th>Votes</th>\n",
              "      <th>Score</th>\n",
              "    </tr>\n",
              "  </thead>\n",
              "  <tbody>\n",
              "    <tr>\n",
              "      <th>0</th>\n",
              "      <td>tt0111161</td>\n",
              "      <td>The Shawshank Redemption</td>\n",
              "      <td>1995-02-10</td>\n",
              "      <td>Drama</td>\n",
              "      <td>02:22:00</td>\n",
              "      <td>USA</td>\n",
              "      <td>R</td>\n",
              "      <td>Frank Darabont</td>\n",
              "      <td>$28,815,245</td>\n",
              "      <td>2278845</td>\n",
              "      <td>9.3</td>\n",
              "    </tr>\n",
              "    <tr>\n",
              "      <th>3</th>\n",
              "      <td>tt0071562</td>\n",
              "      <td>The Godfather: Part II</td>\n",
              "      <td>1975-09-25</td>\n",
              "      <td>Crime, Drama</td>\n",
              "      <td>03:40:00</td>\n",
              "      <td>USA</td>\n",
              "      <td>R</td>\n",
              "      <td>Francis Ford Coppola</td>\n",
              "      <td>$408,035,783</td>\n",
              "      <td>1098714</td>\n",
              "      <td>9,.0</td>\n",
              "    </tr>\n",
              "    <tr>\n",
              "      <th>6</th>\n",
              "      <td>tt0108052</td>\n",
              "      <td>Schindler's List</td>\n",
              "      <td>1994-03-11</td>\n",
              "      <td>Biography, Drama, History</td>\n",
              "      <td>00:00:00</td>\n",
              "      <td>USA</td>\n",
              "      <td>R</td>\n",
              "      <td>Steven Spielberg</td>\n",
              "      <td>$322,287,794</td>\n",
              "      <td>1183248</td>\n",
              "      <td>8.9</td>\n",
              "    </tr>\n",
              "    <tr>\n",
              "      <th>7</th>\n",
              "      <td>tt0050083</td>\n",
              "      <td>12 Angry Men</td>\n",
              "      <td>1957-09-04</td>\n",
              "      <td>Crime, Drama</td>\n",
              "      <td>01:36:00</td>\n",
              "      <td>USA</td>\n",
              "      <td>Not Rated</td>\n",
              "      <td>Sidney Lumet</td>\n",
              "      <td>$576</td>\n",
              "      <td>668473</td>\n",
              "      <td>8.9</td>\n",
              "    </tr>\n",
              "    <tr>\n",
              "      <th>8</th>\n",
              "      <td>tt1375666</td>\n",
              "      <td>Inception</td>\n",
              "      <td>2010-09-24</td>\n",
              "      <td>Action, Adventure, Sci-Fi</td>\n",
              "      <td>02:28:00</td>\n",
              "      <td>USA</td>\n",
              "      <td>PG-13</td>\n",
              "      <td>Christopher Nolan</td>\n",
              "      <td>$869,784,991</td>\n",
              "      <td>2002816</td>\n",
              "      <td>8..8</td>\n",
              "    </tr>\n",
              "  </tbody>\n",
              "</table>\n",
              "</div>\n",
              "    <div class=\"colab-df-buttons\">\n",
              "\n",
              "  <div class=\"colab-df-container\">\n",
              "    <button class=\"colab-df-convert\" onclick=\"convertToInteractive('df-14cca278-7a8d-4f07-9329-d5584c8ba2a0')\"\n",
              "            title=\"Convert this dataframe to an interactive table.\"\n",
              "            style=\"display:none;\">\n",
              "\n",
              "  <svg xmlns=\"http://www.w3.org/2000/svg\" height=\"24px\" viewBox=\"0 -960 960 960\">\n",
              "    <path d=\"M120-120v-720h720v720H120Zm60-500h600v-160H180v160Zm220 220h160v-160H400v160Zm0 220h160v-160H400v160ZM180-400h160v-160H180v160Zm440 0h160v-160H620v160ZM180-180h160v-160H180v160Zm440 0h160v-160H620v160Z\"/>\n",
              "  </svg>\n",
              "    </button>\n",
              "\n",
              "  <style>\n",
              "    .colab-df-container {\n",
              "      display:flex;\n",
              "      gap: 12px;\n",
              "    }\n",
              "\n",
              "    .colab-df-convert {\n",
              "      background-color: #E8F0FE;\n",
              "      border: none;\n",
              "      border-radius: 50%;\n",
              "      cursor: pointer;\n",
              "      display: none;\n",
              "      fill: #1967D2;\n",
              "      height: 32px;\n",
              "      padding: 0 0 0 0;\n",
              "      width: 32px;\n",
              "    }\n",
              "\n",
              "    .colab-df-convert:hover {\n",
              "      background-color: #E2EBFA;\n",
              "      box-shadow: 0px 1px 2px rgba(60, 64, 67, 0.3), 0px 1px 3px 1px rgba(60, 64, 67, 0.15);\n",
              "      fill: #174EA6;\n",
              "    }\n",
              "\n",
              "    .colab-df-buttons div {\n",
              "      margin-bottom: 4px;\n",
              "    }\n",
              "\n",
              "    [theme=dark] .colab-df-convert {\n",
              "      background-color: #3B4455;\n",
              "      fill: #D2E3FC;\n",
              "    }\n",
              "\n",
              "    [theme=dark] .colab-df-convert:hover {\n",
              "      background-color: #434B5C;\n",
              "      box-shadow: 0px 1px 3px 1px rgba(0, 0, 0, 0.15);\n",
              "      filter: drop-shadow(0px 1px 2px rgba(0, 0, 0, 0.3));\n",
              "      fill: #FFFFFF;\n",
              "    }\n",
              "  </style>\n",
              "\n",
              "    <script>\n",
              "      const buttonEl =\n",
              "        document.querySelector('#df-14cca278-7a8d-4f07-9329-d5584c8ba2a0 button.colab-df-convert');\n",
              "      buttonEl.style.display =\n",
              "        google.colab.kernel.accessAllowed ? 'block' : 'none';\n",
              "\n",
              "      async function convertToInteractive(key) {\n",
              "        const element = document.querySelector('#df-14cca278-7a8d-4f07-9329-d5584c8ba2a0');\n",
              "        const dataTable =\n",
              "          await google.colab.kernel.invokeFunction('convertToInteractive',\n",
              "                                                    [key], {});\n",
              "        if (!dataTable) return;\n",
              "\n",
              "        const docLinkHtml = 'Like what you see? Visit the ' +\n",
              "          '<a target=\"_blank\" href=https://colab.research.google.com/notebooks/data_table.ipynb>data table notebook</a>'\n",
              "          + ' to learn more about interactive tables.';\n",
              "        element.innerHTML = '';\n",
              "        dataTable['output_type'] = 'display_data';\n",
              "        await google.colab.output.renderOutput(dataTable, element);\n",
              "        const docLink = document.createElement('div');\n",
              "        docLink.innerHTML = docLinkHtml;\n",
              "        element.appendChild(docLink);\n",
              "      }\n",
              "    </script>\n",
              "  </div>\n",
              "\n",
              "\n",
              "<div id=\"df-c68841b8-bb56-483d-b264-84cb720044e1\">\n",
              "  <button class=\"colab-df-quickchart\" onclick=\"quickchart('df-c68841b8-bb56-483d-b264-84cb720044e1')\"\n",
              "            title=\"Suggest charts\"\n",
              "            style=\"display:none;\">\n",
              "\n",
              "<svg xmlns=\"http://www.w3.org/2000/svg\" height=\"24px\"viewBox=\"0 0 24 24\"\n",
              "     width=\"24px\">\n",
              "    <g>\n",
              "        <path d=\"M19 3H5c-1.1 0-2 .9-2 2v14c0 1.1.9 2 2 2h14c1.1 0 2-.9 2-2V5c0-1.1-.9-2-2-2zM9 17H7v-7h2v7zm4 0h-2V7h2v10zm4 0h-2v-4h2v4z\"/>\n",
              "    </g>\n",
              "</svg>\n",
              "  </button>\n",
              "\n",
              "<style>\n",
              "  .colab-df-quickchart {\n",
              "      --bg-color: #E8F0FE;\n",
              "      --fill-color: #1967D2;\n",
              "      --hover-bg-color: #E2EBFA;\n",
              "      --hover-fill-color: #174EA6;\n",
              "      --disabled-fill-color: #AAA;\n",
              "      --disabled-bg-color: #DDD;\n",
              "  }\n",
              "\n",
              "  [theme=dark] .colab-df-quickchart {\n",
              "      --bg-color: #3B4455;\n",
              "      --fill-color: #D2E3FC;\n",
              "      --hover-bg-color: #434B5C;\n",
              "      --hover-fill-color: #FFFFFF;\n",
              "      --disabled-bg-color: #3B4455;\n",
              "      --disabled-fill-color: #666;\n",
              "  }\n",
              "\n",
              "  .colab-df-quickchart {\n",
              "    background-color: var(--bg-color);\n",
              "    border: none;\n",
              "    border-radius: 50%;\n",
              "    cursor: pointer;\n",
              "    display: none;\n",
              "    fill: var(--fill-color);\n",
              "    height: 32px;\n",
              "    padding: 0;\n",
              "    width: 32px;\n",
              "  }\n",
              "\n",
              "  .colab-df-quickchart:hover {\n",
              "    background-color: var(--hover-bg-color);\n",
              "    box-shadow: 0 1px 2px rgba(60, 64, 67, 0.3), 0 1px 3px 1px rgba(60, 64, 67, 0.15);\n",
              "    fill: var(--button-hover-fill-color);\n",
              "  }\n",
              "\n",
              "  .colab-df-quickchart-complete:disabled,\n",
              "  .colab-df-quickchart-complete:disabled:hover {\n",
              "    background-color: var(--disabled-bg-color);\n",
              "    fill: var(--disabled-fill-color);\n",
              "    box-shadow: none;\n",
              "  }\n",
              "\n",
              "  .colab-df-spinner {\n",
              "    border: 2px solid var(--fill-color);\n",
              "    border-color: transparent;\n",
              "    border-bottom-color: var(--fill-color);\n",
              "    animation:\n",
              "      spin 1s steps(1) infinite;\n",
              "  }\n",
              "\n",
              "  @keyframes spin {\n",
              "    0% {\n",
              "      border-color: transparent;\n",
              "      border-bottom-color: var(--fill-color);\n",
              "      border-left-color: var(--fill-color);\n",
              "    }\n",
              "    20% {\n",
              "      border-color: transparent;\n",
              "      border-left-color: var(--fill-color);\n",
              "      border-top-color: var(--fill-color);\n",
              "    }\n",
              "    30% {\n",
              "      border-color: transparent;\n",
              "      border-left-color: var(--fill-color);\n",
              "      border-top-color: var(--fill-color);\n",
              "      border-right-color: var(--fill-color);\n",
              "    }\n",
              "    40% {\n",
              "      border-color: transparent;\n",
              "      border-right-color: var(--fill-color);\n",
              "      border-top-color: var(--fill-color);\n",
              "    }\n",
              "    60% {\n",
              "      border-color: transparent;\n",
              "      border-right-color: var(--fill-color);\n",
              "    }\n",
              "    80% {\n",
              "      border-color: transparent;\n",
              "      border-right-color: var(--fill-color);\n",
              "      border-bottom-color: var(--fill-color);\n",
              "    }\n",
              "    90% {\n",
              "      border-color: transparent;\n",
              "      border-bottom-color: var(--fill-color);\n",
              "    }\n",
              "  }\n",
              "</style>\n",
              "\n",
              "  <script>\n",
              "    async function quickchart(key) {\n",
              "      const quickchartButtonEl =\n",
              "        document.querySelector('#' + key + ' button');\n",
              "      quickchartButtonEl.disabled = true;  // To prevent multiple clicks.\n",
              "      quickchartButtonEl.classList.add('colab-df-spinner');\n",
              "      try {\n",
              "        const charts = await google.colab.kernel.invokeFunction(\n",
              "            'suggestCharts', [key], {});\n",
              "      } catch (error) {\n",
              "        console.error('Error during call to suggestCharts:', error);\n",
              "      }\n",
              "      quickchartButtonEl.classList.remove('colab-df-spinner');\n",
              "      quickchartButtonEl.classList.add('colab-df-quickchart-complete');\n",
              "    }\n",
              "    (() => {\n",
              "      let quickchartButtonEl =\n",
              "        document.querySelector('#df-c68841b8-bb56-483d-b264-84cb720044e1 button');\n",
              "      quickchartButtonEl.style.display =\n",
              "        google.colab.kernel.accessAllowed ? 'block' : 'none';\n",
              "    })();\n",
              "  </script>\n",
              "</div>\n",
              "\n",
              "    </div>\n",
              "  </div>\n"
            ],
            "text/plain": [
              "          ID                     Title Release year  \\\n",
              "0  tt0111161  The Shawshank Redemption   1995-02-10   \n",
              "3  tt0071562    The Godfather: Part II   1975-09-25   \n",
              "6  tt0108052          Schindler's List   1994-03-11   \n",
              "7  tt0050083              12 Angry Men   1957-09-04   \n",
              "8  tt1375666                 Inception   2010-09-24   \n",
              "\n",
              "                       Genre  Duration Country Content Rating  \\\n",
              "0                      Drama  02:22:00     USA              R   \n",
              "3               Crime, Drama  03:40:00     USA              R   \n",
              "6  Biography, Drama, History  00:00:00     USA              R   \n",
              "7               Crime, Drama  01:36:00     USA      Not Rated   \n",
              "8  Action, Adventure, Sci-Fi  02:28:00     USA          PG-13   \n",
              "\n",
              "               Director      Earnings    Votes Score  \n",
              "0        Frank Darabont   $28,815,245  2278845   9.3  \n",
              "3  Francis Ford Coppola  $408,035,783  1098714  9,.0  \n",
              "6      Steven Spielberg  $322,287,794  1183248   8.9  \n",
              "7          Sidney Lumet          $576   668473   8.9  \n",
              "8     Christopher Nolan  $869,784,991  2002816  8..8  "
            ]
          },
          "execution_count": 469,
          "metadata": {},
          "output_type": "execute_result"
        }
      ],
      "source": [
        "df.head()"
      ]
    },
    {
      "cell_type": "code",
      "execution_count": 470,
      "metadata": {
        "colab": {
          "base_uri": "https://localhost:8080/",
          "height": 87
        },
        "id": "v1QK1N2urb_Y",
        "outputId": "33ceb4fe-55e3-4861-f193-6fd4de9e1ec2"
      },
      "outputs": [
        {
          "data": {
            "application/vnd.google.colaboratory.intrinsic+json": {
              "type": "string"
            },
            "text/plain": [
              "\"Absolutely Brilliant People Always Create Excellent Results 100% Of The Time!!!, Isn't It Wonderful To See Such Amazing Things Happen Every Single Day 365 Days A Year?!! With 24/7 Support, You Can Achieve 1000% Success!! According To The Latest Research, This Is The Most Fantastic Opportunity Ever! Don't Miss Out, Contact Us Today!!\""
            ]
          },
          "execution_count": 470,
          "metadata": {},
          "output_type": "execute_result"
        }
      ],
      "source": [
        "sentence = \"Absolutely Brilliant People Always Create Excellent Results 100% Of The Time!!!, Isn't It Wonderful To See Such Amazing Things Happen Every Single Day 365 Days A Year?!! With 24/7 Support, You Can Achieve 1000% Success!! According To The Latest Research, This Is The Most Fantastic Opportunity Ever! Don't Miss Out, Contact Us Today!!\"\n",
        "sentence"
      ]
    },
    {
      "cell_type": "code",
      "execution_count": 471,
      "metadata": {
        "colab": {
          "base_uri": "https://localhost:8080/",
          "height": 87
        },
        "id": "2BOVd6Eerb_Z",
        "outputId": "dadd9ef1-1725-4df2-8345-aee5a8162e3f"
      },
      "outputs": [
        {
          "data": {
            "application/vnd.google.colaboratory.intrinsic+json": {
              "type": "string"
            },
            "text/plain": [
              "\"absolutely brilliant people always create excellent results 100% of the time!!!, isn't it wonderful to see such amazing things happen every single day 365 days a year?!! with 24/7 support, you can achieve 1000% success!! according to the latest research, this is the most fantastic opportunity ever! don't miss out, contact us today!!\""
            ]
          },
          "execution_count": 471,
          "metadata": {},
          "output_type": "execute_result"
        }
      ],
      "source": [
        "sentence_lower = sentence.lower() # Converts the text to lowercase.\n",
        "sentence_lower"
      ]
    },
    {
      "cell_type": "code",
      "execution_count": 472,
      "metadata": {
        "colab": {
          "base_uri": "https://localhost:8080/",
          "height": 35
        },
        "id": "vkUCe5Ehrb_a",
        "outputId": "9de1a580-76d6-4cfa-8332-f2ae50d212e6"
      },
      "outputs": [
        {
          "data": {
            "application/vnd.google.colaboratory.intrinsic+json": {
              "type": "string"
            },
            "text/plain": [
              "'!\"#$%&\\'()*+,-./:;<=>?@[\\\\]^_`{|}~'"
            ]
          },
          "execution_count": 472,
          "metadata": {},
          "output_type": "execute_result"
        }
      ],
      "source": [
        "string.punctuation"
      ]
    },
    {
      "cell_type": "code",
      "execution_count": 473,
      "metadata": {
        "colab": {
          "base_uri": "https://localhost:8080/"
        },
        "id": "6ua26t71rb_b",
        "outputId": "3143f874-55c6-47c0-a267-d2a25dc7f069"
      },
      "outputs": [
        {
          "name": "stdout",
          "output_type": "stream",
          "text": [
            "['absolutely', 'brilliant', 'people', 'always', 'create', 'excellent', 'results', '100', 'of', 'the', 'time', \"isn't\", 'it', 'wonderful', 'to', 'see', 'such', 'amazing', 'things', 'happen', 'every', 'single', 'day', '365', 'days', 'a', 'year', 'with', '24/7', 'support', 'you', 'can', 'achieve', '1000', 'success', 'according', 'to', 'the', 'latest', 'research', 'this', 'is', 'the', 'most', 'fantastic', 'opportunity', 'ever', \"don't\", 'miss', 'out', 'contact', 'us', 'today']\n"
          ]
        }
      ],
      "source": [
        "cleaned_punc_sentence = [word.strip(string.punctuation) for word in sentence_lower.split(\" \")] #Strips punctuation from each word.\n",
        "print(cleaned_punc_sentence)"
      ]
    },
    {
      "cell_type": "code",
      "execution_count": 474,
      "metadata": {
        "colab": {
          "base_uri": "https://localhost:8080/",
          "height": 87
        },
        "id": "dQNy4caIrb_d",
        "outputId": "9ca30b64-9767-42b3-f959-b92f82e0f91c"
      },
      "outputs": [
        {
          "data": {
            "application/vnd.google.colaboratory.intrinsic+json": {
              "type": "string"
            },
            "text/plain": [
              "\"absolutely brilliant people always create excellent results 100 of the time isn't it wonderful to see such amazing things happen every single day 365 days a year with 24/7 support you can achieve 1000 success according to the latest research this is the most fantastic opportunity ever don't miss out contact us today\""
            ]
          },
          "execution_count": 474,
          "metadata": {},
          "output_type": "execute_result"
        }
      ],
      "source": [
        "# Join the list of words into a single string\n",
        "sentence_str = ' '.join(cleaned_punc_sentence)\n",
        "sentence_str"
      ]
    },
    {
      "cell_type": "code",
      "execution_count": 475,
      "metadata": {
        "colab": {
          "base_uri": "https://localhost:8080/",
          "height": 70
        },
        "id": "YDGAJts_rb_d",
        "outputId": "36a1440d-9f2f-4367-fe06-f31555c4456e"
      },
      "outputs": [
        {
          "data": {
            "application/vnd.google.colaboratory.intrinsic+json": {
              "type": "string"
            },
            "text/plain": [
              "\"absolutely brilliant people always create excellent results  of the time isn't it wonderful to see such amazing things happen every single day  days a year with / support you can achieve  success according to the latest research this is the most fantastic opportunity ever don't miss out contact us today\""
            ]
          },
          "execution_count": 475,
          "metadata": {},
          "output_type": "execute_result"
        }
      ],
      "source": [
        "# Remove numbers from the sentence\n",
        "sentence_without_numbers = re.sub(r'\\d+', '', sentence_str)\n",
        "\n",
        "sentence_without_numbers"
      ]
    },
    {
      "cell_type": "code",
      "execution_count": 476,
      "metadata": {
        "colab": {
          "base_uri": "https://localhost:8080/"
        },
        "id": "Gy5MpmpKrb_f",
        "outputId": "8b2fdc16-aabf-4bd3-900b-1b58a9a2585b"
      },
      "outputs": [
        {
          "name": "stdout",
          "output_type": "stream",
          "text": [
            "absolutely brilliant people always create excellent results  of the time isn't it wonderful to see such amazing things happen every single day  days a year with  support you can achieve  success according to the latest research this is the most fantastic opportunity ever don't miss out contact us today\n"
          ]
        }
      ],
      "source": [
        "# Remove numbers and % symbol from the sentence\n",
        "sentence_without_numbers = re.sub(r'[/]?', '', sentence_without_numbers)\n",
        "\n",
        "print(sentence_without_numbers)"
      ]
    },
    {
      "cell_type": "code",
      "execution_count": 477,
      "metadata": {
        "colab": {
          "base_uri": "https://localhost:8080/"
        },
        "id": "iIlAfgSRtEgZ",
        "outputId": "0f7937e0-ee01-482a-8e6c-15e387e115f4"
      },
      "outputs": [
        {
          "name": "stderr",
          "output_type": "stream",
          "text": [
            "[nltk_data] Downloading package stopwords to /root/nltk_data...\n",
            "[nltk_data]   Package stopwords is already up-to-date!\n"
          ]
        },
        {
          "data": {
            "text/plain": [
              "True"
            ]
          },
          "execution_count": 477,
          "metadata": {},
          "output_type": "execute_result"
        }
      ],
      "source": [
        "nltk.download('stopwords')"
      ]
    },
    {
      "cell_type": "code",
      "execution_count": 478,
      "metadata": {
        "colab": {
          "base_uri": "https://localhost:8080/",
          "height": 70
        },
        "id": "w6IxLn3Trb_g",
        "outputId": "6276da33-00a7-4ef8-98ca-66697065f277"
      },
      "outputs": [
        {
          "data": {
            "application/vnd.google.colaboratory.intrinsic+json": {
              "type": "string"
            },
            "text/plain": [
              "'absolutely brilliant people always create excellent results time wonderful see amazing things happen every single day days year support achieve success according latest research fantastic opportunity ever miss contact us today'"
            ]
          },
          "execution_count": 478,
          "metadata": {},
          "output_type": "execute_result"
        }
      ],
      "source": [
        "# Get the list of English stopwords\n",
        "stop_words = set(stopwords.words('english'))\n",
        "\n",
        "# Split the sentence into words\n",
        "words = sentence_without_numbers.split()\n",
        "\n",
        "# Remove stopwords\n",
        "filtered_words = [word for word in words if word.lower() not in stop_words]\n",
        "\n",
        "# Join the filtered words back into a string\n",
        "sentence_without_stopwords = ' '.join(filtered_words)\n",
        "\n",
        "sentence_without_stopwords"
      ]
    },
    {
      "cell_type": "code",
      "execution_count": 479,
      "metadata": {
        "colab": {
          "base_uri": "https://localhost:8080/"
        },
        "id": "HbhEF9Pfrb_i",
        "outputId": "9b44c5c1-dd7c-4a98-9728-9e77a9950b6c"
      },
      "outputs": [
        {
          "name": "stderr",
          "output_type": "stream",
          "text": [
            "[nltk_data] Downloading package punkt to /root/nltk_data...\n",
            "[nltk_data]   Package punkt is already up-to-date!\n"
          ]
        },
        {
          "data": {
            "text/plain": [
              "True"
            ]
          },
          "execution_count": 479,
          "metadata": {},
          "output_type": "execute_result"
        }
      ],
      "source": [
        "nltk.download('punkt')"
      ]
    },
    {
      "cell_type": "code",
      "execution_count": 480,
      "metadata": {
        "colab": {
          "base_uri": "https://localhost:8080/"
        },
        "id": "UKRIxvMiujyW",
        "outputId": "1ef142dc-a334-46ed-d4ff-843b29f93012"
      },
      "outputs": [
        {
          "name": "stderr",
          "output_type": "stream",
          "text": [
            "[nltk_data] Downloading package wordnet to /root/nltk_data...\n",
            "[nltk_data]   Package wordnet is already up-to-date!\n"
          ]
        },
        {
          "data": {
            "text/plain": [
              "True"
            ]
          },
          "execution_count": 480,
          "metadata": {},
          "output_type": "execute_result"
        }
      ],
      "source": [
        "nltk.download('wordnet')"
      ]
    },
    {
      "cell_type": "code",
      "execution_count": 481,
      "metadata": {
        "colab": {
          "base_uri": "https://localhost:8080/"
        },
        "id": "5mOsyD-ZunSg",
        "outputId": "a1a34e79-7a1c-4df4-9dc8-9284b327dacd"
      },
      "outputs": [
        {
          "name": "stderr",
          "output_type": "stream",
          "text": [
            "[nltk_data] Downloading package averaged_perceptron_tagger to\n",
            "[nltk_data]     /root/nltk_data...\n",
            "[nltk_data]   Package averaged_perceptron_tagger is already up-to-\n",
            "[nltk_data]       date!\n"
          ]
        },
        {
          "data": {
            "text/plain": [
              "True"
            ]
          },
          "execution_count": 481,
          "metadata": {},
          "output_type": "execute_result"
        }
      ],
      "source": [
        "nltk.download('averaged_perceptron_tagger')"
      ]
    },
    {
      "cell_type": "code",
      "execution_count": 482,
      "metadata": {
        "id": "9W66SY7Ku0gl"
      },
      "outputs": [],
      "source": [
        "# Tokenize the sentence into words\n",
        "words = word_tokenize(sentence_without_stopwords)"
      ]
    },
    {
      "cell_type": "code",
      "execution_count": 483,
      "metadata": {
        "id": "wrIKDqyXu33U"
      },
      "outputs": [],
      "source": [
        "# Create a WordNetLemmatizer object\n",
        "lemmatizer = WordNetLemmatizer()"
      ]
    },
    {
      "cell_type": "code",
      "execution_count": 484,
      "metadata": {
        "id": "UY_EndYzu7R4"
      },
      "outputs": [],
      "source": [
        "# Perform POS tagging\n",
        "pos_tags = nltk.pos_tag(words)"
      ]
    },
    {
      "cell_type": "code",
      "execution_count": 485,
      "metadata": {
        "id": "Ao9wj2Glrb_j"
      },
      "outputs": [],
      "source": [
        "# Perform lemmatization\n",
        "lemmatized_words = []\n",
        "for word, pos in pos_tags:\n",
        "    if pos.startswith('J'):  # Adjective\n",
        "        pos_tag = 'a'\n",
        "    elif pos.startswith('V'):  # Verb\n",
        "        pos_tag = 'v'\n",
        "    elif pos.startswith('N'):  # Noun\n",
        "        pos_tag = 'n'\n",
        "    elif pos.startswith('R'):  # Adverb\n",
        "        pos_tag = 'r'\n",
        "    else:\n",
        "        pos_tag = 'n'  # Default to noun\n",
        "    lemmatized_words.append(lemmatizer.lemmatize(word, pos_tag))"
      ]
    },
    {
      "cell_type": "code",
      "execution_count": 486,
      "metadata": {
        "id": "e1H9sOZgu4vM"
      },
      "outputs": [],
      "source": [
        "# Join the lemmatized words back into a string\n",
        "sentence_lemmatized = ' '.join(lemmatized_words)"
      ]
    },
    {
      "cell_type": "code",
      "execution_count": 487,
      "metadata": {
        "colab": {
          "base_uri": "https://localhost:8080/",
          "height": 159
        },
        "id": "7FhKNfHVvYA7",
        "outputId": "555f6457-6830-40f5-bc6f-35da009e9988"
      },
      "outputs": [
        {
          "name": "stdout",
          "output_type": "stream",
          "text": [
            "Before applying the lemmatization step, the sentence is:\n",
            "absolutely brilliant people always create excellent results time wonderful see amazing things happen every single day days year support achieve success according latest research fantastic opportunity ever miss contact us today\n",
            "\n",
            "After applying the lemmatization step, the sentence is:\n"
          ]
        },
        {
          "data": {
            "application/vnd.google.colaboratory.intrinsic+json": {
              "type": "string"
            },
            "text/plain": [
              "'absolutely brilliant people always create excellent result time wonderful see amazing thing happen every single day day year support achieve success accord late research fantastic opportunity ever miss contact u today'"
            ]
          },
          "execution_count": 487,
          "metadata": {},
          "output_type": "execute_result"
        }
      ],
      "source": [
        "print(\"Before applying the lemmatization step, the sentence is:\")\n",
        "print(sentence_without_stopwords)\n",
        "print(\"\\nAfter applying the lemmatization step, the sentence is:\")\n",
        "sentence_lemmatized"
      ]
    },
    {
      "cell_type": "code",
      "execution_count": 488,
      "metadata": {
        "colab": {
          "base_uri": "https://localhost:8080/"
        },
        "id": "llgkDXuAw0Fq",
        "outputId": "24a52dfd-de70-46ea-d23c-b117c778f5f0"
      },
      "outputs": [
        {
          "name": "stdout",
          "output_type": "stream",
          "text": [
            "Original list of stopwords:\n",
            "{\"should've\", 'm', 'has', 'down', \"won't\", 'other', \"mustn't\", 'in', 'isn', 'couldn', 'me', \"shan't\", 'my', 'his', 'until', 'itself', 'ain', 'yours', 'most', 'her', 'ma', 'after', \"she's\", 'from', 'some', 'd', \"shouldn't\", 'during', 'few', 'y', 'same', \"doesn't\", 'the', 'weren', 'because', 'this', 'and', \"don't\", 'll', \"aren't\", 'its', 'ours', 'those', 'any', 'than', 'didn', 'against', 'can', \"hadn't\", \"wouldn't\", 't', 'was', \"needn't\", 'yourselves', 'over', 've', 'again', 'whom', 'shouldn', 'just', \"isn't\", 'or', 'up', 'which', 'your', 'should', 'is', 'but', \"you've\", 'them', 'with', 'each', 'so', 'o', 'more', 'will', 'out', 'had', 'that', 'on', 'does', 'too', 'hadn', \"hasn't\", 'shan', 'an', 'it', \"you'd\", 'only', 'mightn', 'there', 'all', 'are', 'themselves', 'i', 'ourselves', 'through', 'hasn', 'now', 'she', 'under', 'as', 're', 'theirs', 'yourself', 'they', 'at', 'for', 'you', 'we', 'once', \"weren't\", \"you're\", 'how', 'were', 'doing', 'him', 'having', 'who', 'these', 'himself', 'when', 'about', 'hers', 'been', 'no', 'myself', 'where', \"couldn't\", 'haven', 'mustn', \"it's\", \"haven't\", 'our', 'he', \"wasn't\", 'won', 'doesn', \"mightn't\", 'further', 'have', 'nor', 'why', 'then', 'own', 'don', 'aren', 'here', 's', 'what', 'above', 'wouldn', 'being', 'very', \"didn't\", 'of', 'a', 'to', 'be', 'needn', 'both', \"you'll\", 'wasn', 'herself', 'such', 'into', 'am', 'by', \"that'll\", 'below', 'do', 'while', 'if', 'between', 'not', 'off', 'did', 'before', 'their'}\n"
          ]
        }
      ],
      "source": [
        "# Print the original list of stopwords\n",
        "print(\"Original list of stopwords:\")\n",
        "print(stop_words)"
      ]
    },
    {
      "cell_type": "code",
      "execution_count": 489,
      "metadata": {
        "id": "jXKjHi3Lw3QU"
      },
      "outputs": [],
      "source": [
        "# Add custom stop words\n",
        "custom_stop_words = ['the', 'a', 'an']\n",
        "stop_words.update(custom_stop_words)"
      ]
    },
    {
      "cell_type": "code",
      "execution_count": 490,
      "metadata": {
        "colab": {
          "base_uri": "https://localhost:8080/"
        },
        "id": "KtC6P8RExCIh",
        "outputId": "fe491a3a-15d7-4ae5-bc56-c3d28f3dd8c9"
      },
      "outputs": [
        {
          "name": "stdout",
          "output_type": "stream",
          "text": [
            "\n",
            "Updated list of stopwords:\n",
            "{\"should've\", 'm', 'has', 'down', \"won't\", 'other', \"mustn't\", 'in', 'isn', 'couldn', 'me', \"shan't\", 'my', 'his', 'until', 'itself', 'ain', 'yours', 'most', 'her', 'ma', 'after', \"she's\", 'from', 'some', 'd', \"shouldn't\", 'during', 'few', 'y', 'same', \"doesn't\", 'the', 'weren', 'because', 'this', 'and', \"don't\", 'll', \"aren't\", 'its', 'ours', 'those', 'any', 'than', 'didn', 'against', 'can', \"hadn't\", \"wouldn't\", 't', 'was', \"needn't\", 'yourselves', 'over', 've', 'again', 'whom', 'shouldn', 'just', \"isn't\", 'or', 'up', 'which', 'your', 'should', 'is', 'but', \"you've\", 'them', 'with', 'each', 'so', 'o', 'more', 'will', 'out', 'had', 'that', 'on', 'does', 'too', 'hadn', \"hasn't\", 'shan', 'an', 'it', \"you'd\", 'only', 'mightn', 'there', 'all', 'are', 'themselves', 'i', 'ourselves', 'through', 'hasn', 'now', 'she', 'under', 'as', 're', 'theirs', 'yourself', 'they', 'at', 'for', 'you', 'we', 'once', \"weren't\", \"you're\", 'how', 'were', 'doing', 'him', 'having', 'who', 'these', 'himself', 'when', 'about', 'hers', 'been', 'no', 'myself', 'where', \"couldn't\", 'haven', 'mustn', \"it's\", \"haven't\", 'our', 'he', \"wasn't\", 'won', 'doesn', \"mightn't\", 'further', 'have', 'nor', 'why', 'then', 'own', 'don', 'aren', 'here', 's', 'what', 'above', 'wouldn', 'being', 'very', \"didn't\", 'of', 'a', 'to', 'be', 'needn', 'both', \"you'll\", 'wasn', 'herself', 'such', 'into', 'am', 'by', \"that'll\", 'below', 'do', 'while', 'if', 'between', 'not', 'off', 'did', 'before', 'their'}\n"
          ]
        }
      ],
      "source": [
        "# Print the updated list of stopwords\n",
        "print(\"\\nUpdated list of stopwords:\")\n",
        "print(stop_words)"
      ]
    },
    {
      "cell_type": "code",
      "execution_count": 491,
      "metadata": {
        "id": "iXrjEj_3xX5s"
      },
      "outputs": [],
      "source": [
        "# Remove custom stop words\n",
        "stop_words.discard('the')"
      ]
    },
    {
      "cell_type": "code",
      "execution_count": 492,
      "metadata": {
        "colab": {
          "base_uri": "https://localhost:8080/"
        },
        "id": "cLaE_bBexc1x",
        "outputId": "c54f7597-f1a4-4dcc-ffe2-7881bd09b6b9"
      },
      "outputs": [
        {
          "name": "stdout",
          "output_type": "stream",
          "text": [
            "\n",
            "Updated list of stopwords after removing 'the':\n",
            "{\"should've\", 'm', 'has', 'down', \"won't\", 'other', \"mustn't\", 'in', 'isn', 'couldn', 'me', \"shan't\", 'my', 'his', 'until', 'itself', 'ain', 'yours', 'most', 'her', 'ma', 'after', \"she's\", 'from', 'some', 'd', \"shouldn't\", 'during', 'few', 'y', 'same', \"doesn't\", 'weren', 'because', 'this', 'and', \"don't\", 'll', \"aren't\", 'its', 'ours', 'those', 'any', 'than', 'didn', 'against', 'can', \"hadn't\", \"wouldn't\", 't', 'was', \"needn't\", 'yourselves', 'over', 've', 'again', 'whom', 'shouldn', 'just', \"isn't\", 'or', 'up', 'which', 'your', 'should', 'is', 'but', \"you've\", 'them', 'with', 'each', 'so', 'o', 'more', 'will', 'out', 'had', 'that', 'on', 'does', 'too', 'hadn', \"hasn't\", 'shan', 'an', 'it', \"you'd\", 'only', 'mightn', 'there', 'all', 'are', 'themselves', 'i', 'ourselves', 'through', 'hasn', 'now', 'she', 'under', 'as', 're', 'theirs', 'yourself', 'they', 'at', 'for', 'you', 'we', 'once', \"weren't\", \"you're\", 'how', 'were', 'doing', 'him', 'having', 'who', 'these', 'himself', 'when', 'about', 'hers', 'been', 'no', 'myself', 'where', \"couldn't\", 'haven', 'mustn', \"it's\", \"haven't\", 'our', 'he', \"wasn't\", 'won', 'doesn', \"mightn't\", 'further', 'have', 'nor', 'why', 'then', 'own', 'don', 'aren', 'here', 's', 'what', 'above', 'wouldn', 'being', 'very', \"didn't\", 'of', 'a', 'to', 'be', 'needn', 'both', \"you'll\", 'wasn', 'herself', 'such', 'into', 'am', 'by', \"that'll\", 'below', 'do', 'while', 'if', 'between', 'not', 'off', 'did', 'before', 'their'}\n"
          ]
        }
      ],
      "source": [
        "# Print the updated list of stopwords\n",
        "print(\"\\nUpdated list of stopwords after removing 'the':\")\n",
        "print(stop_words)"
      ]
    },
    {
      "cell_type": "code",
      "execution_count": 493,
      "metadata": {
        "id": "0BtCdiy6xtNW"
      },
      "outputs": [],
      "source": [
        "# Create a custom list of words to keep\n",
        "custom_keep_words = ['not', 'no', 'nor']"
      ]
    },
    {
      "cell_type": "code",
      "execution_count": 494,
      "metadata": {
        "id": "OkiOeG4lxtWt"
      },
      "outputs": [],
      "source": [
        "# Create a custom list of words to remove\n",
        "custom_remove_words = ['is', 'are', 'am']"
      ]
    },
    {
      "cell_type": "code",
      "execution_count": 495,
      "metadata": {
        "id": "dwse4Dd1xtfj"
      },
      "outputs": [],
      "source": [
        "# Tokenize the sentence\n",
        "sentence = \"This is a NLP Assignment, not a Exam paper. we are student, even I am student\"\n",
        "words = word_tokenize(sentence)"
      ]
    },
    {
      "cell_type": "code",
      "execution_count": 496,
      "metadata": {
        "id": "pkL38_EixtpC"
      },
      "outputs": [],
      "source": [
        "# Remove stopwords from the sentence\n",
        "filtered_words = [word for word in words if word.lower() not in stop_words]"
      ]
    },
    {
      "cell_type": "code",
      "execution_count": 497,
      "metadata": {
        "colab": {
          "base_uri": "https://localhost:8080/"
        },
        "id": "YEXDqANbx4yT",
        "outputId": "50f6ed05-227d-4add-bd6e-152ba30d8579"
      },
      "outputs": [
        {
          "name": "stdout",
          "output_type": "stream",
          "text": [
            "\n",
            "Sentence with stopwords removed:\n",
            "NLP Assignment , Exam paper . student , even student\n"
          ]
        }
      ],
      "source": [
        "# Print the sentence with stopwords removed\n",
        "print(\"\\nSentence with stopwords removed:\")\n",
        "print(' '.join(filtered_words))"
      ]
    },
    {
      "cell_type": "code",
      "execution_count": 498,
      "metadata": {
        "id": "dNgp5hzIx47l"
      },
      "outputs": [],
      "source": [
        "# Remove custom words from the sentence\n",
        "filtered_words = [word for word in words if word.lower() not in custom_remove_words]"
      ]
    },
    {
      "cell_type": "code",
      "execution_count": 499,
      "metadata": {
        "colab": {
          "base_uri": "https://localhost:8080/"
        },
        "id": "J40wJcyWyPCy",
        "outputId": "dd3e291f-d83e-4b0f-d1cd-60c9b9b0b669"
      },
      "outputs": [
        {
          "name": "stdout",
          "output_type": "stream",
          "text": [
            "\n",
            "Sentence with custom words removed:\n",
            "This a NLP Assignment , not a Exam paper . we student , even I student\n"
          ]
        }
      ],
      "source": [
        "# Print the sentence with custom words removed\n",
        "print(\"\\nSentence with custom words removed:\")\n",
        "print(' '.join(filtered_words))"
      ]
    },
    {
      "cell_type": "code",
      "execution_count": 500,
      "metadata": {
        "id": "1Pq2w7HzyoDV"
      },
      "outputs": [],
      "source": [
        "# Keep custom words in the sentence\n",
        "filtered_words = [word for word in words if word.lower() in custom_keep_words or word.lower() not in stop_words]"
      ]
    },
    {
      "cell_type": "code",
      "execution_count": 501,
      "metadata": {
        "colab": {
          "base_uri": "https://localhost:8080/"
        },
        "id": "QxX9GO--rb_j",
        "outputId": "95c502b6-d264-42ca-e4a5-3a5e33023e1a"
      },
      "outputs": [
        {
          "name": "stdout",
          "output_type": "stream",
          "text": [
            "\n",
            "Sentence with custom words kept:\n",
            "NLP Assignment , not Exam paper . student , even student\n"
          ]
        }
      ],
      "source": [
        "# Print the sentence with custom words kept\n",
        "print(\"\\nSentence with custom words kept:\")\n",
        "print(' '.join(filtered_words))"
      ]
    },
    {
      "cell_type": "code",
      "execution_count": 502,
      "metadata": {
        "id": "2jxgrpFQzPQt"
      },
      "outputs": [],
      "source": [
        "# Define a custom tokenizer function using regular expressions\n",
        "def custom_tokenizer(text):\n",
        "    # Use regular expressions to split the text into tokens\n",
        "    tokens = re.findall(r'\\b\\w+\\b|[^\\w\\s]', text)\n",
        "    return tokens"
      ]
    },
    {
      "cell_type": "code",
      "execution_count": 503,
      "metadata": {
        "colab": {
          "base_uri": "https://localhost:8080/"
        },
        "id": "KEKM5J2HzT2b",
        "outputId": "43146f47-043d-475e-84c0-336158fbaa95"
      },
      "outputs": [
        {
          "name": "stdout",
          "output_type": "stream",
          "text": [
            "Original sentence:\n",
            "I'm going to the store @ 5pm, but I'll be back by 7pm. It's going to be a great day, isn't it? #excited\n"
          ]
        }
      ],
      "source": [
        "# Test the custom tokenizer\n",
        "sentence = \"I'm going to the store @ 5pm, but I'll be back by 7pm. It's going to be a great day, isn't it? #excited\"\n",
        "print(\"Original sentence:\")\n",
        "print(sentence)"
      ]
    },
    {
      "cell_type": "code",
      "execution_count": 504,
      "metadata": {
        "colab": {
          "base_uri": "https://localhost:8080/"
        },
        "id": "WlYuxpOAzbV7",
        "outputId": "6bf1f95c-dfd4-48e8-ced0-951e33131393"
      },
      "outputs": [
        {
          "name": "stdout",
          "output_type": "stream",
          "text": [
            "\n",
            "Tokens:\n",
            "['I', \"'\", 'm', 'going', 'to', 'the', 'store', '@', '5pm', ',', 'but', 'I', \"'\", 'll', 'be', 'back', 'by', '7pm', '.', 'It', \"'\", 's', 'going', 'to', 'be', 'a', 'great', 'day', ',', 'isn', \"'\", 't', 'it', '?', '#', 'excited']\n"
          ]
        }
      ],
      "source": [
        "# Tokenize the sentence using the custom tokenizer\n",
        "tokens = custom_tokenizer(sentence)\n",
        "print(\"\\nTokens:\")\n",
        "print(tokens)"
      ]
    },
    {
      "cell_type": "code",
      "execution_count": 505,
      "metadata": {
        "colab": {
          "base_uri": "https://localhost:8080/"
        },
        "id": "536bqt5yw1p1",
        "outputId": "278b8953-9f4f-4a6b-c3b7-110f2478dfa1"
      },
      "outputs": [
        {
          "name": "stdout",
          "output_type": "stream",
          "text": [
            "\n",
            "NLTK tokens:\n",
            "['I', \"'m\", 'going', 'to', 'the', 'store', '@', '5pm', ',', 'but', 'I', \"'ll\", 'be', 'back', 'by', '7pm', '.', 'It', \"'s\", 'going', 'to', 'be', 'a', 'great', 'day', ',', 'is', \"n't\", 'it', '?', '#', 'excited']\n"
          ]
        }
      ],
      "source": [
        "# Compare with the NLTK word tokenizer\n",
        "import nltk\n",
        "from nltk.tokenize import word_tokenize\n",
        "nltk_tokens = word_tokenize(sentence)\n",
        "print(\"\\nNLTK tokens:\")\n",
        "print(nltk_tokens)"
      ]
    },
    {
      "cell_type": "code",
      "execution_count": 506,
      "metadata": {
        "colab": {
          "base_uri": "https://localhost:8080/",
          "height": 70
        },
        "id": "wxzjkv1y1NQF",
        "outputId": "5d899035-b0d8-4f93-dbb5-32ac967cf411"
      },
      "outputs": [
        {
          "data": {
            "application/vnd.google.colaboratory.intrinsic+json": {
              "type": "string"
            },
            "text/plain": [
              "'absolutely brilliant people always create excellent results time wonderful see amazing things happen every single day days year support achieve success according latest research fantastic opportunity ever miss contact us today'"
            ]
          },
          "execution_count": 506,
          "metadata": {},
          "output_type": "execute_result"
        }
      ],
      "source": [
        "sentence_without_stopwords"
      ]
    },
    {
      "cell_type": "code",
      "execution_count": 507,
      "metadata": {
        "id": "o7Uiv2jq1R1d"
      },
      "outputs": [],
      "source": [
        "# Initialize the Spacy lemmatizer\n",
        "nlp = spacy.load('en_core_web_sm')"
      ]
    },
    {
      "cell_type": "code",
      "execution_count": 508,
      "metadata": {
        "id": "vCzdzupU1U49"
      },
      "outputs": [],
      "source": [
        "# Define a custom POS tagging function\n",
        "def custom_pos_tagging(sentence):\n",
        "    # Tokenize the sentence\n",
        "    tokens = nltk.word_tokenize(sentence)\n",
        "\n",
        "    # Perform POS tagging\n",
        "    pos_tags = nltk.pos_tag(tokens)\n",
        "\n",
        "    return pos_tags"
      ]
    },
    {
      "cell_type": "code",
      "execution_count": 509,
      "metadata": {
        "id": "7vNFmyme1g3-"
      },
      "outputs": [],
      "source": [
        "# Initialize the WordNetLemmatizer\n",
        "wordnet_lemmatizer = WordNetLemmatizer()\n",
        "# Define a function to lemmatize using WordNetLemmatizer\n",
        "def wordnet_lemmatize(sentence):\n",
        "    # Tokenize the sentence\n",
        "    tokens = nltk.word_tokenize(sentence)\n",
        "\n",
        "    # Perform POS tagging\n",
        "    pos_tags = custom_pos_tagging(sentence)\n",
        "\n",
        "    # Lemmatize the tokens\n",
        "    lemmatized_tokens = []\n",
        "    for token, pos in pos_tags:\n",
        "        if pos.startswith('J'):  # Adjective\n",
        "            pos_tag = 'a'\n",
        "        elif pos.startswith('V'):  # Verb\n",
        "            pos_tag = 'v'\n",
        "        elif pos.startswith('N'):  # Noun\n",
        "            pos_tag = 'n'\n",
        "        elif pos.startswith('R'):  # Adverb\n",
        "            pos_tag = 'r'\n",
        "        else:\n",
        "            pos_tag = 'n'  # Default to noun\n",
        "        lemmatized_token = wordnet_lemmatizer.lemmatize(token, pos_tag)\n",
        "        lemmatized_tokens.append(lemmatized_token)\n",
        "\n",
        "    return lemmatized_tokens"
      ]
    },
    {
      "cell_type": "code",
      "execution_count": 510,
      "metadata": {
        "id": "fqVkZNgx1qYP"
      },
      "outputs": [],
      "source": [
        "# Define a function to lemmatize using Spacy's lemmatizer\n",
        "def spacy_lemmatize(sentence):\n",
        "    # Process the sentence using Spacy\n",
        "    doc = nlp(sentence)\n",
        "\n",
        "    # Lemmatize the tokens\n",
        "    lemmatized_tokens = [token.lemma_ for token in doc]\n",
        "\n",
        "    return lemmatized_tokens"
      ]
    },
    {
      "cell_type": "code",
      "execution_count": 511,
      "metadata": {
        "id": "p-1E67171-iy"
      },
      "outputs": [],
      "source": [
        "# Test the lemmatization functions\n",
        "sentence = \"I'm going to the store @ 5pm, but I'll be back by 7pm. It's going to be a great day, isn't it? #excited\""
      ]
    },
    {
      "cell_type": "code",
      "execution_count": 512,
      "metadata": {
        "colab": {
          "base_uri": "https://localhost:8080/"
        },
        "id": "tqCubfle1-qO",
        "outputId": "cda8ab59-c0bb-4569-ac6c-a12d03747f9a"
      },
      "outputs": [
        {
          "name": "stdout",
          "output_type": "stream",
          "text": [
            "Original sentence:\n",
            "I'm going to the store @ 5pm, but I'll be back by 7pm. It's going to be a great day, isn't it? #excited\n"
          ]
        }
      ],
      "source": [
        "print(\"Original sentence:\")\n",
        "print(sentence)"
      ]
    },
    {
      "cell_type": "code",
      "execution_count": 513,
      "metadata": {
        "colab": {
          "base_uri": "https://localhost:8080/"
        },
        "id": "IIYpN78i1-z-",
        "outputId": "0935f1b9-f56b-433b-bcf7-8b39716875ad"
      },
      "outputs": [
        {
          "name": "stdout",
          "output_type": "stream",
          "text": [
            "\n",
            "WordNetLemmatizer output:\n",
            "['I', \"'m\", 'go', 'to', 'the', 'store', '@', '5pm', ',', 'but', 'I', \"'ll\", 'be', 'back', 'by', '7pm', '.', 'It', \"'s\", 'go', 'to', 'be', 'a', 'great', 'day', ',', 'be', \"n't\", 'it', '?', '#', 'excite']\n"
          ]
        }
      ],
      "source": [
        "print(\"\\nWordNetLemmatizer output:\")\n",
        "print(wordnet_lemmatize(sentence))"
      ]
    },
    {
      "cell_type": "code",
      "execution_count": 514,
      "metadata": {
        "colab": {
          "base_uri": "https://localhost:8080/"
        },
        "id": "r2RaXUpkzmAp",
        "outputId": "9a05c32e-6bdd-4f59-dc53-9d2c1c48b9e7"
      },
      "outputs": [
        {
          "name": "stdout",
          "output_type": "stream",
          "text": [
            "\n",
            "Spacy lemmatizer output:\n",
            "['I', 'be', 'go', 'to', 'the', 'store', '@', '5', 'pm', ',', 'but', 'I', 'will', 'be', 'back', 'by', '7', 'pm', '.', 'it', 'be', 'go', 'to', 'be', 'a', 'great', 'day', ',', 'be', 'not', 'it', '?', '#', 'excited']\n"
          ]
        }
      ],
      "source": [
        "print(\"\\nSpacy lemmatizer output:\")\n",
        "print(spacy_lemmatize(sentence))"
      ]
    },
    {
      "cell_type": "code",
      "execution_count": 515,
      "metadata": {
        "id": "aNC84WFo2QrS"
      },
      "outputs": [],
      "source": [
        "# Initialize the WordNetLemmatizer\n",
        "wordnet_lemmatizer = WordNetLemmatizer()\n",
        "\n",
        "# Define a function to clean the text\n",
        "def clean_text(text):\n",
        "    # Remove HTML tags\n",
        "    text = re.sub(r'<.*?>', '', text)\n",
        "\n",
        "    # Remove URL links\n",
        "    text = re.sub(r'http\\S+', '', text)\n",
        "\n",
        "    # Remove special characters (like emojis, symbols, etc.)\n",
        "    text = re.sub(r'[^\\w\\s]', '', text)\n",
        "\n",
        "    # Tokenize the text\n",
        "    tokens = word_tokenize(text)\n",
        "\n",
        "    # Remove stopwords\n",
        "    stop_words = set(stopwords.words('english'))\n",
        "    tokens = [token for token in tokens if token.lower() not in stop_words]\n",
        "\n",
        "    # Lemmatize the tokens\n",
        "    lemmatized_tokens = []\n",
        "    for token in tokens:\n",
        "        lemmatized_token = wordnet_lemmatizer.lemmatize(token)\n",
        "        lemmatized_tokens.append(lemmatized_token)\n",
        "\n",
        "    # Join the lemmatized tokens back into a string\n",
        "    cleaned_text = ' '.join(lemmatized_tokens)\n",
        "\n",
        "    return cleaned_text"
      ]
    },
    {
      "cell_type": "code",
      "execution_count": 516,
      "metadata": {
        "colab": {
          "base_uri": "https://localhost:8080/",
          "height": 70
        },
        "id": "J6VYAOa34AM5",
        "outputId": "05ce55a3-ed29-4d3a-8aee-fed7222fae5d"
      },
      "outputs": [
        {
          "name": "stdout",
          "output_type": "stream",
          "text": [
            "Original text:\n"
          ]
        },
        {
          "data": {
            "application/vnd.google.colaboratory.intrinsic+json": {
              "type": "string"
            },
            "text/plain": [
              "'This is a test sentence with <b>HTML tags</b> and http://www.example.com URL links. It also contains special characters like 🤔 and @,#,$, etc.'"
            ]
          },
          "execution_count": 516,
          "metadata": {},
          "output_type": "execute_result"
        }
      ],
      "source": [
        "# Test the cleaning function\n",
        "text = \"This is a test sentence with <b>HTML tags</b> and http://www.example.com URL links. It also contains special characters like 🤔 and @,#,$, etc.\"\n",
        "print(\"Original text:\")\n",
        "text"
      ]
    },
    {
      "cell_type": "code",
      "execution_count": 517,
      "metadata": {
        "colab": {
          "base_uri": "https://localhost:8080/",
          "height": 70
        },
        "id": "KMys2Viw4Er9",
        "outputId": "1666875c-1324-40fc-ea2d-e34511be7736"
      },
      "outputs": [
        {
          "name": "stdout",
          "output_type": "stream",
          "text": [
            "\n",
            "Cleaned text:\n"
          ]
        },
        {
          "data": {
            "application/vnd.google.colaboratory.intrinsic+json": {
              "type": "string"
            },
            "text/plain": [
              "'test sentence HTML tag URL link also contains special character like etc'"
            ]
          },
          "execution_count": 517,
          "metadata": {},
          "output_type": "execute_result"
        }
      ],
      "source": [
        "cleaned_text = clean_text(text)\n",
        "print(\"\\nCleaned text:\")\n",
        "cleaned_text"
      ]
    },
    {
      "cell_type": "code",
      "execution_count": 518,
      "metadata": {
        "id": "nNsdmjkl4H6Y"
      },
      "outputs": [],
      "source": [
        "# Initialize the WordNetLemmatizer\n",
        "wordnet_lemmatizer = WordNetLemmatizer()\n",
        "\n",
        "# Define a function to lemmatize using POS tags\n",
        "def lemmatize_with_pos(sentence):\n",
        "    # Tokenize the sentence\n",
        "    tokens = word_tokenize(sentence)\n",
        "\n",
        "    # Perform POS tagging\n",
        "    pos_tags = nltk.pos_tag(tokens)\n",
        "\n",
        "    # Lemmatize the tokens using POS tags\n",
        "    lemmatized_tokens = []\n",
        "    for token, pos in pos_tags:\n",
        "        if pos.startswith('J'):  # Adjective\n",
        "            pos_tag = 'a'\n",
        "        elif pos.startswith('V'):  # Verb\n",
        "            pos_tag = 'v'\n",
        "        elif pos.startswith('N'):  # Noun\n",
        "            pos_tag = 'n'\n",
        "        elif pos.startswith('R'):  # Adverb\n",
        "            pos_tag = 'r'\n",
        "        else:\n",
        "            pos_tag = 'n'  # Default to noun\n",
        "        lemmatized_token = wordnet_lemmatizer.lemmatize(token, pos_tag)\n",
        "        lemmatized_tokens.append(lemmatized_token)\n",
        "\n",
        "    return lemmatized_tokens"
      ]
    },
    {
      "cell_type": "code",
      "execution_count": 519,
      "metadata": {
        "id": "vImH0vI1APsu"
      },
      "outputs": [],
      "source": [
        "# Test the lemmatization function with different POS tags\n",
        "sentences = [\n",
        "    \"The dog runs quickly.\",  # Verb\n",
        "    \"The big house is beautiful.\",  # Adjective\n",
        "    \"The cat is sleeping.\",  # Noun\n",
        "    \"She sings very loudly.\",  # Adverb\n",
        "    \"The teacher is very happy.\",  # Adjective\n",
        "]"
      ]
    },
    {
      "cell_type": "code",
      "execution_count": 520,
      "metadata": {
        "colab": {
          "base_uri": "https://localhost:8080/"
        },
        "id": "odlOoWx1AR9u",
        "outputId": "5a8ace74-511d-49f5-f1a2-de20dae40003"
      },
      "outputs": [
        {
          "name": "stdout",
          "output_type": "stream",
          "text": [
            "Original sentence:\n",
            "The dog runs quickly.\n",
            "Lemmatized tokens:\n",
            "['The', 'dog', 'run', 'quickly', '.']\n",
            "\n",
            "Original sentence:\n",
            "The big house is beautiful.\n",
            "Lemmatized tokens:\n",
            "['The', 'big', 'house', 'be', 'beautiful', '.']\n",
            "\n",
            "Original sentence:\n",
            "The cat is sleeping.\n",
            "Lemmatized tokens:\n",
            "['The', 'cat', 'be', 'sleep', '.']\n",
            "\n",
            "Original sentence:\n",
            "She sings very loudly.\n",
            "Lemmatized tokens:\n",
            "['She', 'sing', 'very', 'loudly', '.']\n",
            "\n",
            "Original sentence:\n",
            "The teacher is very happy.\n",
            "Lemmatized tokens:\n",
            "['The', 'teacher', 'be', 'very', 'happy', '.']\n",
            "\n"
          ]
        }
      ],
      "source": [
        "for sentence in sentences:\n",
        "    print(\"Original sentence:\")\n",
        "    print(sentence)\n",
        "\n",
        "    lemmatized_tokens = lemmatize_with_pos(sentence)\n",
        "    print(\"Lemmatized tokens:\")\n",
        "    print(lemmatized_tokens)\n",
        "    print()"
      ]
    },
    {
      "cell_type": "code",
      "execution_count": 521,
      "metadata": {
        "id": "TMgIppbUAV_F"
      },
      "outputs": [],
      "source": [
        "import time\n",
        "\n",
        "# Initialize the WordNetLemmatizer\n",
        "wordnet_lemmatizer = WordNetLemmatizer()\n",
        "\n",
        "# Define a function to lemmatize using POS tags\n",
        "def lemmatize_with_pos(sentence):\n",
        "    # Tokenize the sentence\n",
        "    start_time = time.time()\n",
        "    tokens = word_tokenize(sentence)\n",
        "    tokenization_time = time.time() - start_time\n",
        "\n",
        "    # Perform POS tagging\n",
        "    start_time = time.time()\n",
        "    pos_tags = nltk.pos_tag(tokens)\n",
        "    pos_tagging_time = time.time() - start_time\n",
        "\n",
        "    # Lemmatize the tokens using POS tags\n",
        "    start_time = time.time()\n",
        "    lemmatized_tokens = []\n",
        "    for token, pos in pos_tags:\n",
        "        if pos.startswith('J'):  # Adjective\n",
        "            pos_tag = 'a'\n",
        "        elif pos.startswith('V'):  # Verb\n",
        "            pos_tag = 'v'\n",
        "        elif pos.startswith('N'):  # Noun\n",
        "            pos_tag = 'n'\n",
        "        elif pos.startswith('R'):  # Adverb\n",
        "            pos_tag = 'r'\n",
        "        else:\n",
        "            pos_tag = 'n'  # Default to noun\n",
        "        lemmatized_token = wordnet_lemmatizer.lemmatize(token, pos_tag)\n",
        "        lemmatized_tokens.append(lemmatized_token)\n",
        "    lemmatization_time = time.time() - start_time\n",
        "\n",
        "    return lemmatized_tokens, tokenization_time, pos_tagging_time, lemmatization_time"
      ]
    },
    {
      "cell_type": "code",
      "execution_count": 522,
      "metadata": {
        "id": "aTXbiFrdBg_v"
      },
      "outputs": [],
      "source": [
        "# Test the lemmatization function with different POS tags\n",
        "sentences = [\n",
        "    \"The dog runs quickly.\",  # Verb\n",
        "    \"The big house is beautiful.\",  # Adjective\n",
        "    \"The cat is sleeping.\",  # Noun\n",
        "    \"She sings very loudly.\",  # Adverb\n",
        "    \"The teacher is very happy.\",  # Adjective\n",
        "]"
      ]
    },
    {
      "cell_type": "code",
      "execution_count": 523,
      "metadata": {
        "colab": {
          "base_uri": "https://localhost:8080/"
        },
        "id": "M4auF3llBkWL",
        "outputId": "76466127-d004-468c-9206-30f020d18e37"
      },
      "outputs": [
        {
          "name": "stdout",
          "output_type": "stream",
          "text": [
            "Original sentence:\n",
            "The dog runs quickly.\n",
            "Lemmatized tokens:\n",
            "['The', 'dog', 'run', 'quickly', '.']\n",
            "Tokenization time: 0.00030541419982910156\n",
            "POS tagging time: 0.001692056655883789\n",
            "Lemmatization time: 6.556510925292969e-05\n",
            "Total time: 0.0020630359649658203\n",
            "\n",
            "Original sentence:\n",
            "The big house is beautiful.\n",
            "Lemmatized tokens:\n",
            "['The', 'big', 'house', 'be', 'beautiful', '.']\n",
            "Tokenization time: 0.0002567768096923828\n",
            "POS tagging time: 0.012405157089233398\n",
            "Lemmatization time: 7.486343383789062e-05\n",
            "Total time: 0.012736797332763672\n",
            "\n",
            "Original sentence:\n",
            "The cat is sleeping.\n",
            "Lemmatized tokens:\n",
            "['The', 'cat', 'be', 'sleep', '.']\n",
            "Tokenization time: 0.00030159950256347656\n",
            "POS tagging time: 0.0006387233734130859\n",
            "Lemmatization time: 8.7738037109375e-05\n",
            "Total time: 0.0010280609130859375\n",
            "\n",
            "Original sentence:\n",
            "She sings very loudly.\n",
            "Lemmatized tokens:\n",
            "['She', 'sing', 'very', 'loudly', '.']\n",
            "Tokenization time: 0.0002658367156982422\n",
            "POS tagging time: 0.0007579326629638672\n",
            "Lemmatization time: 8.0108642578125e-05\n",
            "Total time: 0.0011038780212402344\n",
            "\n",
            "Original sentence:\n",
            "The teacher is very happy.\n",
            "Lemmatized tokens:\n",
            "['The', 'teacher', 'be', 'very', 'happy', '.']\n",
            "Tokenization time: 0.0003459453582763672\n",
            "POS tagging time: 0.00083160400390625\n",
            "Lemmatization time: 7.343292236328125e-05\n",
            "Total time: 0.0012509822845458984\n",
            "\n"
          ]
        }
      ],
      "source": [
        "for sentence in sentences:\n",
        "    print(\"Original sentence:\")\n",
        "    print(sentence)\n",
        "\n",
        "    lemmatized_tokens, tokenization_time, pos_tagging_time, lemmatization_time = lemmatize_with_pos(sentence)\n",
        "    print(\"Lemmatized tokens:\")\n",
        "    print(lemmatized_tokens)\n",
        "    print(\"Tokenization time:\", tokenization_time)\n",
        "    print(\"POS tagging time:\", pos_tagging_time)\n",
        "    print(\"Lemmatization time:\", lemmatization_time)\n",
        "    print(\"Total time:\", tokenization_time + pos_tagging_time + lemmatization_time)\n",
        "    print()"
      ]
    },
    {
      "cell_type": "code",
      "execution_count": 524,
      "metadata": {
        "id": "tlwnr_WTBmnL"
      },
      "outputs": [],
      "source": [
        "# Initialize the WordNetLemmatizer\n",
        "wordnet_lemmatizer = WordNetLemmatizer()\n",
        "\n",
        "# Define a function to clean the text\n",
        "def clean_text(text):\n",
        "    try:\n",
        "        # Check for null values or empty strings\n",
        "        if text is None or text.strip() == \"\":\n",
        "            return \"Error: Null value or empty string\"\n",
        "\n",
        "        # Check for very short sentences\n",
        "        if len(text.split()) < 5:\n",
        "            return \"Error: Very short sentence\"\n",
        "\n",
        "        # Check for very long sentences\n",
        "        if len(text.split()) > 50:\n",
        "            return \"Error: Very long sentence\"\n",
        "\n",
        "        # Remove HTML tags\n",
        "        text = re.sub(r'<.*?>', '', text)\n",
        "\n",
        "        # Remove URL links\n",
        "        text = re.sub(r'http\\S+', '', text)\n",
        "\n",
        "        # Remove special characters (like emojis, symbols, etc.)\n",
        "        text = re.sub(r'[^\\w\\s]', '', text)\n",
        "\n",
        "        # Tokenize the text\n",
        "        tokens = word_tokenize(text)\n",
        "\n",
        "        # Remove stopwords\n",
        "        stop_words = set(stopwords.words('english'))\n",
        "        tokens = [token for token in tokens if token.lower() not in stop_words]\n",
        "\n",
        "        # Lemmatize the tokens\n",
        "        lemmatized_tokens = []\n",
        "        for token in tokens:\n",
        "            lemmatized_token = wordnet_lemmatizer.lemmatize(token)\n",
        "            lemmatized_tokens.append(lemmatized_token)\n",
        "\n",
        "        # Join the lemmatized tokens back into a string\n",
        "        cleaned_text = ' '.join(lemmatized_tokens)\n",
        "\n",
        "        return cleaned_text\n",
        "\n",
        "    except Exception as e:\n",
        "        return \"Error: \" + str(e)"
      ]
    },
    {
      "cell_type": "code",
      "execution_count": 525,
      "metadata": {
        "colab": {
          "base_uri": "https://localhost:8080/",
          "height": 70
        },
        "id": "bcgPAriCCRmQ",
        "outputId": "742a9fb5-b957-4ab0-c217-6441a2e636fa"
      },
      "outputs": [
        {
          "name": "stdout",
          "output_type": "stream",
          "text": [
            "Original text:\n"
          ]
        },
        {
          "data": {
            "application/vnd.google.colaboratory.intrinsic+json": {
              "type": "string"
            },
            "text/plain": [
              "'This is a test sentence with <b>HTML tags</b> and http://www.example.com URL links. It also contains special characters like 🤔 and @,#,$, etc.'"
            ]
          },
          "execution_count": 525,
          "metadata": {},
          "output_type": "execute_result"
        }
      ],
      "source": [
        "# Test the cleaning function\n",
        "text = \"This is a test sentence with <b>HTML tags</b> and http://www.example.com URL links. It also contains special characters like 🤔 and @,#,$, etc.\"\n",
        "print(\"Original text:\")\n",
        "text"
      ]
    },
    {
      "cell_type": "code",
      "execution_count": 526,
      "metadata": {
        "colab": {
          "base_uri": "https://localhost:8080/"
        },
        "id": "DorspGGdCVcn",
        "outputId": "a0db9a33-4e14-4fec-ec07-8753c4f610cd"
      },
      "outputs": [
        {
          "name": "stdout",
          "output_type": "stream",
          "text": [
            "\n",
            "Cleaned text:\n",
            "test sentence HTML tag URL link also contains special character like etc\n"
          ]
        }
      ],
      "source": [
        "cleaned_text = clean_text(text)\n",
        "print(\"\\nCleaned text:\")\n",
        "print(cleaned_text)"
      ]
    },
    {
      "cell_type": "code",
      "execution_count": 527,
      "metadata": {
        "colab": {
          "base_uri": "https://localhost:8080/"
        },
        "id": "ue3-5ZLjDytx",
        "outputId": "176d2d3d-a096-441d-e9e9-9fb0c26eeeaa"
      },
      "outputs": [
        {
          "name": "stdout",
          "output_type": "stream",
          "text": [
            "\n",
            "Original text:\n",
            "None\n"
          ]
        }
      ],
      "source": [
        "# Test the cleaning function with null value\n",
        "text = None\n",
        "print(\"\\nOriginal text:\")\n",
        "print(text)"
      ]
    },
    {
      "cell_type": "code",
      "execution_count": 528,
      "metadata": {
        "colab": {
          "base_uri": "https://localhost:8080/"
        },
        "id": "ny94BwgICVl6",
        "outputId": "ff59b1b8-2de2-413d-d866-cda5b343d467"
      },
      "outputs": [
        {
          "name": "stdout",
          "output_type": "stream",
          "text": [
            "\n",
            "Cleaned text:\n",
            "Error: Null value or empty string\n"
          ]
        }
      ],
      "source": [
        "cleaned_text = clean_text(text)\n",
        "print(\"\\nCleaned text:\")\n",
        "print(cleaned_text)"
      ]
    },
    {
      "cell_type": "code",
      "execution_count": 529,
      "metadata": {
        "colab": {
          "base_uri": "https://localhost:8080/"
        },
        "id": "tsAiN7JVD4Gm",
        "outputId": "0acf72fa-aaf2-4668-c7d4-f44fcac8eb3b"
      },
      "outputs": [
        {
          "name": "stdout",
          "output_type": "stream",
          "text": [
            "\n",
            "Original text:\n",
            "\n"
          ]
        }
      ],
      "source": [
        "# Test the cleaning function with empty string\n",
        "text = \"\"\n",
        "print(\"\\nOriginal text:\")\n",
        "print(text)"
      ]
    },
    {
      "cell_type": "code",
      "execution_count": 530,
      "metadata": {
        "colab": {
          "base_uri": "https://localhost:8080/"
        },
        "id": "FtNArtnYCi3v",
        "outputId": "6b86155d-6a13-4dba-a694-a1ae9897d89f"
      },
      "outputs": [
        {
          "name": "stdout",
          "output_type": "stream",
          "text": [
            "\n",
            "Cleaned text:\n",
            "Error: Null value or empty string\n"
          ]
        }
      ],
      "source": [
        "cleaned_text = clean_text(text)\n",
        "print(\"\\nCleaned text:\")\n",
        "print(cleaned_text)"
      ]
    },
    {
      "cell_type": "code",
      "execution_count": 531,
      "metadata": {
        "colab": {
          "base_uri": "https://localhost:8080/"
        },
        "id": "jv8tBxA-D65B",
        "outputId": "edd438d7-95af-4131-c4cd-c9bc0c7b47dc"
      },
      "outputs": [
        {
          "name": "stdout",
          "output_type": "stream",
          "text": [
            "\n",
            "Original text:\n",
            "Hello\n"
          ]
        }
      ],
      "source": [
        "# Test the cleaning function with very short sentence\n",
        "text = \"Hello\"\n",
        "print(\"\\nOriginal text:\")\n",
        "print(text)"
      ]
    },
    {
      "cell_type": "code",
      "execution_count": 532,
      "metadata": {
        "colab": {
          "base_uri": "https://localhost:8080/"
        },
        "id": "aO4uCm2jDkGB",
        "outputId": "cd7d3b5e-1004-4cf8-bd6b-8167cacbe32f"
      },
      "outputs": [
        {
          "name": "stdout",
          "output_type": "stream",
          "text": [
            "\n",
            "Cleaned text:\n",
            "Error: Very short sentence\n"
          ]
        }
      ],
      "source": [
        "cleaned_text = clean_text(text)\n",
        "print(\"\\nCleaned text:\")\n",
        "print(cleaned_text)"
      ]
    },
    {
      "cell_type": "code",
      "execution_count": 533,
      "metadata": {
        "colab": {
          "base_uri": "https://localhost:8080/"
        },
        "id": "KSl0VpgWCndG",
        "outputId": "1be2a7a2-670a-4606-d555-ceea90f54050"
      },
      "outputs": [
        {
          "name": "stdout",
          "output_type": "stream",
          "text": [
            "\n",
            "Original text:\n",
            "This is a very long sentence that contains many words and is used to test the cleaning function with very long sentences.\n"
          ]
        }
      ],
      "source": [
        "# Test the cleaning function with very long sentence\n",
        "text = \"This is a very long sentence that contains many words and is used to test the cleaning function with very long sentences.\"\n",
        "print(\"\\nOriginal text:\")\n",
        "print(text)"
      ]
    },
    {
      "cell_type": "code",
      "execution_count": 534,
      "metadata": {
        "colab": {
          "base_uri": "https://localhost:8080/"
        },
        "id": "lqBwIkQMD993",
        "outputId": "76e290b0-05b2-41b1-bae0-d083e3e5e8ef"
      },
      "outputs": [
        {
          "name": "stdout",
          "output_type": "stream",
          "text": [
            "\n",
            "Cleaned text:\n",
            "long sentence contains many word used test cleaning function long sentence\n"
          ]
        }
      ],
      "source": [
        "cleaned_text = clean_text(text)\n",
        "print(\"\\nCleaned text:\")\n",
        "print(cleaned_text)"
      ]
    },
    {
      "cell_type": "code",
      "execution_count": 535,
      "metadata": {
        "id": "P6i1uyvKEfWJ"
      },
      "outputs": [],
      "source": [
        "import matplotlib.pyplot as plt\n",
        "from wordcloud import WordCloud\n",
        "from collections import Counter"
      ]
    },
    {
      "cell_type": "code",
      "execution_count": 536,
      "metadata": {
        "colab": {
          "base_uri": "https://localhost:8080/",
          "height": 422
        },
        "id": "ym5B3jrmEftS",
        "outputId": "9e144680-7e8b-47f6-c17a-92a26f86d322"
      },
      "outputs": [
        {
          "data": {
            "image/png": "[encoded data removed]",
            "text/plain": [
              "<Figure size 1000x500 with 1 Axes>"
            ]
          },
          "metadata": {},
          "output_type": "display_data"
        }
      ],
      "source": [
        "# Create a word cloud\n",
        "wordcloud = WordCloud(width=800, height=400).generate(' '.join(cleaned_text))\n",
        "plt.figure(figsize=(10, 5))\n",
        "plt.imshow(wordcloud, interpolation='bilinear')\n",
        "plt.axis('off')\n",
        "plt.show()"
      ]
    },
    {
      "cell_type": "code",
      "execution_count": 537,
      "metadata": {
        "colab": {
          "base_uri": "https://localhost:8080/",
          "height": 467
        },
        "id": "Pau-Re4ZEmzB",
        "outputId": "67e5752a-e54a-48a4-9dce-571984b815cd"
      },
      "outputs": [
        {
          "data": {
            "image/png": "[encoded data removed]",
            "text/plain": [
              "<Figure size 1000x500 with 1 Axes>"
            ]
          },
          "metadata": {},
          "output_type": "display_data"
        }
      ],
      "source": [
        "# Create a bar plot\n",
        "word_freq = Counter(cleaned_text)\n",
        "most_common_words = word_freq.most_common(10)\n",
        "words = [word for word, freq in most_common_words]\n",
        "frequencies = [freq for word, freq in most_common_words]\n",
        "plt.figure(figsize=(10, 5))\n",
        "plt.bar(words, frequencies)\n",
        "plt.xlabel('Words')\n",
        "plt.ylabel('Frequencies')\n",
        "plt.title('Most Common Words in the Cleaned Text')\n",
        "plt.show()"
      ]
    },
    {
      "cell_type": "code",
      "execution_count": 538,
      "metadata": {
        "colab": {
          "base_uri": "https://localhost:8080/"
        },
        "id": "p_FVqDRKEqU5",
        "outputId": "657bdce9-f1c3-4f61-f062-0217f2d95947"
      },
      "outputs": [
        {
          "name": "stdout",
          "output_type": "stream",
          "text": [
            "\n",
            "Original Word Frequencies:\n",
            "Counter({'is': 2, 'very': 2, 'long': 2, 'This': 1, 'a': 1, 'sentence': 1, 'that': 1, 'contains': 1, 'many': 1, 'words': 1, 'and': 1, 'used': 1, 'to': 1, 'test': 1, 'the': 1, 'cleaning': 1, 'function': 1, 'with': 1, 'sentences': 1, '.': 1})\n",
            "\n",
            "Cleaned Word Frequencies:\n",
            "Counter({'n': 13, ' ': 10, 'e': 9, 't': 6, 'o': 5, 's': 5, 'c': 5, 'l': 3, 'g': 3, 'a': 3, 'i': 3, 'd': 2, 'u': 2, 'm': 1, 'y': 1, 'w': 1, 'r': 1, 'f': 1})\n"
          ]
        }
      ],
      "source": [
        "# Analyze changes in word frequencies before and after cleaning\n",
        "original_text = word_tokenize(text)\n",
        "original_word_freq = Counter(original_text)\n",
        "cleaned_word_freq = Counter(cleaned_text)\n",
        "\n",
        "print(\"\\nOriginal Word Frequencies:\")\n",
        "print(original_word_freq)\n",
        "\n",
        "print(\"\\nCleaned Word Frequencies:\")\n",
        "print(cleaned_word_freq)"
      ]
    },
    {
      "cell_type": "code",
      "execution_count": 539,
      "metadata": {
        "colab": {
          "base_uri": "https://localhost:8080/"
        },
        "id": "UEGWTzwvD_Bm",
        "outputId": "20f75923-52a1-462d-8d59-238d592036ff"
      },
      "outputs": [
        {
          "name": "stdout",
          "output_type": "stream",
          "text": [
            "\n",
            "Difference in Word Frequencies:\n",
            "{'This': -1, 'is': -2, 'a': 2, 'very': -2, 'long': -2, 'sentence': -1, 'that': -1, 'contains': -1, 'many': -1, 'words': -1, 'and': -1, 'used': -1, 'to': -1, 'test': -1, 'the': -1, 'cleaning': -1, 'function': -1, 'with': -1, 'sentences': -1, '.': -1, 'l': 3, 'o': 5, 'n': 13, 'g': 3, ' ': 10, 's': 5, 'e': 9, 't': 6, 'c': 5, 'i': 3, 'm': 1, 'y': 1, 'w': 1, 'r': 1, 'd': 2, 'u': 2, 'f': 1}\n"
          ]
        }
      ],
      "source": [
        "# Calculate the difference in word frequencies\n",
        "diff_word_freq = {}\n",
        "for word in original_word_freq:\n",
        "    if word in cleaned_word_freq:\n",
        "        diff_word_freq[word] = cleaned_word_freq[word] - original_word_freq[word]\n",
        "    else:\n",
        "        diff_word_freq[word] = -original_word_freq[word]\n",
        "\n",
        "for word in cleaned_word_freq:\n",
        "    if word not in original_word_freq:\n",
        "        diff_word_freq[word] = cleaned_word_freq[word]\n",
        "\n",
        "print(\"\\nDifference in Word Frequencies:\")\n",
        "print(diff_word_freq)"
      ]
    }
  ],
  "metadata": {
    "colab": {
      "provenance": []
    },
    "kernelspec": {
      "display_name": "datascience",
      "language": "python",
      "name": "datascience"
    },
    "language_info": {
      "codemirror_mode": {
        "name": "ipython",
        "version": 3
      },
      "file_extension": ".py",
      "mimetype": "text/x-python",
      "name": "python",
      "nbconvert_exporter": "python",
      "pygments_lexer": "ipython3",
      "version": "3.10.9"
    }
  },
  "nbformat": 4,
  "nbformat_minor": 0
}
